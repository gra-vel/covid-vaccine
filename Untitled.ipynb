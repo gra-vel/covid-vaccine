{
 "cells": [
  {
   "cell_type": "markdown",
   "id": "ef472cc4",
   "metadata": {},
   "source": [
    "# COVID-19 World Vaccination Data Analysis"
   ]
  },
  {
   "cell_type": "markdown",
   "id": "9de78fb1",
   "metadata": {},
   "source": [
    "As more and more people is getting vaccinated worldwide against COVID-19, I decided to see how this process is working for specific countries. I decided to explore the data provided by Our World in Data to visualize the number of people getting a vaccines. I'm also interested in seeing which countries are using a specific vaccine."
   ]
  },
  {
   "cell_type": "code",
   "execution_count": 1,
   "id": "84fdc374",
   "metadata": {},
   "outputs": [],
   "source": [
    "import pandas as pd\n",
    "import numpy as np\n",
    "import datetime\n",
    "import plotly.express as px\n",
    "import plotly.graph_objects as go\n",
    "import plotly.io as pio\n",
    "from plotly.subplots import make_subplots"
   ]
  },
  {
   "cell_type": "markdown",
   "id": "9a08b651",
   "metadata": {},
   "source": [
    "### Finding daily_vaccinations"
   ]
  },
  {
   "cell_type": "markdown",
   "id": "0b2f3e73",
   "metadata": {},
   "source": [
    "When I found this dataset, I was wondering what the difference was between `daily_vaccinations` and `daily_vaccinations_raw`. There is an [example](https://github.com/owid/covid-19-data/issues/333) posted on Github about how to calculate `daily_vaccinations`, which is pretty straightforward. Nonetheless, I decided to create a step-by-step process, to see if I could come to the same result. This variable is very useful to keep track of the vaccination progress in each country, as I'll show later with heatmaps."
   ]
  },
  {
   "cell_type": "code",
   "execution_count": 2,
   "id": "8934f929",
   "metadata": {},
   "outputs": [
    {
     "data": {
      "text/plain": [
       "(28653, 15)"
      ]
     },
     "execution_count": 2,
     "metadata": {},
     "output_type": "execute_result"
    }
   ],
   "source": [
    "file_path = \"country_vaccinations.csv\\country_vaccinations5.csv\"\n",
    "df = pd.read_csv(file_path)\n",
    "df.shape"
   ]
  },
  {
   "cell_type": "code",
   "execution_count": 3,
   "id": "cbcc2dad",
   "metadata": {},
   "outputs": [
    {
     "data": {
      "text/plain": [
       "0    Afghanistan\n",
       "1    Afghanistan\n",
       "2    Afghanistan\n",
       "3    Afghanistan\n",
       "4    Afghanistan\n",
       "Name: country, dtype: object"
      ]
     },
     "execution_count": 3,
     "metadata": {},
     "output_type": "execute_result"
    }
   ],
   "source": [
    "df['country'].head()"
   ]
  },
  {
   "cell_type": "code",
   "execution_count": 7,
   "id": "18e18451",
   "metadata": {},
   "outputs": [],
   "source": [
    "dvac = df[['country', 'date', 'total_vaccinations', 'people_vaccinated', 'people_fully_vaccinated',\n",
    "           'daily_vaccinations_raw', 'daily_vaccinations']].copy() #important to use copy, otherwise SettingwithCopyWarning pops up\n",
    "\n",
    "# Finding same consecutive values in 'total_vaccinations'\n",
    "dvac['csc_value'] = dvac.total_vaccinations.groupby([dvac['country'],dvac['total_vaccinations']]).diff(1) == 0\n",
    "\n",
    "# Filling gaps of missing values between same consecutive values in 'csc_value' and 'total_vaccinations'\n",
    "dvac['csc_value'].fillna(method='bfill', inplace=True)\n",
    "\n",
    "dvac.loc[dvac['csc_value'] == True, 'total_vaccinations'] = ((dvac['total_vaccinations'].groupby([dvac['country'], dvac['csc_value']]))\n",
    "                                                        .transform(lambda x:x.bfill()))\n",
    "\n",
    "# (2) Creates new variable from 'total_vaccinations' grouped by country\n",
    "dvac['filltv'] = (dvac['total_vaccinations'].groupby(dvac['country'])               \n",
    "               .transform(lambda x:x.bfill())) #back fill -- fills back 'total_vaccinations' by group 'country'\n",
    "\n",
    "# (3) identifying nan values in 'total vaccinations'\n",
    "# Counts the number of consecutive missing values \n",
    "dvac['nan_values'] = (dvac.total_vaccinations.isnull().astype(int).groupby(dvac.total_vaccinations.notnull().astype(int).cumsum())\n",
    "                      .transform('sum')\n",
    "                      .transform(lambda x:x+1 if x != 0 else 0)\n",
    "                      .shift(1))\n",
    "\n",
    "# (4) Calculates difference from consecutive unique different values in 'filltv'\n",
    "dvac.loc[dvac.nan_values != 0, 'diff_filltv'] = ((dvac['filltv'].groupby([dvac['country']]).diff(-1)*(-1)) #'diff' calculates difference between rows. multiply by minus 1 to get positive result. can try abs())\n",
    "                                             .replace(-0, np.nan) #'replace' removes 0's with nan\n",
    "                                             .shift(1) #'shift' changes result to one row foward\n",
    "                                             .groupby([dvac['country']]).transform(lambda x:x.ffill())) #'transform' fills the nan values with substraction\n",
    "\n",
    "# (5) Divides the difference by the number of missing values\n",
    "dvac['avg_filltv'] = (dvac['diff_filltv']/dvac['nan_values'])\n",
    "\n",
    "# (6) Substitutes values with data from 'daily_vaccinations_raw'\n",
    "dvac.loc[dvac.nan_values == 0, 'avg_filltv'] = dvac['daily_vaccinations_raw']\n",
    "\n",
    "# Sets values to zero based on variable 'test'\n",
    "dvac.loc[dvac.csc_value == True, 'avg_filltv'] = 0\n",
    "\n",
    "# (7) moving avg\n",
    "dvac['MA'] = round(dvac.groupby('country')['avg_filltv'] #groups by 'country' and uses 'dvr_new'\n",
    "                   .rolling(window=7, min_periods=1) #takes 7 values. minimum 1 value for first values\n",
    "                   .mean(), 0).reset_index(0,drop=True) #it's the avg. needs reset_index, otherwise it won't work\n",
    "\n",
    "# If 'fup' is a missing value, 'MA' also turns to a missing value\n",
    "dvac.loc[dvac.filltv.isna(), 'MA'] = np.nan\n",
    "\n",
    "# Difference\n",
    "dvac['diff'] = dvac['MA'] - dvac['daily_vaccinations']\n",
    "\n",
    "df1 = dvac.loc[dvac['diff'].notna() & dvac['diff'] != 0]"
   ]
  },
  {
   "cell_type": "code",
   "execution_count": 9,
   "id": "b09a5c4a",
   "metadata": {},
   "outputs": [
    {
     "data": {
      "text/html": [
       "<div>\n",
       "<style scoped>\n",
       "    .dataframe tbody tr th:only-of-type {\n",
       "        vertical-align: middle;\n",
       "    }\n",
       "\n",
       "    .dataframe tbody tr th {\n",
       "        vertical-align: top;\n",
       "    }\n",
       "\n",
       "    .dataframe thead th {\n",
       "        text-align: right;\n",
       "    }\n",
       "</style>\n",
       "<table border=\"1\" class=\"dataframe\">\n",
       "  <thead>\n",
       "    <tr style=\"text-align: right;\">\n",
       "      <th></th>\n",
       "      <th>country</th>\n",
       "      <th>date</th>\n",
       "      <th>daily_vaccinations</th>\n",
       "      <th>MA</th>\n",
       "      <th>diff</th>\n",
       "    </tr>\n",
       "  </thead>\n",
       "  <tbody>\n",
       "    <tr>\n",
       "      <th>7078</th>\n",
       "      <td>Dominica</td>\n",
       "      <td>2021-05-24</td>\n",
       "      <td>278.0</td>\n",
       "      <td>277.0</td>\n",
       "      <td>-1.0</td>\n",
       "    </tr>\n",
       "    <tr>\n",
       "      <th>7120</th>\n",
       "      <td>Dominican Republic</td>\n",
       "      <td>2021-02-17</td>\n",
       "      <td>690.0</td>\n",
       "      <td>689.0</td>\n",
       "      <td>-1.0</td>\n",
       "    </tr>\n",
       "    <tr>\n",
       "      <th>27969</th>\n",
       "      <td>Vietnam</td>\n",
       "      <td>2021-03-13</td>\n",
       "      <td>1674.0</td>\n",
       "      <td>1673.0</td>\n",
       "      <td>-1.0</td>\n",
       "    </tr>\n",
       "  </tbody>\n",
       "</table>\n",
       "</div>"
      ],
      "text/plain": [
       "                  country        date  daily_vaccinations      MA  diff\n",
       "7078             Dominica  2021-05-24               278.0   277.0  -1.0\n",
       "7120   Dominican Republic  2021-02-17               690.0   689.0  -1.0\n",
       "27969             Vietnam  2021-03-13              1674.0  1673.0  -1.0"
      ]
     },
     "execution_count": 9,
     "metadata": {},
     "output_type": "execute_result"
    }
   ],
   "source": [
    "df1[['country','date','daily_vaccinations','MA','diff']]"
   ]
  },
  {
   "cell_type": "code",
   "execution_count": 10,
   "id": "4055cbf7",
   "metadata": {},
   "outputs": [],
   "source": [
    "dvac = df[['country', 'date', 'total_vaccinations', 'people_vaccinated', 'people_fully_vaccinated',\n",
    "           'daily_vaccinations_raw', 'daily_vaccinations']].copy()\n",
    "\n",
    "def country_heatmap(country, df=dvac):\n",
    "    df = df.loc[df['country'] == country].copy()\n",
    "    \n",
    "    # time period\n",
    "    df['date'] = pd.to_datetime(df['date']).apply(lambda x: x.date())\n",
    "    start_date = min(df['date'])\n",
    "    last_date = max(df['date'])\n",
    "    timeperiod = last_date-start_date\n",
    "    \n",
    "    # weekdays and week number\n",
    "    country_calendar = [start_date + datetime.timedelta(i) for i in range(timeperiod.days+1)] #list with days in timeperiod\n",
    "    weekdays = [i.weekday() for i in country_calendar]\n",
    "    weeknumber = [(i.strftime('%V')) for i in country_calendar]\n",
    "    \n",
    "    # daily vaccinations data\n",
    "    vc = df['daily_vaccinations']\n",
    "    vcr = df['daily_vaccinations_raw']    \n",
    "    text = [str(i) for i in country_calendar]\n",
    "    \n",
    "    # subplots\n",
    "    fig = make_subplots(1,2, \n",
    "                        shared_yaxes=False,\n",
    "                        subplot_titles=('daily_vaccinations','daily_vaccinations_raw'))\n",
    "    #daily_vaccinations heatmap\n",
    "    fig.add_trace(\n",
    "        go.Heatmap(\n",
    "            x=weekdays,\n",
    "            y=weeknumber,\n",
    "            z=vc,\n",
    "            text=text,\n",
    "            xgap=2,\n",
    "            ygap=2,\n",
    "            showscale=False,\n",
    "            colorscale='viridis',\n",
    "            hovertemplate='Weekday: %{x}<br>Week number: %{y}<br>Vaccinations: %{z}<br>Date: %{text}<extra></extra>'),1,1) \n",
    "    #daily_vaccinations_raw heatmap\n",
    "    fig.add_trace(\n",
    "        go.Heatmap(\n",
    "            x=weekdays,\n",
    "            y=weeknumber,\n",
    "            z=vcr,\n",
    "            text=text,\n",
    "            xgap=2,\n",
    "            ygap=2,\n",
    "            showscale=False,\n",
    "            colorscale='viridis',\n",
    "            hovertemplate='Weekday: %{x}<br>Week number: %{y}<br>Vaccinations: %{z}<br>Date: %{text}<extra></extra>'),1,2)\n",
    "    \n",
    "    fig.update_layout(\n",
    "        title = country,\n",
    "        title_font_size = 20,\n",
    "        title_y = 0.98,        \n",
    "        plot_bgcolor = ('rgb(255,255,255)')\n",
    "        )\n",
    "    fig.layout.annotations[0].update(y=1.03)\n",
    "    fig.layout.annotations[1].update(y=1.03)\n",
    "    fig.update_xaxes(\n",
    "        tickmode=\"array\",\n",
    "        ticktext=[\"Mon\",\"Tue\",\"Wed\",\"Thu\",\"Fri\",\"Sat\",\"Sun\"],\n",
    "        tickvals=[0,1,2,3,4,5,6],\n",
    "        title=\"\",\n",
    "        side=\"top\"\n",
    "        )\n",
    "    fig.update_yaxes(\n",
    "        title=\"Week Nr.\",\n",
    "        autorange=\"reversed\"\n",
    "        )    \n",
    "    fig.show()\n"
   ]
  },
  {
   "cell_type": "code",
   "execution_count": 12,
   "id": "990ea5ff",
   "metadata": {},
   "outputs": [
    {
     "data": {
      "application/vnd.plotly.v1+json": {
       "config": {
        "plotlyServerURL": "https://plotly.com"
       },
       "data": [
        {
         "colorscale": [
          [
           0,
           "#440154"
          ],
          [
           0.1111111111111111,
           "#482878"
          ],
          [
           0.2222222222222222,
           "#3e4989"
          ],
          [
           0.3333333333333333,
           "#31688e"
          ],
          [
           0.4444444444444444,
           "#26828e"
          ],
          [
           0.5555555555555556,
           "#1f9e89"
          ],
          [
           0.6666666666666666,
           "#35b779"
          ],
          [
           0.7777777777777778,
           "#6ece58"
          ],
          [
           0.8888888888888888,
           "#b5de2b"
          ],
          [
           1,
           "#fde725"
          ]
         ],
         "hovertemplate": "Weekday: %{x}<br>Week number: %{y}<br>Vaccinations: %{z}<br>Date: %{text}<extra></extra>",
         "showscale": false,
         "text": [
          "2021-01-21",
          "2021-01-22",
          "2021-01-23",
          "2021-01-24",
          "2021-01-25",
          "2021-01-26",
          "2021-01-27",
          "2021-01-28",
          "2021-01-29",
          "2021-01-30",
          "2021-01-31",
          "2021-02-01",
          "2021-02-02",
          "2021-02-03",
          "2021-02-04",
          "2021-02-05",
          "2021-02-06",
          "2021-02-07",
          "2021-02-08",
          "2021-02-09",
          "2021-02-10",
          "2021-02-11",
          "2021-02-12",
          "2021-02-13",
          "2021-02-14",
          "2021-02-15",
          "2021-02-16",
          "2021-02-17",
          "2021-02-18",
          "2021-02-19",
          "2021-02-20",
          "2021-02-21",
          "2021-02-22",
          "2021-02-23",
          "2021-02-24",
          "2021-02-25",
          "2021-02-26",
          "2021-02-27",
          "2021-02-28",
          "2021-03-01",
          "2021-03-02",
          "2021-03-03",
          "2021-03-04",
          "2021-03-05",
          "2021-03-06",
          "2021-03-07",
          "2021-03-08",
          "2021-03-09",
          "2021-03-10",
          "2021-03-11",
          "2021-03-12",
          "2021-03-13",
          "2021-03-14",
          "2021-03-15",
          "2021-03-16",
          "2021-03-17",
          "2021-03-18",
          "2021-03-19",
          "2021-03-20",
          "2021-03-21",
          "2021-03-22",
          "2021-03-23",
          "2021-03-24",
          "2021-03-25",
          "2021-03-26",
          "2021-03-27",
          "2021-03-28",
          "2021-03-29",
          "2021-03-30",
          "2021-03-31",
          "2021-04-01",
          "2021-04-02",
          "2021-04-03",
          "2021-04-04",
          "2021-04-05",
          "2021-04-06",
          "2021-04-07",
          "2021-04-08",
          "2021-04-09",
          "2021-04-10",
          "2021-04-11",
          "2021-04-12",
          "2021-04-13",
          "2021-04-14",
          "2021-04-15",
          "2021-04-16",
          "2021-04-17",
          "2021-04-18",
          "2021-04-19",
          "2021-04-20",
          "2021-04-21",
          "2021-04-22",
          "2021-04-23",
          "2021-04-24",
          "2021-04-25",
          "2021-04-26",
          "2021-04-27",
          "2021-04-28",
          "2021-04-29",
          "2021-04-30",
          "2021-05-01",
          "2021-05-02",
          "2021-05-03",
          "2021-05-04",
          "2021-05-05",
          "2021-05-06",
          "2021-05-07",
          "2021-05-08",
          "2021-05-09",
          "2021-05-10",
          "2021-05-11",
          "2021-05-12",
          "2021-05-13",
          "2021-05-14",
          "2021-05-15",
          "2021-05-16",
          "2021-05-17",
          "2021-05-18",
          "2021-05-19",
          "2021-05-20",
          "2021-05-21",
          "2021-05-22",
          "2021-05-23",
          "2021-05-24",
          "2021-05-25",
          "2021-05-26",
          "2021-05-27",
          "2021-05-28",
          "2021-05-29",
          "2021-05-30",
          "2021-05-31",
          "2021-06-01",
          "2021-06-02",
          "2021-06-03",
          "2021-06-04",
          "2021-06-05",
          "2021-06-06",
          "2021-06-07",
          "2021-06-08",
          "2021-06-09",
          "2021-06-10",
          "2021-06-11",
          "2021-06-12",
          "2021-06-13",
          "2021-06-14",
          "2021-06-15",
          "2021-06-16",
          "2021-06-17",
          "2021-06-18",
          "2021-06-19",
          "2021-06-20",
          "2021-06-21",
          "2021-06-22",
          "2021-06-23",
          "2021-06-24",
          "2021-06-25",
          "2021-06-26",
          "2021-06-27",
          "2021-06-28",
          "2021-06-29",
          "2021-06-30",
          "2021-07-01",
          "2021-07-02",
          "2021-07-03"
         ],
         "type": "heatmap",
         "x": [
          3,
          4,
          5,
          6,
          0,
          1,
          2,
          3,
          4,
          5,
          6,
          0,
          1,
          2,
          3,
          4,
          5,
          6,
          0,
          1,
          2,
          3,
          4,
          5,
          6,
          0,
          1,
          2,
          3,
          4,
          5,
          6,
          0,
          1,
          2,
          3,
          4,
          5,
          6,
          0,
          1,
          2,
          3,
          4,
          5,
          6,
          0,
          1,
          2,
          3,
          4,
          5,
          6,
          0,
          1,
          2,
          3,
          4,
          5,
          6,
          0,
          1,
          2,
          3,
          4,
          5,
          6,
          0,
          1,
          2,
          3,
          4,
          5,
          6,
          0,
          1,
          2,
          3,
          4,
          5,
          6,
          0,
          1,
          2,
          3,
          4,
          5,
          6,
          0,
          1,
          2,
          3,
          4,
          5,
          6,
          0,
          1,
          2,
          3,
          4,
          5,
          6,
          0,
          1,
          2,
          3,
          4,
          5,
          6,
          0,
          1,
          2,
          3,
          4,
          5,
          6,
          0,
          1,
          2,
          3,
          4,
          5,
          6,
          0,
          1,
          2,
          3,
          4,
          5,
          6,
          0,
          1,
          2,
          3,
          4,
          5,
          6,
          0,
          1,
          2,
          3,
          4,
          5,
          6,
          0,
          1,
          2,
          3,
          4,
          5,
          6,
          0,
          1,
          2,
          3,
          4,
          5,
          6,
          0,
          1,
          2,
          3,
          4,
          5
         ],
         "xaxis": "x",
         "xgap": 2,
         "y": [
          "03",
          "03",
          "03",
          "03",
          "04",
          "04",
          "04",
          "04",
          "04",
          "04",
          "04",
          "05",
          "05",
          "05",
          "05",
          "05",
          "05",
          "05",
          "06",
          "06",
          "06",
          "06",
          "06",
          "06",
          "06",
          "07",
          "07",
          "07",
          "07",
          "07",
          "07",
          "07",
          "08",
          "08",
          "08",
          "08",
          "08",
          "08",
          "08",
          "09",
          "09",
          "09",
          "09",
          "09",
          "09",
          "09",
          "10",
          "10",
          "10",
          "10",
          "10",
          "10",
          "10",
          "11",
          "11",
          "11",
          "11",
          "11",
          "11",
          "11",
          "12",
          "12",
          "12",
          "12",
          "12",
          "12",
          "12",
          "13",
          "13",
          "13",
          "13",
          "13",
          "13",
          "13",
          "14",
          "14",
          "14",
          "14",
          "14",
          "14",
          "14",
          "15",
          "15",
          "15",
          "15",
          "15",
          "15",
          "15",
          "16",
          "16",
          "16",
          "16",
          "16",
          "16",
          "16",
          "17",
          "17",
          "17",
          "17",
          "17",
          "17",
          "17",
          "18",
          "18",
          "18",
          "18",
          "18",
          "18",
          "18",
          "19",
          "19",
          "19",
          "19",
          "19",
          "19",
          "19",
          "20",
          "20",
          "20",
          "20",
          "20",
          "20",
          "20",
          "21",
          "21",
          "21",
          "21",
          "21",
          "21",
          "21",
          "22",
          "22",
          "22",
          "22",
          "22",
          "22",
          "22",
          "23",
          "23",
          "23",
          "23",
          "23",
          "23",
          "23",
          "24",
          "24",
          "24",
          "24",
          "24",
          "24",
          "24",
          "25",
          "25",
          "25",
          "25",
          "25",
          "25",
          "25",
          "26",
          "26",
          "26",
          "26",
          "26",
          "26"
         ],
         "yaxis": "y",
         "ygap": 2,
         "z": [
          null,
          108,
          341,
          419,
          458,
          481,
          497,
          484,
          526,
          502,
          478,
          454,
          430,
          406,
          406,
          369,
          333,
          297,
          260,
          224,
          187,
          151,
          151,
          151,
          151,
          151,
          151,
          151,
          462,
          773,
          1084,
          1395,
          1707,
          2018,
          2329,
          2500,
          2670,
          2841,
          3012,
          3183,
          3669,
          4156,
          4471,
          5658,
          5313,
          4968,
          4623,
          3916,
          4572,
          5228,
          7433,
          9586,
          9559,
          9531,
          10318,
          9742,
          9166,
          6172,
          4759,
          5528,
          5632,
          4968,
          5342,
          7271,
          9199,
          8904,
          8709,
          9179,
          10765,
          11311,
          10304,
          8332,
          8583,
          8734,
          12890,
          14167,
          12809,
          11450,
          13397,
          15344,
          17291,
          15233,
          14937,
          17278,
          17411,
          18754,
          20377,
          18894,
          19426,
          19984,
          23249,
          27197,
          28150,
          26798,
          27081,
          26825,
          30707,
          31099,
          35051,
          39464,
          43440,
          46219,
          48411,
          46441,
          45813,
          42116,
          36910,
          33014,
          31784,
          30030,
          28276,
          24802,
          27175,
          30067,
          31149,
          33537,
          35125,
          34886,
          38767,
          45987,
          50591,
          58160,
          60232,
          60757,
          63108,
          62953,
          54646,
          51747,
          44633,
          39808,
          45800,
          51792,
          54307,
          59842,
          60740,
          62929,
          62972,
          58674,
          57221,
          56992,
          53743,
          52309,
          53801,
          59338,
          55744,
          49306,
          56110,
          62915,
          69719,
          76524,
          71356,
          78707,
          84571,
          79723,
          76250,
          70317,
          61912,
          63334,
          61829,
          61025,
          60704,
          60342,
          57388,
          65736
         ]
        },
        {
         "colorscale": [
          [
           0,
           "#440154"
          ],
          [
           0.1111111111111111,
           "#482878"
          ],
          [
           0.2222222222222222,
           "#3e4989"
          ],
          [
           0.3333333333333333,
           "#31688e"
          ],
          [
           0.4444444444444444,
           "#26828e"
          ],
          [
           0.5555555555555556,
           "#1f9e89"
          ],
          [
           0.6666666666666666,
           "#35b779"
          ],
          [
           0.7777777777777778,
           "#6ece58"
          ],
          [
           0.8888888888888888,
           "#b5de2b"
          ],
          [
           1,
           "#fde725"
          ]
         ],
         "hovertemplate": "Weekday: %{x}<br>Week number: %{y}<br>Vaccinations: %{z}<br>Date: %{text}<extra></extra>",
         "showscale": false,
         "text": [
          "2021-01-21",
          "2021-01-22",
          "2021-01-23",
          "2021-01-24",
          "2021-01-25",
          "2021-01-26",
          "2021-01-27",
          "2021-01-28",
          "2021-01-29",
          "2021-01-30",
          "2021-01-31",
          "2021-02-01",
          "2021-02-02",
          "2021-02-03",
          "2021-02-04",
          "2021-02-05",
          "2021-02-06",
          "2021-02-07",
          "2021-02-08",
          "2021-02-09",
          "2021-02-10",
          "2021-02-11",
          "2021-02-12",
          "2021-02-13",
          "2021-02-14",
          "2021-02-15",
          "2021-02-16",
          "2021-02-17",
          "2021-02-18",
          "2021-02-19",
          "2021-02-20",
          "2021-02-21",
          "2021-02-22",
          "2021-02-23",
          "2021-02-24",
          "2021-02-25",
          "2021-02-26",
          "2021-02-27",
          "2021-02-28",
          "2021-03-01",
          "2021-03-02",
          "2021-03-03",
          "2021-03-04",
          "2021-03-05",
          "2021-03-06",
          "2021-03-07",
          "2021-03-08",
          "2021-03-09",
          "2021-03-10",
          "2021-03-11",
          "2021-03-12",
          "2021-03-13",
          "2021-03-14",
          "2021-03-15",
          "2021-03-16",
          "2021-03-17",
          "2021-03-18",
          "2021-03-19",
          "2021-03-20",
          "2021-03-21",
          "2021-03-22",
          "2021-03-23",
          "2021-03-24",
          "2021-03-25",
          "2021-03-26",
          "2021-03-27",
          "2021-03-28",
          "2021-03-29",
          "2021-03-30",
          "2021-03-31",
          "2021-04-01",
          "2021-04-02",
          "2021-04-03",
          "2021-04-04",
          "2021-04-05",
          "2021-04-06",
          "2021-04-07",
          "2021-04-08",
          "2021-04-09",
          "2021-04-10",
          "2021-04-11",
          "2021-04-12",
          "2021-04-13",
          "2021-04-14",
          "2021-04-15",
          "2021-04-16",
          "2021-04-17",
          "2021-04-18",
          "2021-04-19",
          "2021-04-20",
          "2021-04-21",
          "2021-04-22",
          "2021-04-23",
          "2021-04-24",
          "2021-04-25",
          "2021-04-26",
          "2021-04-27",
          "2021-04-28",
          "2021-04-29",
          "2021-04-30",
          "2021-05-01",
          "2021-05-02",
          "2021-05-03",
          "2021-05-04",
          "2021-05-05",
          "2021-05-06",
          "2021-05-07",
          "2021-05-08",
          "2021-05-09",
          "2021-05-10",
          "2021-05-11",
          "2021-05-12",
          "2021-05-13",
          "2021-05-14",
          "2021-05-15",
          "2021-05-16",
          "2021-05-17",
          "2021-05-18",
          "2021-05-19",
          "2021-05-20",
          "2021-05-21",
          "2021-05-22",
          "2021-05-23",
          "2021-05-24",
          "2021-05-25",
          "2021-05-26",
          "2021-05-27",
          "2021-05-28",
          "2021-05-29",
          "2021-05-30",
          "2021-05-31",
          "2021-06-01",
          "2021-06-02",
          "2021-06-03",
          "2021-06-04",
          "2021-06-05",
          "2021-06-06",
          "2021-06-07",
          "2021-06-08",
          "2021-06-09",
          "2021-06-10",
          "2021-06-11",
          "2021-06-12",
          "2021-06-13",
          "2021-06-14",
          "2021-06-15",
          "2021-06-16",
          "2021-06-17",
          "2021-06-18",
          "2021-06-19",
          "2021-06-20",
          "2021-06-21",
          "2021-06-22",
          "2021-06-23",
          "2021-06-24",
          "2021-06-25",
          "2021-06-26",
          "2021-06-27",
          "2021-06-28",
          "2021-06-29",
          "2021-06-30",
          "2021-07-01",
          "2021-07-02",
          "2021-07-03"
         ],
         "type": "heatmap",
         "x": [
          3,
          4,
          5,
          6,
          0,
          1,
          2,
          3,
          4,
          5,
          6,
          0,
          1,
          2,
          3,
          4,
          5,
          6,
          0,
          1,
          2,
          3,
          4,
          5,
          6,
          0,
          1,
          2,
          3,
          4,
          5,
          6,
          0,
          1,
          2,
          3,
          4,
          5,
          6,
          0,
          1,
          2,
          3,
          4,
          5,
          6,
          0,
          1,
          2,
          3,
          4,
          5,
          6,
          0,
          1,
          2,
          3,
          4,
          5,
          6,
          0,
          1,
          2,
          3,
          4,
          5,
          6,
          0,
          1,
          2,
          3,
          4,
          5,
          6,
          0,
          1,
          2,
          3,
          4,
          5,
          6,
          0,
          1,
          2,
          3,
          4,
          5,
          6,
          0,
          1,
          2,
          3,
          4,
          5,
          6,
          0,
          1,
          2,
          3,
          4,
          5,
          6,
          0,
          1,
          2,
          3,
          4,
          5,
          6,
          0,
          1,
          2,
          3,
          4,
          5,
          6,
          0,
          1,
          2,
          3,
          4,
          5,
          6,
          0,
          1,
          2,
          3,
          4,
          5,
          6,
          0,
          1,
          2,
          3,
          4,
          5,
          6,
          0,
          1,
          2,
          3,
          4,
          5,
          6,
          0,
          1,
          2,
          3,
          4,
          5,
          6,
          0,
          1,
          2,
          3,
          4,
          5,
          6,
          0,
          1,
          2,
          3,
          4,
          5
         ],
         "xaxis": "x2",
         "xgap": 2,
         "y": [
          "03",
          "03",
          "03",
          "03",
          "04",
          "04",
          "04",
          "04",
          "04",
          "04",
          "04",
          "05",
          "05",
          "05",
          "05",
          "05",
          "05",
          "05",
          "06",
          "06",
          "06",
          "06",
          "06",
          "06",
          "06",
          "07",
          "07",
          "07",
          "07",
          "07",
          "07",
          "07",
          "08",
          "08",
          "08",
          "08",
          "08",
          "08",
          "08",
          "09",
          "09",
          "09",
          "09",
          "09",
          "09",
          "09",
          "10",
          "10",
          "10",
          "10",
          "10",
          "10",
          "10",
          "11",
          "11",
          "11",
          "11",
          "11",
          "11",
          "11",
          "12",
          "12",
          "12",
          "12",
          "12",
          "12",
          "12",
          "13",
          "13",
          "13",
          "13",
          "13",
          "13",
          "13",
          "14",
          "14",
          "14",
          "14",
          "14",
          "14",
          "14",
          "15",
          "15",
          "15",
          "15",
          "15",
          "15",
          "15",
          "16",
          "16",
          "16",
          "16",
          "16",
          "16",
          "16",
          "17",
          "17",
          "17",
          "17",
          "17",
          "17",
          "17",
          "18",
          "18",
          "18",
          "18",
          "18",
          "18",
          "18",
          "19",
          "19",
          "19",
          "19",
          "19",
          "19",
          "19",
          "20",
          "20",
          "20",
          "20",
          "20",
          "20",
          "20",
          "21",
          "21",
          "21",
          "21",
          "21",
          "21",
          "21",
          "22",
          "22",
          "22",
          "22",
          "22",
          "22",
          "22",
          "23",
          "23",
          "23",
          "23",
          "23",
          "23",
          "23",
          "24",
          "24",
          "24",
          "24",
          "24",
          "24",
          "24",
          "25",
          "25",
          "25",
          "25",
          "25",
          "25",
          "25",
          "26",
          "26",
          "26",
          "26",
          "26",
          "26"
         ],
         "yaxis": "y2",
         "ygap": 2,
         "z": [
          null,
          108,
          null,
          null,
          null,
          null,
          null,
          null,
          null,
          null,
          null,
          null,
          null,
          null,
          null,
          null,
          null,
          null,
          null,
          null,
          null,
          null,
          null,
          null,
          null,
          null,
          null,
          null,
          null,
          null,
          null,
          null,
          null,
          null,
          null,
          null,
          null,
          null,
          null,
          null,
          null,
          null,
          null,
          11832,
          null,
          null,
          null,
          786,
          null,
          null,
          27261,
          16183,
          null,
          null,
          null,
          null,
          null,
          null,
          null,
          null,
          null,
          null,
          8918,
          null,
          null,
          4230,
          null,
          null,
          null,
          null,
          null,
          null,
          null,
          null,
          34024,
          21690,
          null,
          null,
          null,
          null,
          null,
          null,
          null,
          null,
          4170,
          29019,
          30981,
          9237,
          23342,
          23518,
          42473,
          31808,
          35694,
          21513,
          11220,
          21552,
          50686,
          45218,
          59472,
          66587,
          49342,
          30678,
          null,
          null,
          40823,
          33591,
          30146,
          null,
          null,
          null,
          null,
          16502,
          50200,
          50395,
          29643,
          38788,
          35729,
          22946,
          43671,
          100735,
          null,
          null,
          53293,
          null,
          null,
          null,
          null,
          62332,
          32827,
          19522,
          null,
          null,
          60191,
          81329,
          68618,
          48147,
          19823,
          51266,
          71173,
          null,
          null,
          null,
          null,
          null,
          null,
          null,
          null,
          null,
          null,
          null,
          22413,
          77559,
          67159,
          72278,
          81910,
          64683,
          47379,
          32372,
          67019,
          61531,
          70031,
          79378,
          44004,
          105820
         ]
        }
       ],
       "layout": {
        "annotations": [
         {
          "font": {
           "size": 16
          },
          "showarrow": false,
          "text": "daily_vaccinations",
          "x": 0.225,
          "xanchor": "center",
          "xref": "paper",
          "y": 1.03,
          "yanchor": "bottom",
          "yref": "paper"
         },
         {
          "font": {
           "size": 16
          },
          "showarrow": false,
          "text": "daily_vaccinations_raw",
          "x": 0.775,
          "xanchor": "center",
          "xref": "paper",
          "y": 1.03,
          "yanchor": "bottom",
          "yref": "paper"
         }
        ],
        "plot_bgcolor": "rgb(255,255,255)",
        "template": {
         "data": {
          "bar": [
           {
            "error_x": {
             "color": "#2a3f5f"
            },
            "error_y": {
             "color": "#2a3f5f"
            },
            "marker": {
             "line": {
              "color": "#E5ECF6",
              "width": 0.5
             }
            },
            "type": "bar"
           }
          ],
          "barpolar": [
           {
            "marker": {
             "line": {
              "color": "#E5ECF6",
              "width": 0.5
             }
            },
            "type": "barpolar"
           }
          ],
          "carpet": [
           {
            "aaxis": {
             "endlinecolor": "#2a3f5f",
             "gridcolor": "white",
             "linecolor": "white",
             "minorgridcolor": "white",
             "startlinecolor": "#2a3f5f"
            },
            "baxis": {
             "endlinecolor": "#2a3f5f",
             "gridcolor": "white",
             "linecolor": "white",
             "minorgridcolor": "white",
             "startlinecolor": "#2a3f5f"
            },
            "type": "carpet"
           }
          ],
          "choropleth": [
           {
            "colorbar": {
             "outlinewidth": 0,
             "ticks": ""
            },
            "type": "choropleth"
           }
          ],
          "contour": [
           {
            "colorbar": {
             "outlinewidth": 0,
             "ticks": ""
            },
            "colorscale": [
             [
              0,
              "#0d0887"
             ],
             [
              0.1111111111111111,
              "#46039f"
             ],
             [
              0.2222222222222222,
              "#7201a8"
             ],
             [
              0.3333333333333333,
              "#9c179e"
             ],
             [
              0.4444444444444444,
              "#bd3786"
             ],
             [
              0.5555555555555556,
              "#d8576b"
             ],
             [
              0.6666666666666666,
              "#ed7953"
             ],
             [
              0.7777777777777778,
              "#fb9f3a"
             ],
             [
              0.8888888888888888,
              "#fdca26"
             ],
             [
              1,
              "#f0f921"
             ]
            ],
            "type": "contour"
           }
          ],
          "contourcarpet": [
           {
            "colorbar": {
             "outlinewidth": 0,
             "ticks": ""
            },
            "type": "contourcarpet"
           }
          ],
          "heatmap": [
           {
            "colorbar": {
             "outlinewidth": 0,
             "ticks": ""
            },
            "colorscale": [
             [
              0,
              "#0d0887"
             ],
             [
              0.1111111111111111,
              "#46039f"
             ],
             [
              0.2222222222222222,
              "#7201a8"
             ],
             [
              0.3333333333333333,
              "#9c179e"
             ],
             [
              0.4444444444444444,
              "#bd3786"
             ],
             [
              0.5555555555555556,
              "#d8576b"
             ],
             [
              0.6666666666666666,
              "#ed7953"
             ],
             [
              0.7777777777777778,
              "#fb9f3a"
             ],
             [
              0.8888888888888888,
              "#fdca26"
             ],
             [
              1,
              "#f0f921"
             ]
            ],
            "type": "heatmap"
           }
          ],
          "heatmapgl": [
           {
            "colorbar": {
             "outlinewidth": 0,
             "ticks": ""
            },
            "colorscale": [
             [
              0,
              "#0d0887"
             ],
             [
              0.1111111111111111,
              "#46039f"
             ],
             [
              0.2222222222222222,
              "#7201a8"
             ],
             [
              0.3333333333333333,
              "#9c179e"
             ],
             [
              0.4444444444444444,
              "#bd3786"
             ],
             [
              0.5555555555555556,
              "#d8576b"
             ],
             [
              0.6666666666666666,
              "#ed7953"
             ],
             [
              0.7777777777777778,
              "#fb9f3a"
             ],
             [
              0.8888888888888888,
              "#fdca26"
             ],
             [
              1,
              "#f0f921"
             ]
            ],
            "type": "heatmapgl"
           }
          ],
          "histogram": [
           {
            "marker": {
             "colorbar": {
              "outlinewidth": 0,
              "ticks": ""
             }
            },
            "type": "histogram"
           }
          ],
          "histogram2d": [
           {
            "colorbar": {
             "outlinewidth": 0,
             "ticks": ""
            },
            "colorscale": [
             [
              0,
              "#0d0887"
             ],
             [
              0.1111111111111111,
              "#46039f"
             ],
             [
              0.2222222222222222,
              "#7201a8"
             ],
             [
              0.3333333333333333,
              "#9c179e"
             ],
             [
              0.4444444444444444,
              "#bd3786"
             ],
             [
              0.5555555555555556,
              "#d8576b"
             ],
             [
              0.6666666666666666,
              "#ed7953"
             ],
             [
              0.7777777777777778,
              "#fb9f3a"
             ],
             [
              0.8888888888888888,
              "#fdca26"
             ],
             [
              1,
              "#f0f921"
             ]
            ],
            "type": "histogram2d"
           }
          ],
          "histogram2dcontour": [
           {
            "colorbar": {
             "outlinewidth": 0,
             "ticks": ""
            },
            "colorscale": [
             [
              0,
              "#0d0887"
             ],
             [
              0.1111111111111111,
              "#46039f"
             ],
             [
              0.2222222222222222,
              "#7201a8"
             ],
             [
              0.3333333333333333,
              "#9c179e"
             ],
             [
              0.4444444444444444,
              "#bd3786"
             ],
             [
              0.5555555555555556,
              "#d8576b"
             ],
             [
              0.6666666666666666,
              "#ed7953"
             ],
             [
              0.7777777777777778,
              "#fb9f3a"
             ],
             [
              0.8888888888888888,
              "#fdca26"
             ],
             [
              1,
              "#f0f921"
             ]
            ],
            "type": "histogram2dcontour"
           }
          ],
          "mesh3d": [
           {
            "colorbar": {
             "outlinewidth": 0,
             "ticks": ""
            },
            "type": "mesh3d"
           }
          ],
          "parcoords": [
           {
            "line": {
             "colorbar": {
              "outlinewidth": 0,
              "ticks": ""
             }
            },
            "type": "parcoords"
           }
          ],
          "pie": [
           {
            "automargin": true,
            "type": "pie"
           }
          ],
          "scatter": [
           {
            "marker": {
             "colorbar": {
              "outlinewidth": 0,
              "ticks": ""
             }
            },
            "type": "scatter"
           }
          ],
          "scatter3d": [
           {
            "line": {
             "colorbar": {
              "outlinewidth": 0,
              "ticks": ""
             }
            },
            "marker": {
             "colorbar": {
              "outlinewidth": 0,
              "ticks": ""
             }
            },
            "type": "scatter3d"
           }
          ],
          "scattercarpet": [
           {
            "marker": {
             "colorbar": {
              "outlinewidth": 0,
              "ticks": ""
             }
            },
            "type": "scattercarpet"
           }
          ],
          "scattergeo": [
           {
            "marker": {
             "colorbar": {
              "outlinewidth": 0,
              "ticks": ""
             }
            },
            "type": "scattergeo"
           }
          ],
          "scattergl": [
           {
            "marker": {
             "colorbar": {
              "outlinewidth": 0,
              "ticks": ""
             }
            },
            "type": "scattergl"
           }
          ],
          "scattermapbox": [
           {
            "marker": {
             "colorbar": {
              "outlinewidth": 0,
              "ticks": ""
             }
            },
            "type": "scattermapbox"
           }
          ],
          "scatterpolar": [
           {
            "marker": {
             "colorbar": {
              "outlinewidth": 0,
              "ticks": ""
             }
            },
            "type": "scatterpolar"
           }
          ],
          "scatterpolargl": [
           {
            "marker": {
             "colorbar": {
              "outlinewidth": 0,
              "ticks": ""
             }
            },
            "type": "scatterpolargl"
           }
          ],
          "scatterternary": [
           {
            "marker": {
             "colorbar": {
              "outlinewidth": 0,
              "ticks": ""
             }
            },
            "type": "scatterternary"
           }
          ],
          "surface": [
           {
            "colorbar": {
             "outlinewidth": 0,
             "ticks": ""
            },
            "colorscale": [
             [
              0,
              "#0d0887"
             ],
             [
              0.1111111111111111,
              "#46039f"
             ],
             [
              0.2222222222222222,
              "#7201a8"
             ],
             [
              0.3333333333333333,
              "#9c179e"
             ],
             [
              0.4444444444444444,
              "#bd3786"
             ],
             [
              0.5555555555555556,
              "#d8576b"
             ],
             [
              0.6666666666666666,
              "#ed7953"
             ],
             [
              0.7777777777777778,
              "#fb9f3a"
             ],
             [
              0.8888888888888888,
              "#fdca26"
             ],
             [
              1,
              "#f0f921"
             ]
            ],
            "type": "surface"
           }
          ],
          "table": [
           {
            "cells": {
             "fill": {
              "color": "#EBF0F8"
             },
             "line": {
              "color": "white"
             }
            },
            "header": {
             "fill": {
              "color": "#C8D4E3"
             },
             "line": {
              "color": "white"
             }
            },
            "type": "table"
           }
          ]
         },
         "layout": {
          "annotationdefaults": {
           "arrowcolor": "#2a3f5f",
           "arrowhead": 0,
           "arrowwidth": 1
          },
          "autotypenumbers": "strict",
          "coloraxis": {
           "colorbar": {
            "outlinewidth": 0,
            "ticks": ""
           }
          },
          "colorscale": {
           "diverging": [
            [
             0,
             "#8e0152"
            ],
            [
             0.1,
             "#c51b7d"
            ],
            [
             0.2,
             "#de77ae"
            ],
            [
             0.3,
             "#f1b6da"
            ],
            [
             0.4,
             "#fde0ef"
            ],
            [
             0.5,
             "#f7f7f7"
            ],
            [
             0.6,
             "#e6f5d0"
            ],
            [
             0.7,
             "#b8e186"
            ],
            [
             0.8,
             "#7fbc41"
            ],
            [
             0.9,
             "#4d9221"
            ],
            [
             1,
             "#276419"
            ]
           ],
           "sequential": [
            [
             0,
             "#0d0887"
            ],
            [
             0.1111111111111111,
             "#46039f"
            ],
            [
             0.2222222222222222,
             "#7201a8"
            ],
            [
             0.3333333333333333,
             "#9c179e"
            ],
            [
             0.4444444444444444,
             "#bd3786"
            ],
            [
             0.5555555555555556,
             "#d8576b"
            ],
            [
             0.6666666666666666,
             "#ed7953"
            ],
            [
             0.7777777777777778,
             "#fb9f3a"
            ],
            [
             0.8888888888888888,
             "#fdca26"
            ],
            [
             1,
             "#f0f921"
            ]
           ],
           "sequentialminus": [
            [
             0,
             "#0d0887"
            ],
            [
             0.1111111111111111,
             "#46039f"
            ],
            [
             0.2222222222222222,
             "#7201a8"
            ],
            [
             0.3333333333333333,
             "#9c179e"
            ],
            [
             0.4444444444444444,
             "#bd3786"
            ],
            [
             0.5555555555555556,
             "#d8576b"
            ],
            [
             0.6666666666666666,
             "#ed7953"
            ],
            [
             0.7777777777777778,
             "#fb9f3a"
            ],
            [
             0.8888888888888888,
             "#fdca26"
            ],
            [
             1,
             "#f0f921"
            ]
           ]
          },
          "colorway": [
           "#636efa",
           "#EF553B",
           "#00cc96",
           "#ab63fa",
           "#FFA15A",
           "#19d3f3",
           "#FF6692",
           "#B6E880",
           "#FF97FF",
           "#FECB52"
          ],
          "font": {
           "color": "#2a3f5f"
          },
          "geo": {
           "bgcolor": "white",
           "lakecolor": "white",
           "landcolor": "#E5ECF6",
           "showlakes": true,
           "showland": true,
           "subunitcolor": "white"
          },
          "hoverlabel": {
           "align": "left"
          },
          "hovermode": "closest",
          "mapbox": {
           "style": "light"
          },
          "paper_bgcolor": "white",
          "plot_bgcolor": "#E5ECF6",
          "polar": {
           "angularaxis": {
            "gridcolor": "white",
            "linecolor": "white",
            "ticks": ""
           },
           "bgcolor": "#E5ECF6",
           "radialaxis": {
            "gridcolor": "white",
            "linecolor": "white",
            "ticks": ""
           }
          },
          "scene": {
           "xaxis": {
            "backgroundcolor": "#E5ECF6",
            "gridcolor": "white",
            "gridwidth": 2,
            "linecolor": "white",
            "showbackground": true,
            "ticks": "",
            "zerolinecolor": "white"
           },
           "yaxis": {
            "backgroundcolor": "#E5ECF6",
            "gridcolor": "white",
            "gridwidth": 2,
            "linecolor": "white",
            "showbackground": true,
            "ticks": "",
            "zerolinecolor": "white"
           },
           "zaxis": {
            "backgroundcolor": "#E5ECF6",
            "gridcolor": "white",
            "gridwidth": 2,
            "linecolor": "white",
            "showbackground": true,
            "ticks": "",
            "zerolinecolor": "white"
           }
          },
          "shapedefaults": {
           "line": {
            "color": "#2a3f5f"
           }
          },
          "ternary": {
           "aaxis": {
            "gridcolor": "white",
            "linecolor": "white",
            "ticks": ""
           },
           "baxis": {
            "gridcolor": "white",
            "linecolor": "white",
            "ticks": ""
           },
           "bgcolor": "#E5ECF6",
           "caxis": {
            "gridcolor": "white",
            "linecolor": "white",
            "ticks": ""
           }
          },
          "title": {
           "x": 0.05
          },
          "xaxis": {
           "automargin": true,
           "gridcolor": "white",
           "linecolor": "white",
           "ticks": "",
           "title": {
            "standoff": 15
           },
           "zerolinecolor": "white",
           "zerolinewidth": 2
          },
          "yaxis": {
           "automargin": true,
           "gridcolor": "white",
           "linecolor": "white",
           "ticks": "",
           "title": {
            "standoff": 15
           },
           "zerolinecolor": "white",
           "zerolinewidth": 2
          }
         }
        },
        "title": {
         "font": {
          "size": 20
         },
         "text": "Ecuador",
         "y": 0.98
        },
        "xaxis": {
         "anchor": "y",
         "domain": [
          0,
          0.45
         ],
         "side": "top",
         "tickmode": "array",
         "ticktext": [
          "Mon",
          "Tue",
          "Wed",
          "Thu",
          "Fri",
          "Sat",
          "Sun"
         ],
         "tickvals": [
          0,
          1,
          2,
          3,
          4,
          5,
          6
         ],
         "title": {
          "text": ""
         }
        },
        "xaxis2": {
         "anchor": "y2",
         "domain": [
          0.55,
          1
         ],
         "side": "top",
         "tickmode": "array",
         "ticktext": [
          "Mon",
          "Tue",
          "Wed",
          "Thu",
          "Fri",
          "Sat",
          "Sun"
         ],
         "tickvals": [
          0,
          1,
          2,
          3,
          4,
          5,
          6
         ],
         "title": {
          "text": ""
         }
        },
        "yaxis": {
         "anchor": "x",
         "autorange": "reversed",
         "domain": [
          0,
          1
         ],
         "title": {
          "text": "Week Nr."
         }
        },
        "yaxis2": {
         "anchor": "x2",
         "autorange": "reversed",
         "domain": [
          0,
          1
         ],
         "title": {
          "text": "Week Nr."
         }
        }
       }
      },
      "text/html": [
       "<div>                            <div id=\"dbdb5c4d-0e0a-45e0-81cb-a20ef92d8b31\" class=\"plotly-graph-div\" style=\"height:525px; width:100%;\"></div>            <script type=\"text/javascript\">                require([\"plotly\"], function(Plotly) {                    window.PLOTLYENV=window.PLOTLYENV || {};                                    if (document.getElementById(\"dbdb5c4d-0e0a-45e0-81cb-a20ef92d8b31\")) {                    Plotly.newPlot(                        \"dbdb5c4d-0e0a-45e0-81cb-a20ef92d8b31\",                        [{\"colorscale\": [[0.0, \"#440154\"], [0.1111111111111111, \"#482878\"], [0.2222222222222222, \"#3e4989\"], [0.3333333333333333, \"#31688e\"], [0.4444444444444444, \"#26828e\"], [0.5555555555555556, \"#1f9e89\"], [0.6666666666666666, \"#35b779\"], [0.7777777777777778, \"#6ece58\"], [0.8888888888888888, \"#b5de2b\"], [1.0, \"#fde725\"]], \"hovertemplate\": \"Weekday: %{x}<br>Week number: %{y}<br>Vaccinations: %{z}<br>Date: %{text}<extra></extra>\", \"showscale\": false, \"text\": [\"2021-01-21\", \"2021-01-22\", \"2021-01-23\", \"2021-01-24\", \"2021-01-25\", \"2021-01-26\", \"2021-01-27\", \"2021-01-28\", \"2021-01-29\", \"2021-01-30\", \"2021-01-31\", \"2021-02-01\", \"2021-02-02\", \"2021-02-03\", \"2021-02-04\", \"2021-02-05\", \"2021-02-06\", \"2021-02-07\", \"2021-02-08\", \"2021-02-09\", \"2021-02-10\", \"2021-02-11\", \"2021-02-12\", \"2021-02-13\", \"2021-02-14\", \"2021-02-15\", \"2021-02-16\", \"2021-02-17\", \"2021-02-18\", \"2021-02-19\", \"2021-02-20\", \"2021-02-21\", \"2021-02-22\", \"2021-02-23\", \"2021-02-24\", \"2021-02-25\", \"2021-02-26\", \"2021-02-27\", \"2021-02-28\", \"2021-03-01\", \"2021-03-02\", \"2021-03-03\", \"2021-03-04\", \"2021-03-05\", \"2021-03-06\", \"2021-03-07\", \"2021-03-08\", \"2021-03-09\", \"2021-03-10\", \"2021-03-11\", \"2021-03-12\", \"2021-03-13\", \"2021-03-14\", \"2021-03-15\", \"2021-03-16\", \"2021-03-17\", \"2021-03-18\", \"2021-03-19\", \"2021-03-20\", \"2021-03-21\", \"2021-03-22\", \"2021-03-23\", \"2021-03-24\", \"2021-03-25\", \"2021-03-26\", \"2021-03-27\", \"2021-03-28\", \"2021-03-29\", \"2021-03-30\", \"2021-03-31\", \"2021-04-01\", \"2021-04-02\", \"2021-04-03\", \"2021-04-04\", \"2021-04-05\", \"2021-04-06\", \"2021-04-07\", \"2021-04-08\", \"2021-04-09\", \"2021-04-10\", \"2021-04-11\", \"2021-04-12\", \"2021-04-13\", \"2021-04-14\", \"2021-04-15\", \"2021-04-16\", \"2021-04-17\", \"2021-04-18\", \"2021-04-19\", \"2021-04-20\", \"2021-04-21\", \"2021-04-22\", \"2021-04-23\", \"2021-04-24\", \"2021-04-25\", \"2021-04-26\", \"2021-04-27\", \"2021-04-28\", \"2021-04-29\", \"2021-04-30\", \"2021-05-01\", \"2021-05-02\", \"2021-05-03\", \"2021-05-04\", \"2021-05-05\", \"2021-05-06\", \"2021-05-07\", \"2021-05-08\", \"2021-05-09\", \"2021-05-10\", \"2021-05-11\", \"2021-05-12\", \"2021-05-13\", \"2021-05-14\", \"2021-05-15\", \"2021-05-16\", \"2021-05-17\", \"2021-05-18\", \"2021-05-19\", \"2021-05-20\", \"2021-05-21\", \"2021-05-22\", \"2021-05-23\", \"2021-05-24\", \"2021-05-25\", \"2021-05-26\", \"2021-05-27\", \"2021-05-28\", \"2021-05-29\", \"2021-05-30\", \"2021-05-31\", \"2021-06-01\", \"2021-06-02\", \"2021-06-03\", \"2021-06-04\", \"2021-06-05\", \"2021-06-06\", \"2021-06-07\", \"2021-06-08\", \"2021-06-09\", \"2021-06-10\", \"2021-06-11\", \"2021-06-12\", \"2021-06-13\", \"2021-06-14\", \"2021-06-15\", \"2021-06-16\", \"2021-06-17\", \"2021-06-18\", \"2021-06-19\", \"2021-06-20\", \"2021-06-21\", \"2021-06-22\", \"2021-06-23\", \"2021-06-24\", \"2021-06-25\", \"2021-06-26\", \"2021-06-27\", \"2021-06-28\", \"2021-06-29\", \"2021-06-30\", \"2021-07-01\", \"2021-07-02\", \"2021-07-03\"], \"type\": \"heatmap\", \"x\": [3, 4, 5, 6, 0, 1, 2, 3, 4, 5, 6, 0, 1, 2, 3, 4, 5, 6, 0, 1, 2, 3, 4, 5, 6, 0, 1, 2, 3, 4, 5, 6, 0, 1, 2, 3, 4, 5, 6, 0, 1, 2, 3, 4, 5, 6, 0, 1, 2, 3, 4, 5, 6, 0, 1, 2, 3, 4, 5, 6, 0, 1, 2, 3, 4, 5, 6, 0, 1, 2, 3, 4, 5, 6, 0, 1, 2, 3, 4, 5, 6, 0, 1, 2, 3, 4, 5, 6, 0, 1, 2, 3, 4, 5, 6, 0, 1, 2, 3, 4, 5, 6, 0, 1, 2, 3, 4, 5, 6, 0, 1, 2, 3, 4, 5, 6, 0, 1, 2, 3, 4, 5, 6, 0, 1, 2, 3, 4, 5, 6, 0, 1, 2, 3, 4, 5, 6, 0, 1, 2, 3, 4, 5, 6, 0, 1, 2, 3, 4, 5, 6, 0, 1, 2, 3, 4, 5, 6, 0, 1, 2, 3, 4, 5], \"xaxis\": \"x\", \"xgap\": 2, \"y\": [\"03\", \"03\", \"03\", \"03\", \"04\", \"04\", \"04\", \"04\", \"04\", \"04\", \"04\", \"05\", \"05\", \"05\", \"05\", \"05\", \"05\", \"05\", \"06\", \"06\", \"06\", \"06\", \"06\", \"06\", \"06\", \"07\", \"07\", \"07\", \"07\", \"07\", \"07\", \"07\", \"08\", \"08\", \"08\", \"08\", \"08\", \"08\", \"08\", \"09\", \"09\", \"09\", \"09\", \"09\", \"09\", \"09\", \"10\", \"10\", \"10\", \"10\", \"10\", \"10\", \"10\", \"11\", \"11\", \"11\", \"11\", \"11\", \"11\", \"11\", \"12\", \"12\", \"12\", \"12\", \"12\", \"12\", \"12\", \"13\", \"13\", \"13\", \"13\", \"13\", \"13\", \"13\", \"14\", \"14\", \"14\", \"14\", \"14\", \"14\", \"14\", \"15\", \"15\", \"15\", \"15\", \"15\", \"15\", \"15\", \"16\", \"16\", \"16\", \"16\", \"16\", \"16\", \"16\", \"17\", \"17\", \"17\", \"17\", \"17\", \"17\", \"17\", \"18\", \"18\", \"18\", \"18\", \"18\", \"18\", \"18\", \"19\", \"19\", \"19\", \"19\", \"19\", \"19\", \"19\", \"20\", \"20\", \"20\", \"20\", \"20\", \"20\", \"20\", \"21\", \"21\", \"21\", \"21\", \"21\", \"21\", \"21\", \"22\", \"22\", \"22\", \"22\", \"22\", \"22\", \"22\", \"23\", \"23\", \"23\", \"23\", \"23\", \"23\", \"23\", \"24\", \"24\", \"24\", \"24\", \"24\", \"24\", \"24\", \"25\", \"25\", \"25\", \"25\", \"25\", \"25\", \"25\", \"26\", \"26\", \"26\", \"26\", \"26\", \"26\"], \"yaxis\": \"y\", \"ygap\": 2, \"z\": [null, 108.0, 341.0, 419.0, 458.0, 481.0, 497.0, 484.0, 526.0, 502.0, 478.0, 454.0, 430.0, 406.0, 406.0, 369.0, 333.0, 297.0, 260.0, 224.0, 187.0, 151.0, 151.0, 151.0, 151.0, 151.0, 151.0, 151.0, 462.0, 773.0, 1084.0, 1395.0, 1707.0, 2018.0, 2329.0, 2500.0, 2670.0, 2841.0, 3012.0, 3183.0, 3669.0, 4156.0, 4471.0, 5658.0, 5313.0, 4968.0, 4623.0, 3916.0, 4572.0, 5228.0, 7433.0, 9586.0, 9559.0, 9531.0, 10318.0, 9742.0, 9166.0, 6172.0, 4759.0, 5528.0, 5632.0, 4968.0, 5342.0, 7271.0, 9199.0, 8904.0, 8709.0, 9179.0, 10765.0, 11311.0, 10304.0, 8332.0, 8583.0, 8734.0, 12890.0, 14167.0, 12809.0, 11450.0, 13397.0, 15344.0, 17291.0, 15233.0, 14937.0, 17278.0, 17411.0, 18754.0, 20377.0, 18894.0, 19426.0, 19984.0, 23249.0, 27197.0, 28150.0, 26798.0, 27081.0, 26825.0, 30707.0, 31099.0, 35051.0, 39464.0, 43440.0, 46219.0, 48411.0, 46441.0, 45813.0, 42116.0, 36910.0, 33014.0, 31784.0, 30030.0, 28276.0, 24802.0, 27175.0, 30067.0, 31149.0, 33537.0, 35125.0, 34886.0, 38767.0, 45987.0, 50591.0, 58160.0, 60232.0, 60757.0, 63108.0, 62953.0, 54646.0, 51747.0, 44633.0, 39808.0, 45800.0, 51792.0, 54307.0, 59842.0, 60740.0, 62929.0, 62972.0, 58674.0, 57221.0, 56992.0, 53743.0, 52309.0, 53801.0, 59338.0, 55744.0, 49306.0, 56110.0, 62915.0, 69719.0, 76524.0, 71356.0, 78707.0, 84571.0, 79723.0, 76250.0, 70317.0, 61912.0, 63334.0, 61829.0, 61025.0, 60704.0, 60342.0, 57388.0, 65736.0]}, {\"colorscale\": [[0.0, \"#440154\"], [0.1111111111111111, \"#482878\"], [0.2222222222222222, \"#3e4989\"], [0.3333333333333333, \"#31688e\"], [0.4444444444444444, \"#26828e\"], [0.5555555555555556, \"#1f9e89\"], [0.6666666666666666, \"#35b779\"], [0.7777777777777778, \"#6ece58\"], [0.8888888888888888, \"#b5de2b\"], [1.0, \"#fde725\"]], \"hovertemplate\": \"Weekday: %{x}<br>Week number: %{y}<br>Vaccinations: %{z}<br>Date: %{text}<extra></extra>\", \"showscale\": false, \"text\": [\"2021-01-21\", \"2021-01-22\", \"2021-01-23\", \"2021-01-24\", \"2021-01-25\", \"2021-01-26\", \"2021-01-27\", \"2021-01-28\", \"2021-01-29\", \"2021-01-30\", \"2021-01-31\", \"2021-02-01\", \"2021-02-02\", \"2021-02-03\", \"2021-02-04\", \"2021-02-05\", \"2021-02-06\", \"2021-02-07\", \"2021-02-08\", \"2021-02-09\", \"2021-02-10\", \"2021-02-11\", \"2021-02-12\", \"2021-02-13\", \"2021-02-14\", \"2021-02-15\", \"2021-02-16\", \"2021-02-17\", \"2021-02-18\", \"2021-02-19\", \"2021-02-20\", \"2021-02-21\", \"2021-02-22\", \"2021-02-23\", \"2021-02-24\", \"2021-02-25\", \"2021-02-26\", \"2021-02-27\", \"2021-02-28\", \"2021-03-01\", \"2021-03-02\", \"2021-03-03\", \"2021-03-04\", \"2021-03-05\", \"2021-03-06\", \"2021-03-07\", \"2021-03-08\", \"2021-03-09\", \"2021-03-10\", \"2021-03-11\", \"2021-03-12\", \"2021-03-13\", \"2021-03-14\", \"2021-03-15\", \"2021-03-16\", \"2021-03-17\", \"2021-03-18\", \"2021-03-19\", \"2021-03-20\", \"2021-03-21\", \"2021-03-22\", \"2021-03-23\", \"2021-03-24\", \"2021-03-25\", \"2021-03-26\", \"2021-03-27\", \"2021-03-28\", \"2021-03-29\", \"2021-03-30\", \"2021-03-31\", \"2021-04-01\", \"2021-04-02\", \"2021-04-03\", \"2021-04-04\", \"2021-04-05\", \"2021-04-06\", \"2021-04-07\", \"2021-04-08\", \"2021-04-09\", \"2021-04-10\", \"2021-04-11\", \"2021-04-12\", \"2021-04-13\", \"2021-04-14\", \"2021-04-15\", \"2021-04-16\", \"2021-04-17\", \"2021-04-18\", \"2021-04-19\", \"2021-04-20\", \"2021-04-21\", \"2021-04-22\", \"2021-04-23\", \"2021-04-24\", \"2021-04-25\", \"2021-04-26\", \"2021-04-27\", \"2021-04-28\", \"2021-04-29\", \"2021-04-30\", \"2021-05-01\", \"2021-05-02\", \"2021-05-03\", \"2021-05-04\", \"2021-05-05\", \"2021-05-06\", \"2021-05-07\", \"2021-05-08\", \"2021-05-09\", \"2021-05-10\", \"2021-05-11\", \"2021-05-12\", \"2021-05-13\", \"2021-05-14\", \"2021-05-15\", \"2021-05-16\", \"2021-05-17\", \"2021-05-18\", \"2021-05-19\", \"2021-05-20\", \"2021-05-21\", \"2021-05-22\", \"2021-05-23\", \"2021-05-24\", \"2021-05-25\", \"2021-05-26\", \"2021-05-27\", \"2021-05-28\", \"2021-05-29\", \"2021-05-30\", \"2021-05-31\", \"2021-06-01\", \"2021-06-02\", \"2021-06-03\", \"2021-06-04\", \"2021-06-05\", \"2021-06-06\", \"2021-06-07\", \"2021-06-08\", \"2021-06-09\", \"2021-06-10\", \"2021-06-11\", \"2021-06-12\", \"2021-06-13\", \"2021-06-14\", \"2021-06-15\", \"2021-06-16\", \"2021-06-17\", \"2021-06-18\", \"2021-06-19\", \"2021-06-20\", \"2021-06-21\", \"2021-06-22\", \"2021-06-23\", \"2021-06-24\", \"2021-06-25\", \"2021-06-26\", \"2021-06-27\", \"2021-06-28\", \"2021-06-29\", \"2021-06-30\", \"2021-07-01\", \"2021-07-02\", \"2021-07-03\"], \"type\": \"heatmap\", \"x\": [3, 4, 5, 6, 0, 1, 2, 3, 4, 5, 6, 0, 1, 2, 3, 4, 5, 6, 0, 1, 2, 3, 4, 5, 6, 0, 1, 2, 3, 4, 5, 6, 0, 1, 2, 3, 4, 5, 6, 0, 1, 2, 3, 4, 5, 6, 0, 1, 2, 3, 4, 5, 6, 0, 1, 2, 3, 4, 5, 6, 0, 1, 2, 3, 4, 5, 6, 0, 1, 2, 3, 4, 5, 6, 0, 1, 2, 3, 4, 5, 6, 0, 1, 2, 3, 4, 5, 6, 0, 1, 2, 3, 4, 5, 6, 0, 1, 2, 3, 4, 5, 6, 0, 1, 2, 3, 4, 5, 6, 0, 1, 2, 3, 4, 5, 6, 0, 1, 2, 3, 4, 5, 6, 0, 1, 2, 3, 4, 5, 6, 0, 1, 2, 3, 4, 5, 6, 0, 1, 2, 3, 4, 5, 6, 0, 1, 2, 3, 4, 5, 6, 0, 1, 2, 3, 4, 5, 6, 0, 1, 2, 3, 4, 5], \"xaxis\": \"x2\", \"xgap\": 2, \"y\": [\"03\", \"03\", \"03\", \"03\", \"04\", \"04\", \"04\", \"04\", \"04\", \"04\", \"04\", \"05\", \"05\", \"05\", \"05\", \"05\", \"05\", \"05\", \"06\", \"06\", \"06\", \"06\", \"06\", \"06\", \"06\", \"07\", \"07\", \"07\", \"07\", \"07\", \"07\", \"07\", \"08\", \"08\", \"08\", \"08\", \"08\", \"08\", \"08\", \"09\", \"09\", \"09\", \"09\", \"09\", \"09\", \"09\", \"10\", \"10\", \"10\", \"10\", \"10\", \"10\", \"10\", \"11\", \"11\", \"11\", \"11\", \"11\", \"11\", \"11\", \"12\", \"12\", \"12\", \"12\", \"12\", \"12\", \"12\", \"13\", \"13\", \"13\", \"13\", \"13\", \"13\", \"13\", \"14\", \"14\", \"14\", \"14\", \"14\", \"14\", \"14\", \"15\", \"15\", \"15\", \"15\", \"15\", \"15\", \"15\", \"16\", \"16\", \"16\", \"16\", \"16\", \"16\", \"16\", \"17\", \"17\", \"17\", \"17\", \"17\", \"17\", \"17\", \"18\", \"18\", \"18\", \"18\", \"18\", \"18\", \"18\", \"19\", \"19\", \"19\", \"19\", \"19\", \"19\", \"19\", \"20\", \"20\", \"20\", \"20\", \"20\", \"20\", \"20\", \"21\", \"21\", \"21\", \"21\", \"21\", \"21\", \"21\", \"22\", \"22\", \"22\", \"22\", \"22\", \"22\", \"22\", \"23\", \"23\", \"23\", \"23\", \"23\", \"23\", \"23\", \"24\", \"24\", \"24\", \"24\", \"24\", \"24\", \"24\", \"25\", \"25\", \"25\", \"25\", \"25\", \"25\", \"25\", \"26\", \"26\", \"26\", \"26\", \"26\", \"26\"], \"yaxis\": \"y2\", \"ygap\": 2, \"z\": [null, 108.0, null, null, null, null, null, null, null, null, null, null, null, null, null, null, null, null, null, null, null, null, null, null, null, null, null, null, null, null, null, null, null, null, null, null, null, null, null, null, null, null, null, 11832.0, null, null, null, 786.0, null, null, 27261.0, 16183.0, null, null, null, null, null, null, null, null, null, null, 8918.0, null, null, 4230.0, null, null, null, null, null, null, null, null, 34024.0, 21690.0, null, null, null, null, null, null, null, null, 4170.0, 29019.0, 30981.0, 9237.0, 23342.0, 23518.0, 42473.0, 31808.0, 35694.0, 21513.0, 11220.0, 21552.0, 50686.0, 45218.0, 59472.0, 66587.0, 49342.0, 30678.0, null, null, 40823.0, 33591.0, 30146.0, null, null, null, null, 16502.0, 50200.0, 50395.0, 29643.0, 38788.0, 35729.0, 22946.0, 43671.0, 100735.0, null, null, 53293.0, null, null, null, null, 62332.0, 32827.0, 19522.0, null, null, 60191.0, 81329.0, 68618.0, 48147.0, 19823.0, 51266.0, 71173.0, null, null, null, null, null, null, null, null, null, null, null, 22413.0, 77559.0, 67159.0, 72278.0, 81910.0, 64683.0, 47379.0, 32372.0, 67019.0, 61531.0, 70031.0, 79378.0, 44004.0, 105820.0]}],                        {\"annotations\": [{\"font\": {\"size\": 16}, \"showarrow\": false, \"text\": \"daily_vaccinations\", \"x\": 0.225, \"xanchor\": \"center\", \"xref\": \"paper\", \"y\": 1.03, \"yanchor\": \"bottom\", \"yref\": \"paper\"}, {\"font\": {\"size\": 16}, \"showarrow\": false, \"text\": \"daily_vaccinations_raw\", \"x\": 0.775, \"xanchor\": \"center\", \"xref\": \"paper\", \"y\": 1.03, \"yanchor\": \"bottom\", \"yref\": \"paper\"}], \"plot_bgcolor\": \"rgb(255,255,255)\", \"template\": {\"data\": {\"bar\": [{\"error_x\": {\"color\": \"#2a3f5f\"}, \"error_y\": {\"color\": \"#2a3f5f\"}, \"marker\": {\"line\": {\"color\": \"#E5ECF6\", \"width\": 0.5}}, \"type\": \"bar\"}], \"barpolar\": [{\"marker\": {\"line\": {\"color\": \"#E5ECF6\", \"width\": 0.5}}, \"type\": \"barpolar\"}], \"carpet\": [{\"aaxis\": {\"endlinecolor\": \"#2a3f5f\", \"gridcolor\": \"white\", \"linecolor\": \"white\", \"minorgridcolor\": \"white\", \"startlinecolor\": \"#2a3f5f\"}, \"baxis\": {\"endlinecolor\": \"#2a3f5f\", \"gridcolor\": \"white\", \"linecolor\": \"white\", \"minorgridcolor\": \"white\", \"startlinecolor\": \"#2a3f5f\"}, \"type\": \"carpet\"}], \"choropleth\": [{\"colorbar\": {\"outlinewidth\": 0, \"ticks\": \"\"}, \"type\": \"choropleth\"}], \"contour\": [{\"colorbar\": {\"outlinewidth\": 0, \"ticks\": \"\"}, \"colorscale\": [[0.0, \"#0d0887\"], [0.1111111111111111, \"#46039f\"], [0.2222222222222222, \"#7201a8\"], [0.3333333333333333, \"#9c179e\"], [0.4444444444444444, \"#bd3786\"], [0.5555555555555556, \"#d8576b\"], [0.6666666666666666, \"#ed7953\"], [0.7777777777777778, \"#fb9f3a\"], [0.8888888888888888, \"#fdca26\"], [1.0, \"#f0f921\"]], \"type\": \"contour\"}], \"contourcarpet\": [{\"colorbar\": {\"outlinewidth\": 0, \"ticks\": \"\"}, \"type\": \"contourcarpet\"}], \"heatmap\": [{\"colorbar\": {\"outlinewidth\": 0, \"ticks\": \"\"}, \"colorscale\": [[0.0, \"#0d0887\"], [0.1111111111111111, \"#46039f\"], [0.2222222222222222, \"#7201a8\"], [0.3333333333333333, \"#9c179e\"], [0.4444444444444444, \"#bd3786\"], [0.5555555555555556, \"#d8576b\"], [0.6666666666666666, \"#ed7953\"], [0.7777777777777778, \"#fb9f3a\"], [0.8888888888888888, \"#fdca26\"], [1.0, \"#f0f921\"]], \"type\": \"heatmap\"}], \"heatmapgl\": [{\"colorbar\": {\"outlinewidth\": 0, \"ticks\": \"\"}, \"colorscale\": [[0.0, \"#0d0887\"], [0.1111111111111111, \"#46039f\"], [0.2222222222222222, \"#7201a8\"], [0.3333333333333333, \"#9c179e\"], [0.4444444444444444, \"#bd3786\"], [0.5555555555555556, \"#d8576b\"], [0.6666666666666666, \"#ed7953\"], [0.7777777777777778, \"#fb9f3a\"], [0.8888888888888888, \"#fdca26\"], [1.0, \"#f0f921\"]], \"type\": \"heatmapgl\"}], \"histogram\": [{\"marker\": {\"colorbar\": {\"outlinewidth\": 0, \"ticks\": \"\"}}, \"type\": \"histogram\"}], \"histogram2d\": [{\"colorbar\": {\"outlinewidth\": 0, \"ticks\": \"\"}, \"colorscale\": [[0.0, \"#0d0887\"], [0.1111111111111111, \"#46039f\"], [0.2222222222222222, \"#7201a8\"], [0.3333333333333333, \"#9c179e\"], [0.4444444444444444, \"#bd3786\"], [0.5555555555555556, \"#d8576b\"], [0.6666666666666666, \"#ed7953\"], [0.7777777777777778, \"#fb9f3a\"], [0.8888888888888888, \"#fdca26\"], [1.0, \"#f0f921\"]], \"type\": \"histogram2d\"}], \"histogram2dcontour\": [{\"colorbar\": {\"outlinewidth\": 0, \"ticks\": \"\"}, \"colorscale\": [[0.0, \"#0d0887\"], [0.1111111111111111, \"#46039f\"], [0.2222222222222222, \"#7201a8\"], [0.3333333333333333, \"#9c179e\"], [0.4444444444444444, \"#bd3786\"], [0.5555555555555556, \"#d8576b\"], [0.6666666666666666, \"#ed7953\"], [0.7777777777777778, \"#fb9f3a\"], [0.8888888888888888, \"#fdca26\"], [1.0, \"#f0f921\"]], \"type\": \"histogram2dcontour\"}], \"mesh3d\": [{\"colorbar\": {\"outlinewidth\": 0, \"ticks\": \"\"}, \"type\": \"mesh3d\"}], \"parcoords\": [{\"line\": {\"colorbar\": {\"outlinewidth\": 0, \"ticks\": \"\"}}, \"type\": \"parcoords\"}], \"pie\": [{\"automargin\": true, \"type\": \"pie\"}], \"scatter\": [{\"marker\": {\"colorbar\": {\"outlinewidth\": 0, \"ticks\": \"\"}}, \"type\": \"scatter\"}], \"scatter3d\": [{\"line\": {\"colorbar\": {\"outlinewidth\": 0, \"ticks\": \"\"}}, \"marker\": {\"colorbar\": {\"outlinewidth\": 0, \"ticks\": \"\"}}, \"type\": \"scatter3d\"}], \"scattercarpet\": [{\"marker\": {\"colorbar\": {\"outlinewidth\": 0, \"ticks\": \"\"}}, \"type\": \"scattercarpet\"}], \"scattergeo\": [{\"marker\": {\"colorbar\": {\"outlinewidth\": 0, \"ticks\": \"\"}}, \"type\": \"scattergeo\"}], \"scattergl\": [{\"marker\": {\"colorbar\": {\"outlinewidth\": 0, \"ticks\": \"\"}}, \"type\": \"scattergl\"}], \"scattermapbox\": [{\"marker\": {\"colorbar\": {\"outlinewidth\": 0, \"ticks\": \"\"}}, \"type\": \"scattermapbox\"}], \"scatterpolar\": [{\"marker\": {\"colorbar\": {\"outlinewidth\": 0, \"ticks\": \"\"}}, \"type\": \"scatterpolar\"}], \"scatterpolargl\": [{\"marker\": {\"colorbar\": {\"outlinewidth\": 0, \"ticks\": \"\"}}, \"type\": \"scatterpolargl\"}], \"scatterternary\": [{\"marker\": {\"colorbar\": {\"outlinewidth\": 0, \"ticks\": \"\"}}, \"type\": \"scatterternary\"}], \"surface\": [{\"colorbar\": {\"outlinewidth\": 0, \"ticks\": \"\"}, \"colorscale\": [[0.0, \"#0d0887\"], [0.1111111111111111, \"#46039f\"], [0.2222222222222222, \"#7201a8\"], [0.3333333333333333, \"#9c179e\"], [0.4444444444444444, \"#bd3786\"], [0.5555555555555556, \"#d8576b\"], [0.6666666666666666, \"#ed7953\"], [0.7777777777777778, \"#fb9f3a\"], [0.8888888888888888, \"#fdca26\"], [1.0, \"#f0f921\"]], \"type\": \"surface\"}], \"table\": [{\"cells\": {\"fill\": {\"color\": \"#EBF0F8\"}, \"line\": {\"color\": \"white\"}}, \"header\": {\"fill\": {\"color\": \"#C8D4E3\"}, \"line\": {\"color\": \"white\"}}, \"type\": \"table\"}]}, \"layout\": {\"annotationdefaults\": {\"arrowcolor\": \"#2a3f5f\", \"arrowhead\": 0, \"arrowwidth\": 1}, \"autotypenumbers\": \"strict\", \"coloraxis\": {\"colorbar\": {\"outlinewidth\": 0, \"ticks\": \"\"}}, \"colorscale\": {\"diverging\": [[0, \"#8e0152\"], [0.1, \"#c51b7d\"], [0.2, \"#de77ae\"], [0.3, \"#f1b6da\"], [0.4, \"#fde0ef\"], [0.5, \"#f7f7f7\"], [0.6, \"#e6f5d0\"], [0.7, \"#b8e186\"], [0.8, \"#7fbc41\"], [0.9, \"#4d9221\"], [1, \"#276419\"]], \"sequential\": [[0.0, \"#0d0887\"], [0.1111111111111111, \"#46039f\"], [0.2222222222222222, \"#7201a8\"], [0.3333333333333333, \"#9c179e\"], [0.4444444444444444, \"#bd3786\"], [0.5555555555555556, \"#d8576b\"], [0.6666666666666666, \"#ed7953\"], [0.7777777777777778, \"#fb9f3a\"], [0.8888888888888888, \"#fdca26\"], [1.0, \"#f0f921\"]], \"sequentialminus\": [[0.0, \"#0d0887\"], [0.1111111111111111, \"#46039f\"], [0.2222222222222222, \"#7201a8\"], [0.3333333333333333, \"#9c179e\"], [0.4444444444444444, \"#bd3786\"], [0.5555555555555556, \"#d8576b\"], [0.6666666666666666, \"#ed7953\"], [0.7777777777777778, \"#fb9f3a\"], [0.8888888888888888, \"#fdca26\"], [1.0, \"#f0f921\"]]}, \"colorway\": [\"#636efa\", \"#EF553B\", \"#00cc96\", \"#ab63fa\", \"#FFA15A\", \"#19d3f3\", \"#FF6692\", \"#B6E880\", \"#FF97FF\", \"#FECB52\"], \"font\": {\"color\": \"#2a3f5f\"}, \"geo\": {\"bgcolor\": \"white\", \"lakecolor\": \"white\", \"landcolor\": \"#E5ECF6\", \"showlakes\": true, \"showland\": true, \"subunitcolor\": \"white\"}, \"hoverlabel\": {\"align\": \"left\"}, \"hovermode\": \"closest\", \"mapbox\": {\"style\": \"light\"}, \"paper_bgcolor\": \"white\", \"plot_bgcolor\": \"#E5ECF6\", \"polar\": {\"angularaxis\": {\"gridcolor\": \"white\", \"linecolor\": \"white\", \"ticks\": \"\"}, \"bgcolor\": \"#E5ECF6\", \"radialaxis\": {\"gridcolor\": \"white\", \"linecolor\": \"white\", \"ticks\": \"\"}}, \"scene\": {\"xaxis\": {\"backgroundcolor\": \"#E5ECF6\", \"gridcolor\": \"white\", \"gridwidth\": 2, \"linecolor\": \"white\", \"showbackground\": true, \"ticks\": \"\", \"zerolinecolor\": \"white\"}, \"yaxis\": {\"backgroundcolor\": \"#E5ECF6\", \"gridcolor\": \"white\", \"gridwidth\": 2, \"linecolor\": \"white\", \"showbackground\": true, \"ticks\": \"\", \"zerolinecolor\": \"white\"}, \"zaxis\": {\"backgroundcolor\": \"#E5ECF6\", \"gridcolor\": \"white\", \"gridwidth\": 2, \"linecolor\": \"white\", \"showbackground\": true, \"ticks\": \"\", \"zerolinecolor\": \"white\"}}, \"shapedefaults\": {\"line\": {\"color\": \"#2a3f5f\"}}, \"ternary\": {\"aaxis\": {\"gridcolor\": \"white\", \"linecolor\": \"white\", \"ticks\": \"\"}, \"baxis\": {\"gridcolor\": \"white\", \"linecolor\": \"white\", \"ticks\": \"\"}, \"bgcolor\": \"#E5ECF6\", \"caxis\": {\"gridcolor\": \"white\", \"linecolor\": \"white\", \"ticks\": \"\"}}, \"title\": {\"x\": 0.05}, \"xaxis\": {\"automargin\": true, \"gridcolor\": \"white\", \"linecolor\": \"white\", \"ticks\": \"\", \"title\": {\"standoff\": 15}, \"zerolinecolor\": \"white\", \"zerolinewidth\": 2}, \"yaxis\": {\"automargin\": true, \"gridcolor\": \"white\", \"linecolor\": \"white\", \"ticks\": \"\", \"title\": {\"standoff\": 15}, \"zerolinecolor\": \"white\", \"zerolinewidth\": 2}}}, \"title\": {\"font\": {\"size\": 20}, \"text\": \"Ecuador\", \"y\": 0.98}, \"xaxis\": {\"anchor\": \"y\", \"domain\": [0.0, 0.45], \"side\": \"top\", \"tickmode\": \"array\", \"ticktext\": [\"Mon\", \"Tue\", \"Wed\", \"Thu\", \"Fri\", \"Sat\", \"Sun\"], \"tickvals\": [0, 1, 2, 3, 4, 5, 6], \"title\": {\"text\": \"\"}}, \"xaxis2\": {\"anchor\": \"y2\", \"domain\": [0.55, 1.0], \"side\": \"top\", \"tickmode\": \"array\", \"ticktext\": [\"Mon\", \"Tue\", \"Wed\", \"Thu\", \"Fri\", \"Sat\", \"Sun\"], \"tickvals\": [0, 1, 2, 3, 4, 5, 6], \"title\": {\"text\": \"\"}}, \"yaxis\": {\"anchor\": \"x\", \"autorange\": \"reversed\", \"domain\": [0.0, 1.0], \"title\": {\"text\": \"Week Nr.\"}}, \"yaxis2\": {\"anchor\": \"x2\", \"autorange\": \"reversed\", \"domain\": [0.0, 1.0], \"title\": {\"text\": \"Week Nr.\"}}},                        {\"responsive\": true}                    ).then(function(){\n",
       "                            \n",
       "var gd = document.getElementById('dbdb5c4d-0e0a-45e0-81cb-a20ef92d8b31');\n",
       "var x = new MutationObserver(function (mutations, observer) {{\n",
       "        var display = window.getComputedStyle(gd).display;\n",
       "        if (!display || display === 'none') {{\n",
       "            console.log([gd, 'removed!']);\n",
       "            Plotly.purge(gd);\n",
       "            observer.disconnect();\n",
       "        }}\n",
       "}});\n",
       "\n",
       "// Listen for the removal of the full notebook cells\n",
       "var notebookContainer = gd.closest('#notebook-container');\n",
       "if (notebookContainer) {{\n",
       "    x.observe(notebookContainer, {childList: true});\n",
       "}}\n",
       "\n",
       "// Listen for the clearing of the current output cell\n",
       "var outputEl = gd.closest('.output');\n",
       "if (outputEl) {{\n",
       "    x.observe(outputEl, {childList: true});\n",
       "}}\n",
       "\n",
       "                        })                };                });            </script>        </div>"
      ]
     },
     "metadata": {},
     "output_type": "display_data"
    }
   ],
   "source": [
    "country_heatmap('Ecuador')"
   ]
  },
  {
   "cell_type": "code",
   "execution_count": 15,
   "id": "f55f3737",
   "metadata": {},
   "outputs": [],
   "source": [
    "### Find the max number of people vaccinated per 100 as of the most recent date\n",
    "# Columns for country, date and total vaccinates\n",
    "df['country'].nunique()\n",
    "total_per_country = df[['country', 'date', 'people_fully_vaccinated_per_hundred']].copy()\n",
    "\n",
    "# Filling empty values by group with foward fill (ffill)\n",
    "total_per_country['people_fully_vaccinated_per_hundred'] = (total_per_country['people_fully_vaccinated_per_hundred'].groupby(total_per_country['country'])\n",
    "                                                            .transform(lambda x:x.ffill()))\n",
    "\n",
    "# Filtering na values\n",
    "total_per_country.dropna(inplace=True)\n",
    "\n",
    "df_southa = total_per_country[total_per_country['country'].isin(['Argentina','Bolivia','Brasil','Chile','Colombia','Ecuador','Paraguay','Peru','Uruguay','Venezuela'])]\n",
    "df_northa = total_per_country[total_per_country['country'].isin(['Canada','Mexico','United States'])]\n",
    "df_westeurope = total_per_country[total_per_country['country'].isin(['Belgium','Denmark','France','Germany','Ireland','Italy','Netherlands','Portugal','Spain','United Kingdom'])]\n"
   ]
  },
  {
   "cell_type": "code",
   "execution_count": 17,
   "id": "691546f0",
   "metadata": {},
   "outputs": [
    {
     "data": {
      "application/vnd.plotly.v1+json": {
       "config": {
        "plotlyServerURL": "https://plotly.com"
       },
       "data": [
        {
         "hovertemplate": "<b>%{text}</b><br>Fully vaccinated per 100: <b>%{y:.2f}</b><br><extra>%{x}</extra>",
         "legendgroup": "Argentina",
         "line": {
          "color": "#636efa",
          "dash": "solid"
         },
         "mode": "markers+lines",
         "name": "Argentina",
         "showlegend": true,
         "text": [
          "Argentina",
          "Argentina",
          "Argentina",
          "Argentina",
          "Argentina",
          "Argentina",
          "Argentina",
          "Argentina",
          "Argentina",
          "Argentina",
          "Argentina",
          "Argentina",
          "Argentina",
          "Argentina",
          "Argentina",
          "Argentina",
          "Argentina",
          "Argentina",
          "Argentina",
          "Argentina",
          "Argentina",
          "Argentina",
          "Argentina",
          "Argentina",
          "Argentina",
          "Argentina",
          "Argentina",
          "Argentina",
          "Argentina",
          "Argentina",
          "Argentina",
          "Argentina",
          "Argentina",
          "Argentina",
          "Argentina",
          "Argentina",
          "Argentina",
          "Argentina",
          "Argentina",
          "Argentina",
          "Argentina",
          "Argentina",
          "Argentina",
          "Argentina",
          "Argentina",
          "Argentina",
          "Argentina",
          "Argentina",
          "Argentina",
          "Argentina",
          "Argentina",
          "Argentina",
          "Argentina",
          "Argentina",
          "Argentina",
          "Argentina",
          "Argentina",
          "Argentina",
          "Argentina",
          "Argentina",
          "Argentina",
          "Argentina",
          "Argentina",
          "Argentina",
          "Argentina",
          "Argentina",
          "Argentina",
          "Argentina",
          "Argentina",
          "Argentina",
          "Argentina",
          "Argentina",
          "Argentina",
          "Argentina",
          "Argentina",
          "Argentina",
          "Argentina",
          "Argentina",
          "Argentina",
          "Argentina",
          "Argentina",
          "Argentina",
          "Argentina",
          "Argentina",
          "Argentina",
          "Argentina",
          "Argentina",
          "Argentina",
          "Argentina",
          "Argentina",
          "Argentina",
          "Argentina",
          "Argentina",
          "Argentina",
          "Argentina",
          "Argentina",
          "Argentina",
          "Argentina",
          "Argentina",
          "Argentina",
          "Argentina",
          "Argentina",
          "Argentina",
          "Argentina",
          "Argentina",
          "Argentina",
          "Argentina",
          "Argentina",
          "Argentina",
          "Argentina",
          "Argentina",
          "Argentina",
          "Argentina",
          "Argentina",
          "Argentina",
          "Argentina",
          "Argentina",
          "Argentina",
          "Argentina",
          "Argentina",
          "Argentina",
          "Argentina",
          "Argentina",
          "Argentina",
          "Argentina",
          "Argentina",
          "Argentina",
          "Argentina",
          "Argentina",
          "Argentina",
          "Argentina",
          "Argentina",
          "Argentina",
          "Argentina",
          "Argentina",
          "Argentina",
          "Argentina",
          "Argentina",
          "Argentina",
          "Argentina",
          "Argentina",
          "Argentina",
          "Argentina",
          "Argentina",
          "Argentina",
          "Argentina",
          "Argentina",
          "Argentina",
          "Argentina",
          "Argentina",
          "Argentina",
          "Argentina",
          "Argentina",
          "Argentina",
          "Argentina",
          "Argentina",
          "Argentina",
          "Argentina",
          "Argentina",
          "Argentina",
          "Argentina",
          "Argentina",
          "Argentina",
          "Argentina",
          "Argentina",
          "Argentina"
         ],
         "type": "scattergl",
         "x": [
          "2021-01-20",
          "2021-01-21",
          "2021-01-22",
          "2021-01-23",
          "2021-01-24",
          "2021-01-25",
          "2021-01-26",
          "2021-01-27",
          "2021-01-28",
          "2021-01-29",
          "2021-01-30",
          "2021-01-31",
          "2021-02-01",
          "2021-02-02",
          "2021-02-03",
          "2021-02-04",
          "2021-02-05",
          "2021-02-06",
          "2021-02-07",
          "2021-02-08",
          "2021-02-09",
          "2021-02-10",
          "2021-02-11",
          "2021-02-12",
          "2021-02-13",
          "2021-02-14",
          "2021-02-15",
          "2021-02-16",
          "2021-02-17",
          "2021-02-18",
          "2021-02-19",
          "2021-02-20",
          "2021-02-21",
          "2021-02-22",
          "2021-02-23",
          "2021-02-24",
          "2021-02-25",
          "2021-02-26",
          "2021-02-27",
          "2021-02-28",
          "2021-03-01",
          "2021-03-02",
          "2021-03-03",
          "2021-03-04",
          "2021-03-05",
          "2021-03-06",
          "2021-03-07",
          "2021-03-08",
          "2021-03-09",
          "2021-03-10",
          "2021-03-11",
          "2021-03-12",
          "2021-03-13",
          "2021-03-14",
          "2021-03-15",
          "2021-03-16",
          "2021-03-17",
          "2021-03-18",
          "2021-03-19",
          "2021-03-20",
          "2021-03-21",
          "2021-03-22",
          "2021-03-23",
          "2021-03-24",
          "2021-03-25",
          "2021-03-26",
          "2021-03-27",
          "2021-03-28",
          "2021-03-29",
          "2021-03-30",
          "2021-03-31",
          "2021-04-01",
          "2021-04-02",
          "2021-04-03",
          "2021-04-04",
          "2021-04-05",
          "2021-04-06",
          "2021-04-07",
          "2021-04-08",
          "2021-04-09",
          "2021-04-10",
          "2021-04-11",
          "2021-04-12",
          "2021-04-13",
          "2021-04-14",
          "2021-04-15",
          "2021-04-16",
          "2021-04-17",
          "2021-04-18",
          "2021-04-19",
          "2021-04-20",
          "2021-04-21",
          "2021-04-22",
          "2021-04-23",
          "2021-04-24",
          "2021-04-25",
          "2021-04-26",
          "2021-04-27",
          "2021-04-28",
          "2021-04-29",
          "2021-04-30",
          "2021-05-01",
          "2021-05-02",
          "2021-05-03",
          "2021-05-04",
          "2021-05-05",
          "2021-05-06",
          "2021-05-07",
          "2021-05-08",
          "2021-05-09",
          "2021-05-10",
          "2021-05-11",
          "2021-05-12",
          "2021-05-13",
          "2021-05-14",
          "2021-05-15",
          "2021-05-16",
          "2021-05-17",
          "2021-05-18",
          "2021-05-19",
          "2021-05-20",
          "2021-05-21",
          "2021-05-22",
          "2021-05-23",
          "2021-05-24",
          "2021-05-25",
          "2021-05-26",
          "2021-05-27",
          "2021-05-28",
          "2021-05-29",
          "2021-05-30",
          "2021-05-31",
          "2021-06-01",
          "2021-06-02",
          "2021-06-03",
          "2021-06-04",
          "2021-06-05",
          "2021-06-06",
          "2021-06-07",
          "2021-06-08",
          "2021-06-09",
          "2021-06-10",
          "2021-06-11",
          "2021-06-12",
          "2021-06-13",
          "2021-06-14",
          "2021-06-15",
          "2021-06-16",
          "2021-06-17",
          "2021-06-18",
          "2021-06-19",
          "2021-06-20",
          "2021-06-21",
          "2021-06-22",
          "2021-06-23",
          "2021-06-24",
          "2021-06-25",
          "2021-06-26",
          "2021-06-27",
          "2021-06-28",
          "2021-06-29",
          "2021-06-30",
          "2021-07-01",
          "2021-07-02",
          "2021-07-03",
          "2021-07-04"
         ],
         "xaxis": "x",
         "y": [
          0.01,
          0.04,
          0.06,
          0.06,
          0.07,
          0.07,
          0.09,
          0.1,
          0.11,
          0.15,
          0.19,
          0.19,
          0.21,
          0.21,
          0.25,
          0.32,
          0.32,
          0.36,
          0.4,
          0.42,
          0.42,
          0.44,
          0.47,
          0.49,
          0.52,
          0.53,
          0.53,
          0.53,
          0.53,
          0.54,
          0.56,
          0.58,
          0.58,
          0.58,
          0.59,
          0.59,
          0.6,
          0.63,
          0.64,
          0.65,
          0.65,
          0.67,
          0.68,
          0.69,
          0.72,
          0.72,
          0.76,
          0.76,
          0.77,
          0.77,
          0.78,
          0.84,
          0.93,
          0.99,
          1,
          1.06,
          1.1,
          1.14,
          1.23,
          1.31,
          1.34,
          1.34,
          1.38,
          1.4,
          1.41,
          1.44,
          1.46,
          1.47,
          1.47,
          1.48,
          1.5,
          1.51,
          1.51,
          1.51,
          1.51,
          1.51,
          1.53,
          1.55,
          1.56,
          1.57,
          1.6,
          1.61,
          1.61,
          1.63,
          1.68,
          1.71,
          1.74,
          1.76,
          1.77,
          1.77,
          1.8,
          1.83,
          1.86,
          1.89,
          1.92,
          1.93,
          1.93,
          1.95,
          1.96,
          2.01,
          2.08,
          2.14,
          2.15,
          2.19,
          2.32,
          2.5,
          2.64,
          2.8,
          2.97,
          3.08,
          3.11,
          3.2,
          3.36,
          3.61,
          3.87,
          4.14,
          4.21,
          4.32,
          4.54,
          4.66,
          4.76,
          4.93,
          5.13,
          5.23,
          5.34,
          5.39,
          5.43,
          5.57,
          5.74,
          5.97,
          6.1,
          6.15,
          6.26,
          6.36,
          6.46,
          6.54,
          6.63,
          6.68,
          6.74,
          6.83,
          6.91,
          6.97,
          7.02,
          7.13,
          7.29,
          7.39,
          7.57,
          7.72,
          7.88,
          8.02,
          8.11,
          8.16,
          8.17,
          8.23,
          8.32,
          8.39,
          8.48,
          8.59,
          8.67,
          8.76,
          8.83,
          8.94,
          9.04,
          9.3,
          9.52,
          9.7
         ],
         "yaxis": "y"
        },
        {
         "hovertemplate": "<b>%{text}</b><br>Fully vaccinated per 100: <b>%{y:.2f}</b><br><extra>%{x}</extra>",
         "legendgroup": "Bolivia",
         "line": {
          "color": "#EF553B",
          "dash": "solid"
         },
         "mode": "markers+lines",
         "name": "Bolivia",
         "showlegend": true,
         "text": [
          "Bolivia",
          "Bolivia",
          "Bolivia",
          "Bolivia",
          "Bolivia",
          "Bolivia",
          "Bolivia",
          "Bolivia",
          "Bolivia",
          "Bolivia",
          "Bolivia",
          "Bolivia",
          "Bolivia",
          "Bolivia",
          "Bolivia",
          "Bolivia",
          "Bolivia",
          "Bolivia",
          "Bolivia",
          "Bolivia",
          "Bolivia",
          "Bolivia",
          "Bolivia",
          "Bolivia",
          "Bolivia",
          "Bolivia",
          "Bolivia",
          "Bolivia",
          "Bolivia",
          "Bolivia",
          "Bolivia",
          "Bolivia",
          "Bolivia",
          "Bolivia",
          "Bolivia",
          "Bolivia",
          "Bolivia",
          "Bolivia",
          "Bolivia",
          "Bolivia",
          "Bolivia",
          "Bolivia",
          "Bolivia",
          "Bolivia",
          "Bolivia",
          "Bolivia",
          "Bolivia",
          "Bolivia",
          "Bolivia",
          "Bolivia",
          "Bolivia",
          "Bolivia",
          "Bolivia",
          "Bolivia",
          "Bolivia",
          "Bolivia",
          "Bolivia",
          "Bolivia",
          "Bolivia",
          "Bolivia",
          "Bolivia",
          "Bolivia",
          "Bolivia",
          "Bolivia",
          "Bolivia",
          "Bolivia",
          "Bolivia",
          "Bolivia",
          "Bolivia",
          "Bolivia",
          "Bolivia",
          "Bolivia",
          "Bolivia",
          "Bolivia",
          "Bolivia",
          "Bolivia",
          "Bolivia",
          "Bolivia",
          "Bolivia",
          "Bolivia",
          "Bolivia",
          "Bolivia",
          "Bolivia",
          "Bolivia",
          "Bolivia",
          "Bolivia",
          "Bolivia",
          "Bolivia",
          "Bolivia",
          "Bolivia",
          "Bolivia",
          "Bolivia",
          "Bolivia",
          "Bolivia",
          "Bolivia",
          "Bolivia",
          "Bolivia",
          "Bolivia",
          "Bolivia",
          "Bolivia",
          "Bolivia",
          "Bolivia",
          "Bolivia",
          "Bolivia",
          "Bolivia",
          "Bolivia",
          "Bolivia",
          "Bolivia",
          "Bolivia",
          "Bolivia",
          "Bolivia",
          "Bolivia",
          "Bolivia",
          "Bolivia",
          "Bolivia",
          "Bolivia",
          "Bolivia",
          "Bolivia",
          "Bolivia",
          "Bolivia",
          "Bolivia",
          "Bolivia",
          "Bolivia"
         ],
         "type": "scattergl",
         "x": [
          "2021-03-02",
          "2021-03-03",
          "2021-03-04",
          "2021-03-05",
          "2021-03-06",
          "2021-03-07",
          "2021-03-08",
          "2021-03-09",
          "2021-03-10",
          "2021-03-11",
          "2021-03-12",
          "2021-03-13",
          "2021-03-14",
          "2021-03-15",
          "2021-03-16",
          "2021-03-17",
          "2021-03-18",
          "2021-03-19",
          "2021-03-20",
          "2021-03-21",
          "2021-03-22",
          "2021-03-23",
          "2021-03-24",
          "2021-03-25",
          "2021-03-26",
          "2021-03-27",
          "2021-03-28",
          "2021-03-29",
          "2021-03-30",
          "2021-03-31",
          "2021-04-01",
          "2021-04-02",
          "2021-04-03",
          "2021-04-04",
          "2021-04-05",
          "2021-04-06",
          "2021-04-07",
          "2021-04-08",
          "2021-04-09",
          "2021-04-10",
          "2021-04-11",
          "2021-04-12",
          "2021-04-13",
          "2021-04-14",
          "2021-04-15",
          "2021-04-16",
          "2021-04-17",
          "2021-04-18",
          "2021-04-19",
          "2021-04-20",
          "2021-04-21",
          "2021-04-22",
          "2021-04-23",
          "2021-04-24",
          "2021-04-25",
          "2021-04-26",
          "2021-04-27",
          "2021-04-28",
          "2021-04-29",
          "2021-04-30",
          "2021-05-01",
          "2021-05-02",
          "2021-05-03",
          "2021-05-04",
          "2021-05-05",
          "2021-05-06",
          "2021-05-07",
          "2021-05-08",
          "2021-05-09",
          "2021-05-10",
          "2021-05-11",
          "2021-05-12",
          "2021-05-13",
          "2021-05-14",
          "2021-05-15",
          "2021-05-16",
          "2021-05-17",
          "2021-05-18",
          "2021-05-19",
          "2021-05-20",
          "2021-05-21",
          "2021-05-22",
          "2021-05-23",
          "2021-05-24",
          "2021-05-25",
          "2021-05-26",
          "2021-05-27",
          "2021-05-28",
          "2021-05-29",
          "2021-05-30",
          "2021-05-31",
          "2021-06-01",
          "2021-06-02",
          "2021-06-03",
          "2021-06-04",
          "2021-06-05",
          "2021-06-06",
          "2021-06-07",
          "2021-06-08",
          "2021-06-09",
          "2021-06-10",
          "2021-06-11",
          "2021-06-12",
          "2021-06-13",
          "2021-06-14",
          "2021-06-15",
          "2021-06-16",
          "2021-06-17",
          "2021-06-18",
          "2021-06-19",
          "2021-06-20",
          "2021-06-21",
          "2021-06-22",
          "2021-06-23",
          "2021-06-24",
          "2021-06-25",
          "2021-06-26",
          "2021-06-27",
          "2021-06-28",
          "2021-06-29",
          "2021-06-30",
          "2021-07-01",
          "2021-07-02"
         ],
         "xaxis": "x",
         "y": [
          0.08,
          0.08,
          0.08,
          0.08,
          0.08,
          0.08,
          0.08,
          0.08,
          0.08,
          0.09,
          0.09,
          0.09,
          0.09,
          0.09,
          0.09,
          0.09,
          0.1,
          0.15,
          0.16,
          0.17,
          0.24,
          0.36,
          0.49,
          0.61,
          0.74,
          0.76,
          0.76,
          0.82,
          0.88,
          0.94,
          0.99,
          0.99,
          1,
          1,
          1.06,
          1.1,
          1.14,
          1.17,
          1.21,
          1.21,
          1.21,
          1.24,
          1.27,
          1.31,
          1.36,
          1.41,
          1.42,
          1.42,
          1.47,
          1.52,
          1.57,
          1.62,
          1.63,
          1.63,
          1.64,
          1.7,
          1.76,
          1.84,
          1.84,
          1.84,
          2,
          2,
          2.06,
          2.11,
          2.16,
          2.2,
          2.25,
          2.26,
          2.27,
          2.31,
          2.34,
          2.37,
          2.37,
          2.4,
          2.43,
          2.44,
          2.45,
          2.5,
          2.5,
          2.5,
          2.54,
          2.56,
          2.57,
          2.59,
          2.68,
          2.79,
          2.91,
          2.96,
          2.97,
          2.97,
          3,
          3.02,
          3.04,
          3.05,
          3.18,
          3.21,
          3.22,
          3.49,
          3.49,
          3.85,
          3.85,
          3.85,
          4.48,
          4.5,
          4.5,
          4.67,
          4.67,
          4.77,
          4.85,
          4.85,
          4.85,
          5.02,
          5.02,
          5.02,
          5.02,
          5.02,
          5.02,
          5.02,
          5.67,
          5.67,
          5.93,
          5.93,
          6.17
         ],
         "yaxis": "y"
        },
        {
         "hovertemplate": "<b>%{text}</b><br>Fully vaccinated per 100: <b>%{y:.2f}</b><br><extra>%{x}</extra>",
         "legendgroup": "Chile",
         "line": {
          "color": "#00cc96",
          "dash": "solid"
         },
         "mode": "markers+lines",
         "name": "Chile",
         "showlegend": true,
         "text": [
          "Chile",
          "Chile",
          "Chile",
          "Chile",
          "Chile",
          "Chile",
          "Chile",
          "Chile",
          "Chile",
          "Chile",
          "Chile",
          "Chile",
          "Chile",
          "Chile",
          "Chile",
          "Chile",
          "Chile",
          "Chile",
          "Chile",
          "Chile",
          "Chile",
          "Chile",
          "Chile",
          "Chile",
          "Chile",
          "Chile",
          "Chile",
          "Chile",
          "Chile",
          "Chile",
          "Chile",
          "Chile",
          "Chile",
          "Chile",
          "Chile",
          "Chile",
          "Chile",
          "Chile",
          "Chile",
          "Chile",
          "Chile",
          "Chile",
          "Chile",
          "Chile",
          "Chile",
          "Chile",
          "Chile",
          "Chile",
          "Chile",
          "Chile",
          "Chile",
          "Chile",
          "Chile",
          "Chile",
          "Chile",
          "Chile",
          "Chile",
          "Chile",
          "Chile",
          "Chile",
          "Chile",
          "Chile",
          "Chile",
          "Chile",
          "Chile",
          "Chile",
          "Chile",
          "Chile",
          "Chile",
          "Chile",
          "Chile",
          "Chile",
          "Chile",
          "Chile",
          "Chile",
          "Chile",
          "Chile",
          "Chile",
          "Chile",
          "Chile",
          "Chile",
          "Chile",
          "Chile",
          "Chile",
          "Chile",
          "Chile",
          "Chile",
          "Chile",
          "Chile",
          "Chile",
          "Chile",
          "Chile",
          "Chile",
          "Chile",
          "Chile",
          "Chile",
          "Chile",
          "Chile",
          "Chile",
          "Chile",
          "Chile",
          "Chile",
          "Chile",
          "Chile",
          "Chile",
          "Chile",
          "Chile",
          "Chile",
          "Chile",
          "Chile",
          "Chile",
          "Chile",
          "Chile",
          "Chile",
          "Chile",
          "Chile",
          "Chile",
          "Chile",
          "Chile",
          "Chile",
          "Chile",
          "Chile",
          "Chile",
          "Chile",
          "Chile",
          "Chile",
          "Chile",
          "Chile",
          "Chile",
          "Chile",
          "Chile",
          "Chile",
          "Chile",
          "Chile",
          "Chile",
          "Chile",
          "Chile",
          "Chile",
          "Chile",
          "Chile",
          "Chile",
          "Chile",
          "Chile",
          "Chile",
          "Chile",
          "Chile",
          "Chile",
          "Chile",
          "Chile",
          "Chile",
          "Chile",
          "Chile",
          "Chile",
          "Chile",
          "Chile",
          "Chile",
          "Chile",
          "Chile",
          "Chile",
          "Chile",
          "Chile",
          "Chile",
          "Chile",
          "Chile",
          "Chile",
          "Chile",
          "Chile",
          "Chile",
          "Chile"
         ],
         "type": "scattergl",
         "x": [
          "2021-01-13",
          "2021-01-14",
          "2021-01-15",
          "2021-01-16",
          "2021-01-17",
          "2021-01-18",
          "2021-01-19",
          "2021-01-20",
          "2021-01-21",
          "2021-01-22",
          "2021-01-23",
          "2021-01-24",
          "2021-01-25",
          "2021-01-26",
          "2021-01-27",
          "2021-01-28",
          "2021-01-29",
          "2021-01-30",
          "2021-01-31",
          "2021-02-01",
          "2021-02-02",
          "2021-02-03",
          "2021-02-04",
          "2021-02-05",
          "2021-02-06",
          "2021-02-07",
          "2021-02-08",
          "2021-02-09",
          "2021-02-10",
          "2021-02-11",
          "2021-02-12",
          "2021-02-13",
          "2021-02-14",
          "2021-02-15",
          "2021-02-16",
          "2021-02-17",
          "2021-02-18",
          "2021-02-19",
          "2021-02-20",
          "2021-02-21",
          "2021-02-22",
          "2021-02-23",
          "2021-02-24",
          "2021-02-25",
          "2021-02-26",
          "2021-02-27",
          "2021-02-28",
          "2021-03-01",
          "2021-03-02",
          "2021-03-03",
          "2021-03-04",
          "2021-03-05",
          "2021-03-06",
          "2021-03-07",
          "2021-03-08",
          "2021-03-09",
          "2021-03-10",
          "2021-03-11",
          "2021-03-12",
          "2021-03-13",
          "2021-03-14",
          "2021-03-15",
          "2021-03-16",
          "2021-03-17",
          "2021-03-18",
          "2021-03-19",
          "2021-03-20",
          "2021-03-21",
          "2021-03-22",
          "2021-03-23",
          "2021-03-24",
          "2021-03-25",
          "2021-03-26",
          "2021-03-27",
          "2021-03-28",
          "2021-03-29",
          "2021-03-30",
          "2021-03-31",
          "2021-04-01",
          "2021-04-02",
          "2021-04-03",
          "2021-04-04",
          "2021-04-05",
          "2021-04-06",
          "2021-04-07",
          "2021-04-08",
          "2021-04-09",
          "2021-04-10",
          "2021-04-11",
          "2021-04-12",
          "2021-04-13",
          "2021-04-14",
          "2021-04-15",
          "2021-04-16",
          "2021-04-17",
          "2021-04-18",
          "2021-04-19",
          "2021-04-20",
          "2021-04-21",
          "2021-04-22",
          "2021-04-23",
          "2021-04-24",
          "2021-04-25",
          "2021-04-26",
          "2021-04-27",
          "2021-04-28",
          "2021-04-29",
          "2021-04-30",
          "2021-05-01",
          "2021-05-02",
          "2021-05-03",
          "2021-05-04",
          "2021-05-05",
          "2021-05-06",
          "2021-05-07",
          "2021-05-08",
          "2021-05-09",
          "2021-05-10",
          "2021-05-11",
          "2021-05-12",
          "2021-05-13",
          "2021-05-14",
          "2021-05-15",
          "2021-05-16",
          "2021-05-17",
          "2021-05-18",
          "2021-05-19",
          "2021-05-20",
          "2021-05-21",
          "2021-05-22",
          "2021-05-23",
          "2021-05-24",
          "2021-05-25",
          "2021-05-26",
          "2021-05-27",
          "2021-05-28",
          "2021-05-29",
          "2021-05-30",
          "2021-05-31",
          "2021-06-01",
          "2021-06-02",
          "2021-06-03",
          "2021-06-04",
          "2021-06-05",
          "2021-06-06",
          "2021-06-07",
          "2021-06-08",
          "2021-06-09",
          "2021-06-10",
          "2021-06-11",
          "2021-06-12",
          "2021-06-13",
          "2021-06-14",
          "2021-06-15",
          "2021-06-16",
          "2021-06-17",
          "2021-06-18",
          "2021-06-19",
          "2021-06-20",
          "2021-06-21",
          "2021-06-22",
          "2021-06-23",
          "2021-06-24",
          "2021-06-25",
          "2021-06-26",
          "2021-06-27",
          "2021-06-28",
          "2021-06-29",
          "2021-06-30"
         ],
         "xaxis": "x",
         "y": [
          0.01,
          0.03,
          0.04,
          0.04,
          0.04,
          0.04,
          0.04,
          0.04,
          0.04,
          0.04,
          0.04,
          0.04,
          0.05,
          0.05,
          0.05,
          0.05,
          0.05,
          0.05,
          0.05,
          0.05,
          0.05,
          0.05,
          0.07,
          0.07,
          0.07,
          0.07,
          0.13,
          0.23,
          0.28,
          0.29,
          0.29,
          0.29,
          0.29,
          0.29,
          0.29,
          0.29,
          0.29,
          0.29,
          0.29,
          0.29,
          0.29,
          0.29,
          0.29,
          0.29,
          0.29,
          0.29,
          0.29,
          0.3,
          0.36,
          1.17,
          2.03,
          2.88,
          3.01,
          3.04,
          4.16,
          5.4,
          6.79,
          8.08,
          9.24,
          9.38,
          9.4,
          10.83,
          12.1,
          13.23,
          14.2,
          15.01,
          15.07,
          15.08,
          15.72,
          16.19,
          16.53,
          16.82,
          17.08,
          17.1,
          17.1,
          17.7,
          18.46,
          19.26,
          20.14,
          20.17,
          20.18,
          20.18,
          21.25,
          22.02,
          22.74,
          23.59,
          24.37,
          24.44,
          24.45,
          25.28,
          26.12,
          26.9,
          27.65,
          28.35,
          28.42,
          28.43,
          29.21,
          29.97,
          30.73,
          31.48,
          32.23,
          32.29,
          32.3,
          33.1,
          33.78,
          34.44,
          35.09,
          35.28,
          35.28,
          35.29,
          35.68,
          36.14,
          36.63,
          37.03,
          37.36,
          37.4,
          37.4,
          37.77,
          38.21,
          38.62,
          38.93,
          39.22,
          39.23,
          39.23,
          39.47,
          39.72,
          39.93,
          40.26,
          40.27,
          40.3,
          40.31,
          40.62,
          40.92,
          41.17,
          41.36,
          41.57,
          41.6,
          41.61,
          41.92,
          42.35,
          42.84,
          43.41,
          43.94,
          44.06,
          44.08,
          44.75,
          45.39,
          46,
          46.56,
          47.07,
          47.13,
          47.13,
          47.74,
          48.39,
          49.02,
          49.6,
          49.84,
          49.94,
          49.95,
          50.01,
          51.06,
          51.94,
          52.98,
          53.85,
          54.06,
          54.09,
          54.11,
          55.15,
          55.89
         ],
         "yaxis": "y"
        },
        {
         "hovertemplate": "<b>%{text}</b><br>Fully vaccinated per 100: <b>%{y:.2f}</b><br><extra>%{x}</extra>",
         "legendgroup": "Colombia",
         "line": {
          "color": "#ab63fa",
          "dash": "solid"
         },
         "mode": "markers+lines",
         "name": "Colombia",
         "showlegend": true,
         "text": [
          "Colombia",
          "Colombia",
          "Colombia",
          "Colombia",
          "Colombia",
          "Colombia",
          "Colombia",
          "Colombia",
          "Colombia",
          "Colombia",
          "Colombia",
          "Colombia",
          "Colombia",
          "Colombia",
          "Colombia",
          "Colombia",
          "Colombia",
          "Colombia",
          "Colombia",
          "Colombia",
          "Colombia",
          "Colombia",
          "Colombia",
          "Colombia",
          "Colombia",
          "Colombia",
          "Colombia",
          "Colombia",
          "Colombia",
          "Colombia",
          "Colombia",
          "Colombia",
          "Colombia",
          "Colombia",
          "Colombia",
          "Colombia",
          "Colombia",
          "Colombia",
          "Colombia",
          "Colombia",
          "Colombia",
          "Colombia",
          "Colombia",
          "Colombia",
          "Colombia",
          "Colombia",
          "Colombia",
          "Colombia",
          "Colombia",
          "Colombia",
          "Colombia",
          "Colombia",
          "Colombia",
          "Colombia",
          "Colombia",
          "Colombia",
          "Colombia",
          "Colombia",
          "Colombia",
          "Colombia",
          "Colombia",
          "Colombia",
          "Colombia",
          "Colombia",
          "Colombia",
          "Colombia",
          "Colombia",
          "Colombia",
          "Colombia",
          "Colombia",
          "Colombia",
          "Colombia",
          "Colombia",
          "Colombia",
          "Colombia",
          "Colombia",
          "Colombia",
          "Colombia",
          "Colombia",
          "Colombia",
          "Colombia",
          "Colombia",
          "Colombia",
          "Colombia",
          "Colombia",
          "Colombia",
          "Colombia",
          "Colombia",
          "Colombia",
          "Colombia",
          "Colombia",
          "Colombia",
          "Colombia",
          "Colombia",
          "Colombia",
          "Colombia",
          "Colombia",
          "Colombia",
          "Colombia",
          "Colombia",
          "Colombia",
          "Colombia",
          "Colombia",
          "Colombia",
          "Colombia",
          "Colombia",
          "Colombia",
          "Colombia",
          "Colombia",
          "Colombia",
          "Colombia",
          "Colombia",
          "Colombia"
         ],
         "type": "scattergl",
         "x": [
          "2021-03-13",
          "2021-03-14",
          "2021-03-15",
          "2021-03-16",
          "2021-03-17",
          "2021-03-18",
          "2021-03-19",
          "2021-03-20",
          "2021-03-21",
          "2021-03-22",
          "2021-03-23",
          "2021-03-24",
          "2021-03-25",
          "2021-03-26",
          "2021-03-27",
          "2021-03-28",
          "2021-03-29",
          "2021-03-30",
          "2021-03-31",
          "2021-04-01",
          "2021-04-02",
          "2021-04-03",
          "2021-04-04",
          "2021-04-05",
          "2021-04-06",
          "2021-04-07",
          "2021-04-08",
          "2021-04-09",
          "2021-04-10",
          "2021-04-11",
          "2021-04-12",
          "2021-04-13",
          "2021-04-14",
          "2021-04-15",
          "2021-04-16",
          "2021-04-17",
          "2021-04-18",
          "2021-04-19",
          "2021-04-20",
          "2021-04-21",
          "2021-04-22",
          "2021-04-23",
          "2021-04-24",
          "2021-04-25",
          "2021-04-26",
          "2021-04-27",
          "2021-04-28",
          "2021-04-29",
          "2021-04-30",
          "2021-05-01",
          "2021-05-02",
          "2021-05-03",
          "2021-05-04",
          "2021-05-05",
          "2021-05-06",
          "2021-05-07",
          "2021-05-08",
          "2021-05-09",
          "2021-05-10",
          "2021-05-11",
          "2021-05-12",
          "2021-05-13",
          "2021-05-14",
          "2021-05-15",
          "2021-05-16",
          "2021-05-17",
          "2021-05-18",
          "2021-05-19",
          "2021-05-20",
          "2021-05-21",
          "2021-05-22",
          "2021-05-23",
          "2021-05-24",
          "2021-05-25",
          "2021-05-26",
          "2021-05-27",
          "2021-05-28",
          "2021-05-29",
          "2021-05-30",
          "2021-05-31",
          "2021-06-01",
          "2021-06-02",
          "2021-06-03",
          "2021-06-04",
          "2021-06-05",
          "2021-06-06",
          "2021-06-07",
          "2021-06-08",
          "2021-06-09",
          "2021-06-10",
          "2021-06-11",
          "2021-06-12",
          "2021-06-13",
          "2021-06-14",
          "2021-06-15",
          "2021-06-16",
          "2021-06-17",
          "2021-06-18",
          "2021-06-19",
          "2021-06-20",
          "2021-06-21",
          "2021-06-22",
          "2021-06-23",
          "2021-06-24",
          "2021-06-25",
          "2021-06-26",
          "2021-06-27",
          "2021-06-28",
          "2021-06-29",
          "2021-06-30",
          "2021-07-01",
          "2021-07-02",
          "2021-07-03"
         ],
         "xaxis": "x",
         "y": [
          0.07,
          0.08,
          0.09,
          0.09,
          0.1,
          0.11,
          0.11,
          0.11,
          0.11,
          0.12,
          0.12,
          0.15,
          0.23,
          0.29,
          0.35,
          0.38,
          0.45,
          0.52,
          0.56,
          0.66,
          0.72,
          0.77,
          0.79,
          0.83,
          0.83,
          1.07,
          1.26,
          1.46,
          1.59,
          1.59,
          1.8,
          1.98,
          2.06,
          2.06,
          2.15,
          2.23,
          2.27,
          2.34,
          2.42,
          2.52,
          2.59,
          2.67,
          2.74,
          2.77,
          2.77,
          2.9,
          2.96,
          3.04,
          3.2,
          3.34,
          3.47,
          3.47,
          3.47,
          3.47,
          3.47,
          4.39,
          4.39,
          4.39,
          4.8,
          4.98,
          5.13,
          5.29,
          5.29,
          5.55,
          5.62,
          5.67,
          5.82,
          5.9,
          5.99,
          5.99,
          6.11,
          6.15,
          6.19,
          6.24,
          6.28,
          6.28,
          6.28,
          6.41,
          6.43,
          6.47,
          6.51,
          6.56,
          6.62,
          6.69,
          6.75,
          6.78,
          6.82,
          6.95,
          7.06,
          7.06,
          7.34,
          7.47,
          7.53,
          7.62,
          7.62,
          7.62,
          8.5,
          8.5,
          9.15,
          9.4,
          9.78,
          10.2,
          10.58,
          10.94,
          11.32,
          11.69,
          12.06,
          12.55,
          13.08,
          13.55,
          13.96,
          14.33,
          14.62
         ],
         "yaxis": "y"
        },
        {
         "hovertemplate": "<b>%{text}</b><br>Fully vaccinated per 100: <b>%{y:.2f}</b><br><extra>%{x}</extra>",
         "legendgroup": "Ecuador",
         "line": {
          "color": "#FFA15A",
          "dash": "solid"
         },
         "mode": "markers+lines",
         "name": "Ecuador",
         "showlegend": true,
         "text": [
          "Ecuador",
          "Ecuador",
          "Ecuador",
          "Ecuador",
          "Ecuador",
          "Ecuador",
          "Ecuador",
          "Ecuador",
          "Ecuador",
          "Ecuador",
          "Ecuador",
          "Ecuador",
          "Ecuador",
          "Ecuador",
          "Ecuador",
          "Ecuador",
          "Ecuador",
          "Ecuador",
          "Ecuador",
          "Ecuador",
          "Ecuador",
          "Ecuador",
          "Ecuador",
          "Ecuador",
          "Ecuador",
          "Ecuador",
          "Ecuador",
          "Ecuador",
          "Ecuador",
          "Ecuador",
          "Ecuador",
          "Ecuador",
          "Ecuador",
          "Ecuador",
          "Ecuador",
          "Ecuador",
          "Ecuador",
          "Ecuador",
          "Ecuador",
          "Ecuador",
          "Ecuador",
          "Ecuador",
          "Ecuador",
          "Ecuador",
          "Ecuador",
          "Ecuador",
          "Ecuador",
          "Ecuador",
          "Ecuador",
          "Ecuador",
          "Ecuador",
          "Ecuador",
          "Ecuador",
          "Ecuador",
          "Ecuador",
          "Ecuador",
          "Ecuador",
          "Ecuador",
          "Ecuador",
          "Ecuador",
          "Ecuador",
          "Ecuador",
          "Ecuador",
          "Ecuador",
          "Ecuador",
          "Ecuador",
          "Ecuador",
          "Ecuador",
          "Ecuador",
          "Ecuador",
          "Ecuador",
          "Ecuador",
          "Ecuador",
          "Ecuador",
          "Ecuador",
          "Ecuador",
          "Ecuador",
          "Ecuador",
          "Ecuador",
          "Ecuador",
          "Ecuador",
          "Ecuador",
          "Ecuador",
          "Ecuador",
          "Ecuador",
          "Ecuador",
          "Ecuador",
          "Ecuador",
          "Ecuador",
          "Ecuador",
          "Ecuador",
          "Ecuador",
          "Ecuador",
          "Ecuador",
          "Ecuador",
          "Ecuador",
          "Ecuador",
          "Ecuador",
          "Ecuador",
          "Ecuador",
          "Ecuador",
          "Ecuador",
          "Ecuador",
          "Ecuador",
          "Ecuador",
          "Ecuador",
          "Ecuador",
          "Ecuador",
          "Ecuador",
          "Ecuador",
          "Ecuador",
          "Ecuador",
          "Ecuador",
          "Ecuador",
          "Ecuador",
          "Ecuador",
          "Ecuador",
          "Ecuador",
          "Ecuador",
          "Ecuador",
          "Ecuador",
          "Ecuador",
          "Ecuador",
          "Ecuador",
          "Ecuador",
          "Ecuador",
          "Ecuador",
          "Ecuador",
          "Ecuador",
          "Ecuador",
          "Ecuador",
          "Ecuador",
          "Ecuador",
          "Ecuador",
          "Ecuador",
          "Ecuador",
          "Ecuador"
         ],
         "type": "scattergl",
         "x": [
          "2021-02-17",
          "2021-02-18",
          "2021-02-19",
          "2021-02-20",
          "2021-02-21",
          "2021-02-22",
          "2021-02-23",
          "2021-02-24",
          "2021-02-25",
          "2021-02-26",
          "2021-02-27",
          "2021-02-28",
          "2021-03-01",
          "2021-03-02",
          "2021-03-03",
          "2021-03-04",
          "2021-03-05",
          "2021-03-06",
          "2021-03-07",
          "2021-03-08",
          "2021-03-09",
          "2021-03-10",
          "2021-03-11",
          "2021-03-12",
          "2021-03-13",
          "2021-03-14",
          "2021-03-15",
          "2021-03-16",
          "2021-03-17",
          "2021-03-18",
          "2021-03-19",
          "2021-03-20",
          "2021-03-21",
          "2021-03-22",
          "2021-03-23",
          "2021-03-24",
          "2021-03-25",
          "2021-03-26",
          "2021-03-27",
          "2021-03-28",
          "2021-03-29",
          "2021-03-30",
          "2021-03-31",
          "2021-04-01",
          "2021-04-02",
          "2021-04-03",
          "2021-04-04",
          "2021-04-05",
          "2021-04-06",
          "2021-04-07",
          "2021-04-08",
          "2021-04-09",
          "2021-04-10",
          "2021-04-11",
          "2021-04-12",
          "2021-04-13",
          "2021-04-14",
          "2021-04-15",
          "2021-04-16",
          "2021-04-17",
          "2021-04-18",
          "2021-04-19",
          "2021-04-20",
          "2021-04-21",
          "2021-04-22",
          "2021-04-23",
          "2021-04-24",
          "2021-04-25",
          "2021-04-26",
          "2021-04-27",
          "2021-04-28",
          "2021-04-29",
          "2021-04-30",
          "2021-05-01",
          "2021-05-02",
          "2021-05-03",
          "2021-05-04",
          "2021-05-05",
          "2021-05-06",
          "2021-05-07",
          "2021-05-08",
          "2021-05-09",
          "2021-05-10",
          "2021-05-11",
          "2021-05-12",
          "2021-05-13",
          "2021-05-14",
          "2021-05-15",
          "2021-05-16",
          "2021-05-17",
          "2021-05-18",
          "2021-05-19",
          "2021-05-20",
          "2021-05-21",
          "2021-05-22",
          "2021-05-23",
          "2021-05-24",
          "2021-05-25",
          "2021-05-26",
          "2021-05-27",
          "2021-05-28",
          "2021-05-29",
          "2021-05-30",
          "2021-05-31",
          "2021-06-01",
          "2021-06-02",
          "2021-06-03",
          "2021-06-04",
          "2021-06-05",
          "2021-06-06",
          "2021-06-07",
          "2021-06-08",
          "2021-06-09",
          "2021-06-10",
          "2021-06-11",
          "2021-06-12",
          "2021-06-13",
          "2021-06-14",
          "2021-06-15",
          "2021-06-16",
          "2021-06-17",
          "2021-06-18",
          "2021-06-19",
          "2021-06-20",
          "2021-06-21",
          "2021-06-22",
          "2021-06-23",
          "2021-06-24",
          "2021-06-25",
          "2021-06-26",
          "2021-06-27",
          "2021-06-28",
          "2021-06-29",
          "2021-06-30",
          "2021-07-01",
          "2021-07-02",
          "2021-07-03"
         ],
         "xaxis": "x",
         "y": [
          0.01,
          0.01,
          0.01,
          0.01,
          0.01,
          0.01,
          0.01,
          0.02,
          0.02,
          0.02,
          0.02,
          0.02,
          0.04,
          0.04,
          0.04,
          0.04,
          0.04,
          0.04,
          0.04,
          0.04,
          0.04,
          0.04,
          0.04,
          0.04,
          0.11,
          0.11,
          0.11,
          0.11,
          0.11,
          0.11,
          0.11,
          0.11,
          0.22,
          0.22,
          0.22,
          0.22,
          0.22,
          0.33,
          0.34,
          0.34,
          0.35,
          0.35,
          0.35,
          0.44,
          0.44,
          0.44,
          0.51,
          0.6,
          0.64,
          0.64,
          0.64,
          0.64,
          0.64,
          0.64,
          0.64,
          0.64,
          0.81,
          0.83,
          0.91,
          0.95,
          0.97,
          1,
          1.02,
          1.06,
          1.07,
          1.11,
          1.14,
          1.15,
          1.19,
          1.25,
          1.29,
          1.3,
          1.36,
          1.39,
          1.39,
          1.39,
          1.43,
          1.46,
          1.49,
          1.5,
          1.5,
          1.51,
          1.51,
          1.55,
          1.58,
          1.72,
          1.8,
          1.89,
          1.96,
          2.02,
          2.15,
          2.27,
          2.43,
          2.43,
          2.77,
          2.82,
          2.82,
          2.92,
          2.92,
          3.31,
          3.6,
          3.7,
          3.75,
          3.75,
          4.34,
          4.48,
          4.69,
          4.83,
          4.94,
          4.95,
          5.06,
          5.16,
          5.16,
          5.16,
          5.16,
          5.16,
          5.88,
          5.88,
          5.97,
          5.97,
          5.97,
          5.97,
          6.84,
          6.87,
          6.98,
          7.06,
          7.14,
          7.3,
          7.37,
          7.43,
          7.5,
          7.61,
          7.7,
          7.83,
          8.03,
          8.28,
          8.41
         ],
         "yaxis": "y"
        },
        {
         "hovertemplate": "<b>%{text}</b><br>Fully vaccinated per 100: <b>%{y:.2f}</b><br><extra>%{x}</extra>",
         "legendgroup": "Paraguay",
         "line": {
          "color": "#19d3f3",
          "dash": "solid"
         },
         "mode": "markers+lines",
         "name": "Paraguay",
         "showlegend": true,
         "text": [
          "Paraguay",
          "Paraguay",
          "Paraguay",
          "Paraguay",
          "Paraguay",
          "Paraguay",
          "Paraguay",
          "Paraguay",
          "Paraguay",
          "Paraguay",
          "Paraguay",
          "Paraguay",
          "Paraguay",
          "Paraguay",
          "Paraguay",
          "Paraguay",
          "Paraguay",
          "Paraguay",
          "Paraguay",
          "Paraguay",
          "Paraguay",
          "Paraguay",
          "Paraguay",
          "Paraguay",
          "Paraguay",
          "Paraguay",
          "Paraguay",
          "Paraguay",
          "Paraguay",
          "Paraguay",
          "Paraguay",
          "Paraguay",
          "Paraguay",
          "Paraguay",
          "Paraguay",
          "Paraguay",
          "Paraguay",
          "Paraguay",
          "Paraguay",
          "Paraguay",
          "Paraguay",
          "Paraguay",
          "Paraguay",
          "Paraguay",
          "Paraguay",
          "Paraguay",
          "Paraguay",
          "Paraguay",
          "Paraguay",
          "Paraguay",
          "Paraguay",
          "Paraguay",
          "Paraguay",
          "Paraguay",
          "Paraguay",
          "Paraguay",
          "Paraguay",
          "Paraguay",
          "Paraguay",
          "Paraguay",
          "Paraguay",
          "Paraguay",
          "Paraguay",
          "Paraguay",
          "Paraguay",
          "Paraguay",
          "Paraguay",
          "Paraguay",
          "Paraguay",
          "Paraguay",
          "Paraguay",
          "Paraguay",
          "Paraguay",
          "Paraguay",
          "Paraguay",
          "Paraguay",
          "Paraguay",
          "Paraguay",
          "Paraguay",
          "Paraguay",
          "Paraguay",
          "Paraguay",
          "Paraguay",
          "Paraguay",
          "Paraguay",
          "Paraguay",
          "Paraguay",
          "Paraguay",
          "Paraguay",
          "Paraguay",
          "Paraguay",
          "Paraguay",
          "Paraguay",
          "Paraguay",
          "Paraguay",
          "Paraguay",
          "Paraguay",
          "Paraguay",
          "Paraguay",
          "Paraguay",
          "Paraguay",
          "Paraguay",
          "Paraguay",
          "Paraguay",
          "Paraguay",
          "Paraguay",
          "Paraguay",
          "Paraguay"
         ],
         "type": "scattergl",
         "x": [
          "2021-03-15",
          "2021-03-16",
          "2021-03-17",
          "2021-03-18",
          "2021-03-19",
          "2021-03-20",
          "2021-03-21",
          "2021-03-22",
          "2021-03-23",
          "2021-03-24",
          "2021-03-25",
          "2021-03-26",
          "2021-03-27",
          "2021-03-28",
          "2021-03-29",
          "2021-03-30",
          "2021-03-31",
          "2021-04-01",
          "2021-04-02",
          "2021-04-03",
          "2021-04-04",
          "2021-04-05",
          "2021-04-06",
          "2021-04-07",
          "2021-04-08",
          "2021-04-09",
          "2021-04-10",
          "2021-04-11",
          "2021-04-12",
          "2021-04-13",
          "2021-04-14",
          "2021-04-15",
          "2021-04-16",
          "2021-04-17",
          "2021-04-18",
          "2021-04-19",
          "2021-04-20",
          "2021-04-21",
          "2021-04-22",
          "2021-04-23",
          "2021-04-24",
          "2021-04-25",
          "2021-04-26",
          "2021-04-27",
          "2021-04-28",
          "2021-04-29",
          "2021-04-30",
          "2021-05-01",
          "2021-05-02",
          "2021-05-03",
          "2021-05-04",
          "2021-05-05",
          "2021-05-06",
          "2021-05-07",
          "2021-05-08",
          "2021-05-09",
          "2021-05-10",
          "2021-05-11",
          "2021-05-12",
          "2021-05-13",
          "2021-05-14",
          "2021-05-15",
          "2021-05-16",
          "2021-05-17",
          "2021-05-18",
          "2021-05-19",
          "2021-05-20",
          "2021-05-21",
          "2021-05-22",
          "2021-05-23",
          "2021-05-24",
          "2021-05-25",
          "2021-05-26",
          "2021-05-27",
          "2021-05-28",
          "2021-05-29",
          "2021-05-30",
          "2021-05-31",
          "2021-06-01",
          "2021-06-02",
          "2021-06-03",
          "2021-06-04",
          "2021-06-05",
          "2021-06-06",
          "2021-06-07",
          "2021-06-08",
          "2021-06-09",
          "2021-06-10",
          "2021-06-11",
          "2021-06-12",
          "2021-06-13",
          "2021-06-14",
          "2021-06-15",
          "2021-06-16",
          "2021-06-17",
          "2021-06-18",
          "2021-06-19",
          "2021-06-20",
          "2021-06-21",
          "2021-06-22",
          "2021-06-23",
          "2021-06-24",
          "2021-06-25",
          "2021-06-26",
          "2021-06-27",
          "2021-06-28",
          "2021-06-29",
          "2021-06-30"
         ],
         "xaxis": "x",
         "y": [
          0,
          0.01,
          0.01,
          0.02,
          0.02,
          0.02,
          0.02,
          0.02,
          0.02,
          0.02,
          0.02,
          0.02,
          0.02,
          0.02,
          0.02,
          0.02,
          0.03,
          0.03,
          0.03,
          0.03,
          0.03,
          0.03,
          0.03,
          0.04,
          0.06,
          0.09,
          0.11,
          0.11,
          0.13,
          0.14,
          0.15,
          0.16,
          0.16,
          0.16,
          0.16,
          0.17,
          0.17,
          0.17,
          0.17,
          0.17,
          0.17,
          0.17,
          0.17,
          0.17,
          0.17,
          0.17,
          0.17,
          0.17,
          0.17,
          0.18,
          0.18,
          0.19,
          0.19,
          0.2,
          0.2,
          0.2,
          0.24,
          0.29,
          0.34,
          0.42,
          0.44,
          0.44,
          0.45,
          0.54,
          0.62,
          0.69,
          0.75,
          0.81,
          0.82,
          0.83,
          0.89,
          0.94,
          1,
          1.06,
          1.13,
          1.15,
          1.15,
          1.21,
          1.25,
          1.27,
          1.32,
          1.36,
          1.37,
          1.37,
          1.43,
          1.46,
          1.48,
          1.54,
          1.6,
          1.61,
          1.61,
          1.66,
          1.68,
          1.7,
          1.72,
          1.76,
          1.76,
          1.76,
          1.8,
          1.82,
          1.83,
          1.85,
          1.87,
          1.87,
          1.87,
          1.87,
          1.87,
          1.87
         ],
         "yaxis": "y"
        },
        {
         "hovertemplate": "<b>%{text}</b><br>Fully vaccinated per 100: <b>%{y:.2f}</b><br><extra>%{x}</extra>",
         "legendgroup": "Peru",
         "line": {
          "color": "#FF6692",
          "dash": "solid"
         },
         "mode": "markers+lines",
         "name": "Peru",
         "showlegend": true,
         "text": [
          "Peru",
          "Peru",
          "Peru",
          "Peru",
          "Peru",
          "Peru",
          "Peru",
          "Peru",
          "Peru",
          "Peru",
          "Peru",
          "Peru",
          "Peru",
          "Peru",
          "Peru",
          "Peru",
          "Peru",
          "Peru",
          "Peru",
          "Peru",
          "Peru",
          "Peru",
          "Peru",
          "Peru",
          "Peru",
          "Peru",
          "Peru",
          "Peru",
          "Peru",
          "Peru",
          "Peru",
          "Peru",
          "Peru",
          "Peru",
          "Peru",
          "Peru",
          "Peru",
          "Peru",
          "Peru",
          "Peru",
          "Peru",
          "Peru",
          "Peru",
          "Peru",
          "Peru",
          "Peru",
          "Peru",
          "Peru",
          "Peru",
          "Peru",
          "Peru",
          "Peru",
          "Peru",
          "Peru",
          "Peru",
          "Peru",
          "Peru",
          "Peru",
          "Peru",
          "Peru",
          "Peru",
          "Peru",
          "Peru",
          "Peru",
          "Peru",
          "Peru",
          "Peru",
          "Peru",
          "Peru",
          "Peru",
          "Peru",
          "Peru",
          "Peru",
          "Peru",
          "Peru",
          "Peru",
          "Peru",
          "Peru",
          "Peru",
          "Peru",
          "Peru",
          "Peru",
          "Peru",
          "Peru",
          "Peru",
          "Peru",
          "Peru",
          "Peru",
          "Peru",
          "Peru",
          "Peru",
          "Peru",
          "Peru",
          "Peru",
          "Peru",
          "Peru",
          "Peru",
          "Peru",
          "Peru",
          "Peru",
          "Peru",
          "Peru",
          "Peru",
          "Peru",
          "Peru",
          "Peru",
          "Peru",
          "Peru",
          "Peru",
          "Peru",
          "Peru",
          "Peru",
          "Peru",
          "Peru",
          "Peru",
          "Peru",
          "Peru",
          "Peru",
          "Peru",
          "Peru",
          "Peru",
          "Peru",
          "Peru",
          "Peru"
         ],
         "type": "scattergl",
         "x": [
          "2021-03-02",
          "2021-03-03",
          "2021-03-04",
          "2021-03-05",
          "2021-03-06",
          "2021-03-07",
          "2021-03-08",
          "2021-03-09",
          "2021-03-10",
          "2021-03-11",
          "2021-03-12",
          "2021-03-13",
          "2021-03-14",
          "2021-03-15",
          "2021-03-16",
          "2021-03-17",
          "2021-03-18",
          "2021-03-19",
          "2021-03-20",
          "2021-03-21",
          "2021-03-22",
          "2021-03-23",
          "2021-03-24",
          "2021-03-25",
          "2021-03-26",
          "2021-03-27",
          "2021-03-28",
          "2021-03-29",
          "2021-03-30",
          "2021-03-31",
          "2021-04-01",
          "2021-04-02",
          "2021-04-03",
          "2021-04-04",
          "2021-04-05",
          "2021-04-06",
          "2021-04-07",
          "2021-04-08",
          "2021-04-09",
          "2021-04-10",
          "2021-04-11",
          "2021-04-12",
          "2021-04-13",
          "2021-04-14",
          "2021-04-15",
          "2021-04-16",
          "2021-04-17",
          "2021-04-18",
          "2021-04-19",
          "2021-04-20",
          "2021-04-21",
          "2021-04-22",
          "2021-04-23",
          "2021-04-24",
          "2021-04-25",
          "2021-04-26",
          "2021-04-27",
          "2021-04-28",
          "2021-04-29",
          "2021-04-30",
          "2021-05-01",
          "2021-05-02",
          "2021-05-03",
          "2021-05-04",
          "2021-05-05",
          "2021-05-06",
          "2021-05-07",
          "2021-05-08",
          "2021-05-09",
          "2021-05-10",
          "2021-05-11",
          "2021-05-12",
          "2021-05-13",
          "2021-05-14",
          "2021-05-15",
          "2021-05-16",
          "2021-05-17",
          "2021-05-18",
          "2021-05-19",
          "2021-05-20",
          "2021-05-21",
          "2021-05-22",
          "2021-05-23",
          "2021-05-24",
          "2021-05-25",
          "2021-05-26",
          "2021-05-27",
          "2021-05-28",
          "2021-05-29",
          "2021-05-30",
          "2021-05-31",
          "2021-06-01",
          "2021-06-02",
          "2021-06-03",
          "2021-06-04",
          "2021-06-05",
          "2021-06-06",
          "2021-06-07",
          "2021-06-08",
          "2021-06-09",
          "2021-06-10",
          "2021-06-11",
          "2021-06-12",
          "2021-06-13",
          "2021-06-14",
          "2021-06-15",
          "2021-06-16",
          "2021-06-17",
          "2021-06-18",
          "2021-06-19",
          "2021-06-20",
          "2021-06-21",
          "2021-06-22",
          "2021-06-23",
          "2021-06-24",
          "2021-06-25",
          "2021-06-26",
          "2021-06-27",
          "2021-06-28",
          "2021-06-29",
          "2021-06-30",
          "2021-07-01",
          "2021-07-02",
          "2021-07-03"
         ],
         "xaxis": "x",
         "y": [
          0.01,
          0.04,
          0.13,
          0.22,
          0.27,
          0.28,
          0.32,
          0.34,
          0.35,
          0.37,
          0.42,
          0.51,
          0.52,
          0.6,
          0.67,
          0.74,
          0.79,
          0.84,
          0.86,
          0.86,
          0.89,
          0.91,
          0.94,
          0.95,
          0.96,
          0.97,
          0.97,
          1.01,
          1.08,
          1.13,
          1.14,
          1.15,
          1.17,
          1.17,
          1.2,
          1.25,
          1.3,
          1.39,
          1.44,
          1.47,
          1.47,
          1.51,
          1.57,
          1.63,
          1.7,
          1.76,
          1.8,
          1.81,
          1.83,
          1.84,
          1.87,
          1.88,
          1.89,
          1.89,
          1.89,
          1.91,
          1.94,
          1.97,
          2.01,
          2.06,
          2.07,
          2.07,
          2.09,
          2.09,
          2.1,
          2.11,
          2.15,
          2.22,
          2.3,
          2.33,
          2.36,
          2.39,
          2.42,
          2.48,
          2.54,
          2.59,
          2.61,
          2.64,
          2.7,
          2.75,
          2.91,
          3.07,
          3.19,
          3.35,
          3.42,
          3.46,
          3.54,
          3.62,
          3.79,
          3.88,
          4.01,
          4.12,
          4.23,
          4.31,
          4.37,
          4.41,
          4.41,
          4.48,
          4.83,
          5.11,
          5.43,
          5.83,
          6.1,
          6.23,
          6.46,
          6.73,
          6.95,
          7.25,
          7.66,
          7.93,
          8.01,
          8.2,
          8.48,
          8.73,
          8.85,
          8.95,
          8.98,
          8.99,
          9.03,
          9.2,
          9.42,
          9.65,
          9.82,
          9.93
         ],
         "yaxis": "y"
        },
        {
         "hovertemplate": "<b>%{text}</b><br>Fully vaccinated per 100: <b>%{y:.2f}</b><br><extra>%{x}</extra>",
         "legendgroup": "Uruguay",
         "line": {
          "color": "#B6E880",
          "dash": "solid"
         },
         "mode": "markers+lines",
         "name": "Uruguay",
         "showlegend": true,
         "text": [
          "Uruguay",
          "Uruguay",
          "Uruguay",
          "Uruguay",
          "Uruguay",
          "Uruguay",
          "Uruguay",
          "Uruguay",
          "Uruguay",
          "Uruguay",
          "Uruguay",
          "Uruguay",
          "Uruguay",
          "Uruguay",
          "Uruguay",
          "Uruguay",
          "Uruguay",
          "Uruguay",
          "Uruguay",
          "Uruguay",
          "Uruguay",
          "Uruguay",
          "Uruguay",
          "Uruguay",
          "Uruguay",
          "Uruguay",
          "Uruguay",
          "Uruguay",
          "Uruguay",
          "Uruguay",
          "Uruguay",
          "Uruguay",
          "Uruguay",
          "Uruguay",
          "Uruguay",
          "Uruguay",
          "Uruguay",
          "Uruguay",
          "Uruguay",
          "Uruguay",
          "Uruguay",
          "Uruguay",
          "Uruguay",
          "Uruguay",
          "Uruguay",
          "Uruguay",
          "Uruguay",
          "Uruguay",
          "Uruguay",
          "Uruguay",
          "Uruguay",
          "Uruguay",
          "Uruguay",
          "Uruguay",
          "Uruguay",
          "Uruguay",
          "Uruguay",
          "Uruguay",
          "Uruguay",
          "Uruguay",
          "Uruguay",
          "Uruguay",
          "Uruguay",
          "Uruguay",
          "Uruguay",
          "Uruguay",
          "Uruguay",
          "Uruguay",
          "Uruguay",
          "Uruguay",
          "Uruguay",
          "Uruguay",
          "Uruguay",
          "Uruguay",
          "Uruguay",
          "Uruguay",
          "Uruguay",
          "Uruguay",
          "Uruguay",
          "Uruguay",
          "Uruguay",
          "Uruguay",
          "Uruguay",
          "Uruguay",
          "Uruguay",
          "Uruguay",
          "Uruguay",
          "Uruguay",
          "Uruguay",
          "Uruguay",
          "Uruguay",
          "Uruguay",
          "Uruguay",
          "Uruguay",
          "Uruguay",
          "Uruguay",
          "Uruguay",
          "Uruguay"
         ],
         "type": "scattergl",
         "x": [
          "2021-03-29",
          "2021-03-30",
          "2021-03-31",
          "2021-04-01",
          "2021-04-02",
          "2021-04-03",
          "2021-04-04",
          "2021-04-05",
          "2021-04-06",
          "2021-04-07",
          "2021-04-08",
          "2021-04-09",
          "2021-04-10",
          "2021-04-11",
          "2021-04-12",
          "2021-04-13",
          "2021-04-14",
          "2021-04-15",
          "2021-04-16",
          "2021-04-17",
          "2021-04-18",
          "2021-04-19",
          "2021-04-20",
          "2021-04-21",
          "2021-04-22",
          "2021-04-23",
          "2021-04-24",
          "2021-04-25",
          "2021-04-26",
          "2021-04-27",
          "2021-04-28",
          "2021-04-29",
          "2021-04-30",
          "2021-05-01",
          "2021-05-02",
          "2021-05-03",
          "2021-05-04",
          "2021-05-05",
          "2021-05-06",
          "2021-05-07",
          "2021-05-08",
          "2021-05-09",
          "2021-05-10",
          "2021-05-11",
          "2021-05-12",
          "2021-05-13",
          "2021-05-14",
          "2021-05-15",
          "2021-05-16",
          "2021-05-17",
          "2021-05-18",
          "2021-05-19",
          "2021-05-20",
          "2021-05-21",
          "2021-05-22",
          "2021-05-23",
          "2021-05-24",
          "2021-05-25",
          "2021-05-26",
          "2021-05-27",
          "2021-05-28",
          "2021-05-29",
          "2021-05-30",
          "2021-05-31",
          "2021-06-01",
          "2021-06-02",
          "2021-06-03",
          "2021-06-04",
          "2021-06-05",
          "2021-06-06",
          "2021-06-07",
          "2021-06-08",
          "2021-06-09",
          "2021-06-10",
          "2021-06-11",
          "2021-06-12",
          "2021-06-13",
          "2021-06-14",
          "2021-06-15",
          "2021-06-16",
          "2021-06-17",
          "2021-06-18",
          "2021-06-19",
          "2021-06-20",
          "2021-06-21",
          "2021-06-22",
          "2021-06-23",
          "2021-06-24",
          "2021-06-25",
          "2021-06-26",
          "2021-06-27",
          "2021-06-28",
          "2021-06-29",
          "2021-06-30",
          "2021-07-01",
          "2021-07-02",
          "2021-07-03",
          "2021-07-04"
         ],
         "xaxis": "x",
         "y": [
          0.5,
          0.9,
          1.48,
          1.72,
          1.97,
          1.98,
          1.98,
          2.77,
          3.38,
          4.08,
          4.69,
          5.5,
          5.76,
          5.76,
          5.97,
          6.26,
          6.54,
          7.48,
          8.44,
          8.71,
          8.71,
          9.6,
          10.63,
          11.7,
          12.91,
          14.04,
          14.4,
          14.4,
          15.45,
          16.52,
          17.57,
          18.68,
          19.83,
          19.83,
          19.83,
          20.38,
          21.01,
          21.64,
          22.41,
          22.69,
          22.79,
          22.8,
          23.85,
          24.91,
          25.98,
          26.69,
          27.24,
          27.33,
          27.33,
          27.48,
          27.69,
          27.87,
          28.06,
          28.25,
          28.32,
          28.33,
          28.46,
          28.57,
          28.66,
          28.78,
          28.92,
          29.3,
          29.3,
          29.6,
          29.9,
          30.21,
          30.51,
          30.8,
          30.88,
          30.88,
          31.01,
          31.12,
          31.3,
          32.18,
          33.16,
          33.72,
          33.74,
          34.99,
          36.13,
          37.22,
          38.4,
          39.38,
          39.71,
          39.74,
          40.89,
          41.95,
          42.93,
          43.86,
          44.69,
          45.03,
          45.07,
          46.09,
          47.11,
          48.07,
          49.16,
          50.32,
          50.75,
          50.77
         ],
         "yaxis": "y"
        },
        {
         "hovertemplate": "<b>%{text}</b><br>Fully vaccinated per 100: <b>%{y:.2f}</b><br><extra>%{x}</extra>",
         "legendgroup": "Venezuela",
         "line": {
          "color": "#FF97FF",
          "dash": "solid"
         },
         "mode": "markers+lines",
         "name": "Venezuela",
         "showlegend": true,
         "text": [
          "Venezuela",
          "Venezuela",
          "Venezuela",
          "Venezuela",
          "Venezuela",
          "Venezuela",
          "Venezuela",
          "Venezuela",
          "Venezuela",
          "Venezuela",
          "Venezuela",
          "Venezuela",
          "Venezuela",
          "Venezuela",
          "Venezuela"
         ],
         "type": "scattergl",
         "x": [
          "2021-06-11",
          "2021-06-12",
          "2021-06-13",
          "2021-06-14",
          "2021-06-15",
          "2021-06-16",
          "2021-06-17",
          "2021-06-18",
          "2021-06-19",
          "2021-06-20",
          "2021-06-21",
          "2021-06-22",
          "2021-06-23",
          "2021-06-24",
          "2021-06-25"
         ],
         "xaxis": "x",
         "y": [
          0.53,
          0.53,
          0.53,
          0.53,
          0.53,
          0.53,
          0.53,
          0.79,
          0.79,
          0.79,
          0.79,
          0.79,
          0.79,
          0.79,
          0.79
         ],
         "yaxis": "y"
        }
       ],
       "layout": {
        "hoverlabel": {
         "font": {
          "size": 12
         }
        },
        "hovermode": "x",
        "legend": {
         "title": {
          "text": "country"
         },
         "tracegroupgap": 0
        },
        "margin": {
         "t": 60
        },
        "template": {
         "data": {
          "bar": [
           {
            "error_x": {
             "color": "#2a3f5f"
            },
            "error_y": {
             "color": "#2a3f5f"
            },
            "marker": {
             "line": {
              "color": "#E5ECF6",
              "width": 0.5
             }
            },
            "type": "bar"
           }
          ],
          "barpolar": [
           {
            "marker": {
             "line": {
              "color": "#E5ECF6",
              "width": 0.5
             }
            },
            "type": "barpolar"
           }
          ],
          "carpet": [
           {
            "aaxis": {
             "endlinecolor": "#2a3f5f",
             "gridcolor": "white",
             "linecolor": "white",
             "minorgridcolor": "white",
             "startlinecolor": "#2a3f5f"
            },
            "baxis": {
             "endlinecolor": "#2a3f5f",
             "gridcolor": "white",
             "linecolor": "white",
             "minorgridcolor": "white",
             "startlinecolor": "#2a3f5f"
            },
            "type": "carpet"
           }
          ],
          "choropleth": [
           {
            "colorbar": {
             "outlinewidth": 0,
             "ticks": ""
            },
            "type": "choropleth"
           }
          ],
          "contour": [
           {
            "colorbar": {
             "outlinewidth": 0,
             "ticks": ""
            },
            "colorscale": [
             [
              0,
              "#0d0887"
             ],
             [
              0.1111111111111111,
              "#46039f"
             ],
             [
              0.2222222222222222,
              "#7201a8"
             ],
             [
              0.3333333333333333,
              "#9c179e"
             ],
             [
              0.4444444444444444,
              "#bd3786"
             ],
             [
              0.5555555555555556,
              "#d8576b"
             ],
             [
              0.6666666666666666,
              "#ed7953"
             ],
             [
              0.7777777777777778,
              "#fb9f3a"
             ],
             [
              0.8888888888888888,
              "#fdca26"
             ],
             [
              1,
              "#f0f921"
             ]
            ],
            "type": "contour"
           }
          ],
          "contourcarpet": [
           {
            "colorbar": {
             "outlinewidth": 0,
             "ticks": ""
            },
            "type": "contourcarpet"
           }
          ],
          "heatmap": [
           {
            "colorbar": {
             "outlinewidth": 0,
             "ticks": ""
            },
            "colorscale": [
             [
              0,
              "#0d0887"
             ],
             [
              0.1111111111111111,
              "#46039f"
             ],
             [
              0.2222222222222222,
              "#7201a8"
             ],
             [
              0.3333333333333333,
              "#9c179e"
             ],
             [
              0.4444444444444444,
              "#bd3786"
             ],
             [
              0.5555555555555556,
              "#d8576b"
             ],
             [
              0.6666666666666666,
              "#ed7953"
             ],
             [
              0.7777777777777778,
              "#fb9f3a"
             ],
             [
              0.8888888888888888,
              "#fdca26"
             ],
             [
              1,
              "#f0f921"
             ]
            ],
            "type": "heatmap"
           }
          ],
          "heatmapgl": [
           {
            "colorbar": {
             "outlinewidth": 0,
             "ticks": ""
            },
            "colorscale": [
             [
              0,
              "#0d0887"
             ],
             [
              0.1111111111111111,
              "#46039f"
             ],
             [
              0.2222222222222222,
              "#7201a8"
             ],
             [
              0.3333333333333333,
              "#9c179e"
             ],
             [
              0.4444444444444444,
              "#bd3786"
             ],
             [
              0.5555555555555556,
              "#d8576b"
             ],
             [
              0.6666666666666666,
              "#ed7953"
             ],
             [
              0.7777777777777778,
              "#fb9f3a"
             ],
             [
              0.8888888888888888,
              "#fdca26"
             ],
             [
              1,
              "#f0f921"
             ]
            ],
            "type": "heatmapgl"
           }
          ],
          "histogram": [
           {
            "marker": {
             "colorbar": {
              "outlinewidth": 0,
              "ticks": ""
             }
            },
            "type": "histogram"
           }
          ],
          "histogram2d": [
           {
            "colorbar": {
             "outlinewidth": 0,
             "ticks": ""
            },
            "colorscale": [
             [
              0,
              "#0d0887"
             ],
             [
              0.1111111111111111,
              "#46039f"
             ],
             [
              0.2222222222222222,
              "#7201a8"
             ],
             [
              0.3333333333333333,
              "#9c179e"
             ],
             [
              0.4444444444444444,
              "#bd3786"
             ],
             [
              0.5555555555555556,
              "#d8576b"
             ],
             [
              0.6666666666666666,
              "#ed7953"
             ],
             [
              0.7777777777777778,
              "#fb9f3a"
             ],
             [
              0.8888888888888888,
              "#fdca26"
             ],
             [
              1,
              "#f0f921"
             ]
            ],
            "type": "histogram2d"
           }
          ],
          "histogram2dcontour": [
           {
            "colorbar": {
             "outlinewidth": 0,
             "ticks": ""
            },
            "colorscale": [
             [
              0,
              "#0d0887"
             ],
             [
              0.1111111111111111,
              "#46039f"
             ],
             [
              0.2222222222222222,
              "#7201a8"
             ],
             [
              0.3333333333333333,
              "#9c179e"
             ],
             [
              0.4444444444444444,
              "#bd3786"
             ],
             [
              0.5555555555555556,
              "#d8576b"
             ],
             [
              0.6666666666666666,
              "#ed7953"
             ],
             [
              0.7777777777777778,
              "#fb9f3a"
             ],
             [
              0.8888888888888888,
              "#fdca26"
             ],
             [
              1,
              "#f0f921"
             ]
            ],
            "type": "histogram2dcontour"
           }
          ],
          "mesh3d": [
           {
            "colorbar": {
             "outlinewidth": 0,
             "ticks": ""
            },
            "type": "mesh3d"
           }
          ],
          "parcoords": [
           {
            "line": {
             "colorbar": {
              "outlinewidth": 0,
              "ticks": ""
             }
            },
            "type": "parcoords"
           }
          ],
          "pie": [
           {
            "automargin": true,
            "type": "pie"
           }
          ],
          "scatter": [
           {
            "marker": {
             "colorbar": {
              "outlinewidth": 0,
              "ticks": ""
             }
            },
            "type": "scatter"
           }
          ],
          "scatter3d": [
           {
            "line": {
             "colorbar": {
              "outlinewidth": 0,
              "ticks": ""
             }
            },
            "marker": {
             "colorbar": {
              "outlinewidth": 0,
              "ticks": ""
             }
            },
            "type": "scatter3d"
           }
          ],
          "scattercarpet": [
           {
            "marker": {
             "colorbar": {
              "outlinewidth": 0,
              "ticks": ""
             }
            },
            "type": "scattercarpet"
           }
          ],
          "scattergeo": [
           {
            "marker": {
             "colorbar": {
              "outlinewidth": 0,
              "ticks": ""
             }
            },
            "type": "scattergeo"
           }
          ],
          "scattergl": [
           {
            "marker": {
             "colorbar": {
              "outlinewidth": 0,
              "ticks": ""
             }
            },
            "type": "scattergl"
           }
          ],
          "scattermapbox": [
           {
            "marker": {
             "colorbar": {
              "outlinewidth": 0,
              "ticks": ""
             }
            },
            "type": "scattermapbox"
           }
          ],
          "scatterpolar": [
           {
            "marker": {
             "colorbar": {
              "outlinewidth": 0,
              "ticks": ""
             }
            },
            "type": "scatterpolar"
           }
          ],
          "scatterpolargl": [
           {
            "marker": {
             "colorbar": {
              "outlinewidth": 0,
              "ticks": ""
             }
            },
            "type": "scatterpolargl"
           }
          ],
          "scatterternary": [
           {
            "marker": {
             "colorbar": {
              "outlinewidth": 0,
              "ticks": ""
             }
            },
            "type": "scatterternary"
           }
          ],
          "surface": [
           {
            "colorbar": {
             "outlinewidth": 0,
             "ticks": ""
            },
            "colorscale": [
             [
              0,
              "#0d0887"
             ],
             [
              0.1111111111111111,
              "#46039f"
             ],
             [
              0.2222222222222222,
              "#7201a8"
             ],
             [
              0.3333333333333333,
              "#9c179e"
             ],
             [
              0.4444444444444444,
              "#bd3786"
             ],
             [
              0.5555555555555556,
              "#d8576b"
             ],
             [
              0.6666666666666666,
              "#ed7953"
             ],
             [
              0.7777777777777778,
              "#fb9f3a"
             ],
             [
              0.8888888888888888,
              "#fdca26"
             ],
             [
              1,
              "#f0f921"
             ]
            ],
            "type": "surface"
           }
          ],
          "table": [
           {
            "cells": {
             "fill": {
              "color": "#EBF0F8"
             },
             "line": {
              "color": "white"
             }
            },
            "header": {
             "fill": {
              "color": "#C8D4E3"
             },
             "line": {
              "color": "white"
             }
            },
            "type": "table"
           }
          ]
         },
         "layout": {
          "annotationdefaults": {
           "arrowcolor": "#2a3f5f",
           "arrowhead": 0,
           "arrowwidth": 1
          },
          "autotypenumbers": "strict",
          "coloraxis": {
           "colorbar": {
            "outlinewidth": 0,
            "ticks": ""
           }
          },
          "colorscale": {
           "diverging": [
            [
             0,
             "#8e0152"
            ],
            [
             0.1,
             "#c51b7d"
            ],
            [
             0.2,
             "#de77ae"
            ],
            [
             0.3,
             "#f1b6da"
            ],
            [
             0.4,
             "#fde0ef"
            ],
            [
             0.5,
             "#f7f7f7"
            ],
            [
             0.6,
             "#e6f5d0"
            ],
            [
             0.7,
             "#b8e186"
            ],
            [
             0.8,
             "#7fbc41"
            ],
            [
             0.9,
             "#4d9221"
            ],
            [
             1,
             "#276419"
            ]
           ],
           "sequential": [
            [
             0,
             "#0d0887"
            ],
            [
             0.1111111111111111,
             "#46039f"
            ],
            [
             0.2222222222222222,
             "#7201a8"
            ],
            [
             0.3333333333333333,
             "#9c179e"
            ],
            [
             0.4444444444444444,
             "#bd3786"
            ],
            [
             0.5555555555555556,
             "#d8576b"
            ],
            [
             0.6666666666666666,
             "#ed7953"
            ],
            [
             0.7777777777777778,
             "#fb9f3a"
            ],
            [
             0.8888888888888888,
             "#fdca26"
            ],
            [
             1,
             "#f0f921"
            ]
           ],
           "sequentialminus": [
            [
             0,
             "#0d0887"
            ],
            [
             0.1111111111111111,
             "#46039f"
            ],
            [
             0.2222222222222222,
             "#7201a8"
            ],
            [
             0.3333333333333333,
             "#9c179e"
            ],
            [
             0.4444444444444444,
             "#bd3786"
            ],
            [
             0.5555555555555556,
             "#d8576b"
            ],
            [
             0.6666666666666666,
             "#ed7953"
            ],
            [
             0.7777777777777778,
             "#fb9f3a"
            ],
            [
             0.8888888888888888,
             "#fdca26"
            ],
            [
             1,
             "#f0f921"
            ]
           ]
          },
          "colorway": [
           "#636efa",
           "#EF553B",
           "#00cc96",
           "#ab63fa",
           "#FFA15A",
           "#19d3f3",
           "#FF6692",
           "#B6E880",
           "#FF97FF",
           "#FECB52"
          ],
          "font": {
           "color": "#2a3f5f"
          },
          "geo": {
           "bgcolor": "white",
           "lakecolor": "white",
           "landcolor": "#E5ECF6",
           "showlakes": true,
           "showland": true,
           "subunitcolor": "white"
          },
          "hoverlabel": {
           "align": "left"
          },
          "hovermode": "closest",
          "mapbox": {
           "style": "light"
          },
          "paper_bgcolor": "white",
          "plot_bgcolor": "#E5ECF6",
          "polar": {
           "angularaxis": {
            "gridcolor": "white",
            "linecolor": "white",
            "ticks": ""
           },
           "bgcolor": "#E5ECF6",
           "radialaxis": {
            "gridcolor": "white",
            "linecolor": "white",
            "ticks": ""
           }
          },
          "scene": {
           "xaxis": {
            "backgroundcolor": "#E5ECF6",
            "gridcolor": "white",
            "gridwidth": 2,
            "linecolor": "white",
            "showbackground": true,
            "ticks": "",
            "zerolinecolor": "white"
           },
           "yaxis": {
            "backgroundcolor": "#E5ECF6",
            "gridcolor": "white",
            "gridwidth": 2,
            "linecolor": "white",
            "showbackground": true,
            "ticks": "",
            "zerolinecolor": "white"
           },
           "zaxis": {
            "backgroundcolor": "#E5ECF6",
            "gridcolor": "white",
            "gridwidth": 2,
            "linecolor": "white",
            "showbackground": true,
            "ticks": "",
            "zerolinecolor": "white"
           }
          },
          "shapedefaults": {
           "line": {
            "color": "#2a3f5f"
           }
          },
          "ternary": {
           "aaxis": {
            "gridcolor": "white",
            "linecolor": "white",
            "ticks": ""
           },
           "baxis": {
            "gridcolor": "white",
            "linecolor": "white",
            "ticks": ""
           },
           "bgcolor": "#E5ECF6",
           "caxis": {
            "gridcolor": "white",
            "linecolor": "white",
            "ticks": ""
           }
          },
          "title": {
           "x": 0.05
          },
          "xaxis": {
           "automargin": true,
           "gridcolor": "white",
           "linecolor": "white",
           "ticks": "",
           "title": {
            "standoff": 15
           },
           "zerolinecolor": "white",
           "zerolinewidth": 2
          },
          "yaxis": {
           "automargin": true,
           "gridcolor": "white",
           "linecolor": "white",
           "ticks": "",
           "title": {
            "standoff": 15
           },
           "zerolinecolor": "white",
           "zerolinewidth": 2
          }
         }
        },
        "title": {
         "font": {
          "size": 20
         },
         "text": "Vaccination progress in South America"
        },
        "xaxis": {
         "anchor": "y",
         "domain": [
          0,
          1
         ],
         "title": {
          "text": "date"
         }
        },
        "yaxis": {
         "anchor": "x",
         "domain": [
          0,
          1
         ],
         "title": {
          "text": "People fully vaccinated per hundred"
         }
        }
       }
      },
      "text/html": [
       "<div>                            <div id=\"32b7afc4-33be-468a-8b26-1f7504bae3c3\" class=\"plotly-graph-div\" style=\"height:525px; width:100%;\"></div>            <script type=\"text/javascript\">                require([\"plotly\"], function(Plotly) {                    window.PLOTLYENV=window.PLOTLYENV || {};                                    if (document.getElementById(\"32b7afc4-33be-468a-8b26-1f7504bae3c3\")) {                    Plotly.newPlot(                        \"32b7afc4-33be-468a-8b26-1f7504bae3c3\",                        [{\"hovertemplate\": \"<b>%{text}</b><br>Fully vaccinated per 100: <b>%{y:.2f}</b><br><extra>%{x}</extra>\", \"legendgroup\": \"Argentina\", \"line\": {\"color\": \"#636efa\", \"dash\": \"solid\"}, \"mode\": \"markers+lines\", \"name\": \"Argentina\", \"showlegend\": true, \"text\": [\"Argentina\", \"Argentina\", \"Argentina\", \"Argentina\", \"Argentina\", \"Argentina\", \"Argentina\", \"Argentina\", \"Argentina\", \"Argentina\", \"Argentina\", \"Argentina\", \"Argentina\", \"Argentina\", \"Argentina\", \"Argentina\", \"Argentina\", \"Argentina\", \"Argentina\", \"Argentina\", \"Argentina\", \"Argentina\", \"Argentina\", \"Argentina\", \"Argentina\", \"Argentina\", \"Argentina\", \"Argentina\", \"Argentina\", \"Argentina\", \"Argentina\", \"Argentina\", \"Argentina\", \"Argentina\", \"Argentina\", \"Argentina\", \"Argentina\", \"Argentina\", \"Argentina\", \"Argentina\", \"Argentina\", \"Argentina\", \"Argentina\", \"Argentina\", \"Argentina\", \"Argentina\", \"Argentina\", \"Argentina\", \"Argentina\", \"Argentina\", \"Argentina\", \"Argentina\", \"Argentina\", \"Argentina\", \"Argentina\", \"Argentina\", \"Argentina\", \"Argentina\", \"Argentina\", \"Argentina\", \"Argentina\", \"Argentina\", \"Argentina\", \"Argentina\", \"Argentina\", \"Argentina\", \"Argentina\", \"Argentina\", \"Argentina\", \"Argentina\", \"Argentina\", \"Argentina\", \"Argentina\", \"Argentina\", \"Argentina\", \"Argentina\", \"Argentina\", \"Argentina\", \"Argentina\", \"Argentina\", \"Argentina\", \"Argentina\", \"Argentina\", \"Argentina\", \"Argentina\", \"Argentina\", \"Argentina\", \"Argentina\", \"Argentina\", \"Argentina\", \"Argentina\", \"Argentina\", \"Argentina\", \"Argentina\", \"Argentina\", \"Argentina\", \"Argentina\", \"Argentina\", \"Argentina\", \"Argentina\", \"Argentina\", \"Argentina\", \"Argentina\", \"Argentina\", \"Argentina\", \"Argentina\", \"Argentina\", \"Argentina\", \"Argentina\", \"Argentina\", \"Argentina\", \"Argentina\", \"Argentina\", \"Argentina\", \"Argentina\", \"Argentina\", \"Argentina\", \"Argentina\", \"Argentina\", \"Argentina\", \"Argentina\", \"Argentina\", \"Argentina\", \"Argentina\", \"Argentina\", \"Argentina\", \"Argentina\", \"Argentina\", \"Argentina\", \"Argentina\", \"Argentina\", \"Argentina\", \"Argentina\", \"Argentina\", \"Argentina\", \"Argentina\", \"Argentina\", \"Argentina\", \"Argentina\", \"Argentina\", \"Argentina\", \"Argentina\", \"Argentina\", \"Argentina\", \"Argentina\", \"Argentina\", \"Argentina\", \"Argentina\", \"Argentina\", \"Argentina\", \"Argentina\", \"Argentina\", \"Argentina\", \"Argentina\", \"Argentina\", \"Argentina\", \"Argentina\", \"Argentina\", \"Argentina\", \"Argentina\", \"Argentina\", \"Argentina\", \"Argentina\", \"Argentina\", \"Argentina\", \"Argentina\"], \"type\": \"scattergl\", \"x\": [\"2021-01-20\", \"2021-01-21\", \"2021-01-22\", \"2021-01-23\", \"2021-01-24\", \"2021-01-25\", \"2021-01-26\", \"2021-01-27\", \"2021-01-28\", \"2021-01-29\", \"2021-01-30\", \"2021-01-31\", \"2021-02-01\", \"2021-02-02\", \"2021-02-03\", \"2021-02-04\", \"2021-02-05\", \"2021-02-06\", \"2021-02-07\", \"2021-02-08\", \"2021-02-09\", \"2021-02-10\", \"2021-02-11\", \"2021-02-12\", \"2021-02-13\", \"2021-02-14\", \"2021-02-15\", \"2021-02-16\", \"2021-02-17\", \"2021-02-18\", \"2021-02-19\", \"2021-02-20\", \"2021-02-21\", \"2021-02-22\", \"2021-02-23\", \"2021-02-24\", \"2021-02-25\", \"2021-02-26\", \"2021-02-27\", \"2021-02-28\", \"2021-03-01\", \"2021-03-02\", \"2021-03-03\", \"2021-03-04\", \"2021-03-05\", \"2021-03-06\", \"2021-03-07\", \"2021-03-08\", \"2021-03-09\", \"2021-03-10\", \"2021-03-11\", \"2021-03-12\", \"2021-03-13\", \"2021-03-14\", \"2021-03-15\", \"2021-03-16\", \"2021-03-17\", \"2021-03-18\", \"2021-03-19\", \"2021-03-20\", \"2021-03-21\", \"2021-03-22\", \"2021-03-23\", \"2021-03-24\", \"2021-03-25\", \"2021-03-26\", \"2021-03-27\", \"2021-03-28\", \"2021-03-29\", \"2021-03-30\", \"2021-03-31\", \"2021-04-01\", \"2021-04-02\", \"2021-04-03\", \"2021-04-04\", \"2021-04-05\", \"2021-04-06\", \"2021-04-07\", \"2021-04-08\", \"2021-04-09\", \"2021-04-10\", \"2021-04-11\", \"2021-04-12\", \"2021-04-13\", \"2021-04-14\", \"2021-04-15\", \"2021-04-16\", \"2021-04-17\", \"2021-04-18\", \"2021-04-19\", \"2021-04-20\", \"2021-04-21\", \"2021-04-22\", \"2021-04-23\", \"2021-04-24\", \"2021-04-25\", \"2021-04-26\", \"2021-04-27\", \"2021-04-28\", \"2021-04-29\", \"2021-04-30\", \"2021-05-01\", \"2021-05-02\", \"2021-05-03\", \"2021-05-04\", \"2021-05-05\", \"2021-05-06\", \"2021-05-07\", \"2021-05-08\", \"2021-05-09\", \"2021-05-10\", \"2021-05-11\", \"2021-05-12\", \"2021-05-13\", \"2021-05-14\", \"2021-05-15\", \"2021-05-16\", \"2021-05-17\", \"2021-05-18\", \"2021-05-19\", \"2021-05-20\", \"2021-05-21\", \"2021-05-22\", \"2021-05-23\", \"2021-05-24\", \"2021-05-25\", \"2021-05-26\", \"2021-05-27\", \"2021-05-28\", \"2021-05-29\", \"2021-05-30\", \"2021-05-31\", \"2021-06-01\", \"2021-06-02\", \"2021-06-03\", \"2021-06-04\", \"2021-06-05\", \"2021-06-06\", \"2021-06-07\", \"2021-06-08\", \"2021-06-09\", \"2021-06-10\", \"2021-06-11\", \"2021-06-12\", \"2021-06-13\", \"2021-06-14\", \"2021-06-15\", \"2021-06-16\", \"2021-06-17\", \"2021-06-18\", \"2021-06-19\", \"2021-06-20\", \"2021-06-21\", \"2021-06-22\", \"2021-06-23\", \"2021-06-24\", \"2021-06-25\", \"2021-06-26\", \"2021-06-27\", \"2021-06-28\", \"2021-06-29\", \"2021-06-30\", \"2021-07-01\", \"2021-07-02\", \"2021-07-03\", \"2021-07-04\"], \"xaxis\": \"x\", \"y\": [0.01, 0.04, 0.06, 0.06, 0.07, 0.07, 0.09, 0.1, 0.11, 0.15, 0.19, 0.19, 0.21, 0.21, 0.25, 0.32, 0.32, 0.36, 0.4, 0.42, 0.42, 0.44, 0.47, 0.49, 0.52, 0.53, 0.53, 0.53, 0.53, 0.54, 0.56, 0.58, 0.58, 0.58, 0.59, 0.59, 0.6, 0.63, 0.64, 0.65, 0.65, 0.67, 0.68, 0.69, 0.72, 0.72, 0.76, 0.76, 0.77, 0.77, 0.78, 0.84, 0.93, 0.99, 1.0, 1.06, 1.1, 1.14, 1.23, 1.31, 1.34, 1.34, 1.38, 1.4, 1.41, 1.44, 1.46, 1.47, 1.47, 1.48, 1.5, 1.51, 1.51, 1.51, 1.51, 1.51, 1.53, 1.55, 1.56, 1.57, 1.6, 1.61, 1.61, 1.63, 1.68, 1.71, 1.74, 1.76, 1.77, 1.77, 1.8, 1.83, 1.86, 1.89, 1.92, 1.93, 1.93, 1.95, 1.96, 2.01, 2.08, 2.14, 2.15, 2.19, 2.32, 2.5, 2.64, 2.8, 2.97, 3.08, 3.11, 3.2, 3.36, 3.61, 3.87, 4.14, 4.21, 4.32, 4.54, 4.66, 4.76, 4.93, 5.13, 5.23, 5.34, 5.39, 5.43, 5.57, 5.74, 5.97, 6.1, 6.15, 6.26, 6.36, 6.46, 6.54, 6.63, 6.68, 6.74, 6.83, 6.91, 6.97, 7.02, 7.13, 7.29, 7.39, 7.57, 7.72, 7.88, 8.02, 8.11, 8.16, 8.17, 8.23, 8.32, 8.39, 8.48, 8.59, 8.67, 8.76, 8.83, 8.94, 9.04, 9.3, 9.52, 9.7], \"yaxis\": \"y\"}, {\"hovertemplate\": \"<b>%{text}</b><br>Fully vaccinated per 100: <b>%{y:.2f}</b><br><extra>%{x}</extra>\", \"legendgroup\": \"Bolivia\", \"line\": {\"color\": \"#EF553B\", \"dash\": \"solid\"}, \"mode\": \"markers+lines\", \"name\": \"Bolivia\", \"showlegend\": true, \"text\": [\"Bolivia\", \"Bolivia\", \"Bolivia\", \"Bolivia\", \"Bolivia\", \"Bolivia\", \"Bolivia\", \"Bolivia\", \"Bolivia\", \"Bolivia\", \"Bolivia\", \"Bolivia\", \"Bolivia\", \"Bolivia\", \"Bolivia\", \"Bolivia\", \"Bolivia\", \"Bolivia\", \"Bolivia\", \"Bolivia\", \"Bolivia\", \"Bolivia\", \"Bolivia\", \"Bolivia\", \"Bolivia\", \"Bolivia\", \"Bolivia\", \"Bolivia\", \"Bolivia\", \"Bolivia\", \"Bolivia\", \"Bolivia\", \"Bolivia\", \"Bolivia\", \"Bolivia\", \"Bolivia\", \"Bolivia\", \"Bolivia\", \"Bolivia\", \"Bolivia\", \"Bolivia\", \"Bolivia\", \"Bolivia\", \"Bolivia\", \"Bolivia\", \"Bolivia\", \"Bolivia\", \"Bolivia\", \"Bolivia\", \"Bolivia\", \"Bolivia\", \"Bolivia\", \"Bolivia\", \"Bolivia\", \"Bolivia\", \"Bolivia\", \"Bolivia\", \"Bolivia\", \"Bolivia\", \"Bolivia\", \"Bolivia\", \"Bolivia\", \"Bolivia\", \"Bolivia\", \"Bolivia\", \"Bolivia\", \"Bolivia\", \"Bolivia\", \"Bolivia\", \"Bolivia\", \"Bolivia\", \"Bolivia\", \"Bolivia\", \"Bolivia\", \"Bolivia\", \"Bolivia\", \"Bolivia\", \"Bolivia\", \"Bolivia\", \"Bolivia\", \"Bolivia\", \"Bolivia\", \"Bolivia\", \"Bolivia\", \"Bolivia\", \"Bolivia\", \"Bolivia\", \"Bolivia\", \"Bolivia\", \"Bolivia\", \"Bolivia\", \"Bolivia\", \"Bolivia\", \"Bolivia\", \"Bolivia\", \"Bolivia\", \"Bolivia\", \"Bolivia\", \"Bolivia\", \"Bolivia\", \"Bolivia\", \"Bolivia\", \"Bolivia\", \"Bolivia\", \"Bolivia\", \"Bolivia\", \"Bolivia\", \"Bolivia\", \"Bolivia\", \"Bolivia\", \"Bolivia\", \"Bolivia\", \"Bolivia\", \"Bolivia\", \"Bolivia\", \"Bolivia\", \"Bolivia\", \"Bolivia\", \"Bolivia\", \"Bolivia\", \"Bolivia\", \"Bolivia\", \"Bolivia\"], \"type\": \"scattergl\", \"x\": [\"2021-03-02\", \"2021-03-03\", \"2021-03-04\", \"2021-03-05\", \"2021-03-06\", \"2021-03-07\", \"2021-03-08\", \"2021-03-09\", \"2021-03-10\", \"2021-03-11\", \"2021-03-12\", \"2021-03-13\", \"2021-03-14\", \"2021-03-15\", \"2021-03-16\", \"2021-03-17\", \"2021-03-18\", \"2021-03-19\", \"2021-03-20\", \"2021-03-21\", \"2021-03-22\", \"2021-03-23\", \"2021-03-24\", \"2021-03-25\", \"2021-03-26\", \"2021-03-27\", \"2021-03-28\", \"2021-03-29\", \"2021-03-30\", \"2021-03-31\", \"2021-04-01\", \"2021-04-02\", \"2021-04-03\", \"2021-04-04\", \"2021-04-05\", \"2021-04-06\", \"2021-04-07\", \"2021-04-08\", \"2021-04-09\", \"2021-04-10\", \"2021-04-11\", \"2021-04-12\", \"2021-04-13\", \"2021-04-14\", \"2021-04-15\", \"2021-04-16\", \"2021-04-17\", \"2021-04-18\", \"2021-04-19\", \"2021-04-20\", \"2021-04-21\", \"2021-04-22\", \"2021-04-23\", \"2021-04-24\", \"2021-04-25\", \"2021-04-26\", \"2021-04-27\", \"2021-04-28\", \"2021-04-29\", \"2021-04-30\", \"2021-05-01\", \"2021-05-02\", \"2021-05-03\", \"2021-05-04\", \"2021-05-05\", \"2021-05-06\", \"2021-05-07\", \"2021-05-08\", \"2021-05-09\", \"2021-05-10\", \"2021-05-11\", \"2021-05-12\", \"2021-05-13\", \"2021-05-14\", \"2021-05-15\", \"2021-05-16\", \"2021-05-17\", \"2021-05-18\", \"2021-05-19\", \"2021-05-20\", \"2021-05-21\", \"2021-05-22\", \"2021-05-23\", \"2021-05-24\", \"2021-05-25\", \"2021-05-26\", \"2021-05-27\", \"2021-05-28\", \"2021-05-29\", \"2021-05-30\", \"2021-05-31\", \"2021-06-01\", \"2021-06-02\", \"2021-06-03\", \"2021-06-04\", \"2021-06-05\", \"2021-06-06\", \"2021-06-07\", \"2021-06-08\", \"2021-06-09\", \"2021-06-10\", \"2021-06-11\", \"2021-06-12\", \"2021-06-13\", \"2021-06-14\", \"2021-06-15\", \"2021-06-16\", \"2021-06-17\", \"2021-06-18\", \"2021-06-19\", \"2021-06-20\", \"2021-06-21\", \"2021-06-22\", \"2021-06-23\", \"2021-06-24\", \"2021-06-25\", \"2021-06-26\", \"2021-06-27\", \"2021-06-28\", \"2021-06-29\", \"2021-06-30\", \"2021-07-01\", \"2021-07-02\"], \"xaxis\": \"x\", \"y\": [0.08, 0.08, 0.08, 0.08, 0.08, 0.08, 0.08, 0.08, 0.08, 0.09, 0.09, 0.09, 0.09, 0.09, 0.09, 0.09, 0.1, 0.15, 0.16, 0.17, 0.24, 0.36, 0.49, 0.61, 0.74, 0.76, 0.76, 0.82, 0.88, 0.94, 0.99, 0.99, 1.0, 1.0, 1.06, 1.1, 1.14, 1.17, 1.21, 1.21, 1.21, 1.24, 1.27, 1.31, 1.36, 1.41, 1.42, 1.42, 1.47, 1.52, 1.57, 1.62, 1.63, 1.63, 1.64, 1.7, 1.76, 1.84, 1.84, 1.84, 2.0, 2.0, 2.06, 2.11, 2.16, 2.2, 2.25, 2.26, 2.27, 2.31, 2.34, 2.37, 2.37, 2.4, 2.43, 2.44, 2.45, 2.5, 2.5, 2.5, 2.54, 2.56, 2.57, 2.59, 2.68, 2.79, 2.91, 2.96, 2.97, 2.97, 3.0, 3.02, 3.04, 3.05, 3.18, 3.21, 3.22, 3.49, 3.49, 3.85, 3.85, 3.85, 4.48, 4.5, 4.5, 4.67, 4.67, 4.77, 4.85, 4.85, 4.85, 5.02, 5.02, 5.02, 5.02, 5.02, 5.02, 5.02, 5.67, 5.67, 5.93, 5.93, 6.17], \"yaxis\": \"y\"}, {\"hovertemplate\": \"<b>%{text}</b><br>Fully vaccinated per 100: <b>%{y:.2f}</b><br><extra>%{x}</extra>\", \"legendgroup\": \"Chile\", \"line\": {\"color\": \"#00cc96\", \"dash\": \"solid\"}, \"mode\": \"markers+lines\", \"name\": \"Chile\", \"showlegend\": true, \"text\": [\"Chile\", \"Chile\", \"Chile\", \"Chile\", \"Chile\", \"Chile\", \"Chile\", \"Chile\", \"Chile\", \"Chile\", \"Chile\", \"Chile\", \"Chile\", \"Chile\", \"Chile\", \"Chile\", \"Chile\", \"Chile\", \"Chile\", \"Chile\", \"Chile\", \"Chile\", \"Chile\", \"Chile\", \"Chile\", \"Chile\", \"Chile\", \"Chile\", \"Chile\", \"Chile\", \"Chile\", \"Chile\", \"Chile\", \"Chile\", \"Chile\", \"Chile\", \"Chile\", \"Chile\", \"Chile\", \"Chile\", \"Chile\", \"Chile\", \"Chile\", \"Chile\", \"Chile\", \"Chile\", \"Chile\", \"Chile\", \"Chile\", \"Chile\", \"Chile\", \"Chile\", \"Chile\", \"Chile\", \"Chile\", \"Chile\", \"Chile\", \"Chile\", \"Chile\", \"Chile\", \"Chile\", \"Chile\", \"Chile\", \"Chile\", \"Chile\", \"Chile\", \"Chile\", \"Chile\", \"Chile\", \"Chile\", \"Chile\", \"Chile\", \"Chile\", \"Chile\", \"Chile\", \"Chile\", \"Chile\", \"Chile\", \"Chile\", \"Chile\", \"Chile\", \"Chile\", \"Chile\", \"Chile\", \"Chile\", \"Chile\", \"Chile\", \"Chile\", \"Chile\", \"Chile\", \"Chile\", \"Chile\", \"Chile\", \"Chile\", \"Chile\", \"Chile\", \"Chile\", \"Chile\", \"Chile\", \"Chile\", \"Chile\", \"Chile\", \"Chile\", \"Chile\", \"Chile\", \"Chile\", \"Chile\", \"Chile\", \"Chile\", \"Chile\", \"Chile\", \"Chile\", \"Chile\", \"Chile\", \"Chile\", \"Chile\", \"Chile\", \"Chile\", \"Chile\", \"Chile\", \"Chile\", \"Chile\", \"Chile\", \"Chile\", \"Chile\", \"Chile\", \"Chile\", \"Chile\", \"Chile\", \"Chile\", \"Chile\", \"Chile\", \"Chile\", \"Chile\", \"Chile\", \"Chile\", \"Chile\", \"Chile\", \"Chile\", \"Chile\", \"Chile\", \"Chile\", \"Chile\", \"Chile\", \"Chile\", \"Chile\", \"Chile\", \"Chile\", \"Chile\", \"Chile\", \"Chile\", \"Chile\", \"Chile\", \"Chile\", \"Chile\", \"Chile\", \"Chile\", \"Chile\", \"Chile\", \"Chile\", \"Chile\", \"Chile\", \"Chile\", \"Chile\", \"Chile\", \"Chile\", \"Chile\", \"Chile\", \"Chile\"], \"type\": \"scattergl\", \"x\": [\"2021-01-13\", \"2021-01-14\", \"2021-01-15\", \"2021-01-16\", \"2021-01-17\", \"2021-01-18\", \"2021-01-19\", \"2021-01-20\", \"2021-01-21\", \"2021-01-22\", \"2021-01-23\", \"2021-01-24\", \"2021-01-25\", \"2021-01-26\", \"2021-01-27\", \"2021-01-28\", \"2021-01-29\", \"2021-01-30\", \"2021-01-31\", \"2021-02-01\", \"2021-02-02\", \"2021-02-03\", \"2021-02-04\", \"2021-02-05\", \"2021-02-06\", \"2021-02-07\", \"2021-02-08\", \"2021-02-09\", \"2021-02-10\", \"2021-02-11\", \"2021-02-12\", \"2021-02-13\", \"2021-02-14\", \"2021-02-15\", \"2021-02-16\", \"2021-02-17\", \"2021-02-18\", \"2021-02-19\", \"2021-02-20\", \"2021-02-21\", \"2021-02-22\", \"2021-02-23\", \"2021-02-24\", \"2021-02-25\", \"2021-02-26\", \"2021-02-27\", \"2021-02-28\", \"2021-03-01\", \"2021-03-02\", \"2021-03-03\", \"2021-03-04\", \"2021-03-05\", \"2021-03-06\", \"2021-03-07\", \"2021-03-08\", \"2021-03-09\", \"2021-03-10\", \"2021-03-11\", \"2021-03-12\", \"2021-03-13\", \"2021-03-14\", \"2021-03-15\", \"2021-03-16\", \"2021-03-17\", \"2021-03-18\", \"2021-03-19\", \"2021-03-20\", \"2021-03-21\", \"2021-03-22\", \"2021-03-23\", \"2021-03-24\", \"2021-03-25\", \"2021-03-26\", \"2021-03-27\", \"2021-03-28\", \"2021-03-29\", \"2021-03-30\", \"2021-03-31\", \"2021-04-01\", \"2021-04-02\", \"2021-04-03\", \"2021-04-04\", \"2021-04-05\", \"2021-04-06\", \"2021-04-07\", \"2021-04-08\", \"2021-04-09\", \"2021-04-10\", \"2021-04-11\", \"2021-04-12\", \"2021-04-13\", \"2021-04-14\", \"2021-04-15\", \"2021-04-16\", \"2021-04-17\", \"2021-04-18\", \"2021-04-19\", \"2021-04-20\", \"2021-04-21\", \"2021-04-22\", \"2021-04-23\", \"2021-04-24\", \"2021-04-25\", \"2021-04-26\", \"2021-04-27\", \"2021-04-28\", \"2021-04-29\", \"2021-04-30\", \"2021-05-01\", \"2021-05-02\", \"2021-05-03\", \"2021-05-04\", \"2021-05-05\", \"2021-05-06\", \"2021-05-07\", \"2021-05-08\", \"2021-05-09\", \"2021-05-10\", \"2021-05-11\", \"2021-05-12\", \"2021-05-13\", \"2021-05-14\", \"2021-05-15\", \"2021-05-16\", \"2021-05-17\", \"2021-05-18\", \"2021-05-19\", \"2021-05-20\", \"2021-05-21\", \"2021-05-22\", \"2021-05-23\", \"2021-05-24\", \"2021-05-25\", \"2021-05-26\", \"2021-05-27\", \"2021-05-28\", \"2021-05-29\", \"2021-05-30\", \"2021-05-31\", \"2021-06-01\", \"2021-06-02\", \"2021-06-03\", \"2021-06-04\", \"2021-06-05\", \"2021-06-06\", \"2021-06-07\", \"2021-06-08\", \"2021-06-09\", \"2021-06-10\", \"2021-06-11\", \"2021-06-12\", \"2021-06-13\", \"2021-06-14\", \"2021-06-15\", \"2021-06-16\", \"2021-06-17\", \"2021-06-18\", \"2021-06-19\", \"2021-06-20\", \"2021-06-21\", \"2021-06-22\", \"2021-06-23\", \"2021-06-24\", \"2021-06-25\", \"2021-06-26\", \"2021-06-27\", \"2021-06-28\", \"2021-06-29\", \"2021-06-30\"], \"xaxis\": \"x\", \"y\": [0.01, 0.03, 0.04, 0.04, 0.04, 0.04, 0.04, 0.04, 0.04, 0.04, 0.04, 0.04, 0.05, 0.05, 0.05, 0.05, 0.05, 0.05, 0.05, 0.05, 0.05, 0.05, 0.07, 0.07, 0.07, 0.07, 0.13, 0.23, 0.28, 0.29, 0.29, 0.29, 0.29, 0.29, 0.29, 0.29, 0.29, 0.29, 0.29, 0.29, 0.29, 0.29, 0.29, 0.29, 0.29, 0.29, 0.29, 0.3, 0.36, 1.17, 2.03, 2.88, 3.01, 3.04, 4.16, 5.4, 6.79, 8.08, 9.24, 9.38, 9.4, 10.83, 12.1, 13.23, 14.2, 15.01, 15.07, 15.08, 15.72, 16.19, 16.53, 16.82, 17.08, 17.1, 17.1, 17.7, 18.46, 19.26, 20.14, 20.17, 20.18, 20.18, 21.25, 22.02, 22.74, 23.59, 24.37, 24.44, 24.45, 25.28, 26.12, 26.9, 27.65, 28.35, 28.42, 28.43, 29.21, 29.97, 30.73, 31.48, 32.23, 32.29, 32.3, 33.1, 33.78, 34.44, 35.09, 35.28, 35.28, 35.29, 35.68, 36.14, 36.63, 37.03, 37.36, 37.4, 37.4, 37.77, 38.21, 38.62, 38.93, 39.22, 39.23, 39.23, 39.47, 39.72, 39.93, 40.26, 40.27, 40.3, 40.31, 40.62, 40.92, 41.17, 41.36, 41.57, 41.6, 41.61, 41.92, 42.35, 42.84, 43.41, 43.94, 44.06, 44.08, 44.75, 45.39, 46.0, 46.56, 47.07, 47.13, 47.13, 47.74, 48.39, 49.02, 49.6, 49.84, 49.94, 49.95, 50.01, 51.06, 51.94, 52.98, 53.85, 54.06, 54.09, 54.11, 55.15, 55.89], \"yaxis\": \"y\"}, {\"hovertemplate\": \"<b>%{text}</b><br>Fully vaccinated per 100: <b>%{y:.2f}</b><br><extra>%{x}</extra>\", \"legendgroup\": \"Colombia\", \"line\": {\"color\": \"#ab63fa\", \"dash\": \"solid\"}, \"mode\": \"markers+lines\", \"name\": \"Colombia\", \"showlegend\": true, \"text\": [\"Colombia\", \"Colombia\", \"Colombia\", \"Colombia\", \"Colombia\", \"Colombia\", \"Colombia\", \"Colombia\", \"Colombia\", \"Colombia\", \"Colombia\", \"Colombia\", \"Colombia\", \"Colombia\", \"Colombia\", \"Colombia\", \"Colombia\", \"Colombia\", \"Colombia\", \"Colombia\", \"Colombia\", \"Colombia\", \"Colombia\", \"Colombia\", \"Colombia\", \"Colombia\", \"Colombia\", \"Colombia\", \"Colombia\", \"Colombia\", \"Colombia\", \"Colombia\", \"Colombia\", \"Colombia\", \"Colombia\", \"Colombia\", \"Colombia\", \"Colombia\", \"Colombia\", \"Colombia\", \"Colombia\", \"Colombia\", \"Colombia\", \"Colombia\", \"Colombia\", \"Colombia\", \"Colombia\", \"Colombia\", \"Colombia\", \"Colombia\", \"Colombia\", \"Colombia\", \"Colombia\", \"Colombia\", \"Colombia\", \"Colombia\", \"Colombia\", \"Colombia\", \"Colombia\", \"Colombia\", \"Colombia\", \"Colombia\", \"Colombia\", \"Colombia\", \"Colombia\", \"Colombia\", \"Colombia\", \"Colombia\", \"Colombia\", \"Colombia\", \"Colombia\", \"Colombia\", \"Colombia\", \"Colombia\", \"Colombia\", \"Colombia\", \"Colombia\", \"Colombia\", \"Colombia\", \"Colombia\", \"Colombia\", \"Colombia\", \"Colombia\", \"Colombia\", \"Colombia\", \"Colombia\", \"Colombia\", \"Colombia\", \"Colombia\", \"Colombia\", \"Colombia\", \"Colombia\", \"Colombia\", \"Colombia\", \"Colombia\", \"Colombia\", \"Colombia\", \"Colombia\", \"Colombia\", \"Colombia\", \"Colombia\", \"Colombia\", \"Colombia\", \"Colombia\", \"Colombia\", \"Colombia\", \"Colombia\", \"Colombia\", \"Colombia\", \"Colombia\", \"Colombia\", \"Colombia\", \"Colombia\"], \"type\": \"scattergl\", \"x\": [\"2021-03-13\", \"2021-03-14\", \"2021-03-15\", \"2021-03-16\", \"2021-03-17\", \"2021-03-18\", \"2021-03-19\", \"2021-03-20\", \"2021-03-21\", \"2021-03-22\", \"2021-03-23\", \"2021-03-24\", \"2021-03-25\", \"2021-03-26\", \"2021-03-27\", \"2021-03-28\", \"2021-03-29\", \"2021-03-30\", \"2021-03-31\", \"2021-04-01\", \"2021-04-02\", \"2021-04-03\", \"2021-04-04\", \"2021-04-05\", \"2021-04-06\", \"2021-04-07\", \"2021-04-08\", \"2021-04-09\", \"2021-04-10\", \"2021-04-11\", \"2021-04-12\", \"2021-04-13\", \"2021-04-14\", \"2021-04-15\", \"2021-04-16\", \"2021-04-17\", \"2021-04-18\", \"2021-04-19\", \"2021-04-20\", \"2021-04-21\", \"2021-04-22\", \"2021-04-23\", \"2021-04-24\", \"2021-04-25\", \"2021-04-26\", \"2021-04-27\", \"2021-04-28\", \"2021-04-29\", \"2021-04-30\", \"2021-05-01\", \"2021-05-02\", \"2021-05-03\", \"2021-05-04\", \"2021-05-05\", \"2021-05-06\", \"2021-05-07\", \"2021-05-08\", \"2021-05-09\", \"2021-05-10\", \"2021-05-11\", \"2021-05-12\", \"2021-05-13\", \"2021-05-14\", \"2021-05-15\", \"2021-05-16\", \"2021-05-17\", \"2021-05-18\", \"2021-05-19\", \"2021-05-20\", \"2021-05-21\", \"2021-05-22\", \"2021-05-23\", \"2021-05-24\", \"2021-05-25\", \"2021-05-26\", \"2021-05-27\", \"2021-05-28\", \"2021-05-29\", \"2021-05-30\", \"2021-05-31\", \"2021-06-01\", \"2021-06-02\", \"2021-06-03\", \"2021-06-04\", \"2021-06-05\", \"2021-06-06\", \"2021-06-07\", \"2021-06-08\", \"2021-06-09\", \"2021-06-10\", \"2021-06-11\", \"2021-06-12\", \"2021-06-13\", \"2021-06-14\", \"2021-06-15\", \"2021-06-16\", \"2021-06-17\", \"2021-06-18\", \"2021-06-19\", \"2021-06-20\", \"2021-06-21\", \"2021-06-22\", \"2021-06-23\", \"2021-06-24\", \"2021-06-25\", \"2021-06-26\", \"2021-06-27\", \"2021-06-28\", \"2021-06-29\", \"2021-06-30\", \"2021-07-01\", \"2021-07-02\", \"2021-07-03\"], \"xaxis\": \"x\", \"y\": [0.07, 0.08, 0.09, 0.09, 0.1, 0.11, 0.11, 0.11, 0.11, 0.12, 0.12, 0.15, 0.23, 0.29, 0.35, 0.38, 0.45, 0.52, 0.56, 0.66, 0.72, 0.77, 0.79, 0.83, 0.83, 1.07, 1.26, 1.46, 1.59, 1.59, 1.8, 1.98, 2.06, 2.06, 2.15, 2.23, 2.27, 2.34, 2.42, 2.52, 2.59, 2.67, 2.74, 2.77, 2.77, 2.9, 2.96, 3.04, 3.2, 3.34, 3.47, 3.47, 3.47, 3.47, 3.47, 4.39, 4.39, 4.39, 4.8, 4.98, 5.13, 5.29, 5.29, 5.55, 5.62, 5.67, 5.82, 5.9, 5.99, 5.99, 6.11, 6.15, 6.19, 6.24, 6.28, 6.28, 6.28, 6.41, 6.43, 6.47, 6.51, 6.56, 6.62, 6.69, 6.75, 6.78, 6.82, 6.95, 7.06, 7.06, 7.34, 7.47, 7.53, 7.62, 7.62, 7.62, 8.5, 8.5, 9.15, 9.4, 9.78, 10.2, 10.58, 10.94, 11.32, 11.69, 12.06, 12.55, 13.08, 13.55, 13.96, 14.33, 14.62], \"yaxis\": \"y\"}, {\"hovertemplate\": \"<b>%{text}</b><br>Fully vaccinated per 100: <b>%{y:.2f}</b><br><extra>%{x}</extra>\", \"legendgroup\": \"Ecuador\", \"line\": {\"color\": \"#FFA15A\", \"dash\": \"solid\"}, \"mode\": \"markers+lines\", \"name\": \"Ecuador\", \"showlegend\": true, \"text\": [\"Ecuador\", \"Ecuador\", \"Ecuador\", \"Ecuador\", \"Ecuador\", \"Ecuador\", \"Ecuador\", \"Ecuador\", \"Ecuador\", \"Ecuador\", \"Ecuador\", \"Ecuador\", \"Ecuador\", \"Ecuador\", \"Ecuador\", \"Ecuador\", \"Ecuador\", \"Ecuador\", \"Ecuador\", \"Ecuador\", \"Ecuador\", \"Ecuador\", \"Ecuador\", \"Ecuador\", \"Ecuador\", \"Ecuador\", \"Ecuador\", \"Ecuador\", \"Ecuador\", \"Ecuador\", \"Ecuador\", \"Ecuador\", \"Ecuador\", \"Ecuador\", \"Ecuador\", \"Ecuador\", \"Ecuador\", \"Ecuador\", \"Ecuador\", \"Ecuador\", \"Ecuador\", \"Ecuador\", \"Ecuador\", \"Ecuador\", \"Ecuador\", \"Ecuador\", \"Ecuador\", \"Ecuador\", \"Ecuador\", \"Ecuador\", \"Ecuador\", \"Ecuador\", \"Ecuador\", \"Ecuador\", \"Ecuador\", \"Ecuador\", \"Ecuador\", \"Ecuador\", \"Ecuador\", \"Ecuador\", \"Ecuador\", \"Ecuador\", \"Ecuador\", \"Ecuador\", \"Ecuador\", \"Ecuador\", \"Ecuador\", \"Ecuador\", \"Ecuador\", \"Ecuador\", \"Ecuador\", \"Ecuador\", \"Ecuador\", \"Ecuador\", \"Ecuador\", \"Ecuador\", \"Ecuador\", \"Ecuador\", \"Ecuador\", \"Ecuador\", \"Ecuador\", \"Ecuador\", \"Ecuador\", \"Ecuador\", \"Ecuador\", \"Ecuador\", \"Ecuador\", \"Ecuador\", \"Ecuador\", \"Ecuador\", \"Ecuador\", \"Ecuador\", \"Ecuador\", \"Ecuador\", \"Ecuador\", \"Ecuador\", \"Ecuador\", \"Ecuador\", \"Ecuador\", \"Ecuador\", \"Ecuador\", \"Ecuador\", \"Ecuador\", \"Ecuador\", \"Ecuador\", \"Ecuador\", \"Ecuador\", \"Ecuador\", \"Ecuador\", \"Ecuador\", \"Ecuador\", \"Ecuador\", \"Ecuador\", \"Ecuador\", \"Ecuador\", \"Ecuador\", \"Ecuador\", \"Ecuador\", \"Ecuador\", \"Ecuador\", \"Ecuador\", \"Ecuador\", \"Ecuador\", \"Ecuador\", \"Ecuador\", \"Ecuador\", \"Ecuador\", \"Ecuador\", \"Ecuador\", \"Ecuador\", \"Ecuador\", \"Ecuador\", \"Ecuador\", \"Ecuador\", \"Ecuador\", \"Ecuador\", \"Ecuador\"], \"type\": \"scattergl\", \"x\": [\"2021-02-17\", \"2021-02-18\", \"2021-02-19\", \"2021-02-20\", \"2021-02-21\", \"2021-02-22\", \"2021-02-23\", \"2021-02-24\", \"2021-02-25\", \"2021-02-26\", \"2021-02-27\", \"2021-02-28\", \"2021-03-01\", \"2021-03-02\", \"2021-03-03\", \"2021-03-04\", \"2021-03-05\", \"2021-03-06\", \"2021-03-07\", \"2021-03-08\", \"2021-03-09\", \"2021-03-10\", \"2021-03-11\", \"2021-03-12\", \"2021-03-13\", \"2021-03-14\", \"2021-03-15\", \"2021-03-16\", \"2021-03-17\", \"2021-03-18\", \"2021-03-19\", \"2021-03-20\", \"2021-03-21\", \"2021-03-22\", \"2021-03-23\", \"2021-03-24\", \"2021-03-25\", \"2021-03-26\", \"2021-03-27\", \"2021-03-28\", \"2021-03-29\", \"2021-03-30\", \"2021-03-31\", \"2021-04-01\", \"2021-04-02\", \"2021-04-03\", \"2021-04-04\", \"2021-04-05\", \"2021-04-06\", \"2021-04-07\", \"2021-04-08\", \"2021-04-09\", \"2021-04-10\", \"2021-04-11\", \"2021-04-12\", \"2021-04-13\", \"2021-04-14\", \"2021-04-15\", \"2021-04-16\", \"2021-04-17\", \"2021-04-18\", \"2021-04-19\", \"2021-04-20\", \"2021-04-21\", \"2021-04-22\", \"2021-04-23\", \"2021-04-24\", \"2021-04-25\", \"2021-04-26\", \"2021-04-27\", \"2021-04-28\", \"2021-04-29\", \"2021-04-30\", \"2021-05-01\", \"2021-05-02\", \"2021-05-03\", \"2021-05-04\", \"2021-05-05\", \"2021-05-06\", \"2021-05-07\", \"2021-05-08\", \"2021-05-09\", \"2021-05-10\", \"2021-05-11\", \"2021-05-12\", \"2021-05-13\", \"2021-05-14\", \"2021-05-15\", \"2021-05-16\", \"2021-05-17\", \"2021-05-18\", \"2021-05-19\", \"2021-05-20\", \"2021-05-21\", \"2021-05-22\", \"2021-05-23\", \"2021-05-24\", \"2021-05-25\", \"2021-05-26\", \"2021-05-27\", \"2021-05-28\", \"2021-05-29\", \"2021-05-30\", \"2021-05-31\", \"2021-06-01\", \"2021-06-02\", \"2021-06-03\", \"2021-06-04\", \"2021-06-05\", \"2021-06-06\", \"2021-06-07\", \"2021-06-08\", \"2021-06-09\", \"2021-06-10\", \"2021-06-11\", \"2021-06-12\", \"2021-06-13\", \"2021-06-14\", \"2021-06-15\", \"2021-06-16\", \"2021-06-17\", \"2021-06-18\", \"2021-06-19\", \"2021-06-20\", \"2021-06-21\", \"2021-06-22\", \"2021-06-23\", \"2021-06-24\", \"2021-06-25\", \"2021-06-26\", \"2021-06-27\", \"2021-06-28\", \"2021-06-29\", \"2021-06-30\", \"2021-07-01\", \"2021-07-02\", \"2021-07-03\"], \"xaxis\": \"x\", \"y\": [0.01, 0.01, 0.01, 0.01, 0.01, 0.01, 0.01, 0.02, 0.02, 0.02, 0.02, 0.02, 0.04, 0.04, 0.04, 0.04, 0.04, 0.04, 0.04, 0.04, 0.04, 0.04, 0.04, 0.04, 0.11, 0.11, 0.11, 0.11, 0.11, 0.11, 0.11, 0.11, 0.22, 0.22, 0.22, 0.22, 0.22, 0.33, 0.34, 0.34, 0.35, 0.35, 0.35, 0.44, 0.44, 0.44, 0.51, 0.6, 0.64, 0.64, 0.64, 0.64, 0.64, 0.64, 0.64, 0.64, 0.81, 0.83, 0.91, 0.95, 0.97, 1.0, 1.02, 1.06, 1.07, 1.11, 1.14, 1.15, 1.19, 1.25, 1.29, 1.3, 1.36, 1.39, 1.39, 1.39, 1.43, 1.46, 1.49, 1.5, 1.5, 1.51, 1.51, 1.55, 1.58, 1.72, 1.8, 1.89, 1.96, 2.02, 2.15, 2.27, 2.43, 2.43, 2.77, 2.82, 2.82, 2.92, 2.92, 3.31, 3.6, 3.7, 3.75, 3.75, 4.34, 4.48, 4.69, 4.83, 4.94, 4.95, 5.06, 5.16, 5.16, 5.16, 5.16, 5.16, 5.88, 5.88, 5.97, 5.97, 5.97, 5.97, 6.84, 6.87, 6.98, 7.06, 7.14, 7.3, 7.37, 7.43, 7.5, 7.61, 7.7, 7.83, 8.03, 8.28, 8.41], \"yaxis\": \"y\"}, {\"hovertemplate\": \"<b>%{text}</b><br>Fully vaccinated per 100: <b>%{y:.2f}</b><br><extra>%{x}</extra>\", \"legendgroup\": \"Paraguay\", \"line\": {\"color\": \"#19d3f3\", \"dash\": \"solid\"}, \"mode\": \"markers+lines\", \"name\": \"Paraguay\", \"showlegend\": true, \"text\": [\"Paraguay\", \"Paraguay\", \"Paraguay\", \"Paraguay\", \"Paraguay\", \"Paraguay\", \"Paraguay\", \"Paraguay\", \"Paraguay\", \"Paraguay\", \"Paraguay\", \"Paraguay\", \"Paraguay\", \"Paraguay\", \"Paraguay\", \"Paraguay\", \"Paraguay\", \"Paraguay\", \"Paraguay\", \"Paraguay\", \"Paraguay\", \"Paraguay\", \"Paraguay\", \"Paraguay\", \"Paraguay\", \"Paraguay\", \"Paraguay\", \"Paraguay\", \"Paraguay\", \"Paraguay\", \"Paraguay\", \"Paraguay\", \"Paraguay\", \"Paraguay\", \"Paraguay\", \"Paraguay\", \"Paraguay\", \"Paraguay\", \"Paraguay\", \"Paraguay\", \"Paraguay\", \"Paraguay\", \"Paraguay\", \"Paraguay\", \"Paraguay\", \"Paraguay\", \"Paraguay\", \"Paraguay\", \"Paraguay\", \"Paraguay\", \"Paraguay\", \"Paraguay\", \"Paraguay\", \"Paraguay\", \"Paraguay\", \"Paraguay\", \"Paraguay\", \"Paraguay\", \"Paraguay\", \"Paraguay\", \"Paraguay\", \"Paraguay\", \"Paraguay\", \"Paraguay\", \"Paraguay\", \"Paraguay\", \"Paraguay\", \"Paraguay\", \"Paraguay\", \"Paraguay\", \"Paraguay\", \"Paraguay\", \"Paraguay\", \"Paraguay\", \"Paraguay\", \"Paraguay\", \"Paraguay\", \"Paraguay\", \"Paraguay\", \"Paraguay\", \"Paraguay\", \"Paraguay\", \"Paraguay\", \"Paraguay\", \"Paraguay\", \"Paraguay\", \"Paraguay\", \"Paraguay\", \"Paraguay\", \"Paraguay\", \"Paraguay\", \"Paraguay\", \"Paraguay\", \"Paraguay\", \"Paraguay\", \"Paraguay\", \"Paraguay\", \"Paraguay\", \"Paraguay\", \"Paraguay\", \"Paraguay\", \"Paraguay\", \"Paraguay\", \"Paraguay\", \"Paraguay\", \"Paraguay\", \"Paraguay\", \"Paraguay\"], \"type\": \"scattergl\", \"x\": [\"2021-03-15\", \"2021-03-16\", \"2021-03-17\", \"2021-03-18\", \"2021-03-19\", \"2021-03-20\", \"2021-03-21\", \"2021-03-22\", \"2021-03-23\", \"2021-03-24\", \"2021-03-25\", \"2021-03-26\", \"2021-03-27\", \"2021-03-28\", \"2021-03-29\", \"2021-03-30\", \"2021-03-31\", \"2021-04-01\", \"2021-04-02\", \"2021-04-03\", \"2021-04-04\", \"2021-04-05\", \"2021-04-06\", \"2021-04-07\", \"2021-04-08\", \"2021-04-09\", \"2021-04-10\", \"2021-04-11\", \"2021-04-12\", \"2021-04-13\", \"2021-04-14\", \"2021-04-15\", \"2021-04-16\", \"2021-04-17\", \"2021-04-18\", \"2021-04-19\", \"2021-04-20\", \"2021-04-21\", \"2021-04-22\", \"2021-04-23\", \"2021-04-24\", \"2021-04-25\", \"2021-04-26\", \"2021-04-27\", \"2021-04-28\", \"2021-04-29\", \"2021-04-30\", \"2021-05-01\", \"2021-05-02\", \"2021-05-03\", \"2021-05-04\", \"2021-05-05\", \"2021-05-06\", \"2021-05-07\", \"2021-05-08\", \"2021-05-09\", \"2021-05-10\", \"2021-05-11\", \"2021-05-12\", \"2021-05-13\", \"2021-05-14\", \"2021-05-15\", \"2021-05-16\", \"2021-05-17\", \"2021-05-18\", \"2021-05-19\", \"2021-05-20\", \"2021-05-21\", \"2021-05-22\", \"2021-05-23\", \"2021-05-24\", \"2021-05-25\", \"2021-05-26\", \"2021-05-27\", \"2021-05-28\", \"2021-05-29\", \"2021-05-30\", \"2021-05-31\", \"2021-06-01\", \"2021-06-02\", \"2021-06-03\", \"2021-06-04\", \"2021-06-05\", \"2021-06-06\", \"2021-06-07\", \"2021-06-08\", \"2021-06-09\", \"2021-06-10\", \"2021-06-11\", \"2021-06-12\", \"2021-06-13\", \"2021-06-14\", \"2021-06-15\", \"2021-06-16\", \"2021-06-17\", \"2021-06-18\", \"2021-06-19\", \"2021-06-20\", \"2021-06-21\", \"2021-06-22\", \"2021-06-23\", \"2021-06-24\", \"2021-06-25\", \"2021-06-26\", \"2021-06-27\", \"2021-06-28\", \"2021-06-29\", \"2021-06-30\"], \"xaxis\": \"x\", \"y\": [0.0, 0.01, 0.01, 0.02, 0.02, 0.02, 0.02, 0.02, 0.02, 0.02, 0.02, 0.02, 0.02, 0.02, 0.02, 0.02, 0.03, 0.03, 0.03, 0.03, 0.03, 0.03, 0.03, 0.04, 0.06, 0.09, 0.11, 0.11, 0.13, 0.14, 0.15, 0.16, 0.16, 0.16, 0.16, 0.17, 0.17, 0.17, 0.17, 0.17, 0.17, 0.17, 0.17, 0.17, 0.17, 0.17, 0.17, 0.17, 0.17, 0.18, 0.18, 0.19, 0.19, 0.2, 0.2, 0.2, 0.24, 0.29, 0.34, 0.42, 0.44, 0.44, 0.45, 0.54, 0.62, 0.69, 0.75, 0.81, 0.82, 0.83, 0.89, 0.94, 1.0, 1.06, 1.13, 1.15, 1.15, 1.21, 1.25, 1.27, 1.32, 1.36, 1.37, 1.37, 1.43, 1.46, 1.48, 1.54, 1.6, 1.61, 1.61, 1.66, 1.68, 1.7, 1.72, 1.76, 1.76, 1.76, 1.8, 1.82, 1.83, 1.85, 1.87, 1.87, 1.87, 1.87, 1.87, 1.87], \"yaxis\": \"y\"}, {\"hovertemplate\": \"<b>%{text}</b><br>Fully vaccinated per 100: <b>%{y:.2f}</b><br><extra>%{x}</extra>\", \"legendgroup\": \"Peru\", \"line\": {\"color\": \"#FF6692\", \"dash\": \"solid\"}, \"mode\": \"markers+lines\", \"name\": \"Peru\", \"showlegend\": true, \"text\": [\"Peru\", \"Peru\", \"Peru\", \"Peru\", \"Peru\", \"Peru\", \"Peru\", \"Peru\", \"Peru\", \"Peru\", \"Peru\", \"Peru\", \"Peru\", \"Peru\", \"Peru\", \"Peru\", \"Peru\", \"Peru\", \"Peru\", \"Peru\", \"Peru\", \"Peru\", \"Peru\", \"Peru\", \"Peru\", \"Peru\", \"Peru\", \"Peru\", \"Peru\", \"Peru\", \"Peru\", \"Peru\", \"Peru\", \"Peru\", \"Peru\", \"Peru\", \"Peru\", \"Peru\", \"Peru\", \"Peru\", \"Peru\", \"Peru\", \"Peru\", \"Peru\", \"Peru\", \"Peru\", \"Peru\", \"Peru\", \"Peru\", \"Peru\", \"Peru\", \"Peru\", \"Peru\", \"Peru\", \"Peru\", \"Peru\", \"Peru\", \"Peru\", \"Peru\", \"Peru\", \"Peru\", \"Peru\", \"Peru\", \"Peru\", \"Peru\", \"Peru\", \"Peru\", \"Peru\", \"Peru\", \"Peru\", \"Peru\", \"Peru\", \"Peru\", \"Peru\", \"Peru\", \"Peru\", \"Peru\", \"Peru\", \"Peru\", \"Peru\", \"Peru\", \"Peru\", \"Peru\", \"Peru\", \"Peru\", \"Peru\", \"Peru\", \"Peru\", \"Peru\", \"Peru\", \"Peru\", \"Peru\", \"Peru\", \"Peru\", \"Peru\", \"Peru\", \"Peru\", \"Peru\", \"Peru\", \"Peru\", \"Peru\", \"Peru\", \"Peru\", \"Peru\", \"Peru\", \"Peru\", \"Peru\", \"Peru\", \"Peru\", \"Peru\", \"Peru\", \"Peru\", \"Peru\", \"Peru\", \"Peru\", \"Peru\", \"Peru\", \"Peru\", \"Peru\", \"Peru\", \"Peru\", \"Peru\", \"Peru\", \"Peru\"], \"type\": \"scattergl\", \"x\": [\"2021-03-02\", \"2021-03-03\", \"2021-03-04\", \"2021-03-05\", \"2021-03-06\", \"2021-03-07\", \"2021-03-08\", \"2021-03-09\", \"2021-03-10\", \"2021-03-11\", \"2021-03-12\", \"2021-03-13\", \"2021-03-14\", \"2021-03-15\", \"2021-03-16\", \"2021-03-17\", \"2021-03-18\", \"2021-03-19\", \"2021-03-20\", \"2021-03-21\", \"2021-03-22\", \"2021-03-23\", \"2021-03-24\", \"2021-03-25\", \"2021-03-26\", \"2021-03-27\", \"2021-03-28\", \"2021-03-29\", \"2021-03-30\", \"2021-03-31\", \"2021-04-01\", \"2021-04-02\", \"2021-04-03\", \"2021-04-04\", \"2021-04-05\", \"2021-04-06\", \"2021-04-07\", \"2021-04-08\", \"2021-04-09\", \"2021-04-10\", \"2021-04-11\", \"2021-04-12\", \"2021-04-13\", \"2021-04-14\", \"2021-04-15\", \"2021-04-16\", \"2021-04-17\", \"2021-04-18\", \"2021-04-19\", \"2021-04-20\", \"2021-04-21\", \"2021-04-22\", \"2021-04-23\", \"2021-04-24\", \"2021-04-25\", \"2021-04-26\", \"2021-04-27\", \"2021-04-28\", \"2021-04-29\", \"2021-04-30\", \"2021-05-01\", \"2021-05-02\", \"2021-05-03\", \"2021-05-04\", \"2021-05-05\", \"2021-05-06\", \"2021-05-07\", \"2021-05-08\", \"2021-05-09\", \"2021-05-10\", \"2021-05-11\", \"2021-05-12\", \"2021-05-13\", \"2021-05-14\", \"2021-05-15\", \"2021-05-16\", \"2021-05-17\", \"2021-05-18\", \"2021-05-19\", \"2021-05-20\", \"2021-05-21\", \"2021-05-22\", \"2021-05-23\", \"2021-05-24\", \"2021-05-25\", \"2021-05-26\", \"2021-05-27\", \"2021-05-28\", \"2021-05-29\", \"2021-05-30\", \"2021-05-31\", \"2021-06-01\", \"2021-06-02\", \"2021-06-03\", \"2021-06-04\", \"2021-06-05\", \"2021-06-06\", \"2021-06-07\", \"2021-06-08\", \"2021-06-09\", \"2021-06-10\", \"2021-06-11\", \"2021-06-12\", \"2021-06-13\", \"2021-06-14\", \"2021-06-15\", \"2021-06-16\", \"2021-06-17\", \"2021-06-18\", \"2021-06-19\", \"2021-06-20\", \"2021-06-21\", \"2021-06-22\", \"2021-06-23\", \"2021-06-24\", \"2021-06-25\", \"2021-06-26\", \"2021-06-27\", \"2021-06-28\", \"2021-06-29\", \"2021-06-30\", \"2021-07-01\", \"2021-07-02\", \"2021-07-03\"], \"xaxis\": \"x\", \"y\": [0.01, 0.04, 0.13, 0.22, 0.27, 0.28, 0.32, 0.34, 0.35, 0.37, 0.42, 0.51, 0.52, 0.6, 0.67, 0.74, 0.79, 0.84, 0.86, 0.86, 0.89, 0.91, 0.94, 0.95, 0.96, 0.97, 0.97, 1.01, 1.08, 1.13, 1.14, 1.15, 1.17, 1.17, 1.2, 1.25, 1.3, 1.39, 1.44, 1.47, 1.47, 1.51, 1.57, 1.63, 1.7, 1.76, 1.8, 1.81, 1.83, 1.84, 1.87, 1.88, 1.89, 1.89, 1.89, 1.91, 1.94, 1.97, 2.01, 2.06, 2.07, 2.07, 2.09, 2.09, 2.1, 2.11, 2.15, 2.22, 2.3, 2.33, 2.36, 2.39, 2.42, 2.48, 2.54, 2.59, 2.61, 2.64, 2.7, 2.75, 2.91, 3.07, 3.19, 3.35, 3.42, 3.46, 3.54, 3.62, 3.79, 3.88, 4.01, 4.12, 4.23, 4.31, 4.37, 4.41, 4.41, 4.48, 4.83, 5.11, 5.43, 5.83, 6.1, 6.23, 6.46, 6.73, 6.95, 7.25, 7.66, 7.93, 8.01, 8.2, 8.48, 8.73, 8.85, 8.95, 8.98, 8.99, 9.03, 9.2, 9.42, 9.65, 9.82, 9.93], \"yaxis\": \"y\"}, {\"hovertemplate\": \"<b>%{text}</b><br>Fully vaccinated per 100: <b>%{y:.2f}</b><br><extra>%{x}</extra>\", \"legendgroup\": \"Uruguay\", \"line\": {\"color\": \"#B6E880\", \"dash\": \"solid\"}, \"mode\": \"markers+lines\", \"name\": \"Uruguay\", \"showlegend\": true, \"text\": [\"Uruguay\", \"Uruguay\", \"Uruguay\", \"Uruguay\", \"Uruguay\", \"Uruguay\", \"Uruguay\", \"Uruguay\", \"Uruguay\", \"Uruguay\", \"Uruguay\", \"Uruguay\", \"Uruguay\", \"Uruguay\", \"Uruguay\", \"Uruguay\", \"Uruguay\", \"Uruguay\", \"Uruguay\", \"Uruguay\", \"Uruguay\", \"Uruguay\", \"Uruguay\", \"Uruguay\", \"Uruguay\", \"Uruguay\", \"Uruguay\", \"Uruguay\", \"Uruguay\", \"Uruguay\", \"Uruguay\", \"Uruguay\", \"Uruguay\", \"Uruguay\", \"Uruguay\", \"Uruguay\", \"Uruguay\", \"Uruguay\", \"Uruguay\", \"Uruguay\", \"Uruguay\", \"Uruguay\", \"Uruguay\", \"Uruguay\", \"Uruguay\", \"Uruguay\", \"Uruguay\", \"Uruguay\", \"Uruguay\", \"Uruguay\", \"Uruguay\", \"Uruguay\", \"Uruguay\", \"Uruguay\", \"Uruguay\", \"Uruguay\", \"Uruguay\", \"Uruguay\", \"Uruguay\", \"Uruguay\", \"Uruguay\", \"Uruguay\", \"Uruguay\", \"Uruguay\", \"Uruguay\", \"Uruguay\", \"Uruguay\", \"Uruguay\", \"Uruguay\", \"Uruguay\", \"Uruguay\", \"Uruguay\", \"Uruguay\", \"Uruguay\", \"Uruguay\", \"Uruguay\", \"Uruguay\", \"Uruguay\", \"Uruguay\", \"Uruguay\", \"Uruguay\", \"Uruguay\", \"Uruguay\", \"Uruguay\", \"Uruguay\", \"Uruguay\", \"Uruguay\", \"Uruguay\", \"Uruguay\", \"Uruguay\", \"Uruguay\", \"Uruguay\", \"Uruguay\", \"Uruguay\", \"Uruguay\", \"Uruguay\", \"Uruguay\", \"Uruguay\"], \"type\": \"scattergl\", \"x\": [\"2021-03-29\", \"2021-03-30\", \"2021-03-31\", \"2021-04-01\", \"2021-04-02\", \"2021-04-03\", \"2021-04-04\", \"2021-04-05\", \"2021-04-06\", \"2021-04-07\", \"2021-04-08\", \"2021-04-09\", \"2021-04-10\", \"2021-04-11\", \"2021-04-12\", \"2021-04-13\", \"2021-04-14\", \"2021-04-15\", \"2021-04-16\", \"2021-04-17\", \"2021-04-18\", \"2021-04-19\", \"2021-04-20\", \"2021-04-21\", \"2021-04-22\", \"2021-04-23\", \"2021-04-24\", \"2021-04-25\", \"2021-04-26\", \"2021-04-27\", \"2021-04-28\", \"2021-04-29\", \"2021-04-30\", \"2021-05-01\", \"2021-05-02\", \"2021-05-03\", \"2021-05-04\", \"2021-05-05\", \"2021-05-06\", \"2021-05-07\", \"2021-05-08\", \"2021-05-09\", \"2021-05-10\", \"2021-05-11\", \"2021-05-12\", \"2021-05-13\", \"2021-05-14\", \"2021-05-15\", \"2021-05-16\", \"2021-05-17\", \"2021-05-18\", \"2021-05-19\", \"2021-05-20\", \"2021-05-21\", \"2021-05-22\", \"2021-05-23\", \"2021-05-24\", \"2021-05-25\", \"2021-05-26\", \"2021-05-27\", \"2021-05-28\", \"2021-05-29\", \"2021-05-30\", \"2021-05-31\", \"2021-06-01\", \"2021-06-02\", \"2021-06-03\", \"2021-06-04\", \"2021-06-05\", \"2021-06-06\", \"2021-06-07\", \"2021-06-08\", \"2021-06-09\", \"2021-06-10\", \"2021-06-11\", \"2021-06-12\", \"2021-06-13\", \"2021-06-14\", \"2021-06-15\", \"2021-06-16\", \"2021-06-17\", \"2021-06-18\", \"2021-06-19\", \"2021-06-20\", \"2021-06-21\", \"2021-06-22\", \"2021-06-23\", \"2021-06-24\", \"2021-06-25\", \"2021-06-26\", \"2021-06-27\", \"2021-06-28\", \"2021-06-29\", \"2021-06-30\", \"2021-07-01\", \"2021-07-02\", \"2021-07-03\", \"2021-07-04\"], \"xaxis\": \"x\", \"y\": [0.5, 0.9, 1.48, 1.72, 1.97, 1.98, 1.98, 2.77, 3.38, 4.08, 4.69, 5.5, 5.76, 5.76, 5.97, 6.26, 6.54, 7.48, 8.44, 8.71, 8.71, 9.6, 10.63, 11.7, 12.91, 14.04, 14.4, 14.4, 15.45, 16.52, 17.57, 18.68, 19.83, 19.83, 19.83, 20.38, 21.01, 21.64, 22.41, 22.69, 22.79, 22.8, 23.85, 24.91, 25.98, 26.69, 27.24, 27.33, 27.33, 27.48, 27.69, 27.87, 28.06, 28.25, 28.32, 28.33, 28.46, 28.57, 28.66, 28.78, 28.92, 29.3, 29.3, 29.6, 29.9, 30.21, 30.51, 30.8, 30.88, 30.88, 31.01, 31.12, 31.3, 32.18, 33.16, 33.72, 33.74, 34.99, 36.13, 37.22, 38.4, 39.38, 39.71, 39.74, 40.89, 41.95, 42.93, 43.86, 44.69, 45.03, 45.07, 46.09, 47.11, 48.07, 49.16, 50.32, 50.75, 50.77], \"yaxis\": \"y\"}, {\"hovertemplate\": \"<b>%{text}</b><br>Fully vaccinated per 100: <b>%{y:.2f}</b><br><extra>%{x}</extra>\", \"legendgroup\": \"Venezuela\", \"line\": {\"color\": \"#FF97FF\", \"dash\": \"solid\"}, \"mode\": \"markers+lines\", \"name\": \"Venezuela\", \"showlegend\": true, \"text\": [\"Venezuela\", \"Venezuela\", \"Venezuela\", \"Venezuela\", \"Venezuela\", \"Venezuela\", \"Venezuela\", \"Venezuela\", \"Venezuela\", \"Venezuela\", \"Venezuela\", \"Venezuela\", \"Venezuela\", \"Venezuela\", \"Venezuela\"], \"type\": \"scattergl\", \"x\": [\"2021-06-11\", \"2021-06-12\", \"2021-06-13\", \"2021-06-14\", \"2021-06-15\", \"2021-06-16\", \"2021-06-17\", \"2021-06-18\", \"2021-06-19\", \"2021-06-20\", \"2021-06-21\", \"2021-06-22\", \"2021-06-23\", \"2021-06-24\", \"2021-06-25\"], \"xaxis\": \"x\", \"y\": [0.53, 0.53, 0.53, 0.53, 0.53, 0.53, 0.53, 0.79, 0.79, 0.79, 0.79, 0.79, 0.79, 0.79, 0.79], \"yaxis\": \"y\"}],                        {\"hoverlabel\": {\"font\": {\"size\": 12}}, \"hovermode\": \"x\", \"legend\": {\"title\": {\"text\": \"country\"}, \"tracegroupgap\": 0}, \"margin\": {\"t\": 60}, \"template\": {\"data\": {\"bar\": [{\"error_x\": {\"color\": \"#2a3f5f\"}, \"error_y\": {\"color\": \"#2a3f5f\"}, \"marker\": {\"line\": {\"color\": \"#E5ECF6\", \"width\": 0.5}}, \"type\": \"bar\"}], \"barpolar\": [{\"marker\": {\"line\": {\"color\": \"#E5ECF6\", \"width\": 0.5}}, \"type\": \"barpolar\"}], \"carpet\": [{\"aaxis\": {\"endlinecolor\": \"#2a3f5f\", \"gridcolor\": \"white\", \"linecolor\": \"white\", \"minorgridcolor\": \"white\", \"startlinecolor\": \"#2a3f5f\"}, \"baxis\": {\"endlinecolor\": \"#2a3f5f\", \"gridcolor\": \"white\", \"linecolor\": \"white\", \"minorgridcolor\": \"white\", \"startlinecolor\": \"#2a3f5f\"}, \"type\": \"carpet\"}], \"choropleth\": [{\"colorbar\": {\"outlinewidth\": 0, \"ticks\": \"\"}, \"type\": \"choropleth\"}], \"contour\": [{\"colorbar\": {\"outlinewidth\": 0, \"ticks\": \"\"}, \"colorscale\": [[0.0, \"#0d0887\"], [0.1111111111111111, \"#46039f\"], [0.2222222222222222, \"#7201a8\"], [0.3333333333333333, \"#9c179e\"], [0.4444444444444444, \"#bd3786\"], [0.5555555555555556, \"#d8576b\"], [0.6666666666666666, \"#ed7953\"], [0.7777777777777778, \"#fb9f3a\"], [0.8888888888888888, \"#fdca26\"], [1.0, \"#f0f921\"]], \"type\": \"contour\"}], \"contourcarpet\": [{\"colorbar\": {\"outlinewidth\": 0, \"ticks\": \"\"}, \"type\": \"contourcarpet\"}], \"heatmap\": [{\"colorbar\": {\"outlinewidth\": 0, \"ticks\": \"\"}, \"colorscale\": [[0.0, \"#0d0887\"], [0.1111111111111111, \"#46039f\"], [0.2222222222222222, \"#7201a8\"], [0.3333333333333333, \"#9c179e\"], [0.4444444444444444, \"#bd3786\"], [0.5555555555555556, \"#d8576b\"], [0.6666666666666666, \"#ed7953\"], [0.7777777777777778, \"#fb9f3a\"], [0.8888888888888888, \"#fdca26\"], [1.0, \"#f0f921\"]], \"type\": \"heatmap\"}], \"heatmapgl\": [{\"colorbar\": {\"outlinewidth\": 0, \"ticks\": \"\"}, \"colorscale\": [[0.0, \"#0d0887\"], [0.1111111111111111, \"#46039f\"], [0.2222222222222222, \"#7201a8\"], [0.3333333333333333, \"#9c179e\"], [0.4444444444444444, \"#bd3786\"], [0.5555555555555556, \"#d8576b\"], [0.6666666666666666, \"#ed7953\"], [0.7777777777777778, \"#fb9f3a\"], [0.8888888888888888, \"#fdca26\"], [1.0, \"#f0f921\"]], \"type\": \"heatmapgl\"}], \"histogram\": [{\"marker\": {\"colorbar\": {\"outlinewidth\": 0, \"ticks\": \"\"}}, \"type\": \"histogram\"}], \"histogram2d\": [{\"colorbar\": {\"outlinewidth\": 0, \"ticks\": \"\"}, \"colorscale\": [[0.0, \"#0d0887\"], [0.1111111111111111, \"#46039f\"], [0.2222222222222222, \"#7201a8\"], [0.3333333333333333, \"#9c179e\"], [0.4444444444444444, \"#bd3786\"], [0.5555555555555556, \"#d8576b\"], [0.6666666666666666, \"#ed7953\"], [0.7777777777777778, \"#fb9f3a\"], [0.8888888888888888, \"#fdca26\"], [1.0, \"#f0f921\"]], \"type\": \"histogram2d\"}], \"histogram2dcontour\": [{\"colorbar\": {\"outlinewidth\": 0, \"ticks\": \"\"}, \"colorscale\": [[0.0, \"#0d0887\"], [0.1111111111111111, \"#46039f\"], [0.2222222222222222, \"#7201a8\"], [0.3333333333333333, \"#9c179e\"], [0.4444444444444444, \"#bd3786\"], [0.5555555555555556, \"#d8576b\"], [0.6666666666666666, \"#ed7953\"], [0.7777777777777778, \"#fb9f3a\"], [0.8888888888888888, \"#fdca26\"], [1.0, \"#f0f921\"]], \"type\": \"histogram2dcontour\"}], \"mesh3d\": [{\"colorbar\": {\"outlinewidth\": 0, \"ticks\": \"\"}, \"type\": \"mesh3d\"}], \"parcoords\": [{\"line\": {\"colorbar\": {\"outlinewidth\": 0, \"ticks\": \"\"}}, \"type\": \"parcoords\"}], \"pie\": [{\"automargin\": true, \"type\": \"pie\"}], \"scatter\": [{\"marker\": {\"colorbar\": {\"outlinewidth\": 0, \"ticks\": \"\"}}, \"type\": \"scatter\"}], \"scatter3d\": [{\"line\": {\"colorbar\": {\"outlinewidth\": 0, \"ticks\": \"\"}}, \"marker\": {\"colorbar\": {\"outlinewidth\": 0, \"ticks\": \"\"}}, \"type\": \"scatter3d\"}], \"scattercarpet\": [{\"marker\": {\"colorbar\": {\"outlinewidth\": 0, \"ticks\": \"\"}}, \"type\": \"scattercarpet\"}], \"scattergeo\": [{\"marker\": {\"colorbar\": {\"outlinewidth\": 0, \"ticks\": \"\"}}, \"type\": \"scattergeo\"}], \"scattergl\": [{\"marker\": {\"colorbar\": {\"outlinewidth\": 0, \"ticks\": \"\"}}, \"type\": \"scattergl\"}], \"scattermapbox\": [{\"marker\": {\"colorbar\": {\"outlinewidth\": 0, \"ticks\": \"\"}}, \"type\": \"scattermapbox\"}], \"scatterpolar\": [{\"marker\": {\"colorbar\": {\"outlinewidth\": 0, \"ticks\": \"\"}}, \"type\": \"scatterpolar\"}], \"scatterpolargl\": [{\"marker\": {\"colorbar\": {\"outlinewidth\": 0, \"ticks\": \"\"}}, \"type\": \"scatterpolargl\"}], \"scatterternary\": [{\"marker\": {\"colorbar\": {\"outlinewidth\": 0, \"ticks\": \"\"}}, \"type\": \"scatterternary\"}], \"surface\": [{\"colorbar\": {\"outlinewidth\": 0, \"ticks\": \"\"}, \"colorscale\": [[0.0, \"#0d0887\"], [0.1111111111111111, \"#46039f\"], [0.2222222222222222, \"#7201a8\"], [0.3333333333333333, \"#9c179e\"], [0.4444444444444444, \"#bd3786\"], [0.5555555555555556, \"#d8576b\"], [0.6666666666666666, \"#ed7953\"], [0.7777777777777778, \"#fb9f3a\"], [0.8888888888888888, \"#fdca26\"], [1.0, \"#f0f921\"]], \"type\": \"surface\"}], \"table\": [{\"cells\": {\"fill\": {\"color\": \"#EBF0F8\"}, \"line\": {\"color\": \"white\"}}, \"header\": {\"fill\": {\"color\": \"#C8D4E3\"}, \"line\": {\"color\": \"white\"}}, \"type\": \"table\"}]}, \"layout\": {\"annotationdefaults\": {\"arrowcolor\": \"#2a3f5f\", \"arrowhead\": 0, \"arrowwidth\": 1}, \"autotypenumbers\": \"strict\", \"coloraxis\": {\"colorbar\": {\"outlinewidth\": 0, \"ticks\": \"\"}}, \"colorscale\": {\"diverging\": [[0, \"#8e0152\"], [0.1, \"#c51b7d\"], [0.2, \"#de77ae\"], [0.3, \"#f1b6da\"], [0.4, \"#fde0ef\"], [0.5, \"#f7f7f7\"], [0.6, \"#e6f5d0\"], [0.7, \"#b8e186\"], [0.8, \"#7fbc41\"], [0.9, \"#4d9221\"], [1, \"#276419\"]], \"sequential\": [[0.0, \"#0d0887\"], [0.1111111111111111, \"#46039f\"], [0.2222222222222222, \"#7201a8\"], [0.3333333333333333, \"#9c179e\"], [0.4444444444444444, \"#bd3786\"], [0.5555555555555556, \"#d8576b\"], [0.6666666666666666, \"#ed7953\"], [0.7777777777777778, \"#fb9f3a\"], [0.8888888888888888, \"#fdca26\"], [1.0, \"#f0f921\"]], \"sequentialminus\": [[0.0, \"#0d0887\"], [0.1111111111111111, \"#46039f\"], [0.2222222222222222, \"#7201a8\"], [0.3333333333333333, \"#9c179e\"], [0.4444444444444444, \"#bd3786\"], [0.5555555555555556, \"#d8576b\"], [0.6666666666666666, \"#ed7953\"], [0.7777777777777778, \"#fb9f3a\"], [0.8888888888888888, \"#fdca26\"], [1.0, \"#f0f921\"]]}, \"colorway\": [\"#636efa\", \"#EF553B\", \"#00cc96\", \"#ab63fa\", \"#FFA15A\", \"#19d3f3\", \"#FF6692\", \"#B6E880\", \"#FF97FF\", \"#FECB52\"], \"font\": {\"color\": \"#2a3f5f\"}, \"geo\": {\"bgcolor\": \"white\", \"lakecolor\": \"white\", \"landcolor\": \"#E5ECF6\", \"showlakes\": true, \"showland\": true, \"subunitcolor\": \"white\"}, \"hoverlabel\": {\"align\": \"left\"}, \"hovermode\": \"closest\", \"mapbox\": {\"style\": \"light\"}, \"paper_bgcolor\": \"white\", \"plot_bgcolor\": \"#E5ECF6\", \"polar\": {\"angularaxis\": {\"gridcolor\": \"white\", \"linecolor\": \"white\", \"ticks\": \"\"}, \"bgcolor\": \"#E5ECF6\", \"radialaxis\": {\"gridcolor\": \"white\", \"linecolor\": \"white\", \"ticks\": \"\"}}, \"scene\": {\"xaxis\": {\"backgroundcolor\": \"#E5ECF6\", \"gridcolor\": \"white\", \"gridwidth\": 2, \"linecolor\": \"white\", \"showbackground\": true, \"ticks\": \"\", \"zerolinecolor\": \"white\"}, \"yaxis\": {\"backgroundcolor\": \"#E5ECF6\", \"gridcolor\": \"white\", \"gridwidth\": 2, \"linecolor\": \"white\", \"showbackground\": true, \"ticks\": \"\", \"zerolinecolor\": \"white\"}, \"zaxis\": {\"backgroundcolor\": \"#E5ECF6\", \"gridcolor\": \"white\", \"gridwidth\": 2, \"linecolor\": \"white\", \"showbackground\": true, \"ticks\": \"\", \"zerolinecolor\": \"white\"}}, \"shapedefaults\": {\"line\": {\"color\": \"#2a3f5f\"}}, \"ternary\": {\"aaxis\": {\"gridcolor\": \"white\", \"linecolor\": \"white\", \"ticks\": \"\"}, \"baxis\": {\"gridcolor\": \"white\", \"linecolor\": \"white\", \"ticks\": \"\"}, \"bgcolor\": \"#E5ECF6\", \"caxis\": {\"gridcolor\": \"white\", \"linecolor\": \"white\", \"ticks\": \"\"}}, \"title\": {\"x\": 0.05}, \"xaxis\": {\"automargin\": true, \"gridcolor\": \"white\", \"linecolor\": \"white\", \"ticks\": \"\", \"title\": {\"standoff\": 15}, \"zerolinecolor\": \"white\", \"zerolinewidth\": 2}, \"yaxis\": {\"automargin\": true, \"gridcolor\": \"white\", \"linecolor\": \"white\", \"ticks\": \"\", \"title\": {\"standoff\": 15}, \"zerolinecolor\": \"white\", \"zerolinewidth\": 2}}}, \"title\": {\"font\": {\"size\": 20}, \"text\": \"Vaccination progress in South America\"}, \"xaxis\": {\"anchor\": \"y\", \"domain\": [0.0, 1.0], \"title\": {\"text\": \"date\"}}, \"yaxis\": {\"anchor\": \"x\", \"domain\": [0.0, 1.0], \"title\": {\"text\": \"People fully vaccinated per hundred\"}}},                        {\"responsive\": true}                    ).then(function(){\n",
       "                            \n",
       "var gd = document.getElementById('32b7afc4-33be-468a-8b26-1f7504bae3c3');\n",
       "var x = new MutationObserver(function (mutations, observer) {{\n",
       "        var display = window.getComputedStyle(gd).display;\n",
       "        if (!display || display === 'none') {{\n",
       "            console.log([gd, 'removed!']);\n",
       "            Plotly.purge(gd);\n",
       "            observer.disconnect();\n",
       "        }}\n",
       "}});\n",
       "\n",
       "// Listen for the removal of the full notebook cells\n",
       "var notebookContainer = gd.closest('#notebook-container');\n",
       "if (notebookContainer) {{\n",
       "    x.observe(notebookContainer, {childList: true});\n",
       "}}\n",
       "\n",
       "// Listen for the clearing of the current output cell\n",
       "var outputEl = gd.closest('.output');\n",
       "if (outputEl) {{\n",
       "    x.observe(outputEl, {childList: true});\n",
       "}}\n",
       "\n",
       "                        })                };                });            </script>        </div>"
      ]
     },
     "metadata": {},
     "output_type": "display_data"
    }
   ],
   "source": [
    "fig = px.line(df_southa, x='date', y='people_fully_vaccinated_per_hundred', color='country', text='country')\n",
    "\n",
    "fig.update_traces(mode='markers+lines',\n",
    "                  hovertemplate=\n",
    "                  '<b>%{text}</b><br>'+\n",
    "                  'Fully vaccinated per 100: <b>%{y:.2f}</b><br>'+\n",
    "                  '<extra>%{x}</extra>')\n",
    "\n",
    "fig.update_layout(\n",
    "    title = 'Vaccination progress in South America',\n",
    "    title_font_size=20,\n",
    "    hoverlabel=dict(font_size=12), \n",
    "    hovermode='x'\n",
    "    )\n",
    "\n",
    "fig.update_yaxes(\n",
    "    title=\"People fully vaccinated per hundred\"\n",
    "    )\n",
    "\n",
    "fig.show()"
   ]
  },
  {
   "cell_type": "code",
   "execution_count": 18,
   "id": "199019fa",
   "metadata": {},
   "outputs": [],
   "source": [
    "# Filtering latest date\n",
    "total_per_country = (total_per_country[total_per_country.groupby(['country'])['date']\n",
    "                                      .transform(max) == total_per_country['date']]\n",
    "                     .dropna()\n",
    "                     .reset_index(drop=True))"
   ]
  },
  {
   "cell_type": "code",
   "execution_count": 20,
   "id": "006cdbed",
   "metadata": {},
   "outputs": [
    {
     "data": {
      "application/vnd.plotly.v1+json": {
       "config": {
        "plotlyServerURL": "https://plotly.com"
       },
       "data": [
        {
         "autocolorscale": false,
         "coloraxis": "coloraxis",
         "colorscale": [
          [
           0,
           "rgb(247,251,255)"
          ],
          [
           0.125,
           "rgb(222,235,247)"
          ],
          [
           0.25,
           "rgb(198,219,239)"
          ],
          [
           0.375,
           "rgb(158,202,225)"
          ],
          [
           0.5,
           "rgb(107,174,214)"
          ],
          [
           0.625,
           "rgb(66,146,198)"
          ],
          [
           0.75,
           "rgb(33,113,181)"
          ],
          [
           0.875,
           "rgb(8,81,156)"
          ],
          [
           1,
           "rgb(8,48,107)"
          ]
         ],
         "hovertemplate": [
          "Country: Afghanistan<br>Vaccine: BBIBP-CorV<extra></extra>",
          "Country: Bangladesh<br>Vaccine: BBIBP-CorV<extra></extra>",
          "Country: Belarus<br>Vaccine: BBIBP-CorV<extra></extra>",
          "Country: Cameroon<br>Vaccine: BBIBP-CorV<extra></extra>",
          "Country: Chad<br>Vaccine: BBIBP-CorV<extra></extra>",
          "Country: Congo<br>Vaccine: BBIBP-CorV<extra></extra>",
          "Country: Djibouti<br>Vaccine: BBIBP-CorV<extra></extra>",
          "Country: Dominica<br>Vaccine: BBIBP-CorV<extra></extra>",
          "Country: Egypt<br>Vaccine: BBIBP-CorV<extra></extra>",
          "Country: Gabon<br>Vaccine: BBIBP-CorV<extra></extra>",
          "Country: Gambia<br>Vaccine: BBIBP-CorV<extra></extra>",
          "Country: Guinea-Bissau<br>Vaccine: BBIBP-CorV<extra></extra>",
          "Country: Iran<br>Vaccine: BBIBP-CorV<extra></extra>",
          "Country: Iraq<br>Vaccine: BBIBP-CorV<extra></extra>",
          "Country: Mauritania<br>Vaccine: BBIBP-CorV<extra></extra>",
          "Country: Mauritius<br>Vaccine: BBIBP-CorV<extra></extra>",
          "Country: Mozambique<br>Vaccine: BBIBP-CorV<extra></extra>",
          "Country: Myanmar<br>Vaccine: BBIBP-CorV<extra></extra>",
          "Country: Niger<br>Vaccine: BBIBP-CorV<extra></extra>",
          "Country: Papua New Guinea<br>Vaccine: BBIBP-CorV<extra></extra>",
          "Country: Senegal<br>Vaccine: BBIBP-CorV<extra></extra>",
          "Country: Sierra Leone<br>Vaccine: BBIBP-CorV<extra></extra>",
          "Country: Somalia<br>Vaccine: BBIBP-CorV<extra></extra>",
          "Country: Sudan<br>Vaccine: BBIBP-CorV<extra></extra>",
          "Country: Syria<br>Vaccine: BBIBP-CorV<extra></extra>",
          "Country: Venezuela<br>Vaccine: BBIBP-CorV<extra></extra>"
         ],
         "locations": [
          "AFG",
          "BGD",
          "BLR",
          "CMR",
          "TCD",
          "COG",
          "DJI",
          "DMA",
          "EGY",
          "GAB",
          "GMB",
          "GNB",
          "IRN",
          "IRQ",
          "MRT",
          "MUS",
          "MOZ",
          "MMR",
          "NER",
          "PNG",
          "SEN",
          "SLE",
          "SOM",
          "SDN",
          "SYR",
          "VEN"
         ],
         "marker": {
          "line": {
           "color": "white"
          }
         },
         "type": "choropleth",
         "visible": true,
         "z": [
          1,
          1,
          1,
          1,
          1,
          1,
          1,
          1,
          1,
          1,
          1,
          1,
          1,
          1,
          1,
          1,
          1,
          1,
          1,
          1,
          1,
          1,
          1,
          1,
          1,
          1
         ]
        },
        {
         "autocolorscale": false,
         "coloraxis": "coloraxis",
         "colorscale": [
          [
           0,
           "rgb(247,251,255)"
          ],
          [
           0.125,
           "rgb(222,235,247)"
          ],
          [
           0.25,
           "rgb(198,219,239)"
          ],
          [
           0.375,
           "rgb(158,202,225)"
          ],
          [
           0.5,
           "rgb(107,174,214)"
          ],
          [
           0.625,
           "rgb(66,146,198)"
          ],
          [
           0.75,
           "rgb(33,113,181)"
          ],
          [
           0.875,
           "rgb(8,81,156)"
          ],
          [
           1,
           "rgb(8,48,107)"
          ]
         ],
         "hovertemplate": [
          "Country: Afghanistan<br>Vaccine: Oxford/AstraZeneca<extra></extra>",
          "Country: Albania<br>Vaccine: Oxford/AstraZeneca<extra></extra>",
          "Country: Algeria<br>Vaccine: Oxford/AstraZeneca<extra></extra>",
          "Country: Andorra<br>Vaccine: Oxford/AstraZeneca<extra></extra>",
          "Country: Angola<br>Vaccine: Oxford/AstraZeneca<extra></extra>",
          "Country: Anguilla<br>Vaccine: Oxford/AstraZeneca<extra></extra>",
          "Country: Antigua and Barbuda<br>Vaccine: Oxford/AstraZeneca<extra></extra>",
          "Country: Argentina<br>Vaccine: Oxford/AstraZeneca<extra></extra>",
          "Country: Armenia<br>Vaccine: Oxford/AstraZeneca<extra></extra>",
          "Country: Australia<br>Vaccine: Oxford/AstraZeneca<extra></extra>",
          "Country: Austria<br>Vaccine: Oxford/AstraZeneca<extra></extra>",
          "Country: Azerbaijan<br>Vaccine: Oxford/AstraZeneca<extra></extra>",
          "Country: Bahamas<br>Vaccine: Oxford/AstraZeneca<extra></extra>",
          "Country: Bahrain<br>Vaccine: Oxford/AstraZeneca<extra></extra>",
          "Country: Bangladesh<br>Vaccine: Oxford/AstraZeneca<extra></extra>",
          "Country: Barbados<br>Vaccine: Oxford/AstraZeneca<extra></extra>",
          "Country: Belgium<br>Vaccine: Oxford/AstraZeneca<extra></extra>",
          "Country: Belize<br>Vaccine: Oxford/AstraZeneca<extra></extra>",
          "Country: Benin<br>Vaccine: Oxford/AstraZeneca<extra></extra>",
          "Country: Bhutan<br>Vaccine: Oxford/AstraZeneca<extra></extra>",
          "Country: Bolivia<br>Vaccine: Oxford/AstraZeneca<extra></extra>",
          "Country: Bosnia and Herzegovina<br>Vaccine: Oxford/AstraZeneca<extra></extra>",
          "Country: Botswana<br>Vaccine: Oxford/AstraZeneca<extra></extra>",
          "Country: Brazil<br>Vaccine: Oxford/AstraZeneca<extra></extra>",
          "Country: British Virgin Islands<br>Vaccine: Oxford/AstraZeneca<extra></extra>",
          "Country: Brunei<br>Vaccine: Oxford/AstraZeneca<extra></extra>",
          "Country: Bulgaria<br>Vaccine: Oxford/AstraZeneca<extra></extra>",
          "Country: Burkina Faso<br>Vaccine: Oxford/AstraZeneca<extra></extra>",
          "Country: Cambodia<br>Vaccine: Oxford/AstraZeneca<extra></extra>",
          "Country: Cameroon<br>Vaccine: Oxford/AstraZeneca<extra></extra>",
          "Country: Canada<br>Vaccine: Oxford/AstraZeneca<extra></extra>",
          "Country: Cape Verde<br>Vaccine: Oxford/AstraZeneca<extra></extra>",
          "Country: Cayman Islands<br>Vaccine: Oxford/AstraZeneca<extra></extra>",
          "Country: Central African Republic<br>Vaccine: Oxford/AstraZeneca<extra></extra>",
          "Country: Chile<br>Vaccine: Oxford/AstraZeneca<extra></extra>",
          "Country: Colombia<br>Vaccine: Oxford/AstraZeneca<extra></extra>",
          "Country: Comoros<br>Vaccine: Oxford/AstraZeneca<extra></extra>",
          "Country: Congo<br>Vaccine: Oxford/AstraZeneca<extra></extra>",
          "Country: Cook Islands<br>Vaccine: Oxford/AstraZeneca<extra></extra>",
          "Country: Costa Rica<br>Vaccine: Oxford/AstraZeneca<extra></extra>",
          "Country: Cote d'Ivoire<br>Vaccine: Oxford/AstraZeneca<extra></extra>",
          "Country: Croatia<br>Vaccine: Oxford/AstraZeneca<extra></extra>",
          "Country: Cyprus<br>Vaccine: Oxford/AstraZeneca<extra></extra>",
          "Country: Czechia<br>Vaccine: Oxford/AstraZeneca<extra></extra>",
          "Country: Democratic Republic of Congo<br>Vaccine: Oxford/AstraZeneca<extra></extra>",
          "Country: Djibouti<br>Vaccine: Oxford/AstraZeneca<extra></extra>",
          "Country: Dominica<br>Vaccine: Oxford/AstraZeneca<extra></extra>",
          "Country: Dominican Republic<br>Vaccine: Oxford/AstraZeneca<extra></extra>",
          "Country: Ecuador<br>Vaccine: Oxford/AstraZeneca<extra></extra>",
          "Country: Egypt<br>Vaccine: Oxford/AstraZeneca<extra></extra>",
          "Country: El Salvador<br>Vaccine: Oxford/AstraZeneca<extra></extra>",
          "Country: England<br>Vaccine: Oxford/AstraZeneca<extra></extra>",
          "Country: Estonia<br>Vaccine: Oxford/AstraZeneca<extra></extra>",
          "Country: Eswatini<br>Vaccine: Oxford/AstraZeneca<extra></extra>",
          "Country: Ethiopia<br>Vaccine: Oxford/AstraZeneca<extra></extra>",
          "Country: Falkland Islands<br>Vaccine: Oxford/AstraZeneca<extra></extra>",
          "Country: Fiji<br>Vaccine: Oxford/AstraZeneca<extra></extra>",
          "Country: Finland<br>Vaccine: Oxford/AstraZeneca<extra></extra>",
          "Country: France<br>Vaccine: Oxford/AstraZeneca<extra></extra>",
          "Country: French Polynesia<br>Vaccine: Oxford/AstraZeneca<extra></extra>",
          "Country: Gambia<br>Vaccine: Oxford/AstraZeneca<extra></extra>",
          "Country: Georgia<br>Vaccine: Oxford/AstraZeneca<extra></extra>",
          "Country: Germany<br>Vaccine: Oxford/AstraZeneca<extra></extra>",
          "Country: Ghana<br>Vaccine: Oxford/AstraZeneca<extra></extra>",
          "Country: Greece<br>Vaccine: Oxford/AstraZeneca<extra></extra>",
          "Country: Grenada<br>Vaccine: Oxford/AstraZeneca<extra></extra>",
          "Country: Guatemala<br>Vaccine: Oxford/AstraZeneca<extra></extra>",
          "Country: Guernsey<br>Vaccine: Oxford/AstraZeneca<extra></extra>",
          "Country: Guinea-Bissau<br>Vaccine: Oxford/AstraZeneca<extra></extra>",
          "Country: Guyana<br>Vaccine: Oxford/AstraZeneca<extra></extra>",
          "Country: Honduras<br>Vaccine: Oxford/AstraZeneca<extra></extra>",
          "Country: Hungary<br>Vaccine: Oxford/AstraZeneca<extra></extra>",
          "Country: Iceland<br>Vaccine: Oxford/AstraZeneca<extra></extra>",
          "Country: India<br>Vaccine: Oxford/AstraZeneca<extra></extra>",
          "Country: Indonesia<br>Vaccine: Oxford/AstraZeneca<extra></extra>",
          "Country: Iran<br>Vaccine: Oxford/AstraZeneca<extra></extra>",
          "Country: Iraq<br>Vaccine: Oxford/AstraZeneca<extra></extra>",
          "Country: Ireland<br>Vaccine: Oxford/AstraZeneca<extra></extra>",
          "Country: Isle of Man<br>Vaccine: Oxford/AstraZeneca<extra></extra>",
          "Country: Italy<br>Vaccine: Oxford/AstraZeneca<extra></extra>",
          "Country: Jamaica<br>Vaccine: Oxford/AstraZeneca<extra></extra>",
          "Country: Jersey<br>Vaccine: Oxford/AstraZeneca<extra></extra>",
          "Country: Jordan<br>Vaccine: Oxford/AstraZeneca<extra></extra>",
          "Country: Kenya<br>Vaccine: Oxford/AstraZeneca<extra></extra>",
          "Country: Kosovo<br>Vaccine: Oxford/AstraZeneca<extra></extra>",
          "Country: Latvia<br>Vaccine: Oxford/AstraZeneca<extra></extra>",
          "Country: Lebanon<br>Vaccine: Oxford/AstraZeneca<extra></extra>",
          "Country: Lesotho<br>Vaccine: Oxford/AstraZeneca<extra></extra>",
          "Country: Liberia<br>Vaccine: Oxford/AstraZeneca<extra></extra>",
          "Country: Libya<br>Vaccine: Oxford/AstraZeneca<extra></extra>",
          "Country: Lithuania<br>Vaccine: Oxford/AstraZeneca<extra></extra>",
          "Country: Luxembourg<br>Vaccine: Oxford/AstraZeneca<extra></extra>",
          "Country: Madagascar<br>Vaccine: Oxford/AstraZeneca<extra></extra>",
          "Country: Malawi<br>Vaccine: Oxford/AstraZeneca<extra></extra>",
          "Country: Malaysia<br>Vaccine: Oxford/AstraZeneca<extra></extra>",
          "Country: Maldives<br>Vaccine: Oxford/AstraZeneca<extra></extra>",
          "Country: Mali<br>Vaccine: Oxford/AstraZeneca<extra></extra>",
          "Country: Malta<br>Vaccine: Oxford/AstraZeneca<extra></extra>",
          "Country: Mauritania<br>Vaccine: Oxford/AstraZeneca<extra></extra>",
          "Country: Mauritius<br>Vaccine: Oxford/AstraZeneca<extra></extra>",
          "Country: Mexico<br>Vaccine: Oxford/AstraZeneca<extra></extra>",
          "Country: Moldova<br>Vaccine: Oxford/AstraZeneca<extra></extra>",
          "Country: Mongolia<br>Vaccine: Oxford/AstraZeneca<extra></extra>",
          "Country: Montenegro<br>Vaccine: Oxford/AstraZeneca<extra></extra>",
          "Country: Montserrat<br>Vaccine: Oxford/AstraZeneca<extra></extra>",
          "Country: Morocco<br>Vaccine: Oxford/AstraZeneca<extra></extra>",
          "Country: Mozambique<br>Vaccine: Oxford/AstraZeneca<extra></extra>",
          "Country: Myanmar<br>Vaccine: Oxford/AstraZeneca<extra></extra>",
          "Country: Namibia<br>Vaccine: Oxford/AstraZeneca<extra></extra>",
          "Country: Nauru<br>Vaccine: Oxford/AstraZeneca<extra></extra>",
          "Country: Nepal<br>Vaccine: Oxford/AstraZeneca<extra></extra>",
          "Country: Netherlands<br>Vaccine: Oxford/AstraZeneca<extra></extra>",
          "Country: Nicaragua<br>Vaccine: Oxford/AstraZeneca<extra></extra>",
          "Country: Niger<br>Vaccine: Oxford/AstraZeneca<extra></extra>",
          "Country: Nigeria<br>Vaccine: Oxford/AstraZeneca<extra></extra>",
          "Country: North Macedonia<br>Vaccine: Oxford/AstraZeneca<extra></extra>",
          "Country: Northern Cyprus<br>Vaccine: Oxford/AstraZeneca<extra></extra>",
          "Country: Northern Ireland<br>Vaccine: Oxford/AstraZeneca<extra></extra>",
          "Country: Oman<br>Vaccine: Oxford/AstraZeneca<extra></extra>",
          "Country: Pakistan<br>Vaccine: Oxford/AstraZeneca<extra></extra>",
          "Country: Palestine<br>Vaccine: Oxford/AstraZeneca<extra></extra>",
          "Country: Panama<br>Vaccine: Oxford/AstraZeneca<extra></extra>",
          "Country: Papua New Guinea<br>Vaccine: Oxford/AstraZeneca<extra></extra>",
          "Country: Paraguay<br>Vaccine: Oxford/AstraZeneca<extra></extra>",
          "Country: Peru<br>Vaccine: Oxford/AstraZeneca<extra></extra>",
          "Country: Philippines<br>Vaccine: Oxford/AstraZeneca<extra></extra>",
          "Country: Pitcairn<br>Vaccine: Oxford/AstraZeneca<extra></extra>",
          "Country: Poland<br>Vaccine: Oxford/AstraZeneca<extra></extra>",
          "Country: Portugal<br>Vaccine: Oxford/AstraZeneca<extra></extra>",
          "Country: Romania<br>Vaccine: Oxford/AstraZeneca<extra></extra>",
          "Country: Rwanda<br>Vaccine: Oxford/AstraZeneca<extra></extra>",
          "Country: Saint Helena<br>Vaccine: Oxford/AstraZeneca<extra></extra>",
          "Country: Saint Kitts and Nevis<br>Vaccine: Oxford/AstraZeneca<extra></extra>",
          "Country: Saint Lucia<br>Vaccine: Oxford/AstraZeneca<extra></extra>",
          "Country: Saint Vincent and the Grenadines<br>Vaccine: Oxford/AstraZeneca<extra></extra>",
          "Country: Samoa<br>Vaccine: Oxford/AstraZeneca<extra></extra>",
          "Country: Sao Tome and Principe<br>Vaccine: Oxford/AstraZeneca<extra></extra>",
          "Country: Saudi Arabia<br>Vaccine: Oxford/AstraZeneca<extra></extra>",
          "Country: Scotland<br>Vaccine: Oxford/AstraZeneca<extra></extra>",
          "Country: Senegal<br>Vaccine: Oxford/AstraZeneca<extra></extra>",
          "Country: Serbia<br>Vaccine: Oxford/AstraZeneca<extra></extra>",
          "Country: Seychelles<br>Vaccine: Oxford/AstraZeneca<extra></extra>",
          "Country: Sierra Leone<br>Vaccine: Oxford/AstraZeneca<extra></extra>",
          "Country: Sint Maarten (Dutch part)<br>Vaccine: Oxford/AstraZeneca<extra></extra>",
          "Country: Slovakia<br>Vaccine: Oxford/AstraZeneca<extra></extra>",
          "Country: Slovenia<br>Vaccine: Oxford/AstraZeneca<extra></extra>",
          "Country: Solomon Islands<br>Vaccine: Oxford/AstraZeneca<extra></extra>",
          "Country: Somalia<br>Vaccine: Oxford/AstraZeneca<extra></extra>",
          "Country: South Korea<br>Vaccine: Oxford/AstraZeneca<extra></extra>",
          "Country: South Sudan<br>Vaccine: Oxford/AstraZeneca<extra></extra>",
          "Country: Spain<br>Vaccine: Oxford/AstraZeneca<extra></extra>",
          "Country: Sri Lanka<br>Vaccine: Oxford/AstraZeneca<extra></extra>",
          "Country: Sudan<br>Vaccine: Oxford/AstraZeneca<extra></extra>",
          "Country: Suriname<br>Vaccine: Oxford/AstraZeneca<extra></extra>",
          "Country: Sweden<br>Vaccine: Oxford/AstraZeneca<extra></extra>",
          "Country: Syria<br>Vaccine: Oxford/AstraZeneca<extra></extra>",
          "Country: Taiwan<br>Vaccine: Oxford/AstraZeneca<extra></extra>",
          "Country: Tajikistan<br>Vaccine: Oxford/AstraZeneca<extra></extra>",
          "Country: Thailand<br>Vaccine: Oxford/AstraZeneca<extra></extra>",
          "Country: Timor<br>Vaccine: Oxford/AstraZeneca<extra></extra>",
          "Country: Togo<br>Vaccine: Oxford/AstraZeneca<extra></extra>",
          "Country: Tonga<br>Vaccine: Oxford/AstraZeneca<extra></extra>",
          "Country: Trinidad and Tobago<br>Vaccine: Oxford/AstraZeneca<extra></extra>",
          "Country: Tunisia<br>Vaccine: Oxford/AstraZeneca<extra></extra>",
          "Country: Turkmenistan<br>Vaccine: Oxford/AstraZeneca<extra></extra>",
          "Country: Tuvalu<br>Vaccine: Oxford/AstraZeneca<extra></extra>",
          "Country: Uganda<br>Vaccine: Oxford/AstraZeneca<extra></extra>",
          "Country: Ukraine<br>Vaccine: Oxford/AstraZeneca<extra></extra>",
          "Country: United Arab Emirates<br>Vaccine: Oxford/AstraZeneca<extra></extra>",
          "Country: United Kingdom<br>Vaccine: Oxford/AstraZeneca<extra></extra>",
          "Country: Uruguay<br>Vaccine: Oxford/AstraZeneca<extra></extra>",
          "Country: Uzbekistan<br>Vaccine: Oxford/AstraZeneca<extra></extra>",
          "Country: Vanuatu<br>Vaccine: Oxford/AstraZeneca<extra></extra>",
          "Country: Vietnam<br>Vaccine: Oxford/AstraZeneca<extra></extra>",
          "Country: Wales<br>Vaccine: Oxford/AstraZeneca<extra></extra>",
          "Country: Wallis and Futuna<br>Vaccine: Oxford/AstraZeneca<extra></extra>",
          "Country: Yemen<br>Vaccine: Oxford/AstraZeneca<extra></extra>",
          "Country: Zambia<br>Vaccine: Oxford/AstraZeneca<extra></extra>"
         ],
         "locations": [
          "AFG",
          "ALB",
          "DZA",
          "AND",
          "AGO",
          "AIA",
          "ATG",
          "ARG",
          "ARM",
          "AUS",
          "AUT",
          "AZE",
          "BHS",
          "BHR",
          "BGD",
          "BRB",
          "BEL",
          "BLZ",
          "BEN",
          "BTN",
          "BOL",
          "BIH",
          "BWA",
          "BRA",
          "VGB",
          "BRN",
          "BGR",
          "BFA",
          "KHM",
          "CMR",
          "CAN",
          "CPV",
          "CYM",
          "CAF",
          "CHL",
          "COL",
          "COM",
          "COG",
          "COK",
          "CRI",
          "CIV",
          "HRV",
          "CYP",
          "CZE",
          "COD",
          "DJI",
          "DMA",
          "DOM",
          "ECU",
          "EGY",
          "SLV",
          "OWID_ENG",
          "EST",
          "SWZ",
          "ETH",
          "FLK",
          "FJI",
          "FIN",
          "FRA",
          "PYF",
          "GMB",
          "GEO",
          "DEU",
          "GHA",
          "GRC",
          "GRD",
          "GTM",
          "GGY",
          "GNB",
          "GUY",
          "HND",
          "HUN",
          "ISL",
          "IND",
          "IDN",
          "IRN",
          "IRQ",
          "IRL",
          "IMN",
          "ITA",
          "JAM",
          "JEY",
          "JOR",
          "KEN",
          "OWID_KOS",
          "LVA",
          "LBN",
          "LSO",
          "LBR",
          "LBY",
          "LTU",
          "LUX",
          "MDG",
          "MWI",
          "MYS",
          "MDV",
          "MLI",
          "MLT",
          "MRT",
          "MUS",
          "MEX",
          "MDA",
          "MNG",
          "MNE",
          "MSR",
          "MAR",
          "MOZ",
          "MMR",
          "NAM",
          "NRU",
          "NPL",
          "NLD",
          "NIC",
          "NER",
          "NGA",
          "MKD",
          "OWID_CYN",
          "OWID_NIR",
          "OMN",
          "PAK",
          "PSE",
          "PAN",
          "PNG",
          "PRY",
          "PER",
          "PHL",
          "PCN",
          "POL",
          "PRT",
          "ROU",
          "RWA",
          "SHN",
          "KNA",
          "LCA",
          "VCT",
          "WSM",
          "STP",
          "SAU",
          "OWID_SCT",
          "SEN",
          "SRB",
          "SYC",
          "SLE",
          "SXM",
          "SVK",
          "SVN",
          "SLB",
          "SOM",
          "KOR",
          "SSD",
          "ESP",
          "LKA",
          "SDN",
          "SUR",
          "SWE",
          "SYR",
          "TWN",
          "TJK",
          "THA",
          "TLS",
          "TGO",
          "TON",
          "TTO",
          "TUN",
          "TKM",
          "TUV",
          "UGA",
          "UKR",
          "ARE",
          "GBR",
          "URY",
          "UZB",
          "VUT",
          "VNM",
          "OWID_WLS",
          "WLF",
          "YEM",
          "ZMB"
         ],
         "marker": {
          "line": {
           "color": "white"
          }
         },
         "type": "choropleth",
         "visible": false,
         "z": [
          1,
          1,
          1,
          1,
          1,
          1,
          1,
          1,
          1,
          1,
          1,
          1,
          1,
          1,
          1,
          1,
          1,
          1,
          1,
          1,
          1,
          1,
          1,
          1,
          1,
          1,
          1,
          1,
          1,
          1,
          1,
          1,
          1,
          1,
          1,
          1,
          1,
          1,
          1,
          1,
          1,
          1,
          1,
          1,
          1,
          1,
          1,
          1,
          1,
          1,
          1,
          1,
          1,
          1,
          1,
          1,
          1,
          1,
          1,
          1,
          1,
          1,
          1,
          1,
          1,
          1,
          1,
          1,
          1,
          1,
          1,
          1,
          1,
          1,
          1,
          1,
          1,
          1,
          1,
          1,
          1,
          1,
          1,
          1,
          1,
          1,
          1,
          1,
          1,
          1,
          1,
          1,
          1,
          1,
          1,
          1,
          1,
          1,
          1,
          1,
          1,
          1,
          1,
          1,
          1,
          1,
          1,
          1,
          1,
          1,
          1,
          1,
          1,
          1,
          1,
          1,
          1,
          1,
          1,
          1,
          1,
          1,
          1,
          1,
          1,
          1,
          1,
          1,
          1,
          1,
          1,
          1,
          1,
          1,
          1,
          1,
          1,
          1,
          1,
          1,
          1,
          1,
          1,
          1,
          1,
          1,
          1,
          1,
          1,
          1,
          1,
          1,
          1,
          1,
          1,
          1,
          1,
          1,
          1,
          1,
          1,
          1,
          1,
          1,
          1,
          1,
          1,
          1,
          1,
          1,
          1,
          1,
          1,
          1,
          1,
          1,
          1,
          1
         ]
        },
        {
         "autocolorscale": false,
         "coloraxis": "coloraxis",
         "colorscale": [
          [
           0,
           "rgb(247,251,255)"
          ],
          [
           0.125,
           "rgb(222,235,247)"
          ],
          [
           0.25,
           "rgb(198,219,239)"
          ],
          [
           0.375,
           "rgb(158,202,225)"
          ],
          [
           0.5,
           "rgb(107,174,214)"
          ],
          [
           0.625,
           "rgb(66,146,198)"
          ],
          [
           0.75,
           "rgb(33,113,181)"
          ],
          [
           0.875,
           "rgb(8,81,156)"
          ],
          [
           1,
           "rgb(8,48,107)"
          ]
         ],
         "hovertemplate": [
          "Country: Afghanistan<br>Vaccine: Pfizer/BioNTech<extra></extra>",
          "Country: Albania<br>Vaccine: Pfizer/BioNTech<extra></extra>",
          "Country: Andorra<br>Vaccine: Pfizer/BioNTech<extra></extra>",
          "Country: Aruba<br>Vaccine: Pfizer/BioNTech<extra></extra>",
          "Country: Australia<br>Vaccine: Pfizer/BioNTech<extra></extra>",
          "Country: Austria<br>Vaccine: Pfizer/BioNTech<extra></extra>",
          "Country: Bahrain<br>Vaccine: Pfizer/BioNTech<extra></extra>",
          "Country: Bangladesh<br>Vaccine: Pfizer/BioNTech<extra></extra>",
          "Country: Belgium<br>Vaccine: Pfizer/BioNTech<extra></extra>",
          "Country: Bermuda<br>Vaccine: Pfizer/BioNTech<extra></extra>",
          "Country: Bhutan<br>Vaccine: Pfizer/BioNTech<extra></extra>",
          "Country: Bolivia<br>Vaccine: Pfizer/BioNTech<extra></extra>",
          "Country: Bonaire Sint Eustatius and Saba<br>Vaccine: Pfizer/BioNTech<extra></extra>",
          "Country: Bosnia and Herzegovina<br>Vaccine: Pfizer/BioNTech<extra></extra>",
          "Country: Brazil<br>Vaccine: Pfizer/BioNTech<extra></extra>",
          "Country: Bulgaria<br>Vaccine: Pfizer/BioNTech<extra></extra>",
          "Country: Canada<br>Vaccine: Pfizer/BioNTech<extra></extra>",
          "Country: Cape Verde<br>Vaccine: Pfizer/BioNTech<extra></extra>",
          "Country: Cayman Islands<br>Vaccine: Pfizer/BioNTech<extra></extra>",
          "Country: Chile<br>Vaccine: Pfizer/BioNTech<extra></extra>",
          "Country: Colombia<br>Vaccine: Pfizer/BioNTech<extra></extra>",
          "Country: Costa Rica<br>Vaccine: Pfizer/BioNTech<extra></extra>",
          "Country: Croatia<br>Vaccine: Pfizer/BioNTech<extra></extra>",
          "Country: Curacao<br>Vaccine: Pfizer/BioNTech<extra></extra>",
          "Country: Cyprus<br>Vaccine: Pfizer/BioNTech<extra></extra>",
          "Country: Czechia<br>Vaccine: Pfizer/BioNTech<extra></extra>",
          "Country: Denmark<br>Vaccine: Pfizer/BioNTech<extra></extra>",
          "Country: Dominican Republic<br>Vaccine: Pfizer/BioNTech<extra></extra>",
          "Country: Ecuador<br>Vaccine: Pfizer/BioNTech<extra></extra>",
          "Country: El Salvador<br>Vaccine: Pfizer/BioNTech<extra></extra>",
          "Country: England<br>Vaccine: Pfizer/BioNTech<extra></extra>",
          "Country: Estonia<br>Vaccine: Pfizer/BioNTech<extra></extra>",
          "Country: Faeroe Islands<br>Vaccine: Pfizer/BioNTech<extra></extra>",
          "Country: Finland<br>Vaccine: Pfizer/BioNTech<extra></extra>",
          "Country: France<br>Vaccine: Pfizer/BioNTech<extra></extra>",
          "Country: Germany<br>Vaccine: Pfizer/BioNTech<extra></extra>",
          "Country: Gibraltar<br>Vaccine: Pfizer/BioNTech<extra></extra>",
          "Country: Greece<br>Vaccine: Pfizer/BioNTech<extra></extra>",
          "Country: Guernsey<br>Vaccine: Pfizer/BioNTech<extra></extra>",
          "Country: Hong Kong<br>Vaccine: Pfizer/BioNTech<extra></extra>",
          "Country: Hungary<br>Vaccine: Pfizer/BioNTech<extra></extra>",
          "Country: Iceland<br>Vaccine: Pfizer/BioNTech<extra></extra>",
          "Country: Iraq<br>Vaccine: Pfizer/BioNTech<extra></extra>",
          "Country: Ireland<br>Vaccine: Pfizer/BioNTech<extra></extra>",
          "Country: Isle of Man<br>Vaccine: Pfizer/BioNTech<extra></extra>",
          "Country: Israel<br>Vaccine: Pfizer/BioNTech<extra></extra>",
          "Country: Italy<br>Vaccine: Pfizer/BioNTech<extra></extra>",
          "Country: Japan<br>Vaccine: Pfizer/BioNTech<extra></extra>",
          "Country: Jersey<br>Vaccine: Pfizer/BioNTech<extra></extra>",
          "Country: Jordan<br>Vaccine: Pfizer/BioNTech<extra></extra>",
          "Country: Kuwait<br>Vaccine: Pfizer/BioNTech<extra></extra>",
          "Country: Latvia<br>Vaccine: Pfizer/BioNTech<extra></extra>",
          "Country: Lebanon<br>Vaccine: Pfizer/BioNTech<extra></extra>",
          "Country: Libya<br>Vaccine: Pfizer/BioNTech<extra></extra>",
          "Country: Liechtenstein<br>Vaccine: Pfizer/BioNTech<extra></extra>",
          "Country: Lithuania<br>Vaccine: Pfizer/BioNTech<extra></extra>",
          "Country: Luxembourg<br>Vaccine: Pfizer/BioNTech<extra></extra>",
          "Country: Macao<br>Vaccine: Pfizer/BioNTech<extra></extra>",
          "Country: Malaysia<br>Vaccine: Pfizer/BioNTech<extra></extra>",
          "Country: Maldives<br>Vaccine: Pfizer/BioNTech<extra></extra>",
          "Country: Malta<br>Vaccine: Pfizer/BioNTech<extra></extra>",
          "Country: Mexico<br>Vaccine: Pfizer/BioNTech<extra></extra>",
          "Country: Moldova<br>Vaccine: Pfizer/BioNTech<extra></extra>",
          "Country: Monaco<br>Vaccine: Pfizer/BioNTech<extra></extra>",
          "Country: Mongolia<br>Vaccine: Pfizer/BioNTech<extra></extra>",
          "Country: Montenegro<br>Vaccine: Pfizer/BioNTech<extra></extra>",
          "Country: Netherlands<br>Vaccine: Pfizer/BioNTech<extra></extra>",
          "Country: New Caledonia<br>Vaccine: Pfizer/BioNTech<extra></extra>",
          "Country: New Zealand<br>Vaccine: Pfizer/BioNTech<extra></extra>",
          "Country: North Macedonia<br>Vaccine: Pfizer/BioNTech<extra></extra>",
          "Country: Northern Cyprus<br>Vaccine: Pfizer/BioNTech<extra></extra>",
          "Country: Northern Ireland<br>Vaccine: Pfizer/BioNTech<extra></extra>",
          "Country: Norway<br>Vaccine: Pfizer/BioNTech<extra></extra>",
          "Country: Oman<br>Vaccine: Pfizer/BioNTech<extra></extra>",
          "Country: Palestine<br>Vaccine: Pfizer/BioNTech<extra></extra>",
          "Country: Panama<br>Vaccine: Pfizer/BioNTech<extra></extra>",
          "Country: Peru<br>Vaccine: Pfizer/BioNTech<extra></extra>",
          "Country: Philippines<br>Vaccine: Pfizer/BioNTech<extra></extra>",
          "Country: Poland<br>Vaccine: Pfizer/BioNTech<extra></extra>",
          "Country: Portugal<br>Vaccine: Pfizer/BioNTech<extra></extra>",
          "Country: Qatar<br>Vaccine: Pfizer/BioNTech<extra></extra>",
          "Country: Romania<br>Vaccine: Pfizer/BioNTech<extra></extra>",
          "Country: Rwanda<br>Vaccine: Pfizer/BioNTech<extra></extra>",
          "Country: San Marino<br>Vaccine: Pfizer/BioNTech<extra></extra>",
          "Country: Saudi Arabia<br>Vaccine: Pfizer/BioNTech<extra></extra>",
          "Country: Scotland<br>Vaccine: Pfizer/BioNTech<extra></extra>",
          "Country: Serbia<br>Vaccine: Pfizer/BioNTech<extra></extra>",
          "Country: Singapore<br>Vaccine: Pfizer/BioNTech<extra></extra>",
          "Country: Sint Maarten (Dutch part)<br>Vaccine: Pfizer/BioNTech<extra></extra>",
          "Country: Slovakia<br>Vaccine: Pfizer/BioNTech<extra></extra>",
          "Country: Slovenia<br>Vaccine: Pfizer/BioNTech<extra></extra>",
          "Country: South Africa<br>Vaccine: Pfizer/BioNTech<extra></extra>",
          "Country: South Korea<br>Vaccine: Pfizer/BioNTech<extra></extra>",
          "Country: Spain<br>Vaccine: Pfizer/BioNTech<extra></extra>",
          "Country: Sudan<br>Vaccine: Pfizer/BioNTech<extra></extra>",
          "Country: Sweden<br>Vaccine: Pfizer/BioNTech<extra></extra>",
          "Country: Switzerland<br>Vaccine: Pfizer/BioNTech<extra></extra>",
          "Country: Tunisia<br>Vaccine: Pfizer/BioNTech<extra></extra>",
          "Country: Turkey<br>Vaccine: Pfizer/BioNTech<extra></extra>",
          "Country: Turks and Caicos Islands<br>Vaccine: Pfizer/BioNTech<extra></extra>",
          "Country: Ukraine<br>Vaccine: Pfizer/BioNTech<extra></extra>",
          "Country: United Arab Emirates<br>Vaccine: Pfizer/BioNTech<extra></extra>",
          "Country: United Kingdom<br>Vaccine: Pfizer/BioNTech<extra></extra>",
          "Country: United States<br>Vaccine: Pfizer/BioNTech<extra></extra>",
          "Country: Uruguay<br>Vaccine: Pfizer/BioNTech<extra></extra>",
          "Country: Wales<br>Vaccine: Pfizer/BioNTech<extra></extra>"
         ],
         "locations": [
          "AFG",
          "ALB",
          "AND",
          "ABW",
          "AUS",
          "AUT",
          "BHR",
          "BGD",
          "BEL",
          "BMU",
          "BTN",
          "BOL",
          "BES",
          "BIH",
          "BRA",
          "BGR",
          "CAN",
          "CPV",
          "CYM",
          "CHL",
          "COL",
          "CRI",
          "HRV",
          "CUW",
          "CYP",
          "CZE",
          "DNK",
          "DOM",
          "ECU",
          "SLV",
          "OWID_ENG",
          "EST",
          "FRO",
          "FIN",
          "FRA",
          "DEU",
          "GIB",
          "GRC",
          "GGY",
          "HKG",
          "HUN",
          "ISL",
          "IRQ",
          "IRL",
          "IMN",
          "ISR",
          "ITA",
          "JPN",
          "JEY",
          "JOR",
          "KWT",
          "LVA",
          "LBN",
          "LBY",
          "LIE",
          "LTU",
          "LUX",
          "MAC",
          "MYS",
          "MDV",
          "MLT",
          "MEX",
          "MDA",
          "MCO",
          "MNG",
          "MNE",
          "NLD",
          "NCL",
          "NZL",
          "MKD",
          "OWID_CYN",
          "OWID_NIR",
          "NOR",
          "OMN",
          "PSE",
          "PAN",
          "PER",
          "PHL",
          "POL",
          "PRT",
          "QAT",
          "ROU",
          "RWA",
          "SMR",
          "SAU",
          "OWID_SCT",
          "SRB",
          "SGP",
          "SXM",
          "SVK",
          "SVN",
          "ZAF",
          "KOR",
          "ESP",
          "SDN",
          "SWE",
          "CHE",
          "TUN",
          "TUR",
          "TCA",
          "UKR",
          "ARE",
          "GBR",
          "USA",
          "URY",
          "OWID_WLS"
         ],
         "marker": {
          "line": {
           "color": "white"
          }
         },
         "type": "choropleth",
         "visible": false,
         "z": [
          1,
          1,
          1,
          1,
          1,
          1,
          1,
          1,
          1,
          1,
          1,
          1,
          1,
          1,
          1,
          1,
          1,
          1,
          1,
          1,
          1,
          1,
          1,
          1,
          1,
          1,
          1,
          1,
          1,
          1,
          1,
          1,
          1,
          1,
          1,
          1,
          1,
          1,
          1,
          1,
          1,
          1,
          1,
          1,
          1,
          1,
          1,
          1,
          1,
          1,
          1,
          1,
          1,
          1,
          1,
          1,
          1,
          1,
          1,
          1,
          1,
          1,
          1,
          1,
          1,
          1,
          1,
          1,
          1,
          1,
          1,
          1,
          1,
          1,
          1,
          1,
          1,
          1,
          1,
          1,
          1,
          1,
          1,
          1,
          1,
          1,
          1,
          1,
          1,
          1,
          1,
          1,
          1,
          1,
          1,
          1,
          1,
          1,
          1,
          1,
          1,
          1,
          1,
          1,
          1,
          1
         ]
        },
        {
         "autocolorscale": false,
         "coloraxis": "coloraxis",
         "colorscale": [
          [
           0,
           "rgb(247,251,255)"
          ],
          [
           0.125,
           "rgb(222,235,247)"
          ],
          [
           0.25,
           "rgb(198,219,239)"
          ],
          [
           0.375,
           "rgb(158,202,225)"
          ],
          [
           0.5,
           "rgb(107,174,214)"
          ],
          [
           0.625,
           "rgb(66,146,198)"
          ],
          [
           0.75,
           "rgb(33,113,181)"
          ],
          [
           0.875,
           "rgb(8,81,156)"
          ],
          [
           1,
           "rgb(8,48,107)"
          ]
         ],
         "hovertemplate": [
          "Country: Albania<br>Vaccine: Sinovac<extra></extra>",
          "Country: Armenia<br>Vaccine: Sinovac<extra></extra>",
          "Country: Azerbaijan<br>Vaccine: Sinovac<extra></extra>",
          "Country: Benin<br>Vaccine: Sinovac<extra></extra>",
          "Country: Bosnia and Herzegovina<br>Vaccine: Sinovac<extra></extra>",
          "Country: Brazil<br>Vaccine: Sinovac<extra></extra>",
          "Country: Cambodia<br>Vaccine: Sinovac<extra></extra>",
          "Country: Chile<br>Vaccine: Sinovac<extra></extra>",
          "Country: China<br>Vaccine: Sinovac<extra></extra>",
          "Country: Colombia<br>Vaccine: Sinovac<extra></extra>",
          "Country: Djibouti<br>Vaccine: Sinovac<extra></extra>",
          "Country: Dominican Republic<br>Vaccine: Sinovac<extra></extra>",
          "Country: Ecuador<br>Vaccine: Sinovac<extra></extra>",
          "Country: Egypt<br>Vaccine: Sinovac<extra></extra>",
          "Country: El Salvador<br>Vaccine: Sinovac<extra></extra>",
          "Country: Hong Kong<br>Vaccine: Sinovac<extra></extra>",
          "Country: Indonesia<br>Vaccine: Sinovac<extra></extra>",
          "Country: Libya<br>Vaccine: Sinovac<extra></extra>",
          "Country: Malaysia<br>Vaccine: Sinovac<extra></extra>",
          "Country: Mexico<br>Vaccine: Sinovac<extra></extra>",
          "Country: North Macedonia<br>Vaccine: Sinovac<extra></extra>",
          "Country: Northern Cyprus<br>Vaccine: Sinovac<extra></extra>",
          "Country: Pakistan<br>Vaccine: Sinovac<extra></extra>",
          "Country: Paraguay<br>Vaccine: Sinovac<extra></extra>",
          "Country: Philippines<br>Vaccine: Sinovac<extra></extra>",
          "Country: Singapore<br>Vaccine: Sinovac<extra></extra>",
          "Country: Somalia<br>Vaccine: Sinovac<extra></extra>",
          "Country: Sudan<br>Vaccine: Sinovac<extra></extra>",
          "Country: Tajikistan<br>Vaccine: Sinovac<extra></extra>",
          "Country: Thailand<br>Vaccine: Sinovac<extra></extra>",
          "Country: Timor<br>Vaccine: Sinovac<extra></extra>",
          "Country: Tunisia<br>Vaccine: Sinovac<extra></extra>",
          "Country: Turkey<br>Vaccine: Sinovac<extra></extra>",
          "Country: Ukraine<br>Vaccine: Sinovac<extra></extra>",
          "Country: Uruguay<br>Vaccine: Sinovac<extra></extra>"
         ],
         "locations": [
          "ALB",
          "ARM",
          "AZE",
          "BEN",
          "BIH",
          "BRA",
          "KHM",
          "CHL",
          "CHN",
          "COL",
          "DJI",
          "DOM",
          "ECU",
          "EGY",
          "SLV",
          "HKG",
          "IDN",
          "LBY",
          "MYS",
          "MEX",
          "MKD",
          "OWID_CYN",
          "PAK",
          "PRY",
          "PHL",
          "SGP",
          "SOM",
          "SDN",
          "TJK",
          "THA",
          "TLS",
          "TUN",
          "TUR",
          "UKR",
          "URY"
         ],
         "marker": {
          "line": {
           "color": "white"
          }
         },
         "type": "choropleth",
         "visible": false,
         "z": [
          1,
          1,
          1,
          1,
          1,
          1,
          1,
          1,
          1,
          1,
          1,
          1,
          1,
          1,
          1,
          1,
          1,
          1,
          1,
          1,
          1,
          1,
          1,
          1,
          1,
          1,
          1,
          1,
          1,
          1,
          1,
          1,
          1,
          1,
          1
         ]
        },
        {
         "autocolorscale": false,
         "coloraxis": "coloraxis",
         "colorscale": [
          [
           0,
           "rgb(247,251,255)"
          ],
          [
           0.125,
           "rgb(222,235,247)"
          ],
          [
           0.25,
           "rgb(198,219,239)"
          ],
          [
           0.375,
           "rgb(158,202,225)"
          ],
          [
           0.5,
           "rgb(107,174,214)"
          ],
          [
           0.625,
           "rgb(66,146,198)"
          ],
          [
           0.75,
           "rgb(33,113,181)"
          ],
          [
           0.875,
           "rgb(8,81,156)"
          ],
          [
           1,
           "rgb(8,48,107)"
          ]
         ],
         "hovertemplate": [
          "Country: Albania<br>Vaccine: Sputnik V<extra></extra>",
          "Country: Algeria<br>Vaccine: Sputnik V<extra></extra>",
          "Country: Argentina<br>Vaccine: Sputnik V<extra></extra>",
          "Country: Armenia<br>Vaccine: Sputnik V<extra></extra>",
          "Country: Azerbaijan<br>Vaccine: Sputnik V<extra></extra>",
          "Country: Bahrain<br>Vaccine: Sputnik V<extra></extra>",
          "Country: Belarus<br>Vaccine: Sputnik V<extra></extra>",
          "Country: Bolivia<br>Vaccine: Sputnik V<extra></extra>",
          "Country: Bosnia and Herzegovina<br>Vaccine: Sputnik V<extra></extra>",
          "Country: Congo<br>Vaccine: Sputnik V<extra></extra>",
          "Country: Djibouti<br>Vaccine: Sputnik V<extra></extra>",
          "Country: Egypt<br>Vaccine: Sputnik V<extra></extra>",
          "Country: Ghana<br>Vaccine: Sputnik V<extra></extra>",
          "Country: Guinea<br>Vaccine: Sputnik V<extra></extra>",
          "Country: Guyana<br>Vaccine: Sputnik V<extra></extra>",
          "Country: Honduras<br>Vaccine: Sputnik V<extra></extra>",
          "Country: Hungary<br>Vaccine: Sputnik V<extra></extra>",
          "Country: India<br>Vaccine: Sputnik V<extra></extra>",
          "Country: Iran<br>Vaccine: Sputnik V<extra></extra>",
          "Country: Iraq<br>Vaccine: Sputnik V<extra></extra>",
          "Country: Jordan<br>Vaccine: Sputnik V<extra></extra>",
          "Country: Kazakhstan<br>Vaccine: Sputnik V<extra></extra>",
          "Country: Kenya<br>Vaccine: Sputnik V<extra></extra>",
          "Country: Kyrgyzstan<br>Vaccine: Sputnik V<extra></extra>",
          "Country: Laos<br>Vaccine: Sputnik V<extra></extra>",
          "Country: Lebanon<br>Vaccine: Sputnik V<extra></extra>",
          "Country: Libya<br>Vaccine: Sputnik V<extra></extra>",
          "Country: Mexico<br>Vaccine: Sputnik V<extra></extra>",
          "Country: Moldova<br>Vaccine: Sputnik V<extra></extra>",
          "Country: Mongolia<br>Vaccine: Sputnik V<extra></extra>",
          "Country: Montenegro<br>Vaccine: Sputnik V<extra></extra>",
          "Country: Nicaragua<br>Vaccine: Sputnik V<extra></extra>",
          "Country: North Macedonia<br>Vaccine: Sputnik V<extra></extra>",
          "Country: Pakistan<br>Vaccine: Sputnik V<extra></extra>",
          "Country: Paraguay<br>Vaccine: Sputnik V<extra></extra>",
          "Country: Philippines<br>Vaccine: Sputnik V<extra></extra>",
          "Country: Russia<br>Vaccine: Sputnik V<extra></extra>",
          "Country: San Marino<br>Vaccine: Sputnik V<extra></extra>",
          "Country: Serbia<br>Vaccine: Sputnik V<extra></extra>",
          "Country: Sri Lanka<br>Vaccine: Sputnik V<extra></extra>",
          "Country: Syria<br>Vaccine: Sputnik V<extra></extra>",
          "Country: Tunisia<br>Vaccine: Sputnik V<extra></extra>",
          "Country: Turkmenistan<br>Vaccine: Sputnik V<extra></extra>",
          "Country: United Arab Emirates<br>Vaccine: Sputnik V<extra></extra>",
          "Country: Uzbekistan<br>Vaccine: Sputnik V<extra></extra>",
          "Country: Venezuela<br>Vaccine: Sputnik V<extra></extra>"
         ],
         "locations": [
          "ALB",
          "DZA",
          "ARG",
          "ARM",
          "AZE",
          "BHR",
          "BLR",
          "BOL",
          "BIH",
          "COG",
          "DJI",
          "EGY",
          "GHA",
          "GIN",
          "GUY",
          "HND",
          "HUN",
          "IND",
          "IRN",
          "IRQ",
          "JOR",
          "KAZ",
          "KEN",
          "KGZ",
          "LAO",
          "LBN",
          "LBY",
          "MEX",
          "MDA",
          "MNG",
          "MNE",
          "NIC",
          "MKD",
          "PAK",
          "PRY",
          "PHL",
          "RUS",
          "SMR",
          "SRB",
          "LKA",
          "SYR",
          "TUN",
          "TKM",
          "ARE",
          "UZB",
          "VEN"
         ],
         "marker": {
          "line": {
           "color": "white"
          }
         },
         "type": "choropleth",
         "visible": false,
         "z": [
          1,
          1,
          1,
          1,
          1,
          1,
          1,
          1,
          1,
          1,
          1,
          1,
          1,
          1,
          1,
          1,
          1,
          1,
          1,
          1,
          1,
          1,
          1,
          1,
          1,
          1,
          1,
          1,
          1,
          1,
          1,
          1,
          1,
          1,
          1,
          1,
          1,
          1,
          1,
          1,
          1,
          1,
          1,
          1,
          1,
          1
         ]
        },
        {
         "autocolorscale": false,
         "coloraxis": "coloraxis",
         "colorscale": [
          [
           0,
           "rgb(247,251,255)"
          ],
          [
           0.125,
           "rgb(222,235,247)"
          ],
          [
           0.25,
           "rgb(198,219,239)"
          ],
          [
           0.375,
           "rgb(158,202,225)"
          ],
          [
           0.5,
           "rgb(107,174,214)"
          ],
          [
           0.625,
           "rgb(66,146,198)"
          ],
          [
           0.75,
           "rgb(33,113,181)"
          ],
          [
           0.875,
           "rgb(8,81,156)"
          ],
          [
           1,
           "rgb(8,48,107)"
          ]
         ],
         "hovertemplate": [
          "Country: Argentina<br>Vaccine: Sinopharm/Beijing<extra></extra>",
          "Country: Bahrain<br>Vaccine: Sinopharm/Beijing<extra></extra>",
          "Country: Belize<br>Vaccine: Sinopharm/Beijing<extra></extra>",
          "Country: Bolivia<br>Vaccine: Sinopharm/Beijing<extra></extra>",
          "Country: Brunei<br>Vaccine: Sinopharm/Beijing<extra></extra>",
          "Country: Cambodia<br>Vaccine: Sinopharm/Beijing<extra></extra>",
          "Country: China<br>Vaccine: Sinopharm/Beijing<extra></extra>",
          "Country: Comoros<br>Vaccine: Sinopharm/Beijing<extra></extra>",
          "Country: Dominican Republic<br>Vaccine: Sinopharm/Beijing<extra></extra>",
          "Country: Equatorial Guinea<br>Vaccine: Sinopharm/Beijing<extra></extra>",
          "Country: Hungary<br>Vaccine: Sinopharm/Beijing<extra></extra>",
          "Country: Jordan<br>Vaccine: Sinopharm/Beijing<extra></extra>",
          "Country: Kyrgyzstan<br>Vaccine: Sinopharm/Beijing<extra></extra>",
          "Country: Laos<br>Vaccine: Sinopharm/Beijing<extra></extra>",
          "Country: Lebanon<br>Vaccine: Sinopharm/Beijing<extra></extra>",
          "Country: Macao<br>Vaccine: Sinopharm/Beijing<extra></extra>",
          "Country: Maldives<br>Vaccine: Sinopharm/Beijing<extra></extra>",
          "Country: Moldova<br>Vaccine: Sinopharm/Beijing<extra></extra>",
          "Country: Mongolia<br>Vaccine: Sinopharm/Beijing<extra></extra>",
          "Country: Montenegro<br>Vaccine: Sinopharm/Beijing<extra></extra>",
          "Country: Morocco<br>Vaccine: Sinopharm/Beijing<extra></extra>",
          "Country: Namibia<br>Vaccine: Sinopharm/Beijing<extra></extra>",
          "Country: Nepal<br>Vaccine: Sinopharm/Beijing<extra></extra>",
          "Country: North Macedonia<br>Vaccine: Sinopharm/Beijing<extra></extra>",
          "Country: Pakistan<br>Vaccine: Sinopharm/Beijing<extra></extra>",
          "Country: Paraguay<br>Vaccine: Sinopharm/Beijing<extra></extra>",
          "Country: Peru<br>Vaccine: Sinopharm/Beijing<extra></extra>",
          "Country: Serbia<br>Vaccine: Sinopharm/Beijing<extra></extra>",
          "Country: Seychelles<br>Vaccine: Sinopharm/Beijing<extra></extra>",
          "Country: Sri Lanka<br>Vaccine: Sinopharm/Beijing<extra></extra>",
          "Country: Turkmenistan<br>Vaccine: Sinopharm/Beijing<extra></extra>",
          "Country: United Arab Emirates<br>Vaccine: Sinopharm/Beijing<extra></extra>",
          "Country: Zambia<br>Vaccine: Sinopharm/Beijing<extra></extra>",
          "Country: Zimbabwe<br>Vaccine: Sinopharm/Beijing<extra></extra>"
         ],
         "locations": [
          "ARG",
          "BHR",
          "BLZ",
          "BOL",
          "BRN",
          "KHM",
          "CHN",
          "COM",
          "DOM",
          "GNQ",
          "HUN",
          "JOR",
          "KGZ",
          "LAO",
          "LBN",
          "MAC",
          "MDV",
          "MDA",
          "MNG",
          "MNE",
          "MAR",
          "NAM",
          "NPL",
          "MKD",
          "PAK",
          "PRY",
          "PER",
          "SRB",
          "SYC",
          "LKA",
          "TKM",
          "ARE",
          "ZMB",
          "ZWE"
         ],
         "marker": {
          "line": {
           "color": "white"
          }
         },
         "type": "choropleth",
         "visible": false,
         "z": [
          1,
          1,
          1,
          1,
          1,
          1,
          1,
          1,
          1,
          1,
          1,
          1,
          1,
          1,
          1,
          1,
          1,
          1,
          1,
          1,
          1,
          1,
          1,
          1,
          1,
          1,
          1,
          1,
          1,
          1,
          1,
          1,
          1,
          1
         ]
        },
        {
         "autocolorscale": false,
         "coloraxis": "coloraxis",
         "colorscale": [
          [
           0,
           "rgb(247,251,255)"
          ],
          [
           0.125,
           "rgb(222,235,247)"
          ],
          [
           0.25,
           "rgb(198,219,239)"
          ],
          [
           0.375,
           "rgb(158,202,225)"
          ],
          [
           0.5,
           "rgb(107,174,214)"
          ],
          [
           0.625,
           "rgb(66,146,198)"
          ],
          [
           0.75,
           "rgb(33,113,181)"
          ],
          [
           0.875,
           "rgb(8,81,156)"
          ],
          [
           1,
           "rgb(8,48,107)"
          ]
         ],
         "hovertemplate": [
          "Country: Austria<br>Vaccine: Johnson&Johnson<extra></extra>",
          "Country: Belgium<br>Vaccine: Johnson&Johnson<extra></extra>",
          "Country: Bulgaria<br>Vaccine: Johnson&Johnson<extra></extra>",
          "Country: Cyprus<br>Vaccine: Johnson&Johnson<extra></extra>",
          "Country: Czechia<br>Vaccine: Johnson&Johnson<extra></extra>",
          "Country: Denmark<br>Vaccine: Johnson&Johnson<extra></extra>",
          "Country: Estonia<br>Vaccine: Johnson&Johnson<extra></extra>",
          "Country: France<br>Vaccine: Johnson&Johnson<extra></extra>",
          "Country: Germany<br>Vaccine: Johnson&Johnson<extra></extra>",
          "Country: Greece<br>Vaccine: Johnson&Johnson<extra></extra>",
          "Country: Honduras<br>Vaccine: Johnson&Johnson<extra></extra>",
          "Country: Hungary<br>Vaccine: Johnson&Johnson<extra></extra>",
          "Country: Iceland<br>Vaccine: Johnson&Johnson<extra></extra>",
          "Country: Ireland<br>Vaccine: Johnson&Johnson<extra></extra>",
          "Country: Italy<br>Vaccine: Johnson&Johnson<extra></extra>",
          "Country: Latvia<br>Vaccine: Johnson&Johnson<extra></extra>",
          "Country: Libya<br>Vaccine: Johnson&Johnson<extra></extra>",
          "Country: Lithuania<br>Vaccine: Johnson&Johnson<extra></extra>",
          "Country: Malta<br>Vaccine: Johnson&Johnson<extra></extra>",
          "Country: Netherlands<br>Vaccine: Johnson&Johnson<extra></extra>",
          "Country: Poland<br>Vaccine: Johnson&Johnson<extra></extra>",
          "Country: Portugal<br>Vaccine: Johnson&Johnson<extra></extra>",
          "Country: Romania<br>Vaccine: Johnson&Johnson<extra></extra>",
          "Country: South Africa<br>Vaccine: Johnson&Johnson<extra></extra>",
          "Country: South Korea<br>Vaccine: Johnson&Johnson<extra></extra>",
          "Country: Spain<br>Vaccine: Johnson&Johnson<extra></extra>",
          "Country: United States<br>Vaccine: Johnson&Johnson<extra></extra>"
         ],
         "locations": [
          "AUT",
          "BEL",
          "BGR",
          "CYP",
          "CZE",
          "DNK",
          "EST",
          "FRA",
          "DEU",
          "GRC",
          "HND",
          "HUN",
          "ISL",
          "IRL",
          "ITA",
          "LVA",
          "LBY",
          "LTU",
          "MLT",
          "NLD",
          "POL",
          "PRT",
          "ROU",
          "ZAF",
          "KOR",
          "ESP",
          "USA"
         ],
         "marker": {
          "line": {
           "color": "white"
          }
         },
         "type": "choropleth",
         "visible": false,
         "z": [
          1,
          1,
          1,
          1,
          1,
          1,
          1,
          1,
          1,
          1,
          1,
          1,
          1,
          1,
          1,
          1,
          1,
          1,
          1,
          1,
          1,
          1,
          1,
          1,
          1,
          1,
          1
         ]
        },
        {
         "autocolorscale": false,
         "coloraxis": "coloraxis",
         "colorscale": [
          [
           0,
           "rgb(247,251,255)"
          ],
          [
           0.125,
           "rgb(222,235,247)"
          ],
          [
           0.25,
           "rgb(198,219,239)"
          ],
          [
           0.375,
           "rgb(158,202,225)"
          ],
          [
           0.5,
           "rgb(107,174,214)"
          ],
          [
           0.625,
           "rgb(66,146,198)"
          ],
          [
           0.75,
           "rgb(33,113,181)"
          ],
          [
           0.875,
           "rgb(8,81,156)"
          ],
          [
           1,
           "rgb(8,48,107)"
          ]
         ],
         "hovertemplate": [
          "Country: Austria<br>Vaccine: Moderna<extra></extra>",
          "Country: Belgium<br>Vaccine: Moderna<extra></extra>",
          "Country: Bonaire Sint Eustatius and Saba<br>Vaccine: Moderna<extra></extra>",
          "Country: Bulgaria<br>Vaccine: Moderna<extra></extra>",
          "Country: Canada<br>Vaccine: Moderna<extra></extra>",
          "Country: Congo<br>Vaccine: Moderna<extra></extra>",
          "Country: Croatia<br>Vaccine: Moderna<extra></extra>",
          "Country: Curacao<br>Vaccine: Moderna<extra></extra>",
          "Country: Cyprus<br>Vaccine: Moderna<extra></extra>",
          "Country: Czechia<br>Vaccine: Moderna<extra></extra>",
          "Country: Denmark<br>Vaccine: Moderna<extra></extra>",
          "Country: England<br>Vaccine: Moderna<extra></extra>",
          "Country: Estonia<br>Vaccine: Moderna<extra></extra>",
          "Country: Faeroe Islands<br>Vaccine: Moderna<extra></extra>",
          "Country: Finland<br>Vaccine: Moderna<extra></extra>",
          "Country: France<br>Vaccine: Moderna<extra></extra>",
          "Country: Germany<br>Vaccine: Moderna<extra></extra>",
          "Country: Greece<br>Vaccine: Moderna<extra></extra>",
          "Country: Greenland<br>Vaccine: Moderna<extra></extra>",
          "Country: Guatemala<br>Vaccine: Moderna<extra></extra>",
          "Country: Guernsey<br>Vaccine: Moderna<extra></extra>",
          "Country: Honduras<br>Vaccine: Moderna<extra></extra>",
          "Country: Hungary<br>Vaccine: Moderna<extra></extra>",
          "Country: Iceland<br>Vaccine: Moderna<extra></extra>",
          "Country: Ireland<br>Vaccine: Moderna<extra></extra>",
          "Country: Israel<br>Vaccine: Moderna<extra></extra>",
          "Country: Italy<br>Vaccine: Moderna<extra></extra>",
          "Country: Japan<br>Vaccine: Moderna<extra></extra>",
          "Country: Jersey<br>Vaccine: Moderna<extra></extra>",
          "Country: Latvia<br>Vaccine: Moderna<extra></extra>",
          "Country: Libya<br>Vaccine: Moderna<extra></extra>",
          "Country: Liechtenstein<br>Vaccine: Moderna<extra></extra>",
          "Country: Lithuania<br>Vaccine: Moderna<extra></extra>",
          "Country: Luxembourg<br>Vaccine: Moderna<extra></extra>",
          "Country: Malta<br>Vaccine: Moderna<extra></extra>",
          "Country: Netherlands<br>Vaccine: Moderna<extra></extra>",
          "Country: Northern Ireland<br>Vaccine: Moderna<extra></extra>",
          "Country: Norway<br>Vaccine: Moderna<extra></extra>",
          "Country: Palestine<br>Vaccine: Moderna<extra></extra>",
          "Country: Philippines<br>Vaccine: Moderna<extra></extra>",
          "Country: Poland<br>Vaccine: Moderna<extra></extra>",
          "Country: Portugal<br>Vaccine: Moderna<extra></extra>",
          "Country: Qatar<br>Vaccine: Moderna<extra></extra>",
          "Country: Romania<br>Vaccine: Moderna<extra></extra>",
          "Country: Rwanda<br>Vaccine: Moderna<extra></extra>",
          "Country: Scotland<br>Vaccine: Moderna<extra></extra>",
          "Country: Singapore<br>Vaccine: Moderna<extra></extra>",
          "Country: Sint Maarten (Dutch part)<br>Vaccine: Moderna<extra></extra>",
          "Country: Slovakia<br>Vaccine: Moderna<extra></extra>",
          "Country: South Korea<br>Vaccine: Moderna<extra></extra>",
          "Country: Spain<br>Vaccine: Moderna<extra></extra>",
          "Country: Switzerland<br>Vaccine: Moderna<extra></extra>",
          "Country: Taiwan<br>Vaccine: Moderna<extra></extra>",
          "Country: United Kingdom<br>Vaccine: Moderna<extra></extra>",
          "Country: United States<br>Vaccine: Moderna<extra></extra>",
          "Country: Wales<br>Vaccine: Moderna<extra></extra>"
         ],
         "locations": [
          "AUT",
          "BEL",
          "BES",
          "BGR",
          "CAN",
          "COG",
          "HRV",
          "CUW",
          "CYP",
          "CZE",
          "DNK",
          "OWID_ENG",
          "EST",
          "FRO",
          "FIN",
          "FRA",
          "DEU",
          "GRC",
          "GRL",
          "GTM",
          "GGY",
          "HND",
          "HUN",
          "ISL",
          "IRL",
          "ISR",
          "ITA",
          "JPN",
          "JEY",
          "LVA",
          "LBY",
          "LIE",
          "LTU",
          "LUX",
          "MLT",
          "NLD",
          "OWID_NIR",
          "NOR",
          "PSE",
          "PHL",
          "POL",
          "PRT",
          "QAT",
          "ROU",
          "RWA",
          "OWID_SCT",
          "SGP",
          "SXM",
          "SVK",
          "KOR",
          "ESP",
          "CHE",
          "TWN",
          "GBR",
          "USA",
          "OWID_WLS"
         ],
         "marker": {
          "line": {
           "color": "white"
          }
         },
         "type": "choropleth",
         "visible": false,
         "z": [
          1,
          1,
          1,
          1,
          1,
          1,
          1,
          1,
          1,
          1,
          1,
          1,
          1,
          1,
          1,
          1,
          1,
          1,
          1,
          1,
          1,
          1,
          1,
          1,
          1,
          1,
          1,
          1,
          1,
          1,
          1,
          1,
          1,
          1,
          1,
          1,
          1,
          1,
          1,
          1,
          1,
          1,
          1,
          1,
          1,
          1,
          1,
          1,
          1,
          1,
          1,
          1,
          1,
          1,
          1,
          1
         ]
        },
        {
         "autocolorscale": false,
         "coloraxis": "coloraxis",
         "colorscale": [
          [
           0,
           "rgb(247,251,255)"
          ],
          [
           0.125,
           "rgb(222,235,247)"
          ],
          [
           0.25,
           "rgb(198,219,239)"
          ],
          [
           0.375,
           "rgb(158,202,225)"
          ],
          [
           0.5,
           "rgb(107,174,214)"
          ],
          [
           0.625,
           "rgb(66,146,198)"
          ],
          [
           0.75,
           "rgb(33,113,181)"
          ],
          [
           0.875,
           "rgb(8,81,156)"
          ],
          [
           1,
           "rgb(8,48,107)"
          ]
         ],
         "hovertemplate": [
          "Country: Central African Republic<br>Vaccine: Covaxin<extra></extra>",
          "Country: Comoros<br>Vaccine: Covaxin<extra></extra>",
          "Country: India<br>Vaccine: Covaxin<extra></extra>",
          "Country: Iran<br>Vaccine: Covaxin<extra></extra>",
          "Country: Mauritius<br>Vaccine: Covaxin<extra></extra>",
          "Country: Paraguay<br>Vaccine: Covaxin<extra></extra>"
         ],
         "locations": [
          "CAF",
          "COM",
          "IND",
          "IRN",
          "MUS",
          "PRY"
         ],
         "marker": {
          "line": {
           "color": "white"
          }
         },
         "type": "choropleth",
         "visible": false,
         "z": [
          1,
          1,
          1,
          1,
          1,
          1
         ]
        },
        {
         "autocolorscale": false,
         "coloraxis": "coloraxis",
         "colorscale": [
          [
           0,
           "rgb(247,251,255)"
          ],
          [
           0.125,
           "rgb(222,235,247)"
          ],
          [
           0.25,
           "rgb(198,219,239)"
          ],
          [
           0.375,
           "rgb(158,202,225)"
          ],
          [
           0.5,
           "rgb(107,174,214)"
          ],
          [
           0.625,
           "rgb(66,146,198)"
          ],
          [
           0.75,
           "rgb(33,113,181)"
          ],
          [
           0.875,
           "rgb(8,81,156)"
          ],
          [
           1,
           "rgb(8,48,107)"
          ]
         ],
         "hovertemplate": [
          "Country: Chile<br>Vaccine: CanSino<extra></extra>",
          "Country: China<br>Vaccine: CanSino<extra></extra>",
          "Country: Mexico<br>Vaccine: CanSino<extra></extra>",
          "Country: Pakistan<br>Vaccine: CanSino<extra></extra>"
         ],
         "locations": [
          "CHL",
          "CHN",
          "MEX",
          "PAK"
         ],
         "marker": {
          "line": {
           "color": "white"
          }
         },
         "type": "choropleth",
         "visible": false,
         "z": [
          1,
          1,
          1,
          1
         ]
        },
        {
         "autocolorscale": false,
         "coloraxis": "coloraxis",
         "colorscale": [
          [
           0,
           "rgb(247,251,255)"
          ],
          [
           0.125,
           "rgb(222,235,247)"
          ],
          [
           0.25,
           "rgb(198,219,239)"
          ],
          [
           0.375,
           "rgb(158,202,225)"
          ],
          [
           0.5,
           "rgb(107,174,214)"
          ],
          [
           0.625,
           "rgb(66,146,198)"
          ],
          [
           0.75,
           "rgb(33,113,181)"
          ],
          [
           0.875,
           "rgb(8,81,156)"
          ],
          [
           1,
           "rgb(8,48,107)"
          ]
         ],
         "hovertemplate": [
          "Country: China<br>Vaccine: Sinopharm/Wuhan<extra></extra>",
          "Country: United Arab Emirates<br>Vaccine: Sinopharm/Wuhan<extra></extra>"
         ],
         "locations": [
          "CHN",
          "ARE"
         ],
         "marker": {
          "line": {
           "color": "white"
          }
         },
         "type": "choropleth",
         "visible": false,
         "z": [
          1,
          1
         ]
        },
        {
         "autocolorscale": false,
         "coloraxis": "coloraxis",
         "colorscale": [
          [
           0,
           "rgb(247,251,255)"
          ],
          [
           0.125,
           "rgb(222,235,247)"
          ],
          [
           0.25,
           "rgb(198,219,239)"
          ],
          [
           0.375,
           "rgb(158,202,225)"
          ],
          [
           0.5,
           "rgb(107,174,214)"
          ],
          [
           0.625,
           "rgb(66,146,198)"
          ],
          [
           0.75,
           "rgb(33,113,181)"
          ],
          [
           0.875,
           "rgb(8,81,156)"
          ],
          [
           1,
           "rgb(8,48,107)"
          ]
         ],
         "hovertemplate": [
          "Country: Cuba<br>Vaccine: Abdala<extra></extra>"
         ],
         "locations": [
          "CUB"
         ],
         "marker": {
          "line": {
           "color": "white"
          }
         },
         "type": "choropleth",
         "visible": false,
         "z": [
          1
         ]
        },
        {
         "autocolorscale": false,
         "coloraxis": "coloraxis",
         "colorscale": [
          [
           0,
           "rgb(247,251,255)"
          ],
          [
           0.125,
           "rgb(222,235,247)"
          ],
          [
           0.25,
           "rgb(198,219,239)"
          ],
          [
           0.375,
           "rgb(158,202,225)"
          ],
          [
           0.5,
           "rgb(107,174,214)"
          ],
          [
           0.625,
           "rgb(66,146,198)"
          ],
          [
           0.75,
           "rgb(33,113,181)"
          ],
          [
           0.875,
           "rgb(8,81,156)"
          ],
          [
           1,
           "rgb(8,48,107)"
          ]
         ],
         "hovertemplate": [
          "Country: Cuba<br>Vaccine: Soberana02<extra></extra>"
         ],
         "locations": [
          "CUB"
         ],
         "marker": {
          "line": {
           "color": "white"
          }
         },
         "type": "choropleth",
         "visible": false,
         "z": [
          1
         ]
        },
        {
         "autocolorscale": false,
         "coloraxis": "coloraxis",
         "colorscale": [
          [
           0,
           "rgb(247,251,255)"
          ],
          [
           0.125,
           "rgb(222,235,247)"
          ],
          [
           0.25,
           "rgb(198,219,239)"
          ],
          [
           0.375,
           "rgb(158,202,225)"
          ],
          [
           0.5,
           "rgb(107,174,214)"
          ],
          [
           0.625,
           "rgb(66,146,198)"
          ],
          [
           0.75,
           "rgb(33,113,181)"
          ],
          [
           0.875,
           "rgb(8,81,156)"
          ],
          [
           1,
           "rgb(8,48,107)"
          ]
         ],
         "hovertemplate": [
          "Country: Kazakhstan<br>Vaccine: QazVac<extra></extra>"
         ],
         "locations": [
          "KAZ"
         ],
         "marker": {
          "line": {
           "color": "white"
          }
         },
         "type": "choropleth",
         "visible": false,
         "z": [
          1
         ]
        },
        {
         "autocolorscale": false,
         "coloraxis": "coloraxis",
         "colorscale": [
          [
           0,
           "rgb(247,251,255)"
          ],
          [
           0.125,
           "rgb(222,235,247)"
          ],
          [
           0.25,
           "rgb(198,219,239)"
          ],
          [
           0.375,
           "rgb(158,202,225)"
          ],
          [
           0.5,
           "rgb(107,174,214)"
          ],
          [
           0.625,
           "rgb(66,146,198)"
          ],
          [
           0.75,
           "rgb(33,113,181)"
          ],
          [
           0.875,
           "rgb(8,81,156)"
          ],
          [
           1,
           "rgb(8,48,107)"
          ]
         ],
         "hovertemplate": [
          "Country: Kazakhstan<br>Vaccine: Sinopharm/HayatVax<extra></extra>"
         ],
         "locations": [
          "KAZ"
         ],
         "marker": {
          "line": {
           "color": "white"
          }
         },
         "type": "choropleth",
         "visible": false,
         "z": [
          1
         ]
        },
        {
         "autocolorscale": false,
         "coloraxis": "coloraxis",
         "colorscale": [
          [
           0,
           "rgb(247,251,255)"
          ],
          [
           0.125,
           "rgb(222,235,247)"
          ],
          [
           0.25,
           "rgb(198,219,239)"
          ],
          [
           0.375,
           "rgb(158,202,225)"
          ],
          [
           0.5,
           "rgb(107,174,214)"
          ],
          [
           0.625,
           "rgb(66,146,198)"
          ],
          [
           0.75,
           "rgb(33,113,181)"
          ],
          [
           0.875,
           "rgb(8,81,156)"
          ],
          [
           1,
           "rgb(8,48,107)"
          ]
         ],
         "hovertemplate": [
          "Country: Russia<br>Vaccine: EpiVacCorona<extra></extra>",
          "Country: Turkmenistan<br>Vaccine: EpiVacCorona<extra></extra>"
         ],
         "locations": [
          "RUS",
          "TKM"
         ],
         "marker": {
          "line": {
           "color": "white"
          }
         },
         "type": "choropleth",
         "visible": false,
         "z": [
          1,
          1
         ]
        },
        {
         "autocolorscale": false,
         "coloraxis": "coloraxis",
         "colorscale": [
          [
           0,
           "rgb(247,251,255)"
          ],
          [
           0.125,
           "rgb(222,235,247)"
          ],
          [
           0.25,
           "rgb(198,219,239)"
          ],
          [
           0.375,
           "rgb(158,202,225)"
          ],
          [
           0.5,
           "rgb(107,174,214)"
          ],
          [
           0.625,
           "rgb(66,146,198)"
          ],
          [
           0.75,
           "rgb(33,113,181)"
          ],
          [
           0.875,
           "rgb(8,81,156)"
          ],
          [
           1,
           "rgb(8,48,107)"
          ]
         ],
         "hovertemplate": [
          "Country: Uzbekistan<br>Vaccine: RBD-Dimer<extra></extra>"
         ],
         "locations": [
          "UZB"
         ],
         "marker": {
          "line": {
           "color": "white"
          }
         },
         "type": "choropleth",
         "visible": false,
         "z": [
          1
         ]
        }
       ],
       "layout": {
        "coloraxis": {
         "colorscale": [
          [
           0,
           "rgb(247,251,255)"
          ],
          [
           0.125,
           "rgb(222,235,247)"
          ],
          [
           0.25,
           "rgb(198,219,239)"
          ],
          [
           0.375,
           "rgb(158,202,225)"
          ],
          [
           0.5,
           "rgb(107,174,214)"
          ],
          [
           0.625,
           "rgb(66,146,198)"
          ],
          [
           0.75,
           "rgb(33,113,181)"
          ],
          [
           0.875,
           "rgb(8,81,156)"
          ],
          [
           1,
           "rgb(8,48,107)"
          ]
         ],
         "showscale": false
        },
        "showlegend": false,
        "template": {
         "data": {
          "bar": [
           {
            "error_x": {
             "color": "#2a3f5f"
            },
            "error_y": {
             "color": "#2a3f5f"
            },
            "marker": {
             "line": {
              "color": "#E5ECF6",
              "width": 0.5
             }
            },
            "type": "bar"
           }
          ],
          "barpolar": [
           {
            "marker": {
             "line": {
              "color": "#E5ECF6",
              "width": 0.5
             }
            },
            "type": "barpolar"
           }
          ],
          "carpet": [
           {
            "aaxis": {
             "endlinecolor": "#2a3f5f",
             "gridcolor": "white",
             "linecolor": "white",
             "minorgridcolor": "white",
             "startlinecolor": "#2a3f5f"
            },
            "baxis": {
             "endlinecolor": "#2a3f5f",
             "gridcolor": "white",
             "linecolor": "white",
             "minorgridcolor": "white",
             "startlinecolor": "#2a3f5f"
            },
            "type": "carpet"
           }
          ],
          "choropleth": [
           {
            "colorbar": {
             "outlinewidth": 0,
             "ticks": ""
            },
            "type": "choropleth"
           }
          ],
          "contour": [
           {
            "colorbar": {
             "outlinewidth": 0,
             "ticks": ""
            },
            "colorscale": [
             [
              0,
              "#0d0887"
             ],
             [
              0.1111111111111111,
              "#46039f"
             ],
             [
              0.2222222222222222,
              "#7201a8"
             ],
             [
              0.3333333333333333,
              "#9c179e"
             ],
             [
              0.4444444444444444,
              "#bd3786"
             ],
             [
              0.5555555555555556,
              "#d8576b"
             ],
             [
              0.6666666666666666,
              "#ed7953"
             ],
             [
              0.7777777777777778,
              "#fb9f3a"
             ],
             [
              0.8888888888888888,
              "#fdca26"
             ],
             [
              1,
              "#f0f921"
             ]
            ],
            "type": "contour"
           }
          ],
          "contourcarpet": [
           {
            "colorbar": {
             "outlinewidth": 0,
             "ticks": ""
            },
            "type": "contourcarpet"
           }
          ],
          "heatmap": [
           {
            "colorbar": {
             "outlinewidth": 0,
             "ticks": ""
            },
            "colorscale": [
             [
              0,
              "#0d0887"
             ],
             [
              0.1111111111111111,
              "#46039f"
             ],
             [
              0.2222222222222222,
              "#7201a8"
             ],
             [
              0.3333333333333333,
              "#9c179e"
             ],
             [
              0.4444444444444444,
              "#bd3786"
             ],
             [
              0.5555555555555556,
              "#d8576b"
             ],
             [
              0.6666666666666666,
              "#ed7953"
             ],
             [
              0.7777777777777778,
              "#fb9f3a"
             ],
             [
              0.8888888888888888,
              "#fdca26"
             ],
             [
              1,
              "#f0f921"
             ]
            ],
            "type": "heatmap"
           }
          ],
          "heatmapgl": [
           {
            "colorbar": {
             "outlinewidth": 0,
             "ticks": ""
            },
            "colorscale": [
             [
              0,
              "#0d0887"
             ],
             [
              0.1111111111111111,
              "#46039f"
             ],
             [
              0.2222222222222222,
              "#7201a8"
             ],
             [
              0.3333333333333333,
              "#9c179e"
             ],
             [
              0.4444444444444444,
              "#bd3786"
             ],
             [
              0.5555555555555556,
              "#d8576b"
             ],
             [
              0.6666666666666666,
              "#ed7953"
             ],
             [
              0.7777777777777778,
              "#fb9f3a"
             ],
             [
              0.8888888888888888,
              "#fdca26"
             ],
             [
              1,
              "#f0f921"
             ]
            ],
            "type": "heatmapgl"
           }
          ],
          "histogram": [
           {
            "marker": {
             "colorbar": {
              "outlinewidth": 0,
              "ticks": ""
             }
            },
            "type": "histogram"
           }
          ],
          "histogram2d": [
           {
            "colorbar": {
             "outlinewidth": 0,
             "ticks": ""
            },
            "colorscale": [
             [
              0,
              "#0d0887"
             ],
             [
              0.1111111111111111,
              "#46039f"
             ],
             [
              0.2222222222222222,
              "#7201a8"
             ],
             [
              0.3333333333333333,
              "#9c179e"
             ],
             [
              0.4444444444444444,
              "#bd3786"
             ],
             [
              0.5555555555555556,
              "#d8576b"
             ],
             [
              0.6666666666666666,
              "#ed7953"
             ],
             [
              0.7777777777777778,
              "#fb9f3a"
             ],
             [
              0.8888888888888888,
              "#fdca26"
             ],
             [
              1,
              "#f0f921"
             ]
            ],
            "type": "histogram2d"
           }
          ],
          "histogram2dcontour": [
           {
            "colorbar": {
             "outlinewidth": 0,
             "ticks": ""
            },
            "colorscale": [
             [
              0,
              "#0d0887"
             ],
             [
              0.1111111111111111,
              "#46039f"
             ],
             [
              0.2222222222222222,
              "#7201a8"
             ],
             [
              0.3333333333333333,
              "#9c179e"
             ],
             [
              0.4444444444444444,
              "#bd3786"
             ],
             [
              0.5555555555555556,
              "#d8576b"
             ],
             [
              0.6666666666666666,
              "#ed7953"
             ],
             [
              0.7777777777777778,
              "#fb9f3a"
             ],
             [
              0.8888888888888888,
              "#fdca26"
             ],
             [
              1,
              "#f0f921"
             ]
            ],
            "type": "histogram2dcontour"
           }
          ],
          "mesh3d": [
           {
            "colorbar": {
             "outlinewidth": 0,
             "ticks": ""
            },
            "type": "mesh3d"
           }
          ],
          "parcoords": [
           {
            "line": {
             "colorbar": {
              "outlinewidth": 0,
              "ticks": ""
             }
            },
            "type": "parcoords"
           }
          ],
          "pie": [
           {
            "automargin": true,
            "type": "pie"
           }
          ],
          "scatter": [
           {
            "marker": {
             "colorbar": {
              "outlinewidth": 0,
              "ticks": ""
             }
            },
            "type": "scatter"
           }
          ],
          "scatter3d": [
           {
            "line": {
             "colorbar": {
              "outlinewidth": 0,
              "ticks": ""
             }
            },
            "marker": {
             "colorbar": {
              "outlinewidth": 0,
              "ticks": ""
             }
            },
            "type": "scatter3d"
           }
          ],
          "scattercarpet": [
           {
            "marker": {
             "colorbar": {
              "outlinewidth": 0,
              "ticks": ""
             }
            },
            "type": "scattercarpet"
           }
          ],
          "scattergeo": [
           {
            "marker": {
             "colorbar": {
              "outlinewidth": 0,
              "ticks": ""
             }
            },
            "type": "scattergeo"
           }
          ],
          "scattergl": [
           {
            "marker": {
             "colorbar": {
              "outlinewidth": 0,
              "ticks": ""
             }
            },
            "type": "scattergl"
           }
          ],
          "scattermapbox": [
           {
            "marker": {
             "colorbar": {
              "outlinewidth": 0,
              "ticks": ""
             }
            },
            "type": "scattermapbox"
           }
          ],
          "scatterpolar": [
           {
            "marker": {
             "colorbar": {
              "outlinewidth": 0,
              "ticks": ""
             }
            },
            "type": "scatterpolar"
           }
          ],
          "scatterpolargl": [
           {
            "marker": {
             "colorbar": {
              "outlinewidth": 0,
              "ticks": ""
             }
            },
            "type": "scatterpolargl"
           }
          ],
          "scatterternary": [
           {
            "marker": {
             "colorbar": {
              "outlinewidth": 0,
              "ticks": ""
             }
            },
            "type": "scatterternary"
           }
          ],
          "surface": [
           {
            "colorbar": {
             "outlinewidth": 0,
             "ticks": ""
            },
            "colorscale": [
             [
              0,
              "#0d0887"
             ],
             [
              0.1111111111111111,
              "#46039f"
             ],
             [
              0.2222222222222222,
              "#7201a8"
             ],
             [
              0.3333333333333333,
              "#9c179e"
             ],
             [
              0.4444444444444444,
              "#bd3786"
             ],
             [
              0.5555555555555556,
              "#d8576b"
             ],
             [
              0.6666666666666666,
              "#ed7953"
             ],
             [
              0.7777777777777778,
              "#fb9f3a"
             ],
             [
              0.8888888888888888,
              "#fdca26"
             ],
             [
              1,
              "#f0f921"
             ]
            ],
            "type": "surface"
           }
          ],
          "table": [
           {
            "cells": {
             "fill": {
              "color": "#EBF0F8"
             },
             "line": {
              "color": "white"
             }
            },
            "header": {
             "fill": {
              "color": "#C8D4E3"
             },
             "line": {
              "color": "white"
             }
            },
            "type": "table"
           }
          ]
         },
         "layout": {
          "annotationdefaults": {
           "arrowcolor": "#2a3f5f",
           "arrowhead": 0,
           "arrowwidth": 1
          },
          "autotypenumbers": "strict",
          "coloraxis": {
           "colorbar": {
            "outlinewidth": 0,
            "ticks": ""
           }
          },
          "colorscale": {
           "diverging": [
            [
             0,
             "#8e0152"
            ],
            [
             0.1,
             "#c51b7d"
            ],
            [
             0.2,
             "#de77ae"
            ],
            [
             0.3,
             "#f1b6da"
            ],
            [
             0.4,
             "#fde0ef"
            ],
            [
             0.5,
             "#f7f7f7"
            ],
            [
             0.6,
             "#e6f5d0"
            ],
            [
             0.7,
             "#b8e186"
            ],
            [
             0.8,
             "#7fbc41"
            ],
            [
             0.9,
             "#4d9221"
            ],
            [
             1,
             "#276419"
            ]
           ],
           "sequential": [
            [
             0,
             "#0d0887"
            ],
            [
             0.1111111111111111,
             "#46039f"
            ],
            [
             0.2222222222222222,
             "#7201a8"
            ],
            [
             0.3333333333333333,
             "#9c179e"
            ],
            [
             0.4444444444444444,
             "#bd3786"
            ],
            [
             0.5555555555555556,
             "#d8576b"
            ],
            [
             0.6666666666666666,
             "#ed7953"
            ],
            [
             0.7777777777777778,
             "#fb9f3a"
            ],
            [
             0.8888888888888888,
             "#fdca26"
            ],
            [
             1,
             "#f0f921"
            ]
           ],
           "sequentialminus": [
            [
             0,
             "#0d0887"
            ],
            [
             0.1111111111111111,
             "#46039f"
            ],
            [
             0.2222222222222222,
             "#7201a8"
            ],
            [
             0.3333333333333333,
             "#9c179e"
            ],
            [
             0.4444444444444444,
             "#bd3786"
            ],
            [
             0.5555555555555556,
             "#d8576b"
            ],
            [
             0.6666666666666666,
             "#ed7953"
            ],
            [
             0.7777777777777778,
             "#fb9f3a"
            ],
            [
             0.8888888888888888,
             "#fdca26"
            ],
            [
             1,
             "#f0f921"
            ]
           ]
          },
          "colorway": [
           "#636efa",
           "#EF553B",
           "#00cc96",
           "#ab63fa",
           "#FFA15A",
           "#19d3f3",
           "#FF6692",
           "#B6E880",
           "#FF97FF",
           "#FECB52"
          ],
          "font": {
           "color": "#2a3f5f"
          },
          "geo": {
           "bgcolor": "white",
           "lakecolor": "white",
           "landcolor": "#E5ECF6",
           "showlakes": true,
           "showland": true,
           "subunitcolor": "white"
          },
          "hoverlabel": {
           "align": "left"
          },
          "hovermode": "closest",
          "mapbox": {
           "style": "light"
          },
          "paper_bgcolor": "white",
          "plot_bgcolor": "#E5ECF6",
          "polar": {
           "angularaxis": {
            "gridcolor": "white",
            "linecolor": "white",
            "ticks": ""
           },
           "bgcolor": "#E5ECF6",
           "radialaxis": {
            "gridcolor": "white",
            "linecolor": "white",
            "ticks": ""
           }
          },
          "scene": {
           "xaxis": {
            "backgroundcolor": "#E5ECF6",
            "gridcolor": "white",
            "gridwidth": 2,
            "linecolor": "white",
            "showbackground": true,
            "ticks": "",
            "zerolinecolor": "white"
           },
           "yaxis": {
            "backgroundcolor": "#E5ECF6",
            "gridcolor": "white",
            "gridwidth": 2,
            "linecolor": "white",
            "showbackground": true,
            "ticks": "",
            "zerolinecolor": "white"
           },
           "zaxis": {
            "backgroundcolor": "#E5ECF6",
            "gridcolor": "white",
            "gridwidth": 2,
            "linecolor": "white",
            "showbackground": true,
            "ticks": "",
            "zerolinecolor": "white"
           }
          },
          "shapedefaults": {
           "line": {
            "color": "#2a3f5f"
           }
          },
          "ternary": {
           "aaxis": {
            "gridcolor": "white",
            "linecolor": "white",
            "ticks": ""
           },
           "baxis": {
            "gridcolor": "white",
            "linecolor": "white",
            "ticks": ""
           },
           "bgcolor": "#E5ECF6",
           "caxis": {
            "gridcolor": "white",
            "linecolor": "white",
            "ticks": ""
           }
          },
          "title": {
           "x": 0.05
          },
          "xaxis": {
           "automargin": true,
           "gridcolor": "white",
           "linecolor": "white",
           "ticks": "",
           "title": {
            "standoff": 15
           },
           "zerolinecolor": "white",
           "zerolinewidth": 2
          },
          "yaxis": {
           "automargin": true,
           "gridcolor": "white",
           "linecolor": "white",
           "ticks": "",
           "title": {
            "standoff": 15
           },
           "zerolinecolor": "white",
           "zerolinewidth": 2
          }
         }
        },
        "title": {
         "text": "<b>Countries using BBIBP-CorV</b>",
         "x": 0.5
        },
        "updatemenus": [
         {
          "active": 0,
          "buttons": [
           {
            "args": [
             {
              "visible": [
               true,
               false,
               false,
               false,
               false,
               false,
               false,
               false,
               false,
               false,
               false,
               false,
               false,
               false,
               false,
               false,
               false
              ]
             },
             {
              "title": "<b>Countries using BBIBP-CorV</b>"
             }
            ],
            "label": "BBIBP-CorV",
            "method": "update"
           },
           {
            "args": [
             {
              "visible": [
               false,
               true,
               false,
               false,
               false,
               false,
               false,
               false,
               false,
               false,
               false,
               false,
               false,
               false,
               false,
               false,
               false
              ]
             },
             {
              "title": "<b>Countries using Oxford/AstraZeneca</b>"
             }
            ],
            "label": "Oxford/AstraZeneca",
            "method": "update"
           },
           {
            "args": [
             {
              "visible": [
               false,
               false,
               true,
               false,
               false,
               false,
               false,
               false,
               false,
               false,
               false,
               false,
               false,
               false,
               false,
               false,
               false
              ]
             },
             {
              "title": "<b>Countries using Pfizer/BioNTech</b>"
             }
            ],
            "label": "Pfizer/BioNTech",
            "method": "update"
           },
           {
            "args": [
             {
              "visible": [
               false,
               false,
               false,
               true,
               false,
               false,
               false,
               false,
               false,
               false,
               false,
               false,
               false,
               false,
               false,
               false,
               false
              ]
             },
             {
              "title": "<b>Countries using Sinovac</b>"
             }
            ],
            "label": "Sinovac",
            "method": "update"
           },
           {
            "args": [
             {
              "visible": [
               false,
               false,
               false,
               false,
               true,
               false,
               false,
               false,
               false,
               false,
               false,
               false,
               false,
               false,
               false,
               false,
               false
              ]
             },
             {
              "title": "<b>Countries using Sputnik V</b>"
             }
            ],
            "label": "Sputnik V",
            "method": "update"
           },
           {
            "args": [
             {
              "visible": [
               false,
               false,
               false,
               false,
               false,
               true,
               false,
               false,
               false,
               false,
               false,
               false,
               false,
               false,
               false,
               false,
               false
              ]
             },
             {
              "title": "<b>Countries using Sinopharm/Beijing</b>"
             }
            ],
            "label": "Sinopharm/Beijing",
            "method": "update"
           },
           {
            "args": [
             {
              "visible": [
               false,
               false,
               false,
               false,
               false,
               false,
               true,
               false,
               false,
               false,
               false,
               false,
               false,
               false,
               false,
               false,
               false
              ]
             },
             {
              "title": "<b>Countries using Johnson&Johnson</b>"
             }
            ],
            "label": "Johnson&Johnson",
            "method": "update"
           },
           {
            "args": [
             {
              "visible": [
               false,
               false,
               false,
               false,
               false,
               false,
               false,
               true,
               false,
               false,
               false,
               false,
               false,
               false,
               false,
               false,
               false
              ]
             },
             {
              "title": "<b>Countries using Moderna</b>"
             }
            ],
            "label": "Moderna",
            "method": "update"
           },
           {
            "args": [
             {
              "visible": [
               false,
               false,
               false,
               false,
               false,
               false,
               false,
               false,
               true,
               false,
               false,
               false,
               false,
               false,
               false,
               false,
               false
              ]
             },
             {
              "title": "<b>Countries using Covaxin</b>"
             }
            ],
            "label": "Covaxin",
            "method": "update"
           },
           {
            "args": [
             {
              "visible": [
               false,
               false,
               false,
               false,
               false,
               false,
               false,
               false,
               false,
               true,
               false,
               false,
               false,
               false,
               false,
               false,
               false
              ]
             },
             {
              "title": "<b>Countries using CanSino</b>"
             }
            ],
            "label": "CanSino",
            "method": "update"
           },
           {
            "args": [
             {
              "visible": [
               false,
               false,
               false,
               false,
               false,
               false,
               false,
               false,
               false,
               false,
               true,
               false,
               false,
               false,
               false,
               false,
               false
              ]
             },
             {
              "title": "<b>Countries using Sinopharm/Wuhan</b>"
             }
            ],
            "label": "Sinopharm/Wuhan",
            "method": "update"
           },
           {
            "args": [
             {
              "visible": [
               false,
               false,
               false,
               false,
               false,
               false,
               false,
               false,
               false,
               false,
               false,
               true,
               false,
               false,
               false,
               false,
               false
              ]
             },
             {
              "title": "<b>Countries using Abdala</b>"
             }
            ],
            "label": "Abdala",
            "method": "update"
           },
           {
            "args": [
             {
              "visible": [
               false,
               false,
               false,
               false,
               false,
               false,
               false,
               false,
               false,
               false,
               false,
               false,
               true,
               false,
               false,
               false,
               false
              ]
             },
             {
              "title": "<b>Countries using Soberana02</b>"
             }
            ],
            "label": "Soberana02",
            "method": "update"
           },
           {
            "args": [
             {
              "visible": [
               false,
               false,
               false,
               false,
               false,
               false,
               false,
               false,
               false,
               false,
               false,
               false,
               false,
               true,
               false,
               false,
               false
              ]
             },
             {
              "title": "<b>Countries using QazVac</b>"
             }
            ],
            "label": "QazVac",
            "method": "update"
           },
           {
            "args": [
             {
              "visible": [
               false,
               false,
               false,
               false,
               false,
               false,
               false,
               false,
               false,
               false,
               false,
               false,
               false,
               false,
               true,
               false,
               false
              ]
             },
             {
              "title": "<b>Countries using Sinopharm/HayatVax</b>"
             }
            ],
            "label": "Sinopharm/HayatVax",
            "method": "update"
           },
           {
            "args": [
             {
              "visible": [
               false,
               false,
               false,
               false,
               false,
               false,
               false,
               false,
               false,
               false,
               false,
               false,
               false,
               false,
               false,
               true,
               false
              ]
             },
             {
              "title": "<b>Countries using EpiVacCorona</b>"
             }
            ],
            "label": "EpiVacCorona",
            "method": "update"
           },
           {
            "args": [
             {
              "visible": [
               false,
               false,
               false,
               false,
               false,
               false,
               false,
               false,
               false,
               false,
               false,
               false,
               false,
               false,
               false,
               false,
               true
              ]
             },
             {
              "title": "<b>Countries using RBD-Dimer</b>"
             }
            ],
            "label": "RBD-Dimer",
            "method": "update"
           }
          ],
          "direction": "down",
          "font": {
           "color": "#000000",
           "size": 9
          },
          "showactive": true,
          "type": "buttons",
          "x": -0.01,
          "xanchor": "left",
          "y": 1,
          "yanchor": "top"
         }
        ]
       }
      },
      "text/html": [
       "<div>                            <div id=\"63ed6e74-b2ea-48c0-813c-1479051e04d0\" class=\"plotly-graph-div\" style=\"height:525px; width:100%;\"></div>            <script type=\"text/javascript\">                require([\"plotly\"], function(Plotly) {                    window.PLOTLYENV=window.PLOTLYENV || {};                                    if (document.getElementById(\"63ed6e74-b2ea-48c0-813c-1479051e04d0\")) {                    Plotly.newPlot(                        \"63ed6e74-b2ea-48c0-813c-1479051e04d0\",                        [{\"autocolorscale\": false, \"coloraxis\": \"coloraxis\", \"colorscale\": [[0.0, \"rgb(247,251,255)\"], [0.125, \"rgb(222,235,247)\"], [0.25, \"rgb(198,219,239)\"], [0.375, \"rgb(158,202,225)\"], [0.5, \"rgb(107,174,214)\"], [0.625, \"rgb(66,146,198)\"], [0.75, \"rgb(33,113,181)\"], [0.875, \"rgb(8,81,156)\"], [1.0, \"rgb(8,48,107)\"]], \"hovertemplate\": [\"Country: Afghanistan<br>Vaccine: BBIBP-CorV<extra></extra>\", \"Country: Bangladesh<br>Vaccine: BBIBP-CorV<extra></extra>\", \"Country: Belarus<br>Vaccine: BBIBP-CorV<extra></extra>\", \"Country: Cameroon<br>Vaccine: BBIBP-CorV<extra></extra>\", \"Country: Chad<br>Vaccine: BBIBP-CorV<extra></extra>\", \"Country: Congo<br>Vaccine: BBIBP-CorV<extra></extra>\", \"Country: Djibouti<br>Vaccine: BBIBP-CorV<extra></extra>\", \"Country: Dominica<br>Vaccine: BBIBP-CorV<extra></extra>\", \"Country: Egypt<br>Vaccine: BBIBP-CorV<extra></extra>\", \"Country: Gabon<br>Vaccine: BBIBP-CorV<extra></extra>\", \"Country: Gambia<br>Vaccine: BBIBP-CorV<extra></extra>\", \"Country: Guinea-Bissau<br>Vaccine: BBIBP-CorV<extra></extra>\", \"Country: Iran<br>Vaccine: BBIBP-CorV<extra></extra>\", \"Country: Iraq<br>Vaccine: BBIBP-CorV<extra></extra>\", \"Country: Mauritania<br>Vaccine: BBIBP-CorV<extra></extra>\", \"Country: Mauritius<br>Vaccine: BBIBP-CorV<extra></extra>\", \"Country: Mozambique<br>Vaccine: BBIBP-CorV<extra></extra>\", \"Country: Myanmar<br>Vaccine: BBIBP-CorV<extra></extra>\", \"Country: Niger<br>Vaccine: BBIBP-CorV<extra></extra>\", \"Country: Papua New Guinea<br>Vaccine: BBIBP-CorV<extra></extra>\", \"Country: Senegal<br>Vaccine: BBIBP-CorV<extra></extra>\", \"Country: Sierra Leone<br>Vaccine: BBIBP-CorV<extra></extra>\", \"Country: Somalia<br>Vaccine: BBIBP-CorV<extra></extra>\", \"Country: Sudan<br>Vaccine: BBIBP-CorV<extra></extra>\", \"Country: Syria<br>Vaccine: BBIBP-CorV<extra></extra>\", \"Country: Venezuela<br>Vaccine: BBIBP-CorV<extra></extra>\"], \"locations\": [\"AFG\", \"BGD\", \"BLR\", \"CMR\", \"TCD\", \"COG\", \"DJI\", \"DMA\", \"EGY\", \"GAB\", \"GMB\", \"GNB\", \"IRN\", \"IRQ\", \"MRT\", \"MUS\", \"MOZ\", \"MMR\", \"NER\", \"PNG\", \"SEN\", \"SLE\", \"SOM\", \"SDN\", \"SYR\", \"VEN\"], \"marker\": {\"line\": {\"color\": \"white\"}}, \"type\": \"choropleth\", \"visible\": true, \"z\": [1, 1, 1, 1, 1, 1, 1, 1, 1, 1, 1, 1, 1, 1, 1, 1, 1, 1, 1, 1, 1, 1, 1, 1, 1, 1]}, {\"autocolorscale\": false, \"coloraxis\": \"coloraxis\", \"colorscale\": [[0.0, \"rgb(247,251,255)\"], [0.125, \"rgb(222,235,247)\"], [0.25, \"rgb(198,219,239)\"], [0.375, \"rgb(158,202,225)\"], [0.5, \"rgb(107,174,214)\"], [0.625, \"rgb(66,146,198)\"], [0.75, \"rgb(33,113,181)\"], [0.875, \"rgb(8,81,156)\"], [1.0, \"rgb(8,48,107)\"]], \"hovertemplate\": [\"Country: Afghanistan<br>Vaccine: Oxford/AstraZeneca<extra></extra>\", \"Country: Albania<br>Vaccine: Oxford/AstraZeneca<extra></extra>\", \"Country: Algeria<br>Vaccine: Oxford/AstraZeneca<extra></extra>\", \"Country: Andorra<br>Vaccine: Oxford/AstraZeneca<extra></extra>\", \"Country: Angola<br>Vaccine: Oxford/AstraZeneca<extra></extra>\", \"Country: Anguilla<br>Vaccine: Oxford/AstraZeneca<extra></extra>\", \"Country: Antigua and Barbuda<br>Vaccine: Oxford/AstraZeneca<extra></extra>\", \"Country: Argentina<br>Vaccine: Oxford/AstraZeneca<extra></extra>\", \"Country: Armenia<br>Vaccine: Oxford/AstraZeneca<extra></extra>\", \"Country: Australia<br>Vaccine: Oxford/AstraZeneca<extra></extra>\", \"Country: Austria<br>Vaccine: Oxford/AstraZeneca<extra></extra>\", \"Country: Azerbaijan<br>Vaccine: Oxford/AstraZeneca<extra></extra>\", \"Country: Bahamas<br>Vaccine: Oxford/AstraZeneca<extra></extra>\", \"Country: Bahrain<br>Vaccine: Oxford/AstraZeneca<extra></extra>\", \"Country: Bangladesh<br>Vaccine: Oxford/AstraZeneca<extra></extra>\", \"Country: Barbados<br>Vaccine: Oxford/AstraZeneca<extra></extra>\", \"Country: Belgium<br>Vaccine: Oxford/AstraZeneca<extra></extra>\", \"Country: Belize<br>Vaccine: Oxford/AstraZeneca<extra></extra>\", \"Country: Benin<br>Vaccine: Oxford/AstraZeneca<extra></extra>\", \"Country: Bhutan<br>Vaccine: Oxford/AstraZeneca<extra></extra>\", \"Country: Bolivia<br>Vaccine: Oxford/AstraZeneca<extra></extra>\", \"Country: Bosnia and Herzegovina<br>Vaccine: Oxford/AstraZeneca<extra></extra>\", \"Country: Botswana<br>Vaccine: Oxford/AstraZeneca<extra></extra>\", \"Country: Brazil<br>Vaccine: Oxford/AstraZeneca<extra></extra>\", \"Country: British Virgin Islands<br>Vaccine: Oxford/AstraZeneca<extra></extra>\", \"Country: Brunei<br>Vaccine: Oxford/AstraZeneca<extra></extra>\", \"Country: Bulgaria<br>Vaccine: Oxford/AstraZeneca<extra></extra>\", \"Country: Burkina Faso<br>Vaccine: Oxford/AstraZeneca<extra></extra>\", \"Country: Cambodia<br>Vaccine: Oxford/AstraZeneca<extra></extra>\", \"Country: Cameroon<br>Vaccine: Oxford/AstraZeneca<extra></extra>\", \"Country: Canada<br>Vaccine: Oxford/AstraZeneca<extra></extra>\", \"Country: Cape Verde<br>Vaccine: Oxford/AstraZeneca<extra></extra>\", \"Country: Cayman Islands<br>Vaccine: Oxford/AstraZeneca<extra></extra>\", \"Country: Central African Republic<br>Vaccine: Oxford/AstraZeneca<extra></extra>\", \"Country: Chile<br>Vaccine: Oxford/AstraZeneca<extra></extra>\", \"Country: Colombia<br>Vaccine: Oxford/AstraZeneca<extra></extra>\", \"Country: Comoros<br>Vaccine: Oxford/AstraZeneca<extra></extra>\", \"Country: Congo<br>Vaccine: Oxford/AstraZeneca<extra></extra>\", \"Country: Cook Islands<br>Vaccine: Oxford/AstraZeneca<extra></extra>\", \"Country: Costa Rica<br>Vaccine: Oxford/AstraZeneca<extra></extra>\", \"Country: Cote d'Ivoire<br>Vaccine: Oxford/AstraZeneca<extra></extra>\", \"Country: Croatia<br>Vaccine: Oxford/AstraZeneca<extra></extra>\", \"Country: Cyprus<br>Vaccine: Oxford/AstraZeneca<extra></extra>\", \"Country: Czechia<br>Vaccine: Oxford/AstraZeneca<extra></extra>\", \"Country: Democratic Republic of Congo<br>Vaccine: Oxford/AstraZeneca<extra></extra>\", \"Country: Djibouti<br>Vaccine: Oxford/AstraZeneca<extra></extra>\", \"Country: Dominica<br>Vaccine: Oxford/AstraZeneca<extra></extra>\", \"Country: Dominican Republic<br>Vaccine: Oxford/AstraZeneca<extra></extra>\", \"Country: Ecuador<br>Vaccine: Oxford/AstraZeneca<extra></extra>\", \"Country: Egypt<br>Vaccine: Oxford/AstraZeneca<extra></extra>\", \"Country: El Salvador<br>Vaccine: Oxford/AstraZeneca<extra></extra>\", \"Country: England<br>Vaccine: Oxford/AstraZeneca<extra></extra>\", \"Country: Estonia<br>Vaccine: Oxford/AstraZeneca<extra></extra>\", \"Country: Eswatini<br>Vaccine: Oxford/AstraZeneca<extra></extra>\", \"Country: Ethiopia<br>Vaccine: Oxford/AstraZeneca<extra></extra>\", \"Country: Falkland Islands<br>Vaccine: Oxford/AstraZeneca<extra></extra>\", \"Country: Fiji<br>Vaccine: Oxford/AstraZeneca<extra></extra>\", \"Country: Finland<br>Vaccine: Oxford/AstraZeneca<extra></extra>\", \"Country: France<br>Vaccine: Oxford/AstraZeneca<extra></extra>\", \"Country: French Polynesia<br>Vaccine: Oxford/AstraZeneca<extra></extra>\", \"Country: Gambia<br>Vaccine: Oxford/AstraZeneca<extra></extra>\", \"Country: Georgia<br>Vaccine: Oxford/AstraZeneca<extra></extra>\", \"Country: Germany<br>Vaccine: Oxford/AstraZeneca<extra></extra>\", \"Country: Ghana<br>Vaccine: Oxford/AstraZeneca<extra></extra>\", \"Country: Greece<br>Vaccine: Oxford/AstraZeneca<extra></extra>\", \"Country: Grenada<br>Vaccine: Oxford/AstraZeneca<extra></extra>\", \"Country: Guatemala<br>Vaccine: Oxford/AstraZeneca<extra></extra>\", \"Country: Guernsey<br>Vaccine: Oxford/AstraZeneca<extra></extra>\", \"Country: Guinea-Bissau<br>Vaccine: Oxford/AstraZeneca<extra></extra>\", \"Country: Guyana<br>Vaccine: Oxford/AstraZeneca<extra></extra>\", \"Country: Honduras<br>Vaccine: Oxford/AstraZeneca<extra></extra>\", \"Country: Hungary<br>Vaccine: Oxford/AstraZeneca<extra></extra>\", \"Country: Iceland<br>Vaccine: Oxford/AstraZeneca<extra></extra>\", \"Country: India<br>Vaccine: Oxford/AstraZeneca<extra></extra>\", \"Country: Indonesia<br>Vaccine: Oxford/AstraZeneca<extra></extra>\", \"Country: Iran<br>Vaccine: Oxford/AstraZeneca<extra></extra>\", \"Country: Iraq<br>Vaccine: Oxford/AstraZeneca<extra></extra>\", \"Country: Ireland<br>Vaccine: Oxford/AstraZeneca<extra></extra>\", \"Country: Isle of Man<br>Vaccine: Oxford/AstraZeneca<extra></extra>\", \"Country: Italy<br>Vaccine: Oxford/AstraZeneca<extra></extra>\", \"Country: Jamaica<br>Vaccine: Oxford/AstraZeneca<extra></extra>\", \"Country: Jersey<br>Vaccine: Oxford/AstraZeneca<extra></extra>\", \"Country: Jordan<br>Vaccine: Oxford/AstraZeneca<extra></extra>\", \"Country: Kenya<br>Vaccine: Oxford/AstraZeneca<extra></extra>\", \"Country: Kosovo<br>Vaccine: Oxford/AstraZeneca<extra></extra>\", \"Country: Latvia<br>Vaccine: Oxford/AstraZeneca<extra></extra>\", \"Country: Lebanon<br>Vaccine: Oxford/AstraZeneca<extra></extra>\", \"Country: Lesotho<br>Vaccine: Oxford/AstraZeneca<extra></extra>\", \"Country: Liberia<br>Vaccine: Oxford/AstraZeneca<extra></extra>\", \"Country: Libya<br>Vaccine: Oxford/AstraZeneca<extra></extra>\", \"Country: Lithuania<br>Vaccine: Oxford/AstraZeneca<extra></extra>\", \"Country: Luxembourg<br>Vaccine: Oxford/AstraZeneca<extra></extra>\", \"Country: Madagascar<br>Vaccine: Oxford/AstraZeneca<extra></extra>\", \"Country: Malawi<br>Vaccine: Oxford/AstraZeneca<extra></extra>\", \"Country: Malaysia<br>Vaccine: Oxford/AstraZeneca<extra></extra>\", \"Country: Maldives<br>Vaccine: Oxford/AstraZeneca<extra></extra>\", \"Country: Mali<br>Vaccine: Oxford/AstraZeneca<extra></extra>\", \"Country: Malta<br>Vaccine: Oxford/AstraZeneca<extra></extra>\", \"Country: Mauritania<br>Vaccine: Oxford/AstraZeneca<extra></extra>\", \"Country: Mauritius<br>Vaccine: Oxford/AstraZeneca<extra></extra>\", \"Country: Mexico<br>Vaccine: Oxford/AstraZeneca<extra></extra>\", \"Country: Moldova<br>Vaccine: Oxford/AstraZeneca<extra></extra>\", \"Country: Mongolia<br>Vaccine: Oxford/AstraZeneca<extra></extra>\", \"Country: Montenegro<br>Vaccine: Oxford/AstraZeneca<extra></extra>\", \"Country: Montserrat<br>Vaccine: Oxford/AstraZeneca<extra></extra>\", \"Country: Morocco<br>Vaccine: Oxford/AstraZeneca<extra></extra>\", \"Country: Mozambique<br>Vaccine: Oxford/AstraZeneca<extra></extra>\", \"Country: Myanmar<br>Vaccine: Oxford/AstraZeneca<extra></extra>\", \"Country: Namibia<br>Vaccine: Oxford/AstraZeneca<extra></extra>\", \"Country: Nauru<br>Vaccine: Oxford/AstraZeneca<extra></extra>\", \"Country: Nepal<br>Vaccine: Oxford/AstraZeneca<extra></extra>\", \"Country: Netherlands<br>Vaccine: Oxford/AstraZeneca<extra></extra>\", \"Country: Nicaragua<br>Vaccine: Oxford/AstraZeneca<extra></extra>\", \"Country: Niger<br>Vaccine: Oxford/AstraZeneca<extra></extra>\", \"Country: Nigeria<br>Vaccine: Oxford/AstraZeneca<extra></extra>\", \"Country: North Macedonia<br>Vaccine: Oxford/AstraZeneca<extra></extra>\", \"Country: Northern Cyprus<br>Vaccine: Oxford/AstraZeneca<extra></extra>\", \"Country: Northern Ireland<br>Vaccine: Oxford/AstraZeneca<extra></extra>\", \"Country: Oman<br>Vaccine: Oxford/AstraZeneca<extra></extra>\", \"Country: Pakistan<br>Vaccine: Oxford/AstraZeneca<extra></extra>\", \"Country: Palestine<br>Vaccine: Oxford/AstraZeneca<extra></extra>\", \"Country: Panama<br>Vaccine: Oxford/AstraZeneca<extra></extra>\", \"Country: Papua New Guinea<br>Vaccine: Oxford/AstraZeneca<extra></extra>\", \"Country: Paraguay<br>Vaccine: Oxford/AstraZeneca<extra></extra>\", \"Country: Peru<br>Vaccine: Oxford/AstraZeneca<extra></extra>\", \"Country: Philippines<br>Vaccine: Oxford/AstraZeneca<extra></extra>\", \"Country: Pitcairn<br>Vaccine: Oxford/AstraZeneca<extra></extra>\", \"Country: Poland<br>Vaccine: Oxford/AstraZeneca<extra></extra>\", \"Country: Portugal<br>Vaccine: Oxford/AstraZeneca<extra></extra>\", \"Country: Romania<br>Vaccine: Oxford/AstraZeneca<extra></extra>\", \"Country: Rwanda<br>Vaccine: Oxford/AstraZeneca<extra></extra>\", \"Country: Saint Helena<br>Vaccine: Oxford/AstraZeneca<extra></extra>\", \"Country: Saint Kitts and Nevis<br>Vaccine: Oxford/AstraZeneca<extra></extra>\", \"Country: Saint Lucia<br>Vaccine: Oxford/AstraZeneca<extra></extra>\", \"Country: Saint Vincent and the Grenadines<br>Vaccine: Oxford/AstraZeneca<extra></extra>\", \"Country: Samoa<br>Vaccine: Oxford/AstraZeneca<extra></extra>\", \"Country: Sao Tome and Principe<br>Vaccine: Oxford/AstraZeneca<extra></extra>\", \"Country: Saudi Arabia<br>Vaccine: Oxford/AstraZeneca<extra></extra>\", \"Country: Scotland<br>Vaccine: Oxford/AstraZeneca<extra></extra>\", \"Country: Senegal<br>Vaccine: Oxford/AstraZeneca<extra></extra>\", \"Country: Serbia<br>Vaccine: Oxford/AstraZeneca<extra></extra>\", \"Country: Seychelles<br>Vaccine: Oxford/AstraZeneca<extra></extra>\", \"Country: Sierra Leone<br>Vaccine: Oxford/AstraZeneca<extra></extra>\", \"Country: Sint Maarten (Dutch part)<br>Vaccine: Oxford/AstraZeneca<extra></extra>\", \"Country: Slovakia<br>Vaccine: Oxford/AstraZeneca<extra></extra>\", \"Country: Slovenia<br>Vaccine: Oxford/AstraZeneca<extra></extra>\", \"Country: Solomon Islands<br>Vaccine: Oxford/AstraZeneca<extra></extra>\", \"Country: Somalia<br>Vaccine: Oxford/AstraZeneca<extra></extra>\", \"Country: South Korea<br>Vaccine: Oxford/AstraZeneca<extra></extra>\", \"Country: South Sudan<br>Vaccine: Oxford/AstraZeneca<extra></extra>\", \"Country: Spain<br>Vaccine: Oxford/AstraZeneca<extra></extra>\", \"Country: Sri Lanka<br>Vaccine: Oxford/AstraZeneca<extra></extra>\", \"Country: Sudan<br>Vaccine: Oxford/AstraZeneca<extra></extra>\", \"Country: Suriname<br>Vaccine: Oxford/AstraZeneca<extra></extra>\", \"Country: Sweden<br>Vaccine: Oxford/AstraZeneca<extra></extra>\", \"Country: Syria<br>Vaccine: Oxford/AstraZeneca<extra></extra>\", \"Country: Taiwan<br>Vaccine: Oxford/AstraZeneca<extra></extra>\", \"Country: Tajikistan<br>Vaccine: Oxford/AstraZeneca<extra></extra>\", \"Country: Thailand<br>Vaccine: Oxford/AstraZeneca<extra></extra>\", \"Country: Timor<br>Vaccine: Oxford/AstraZeneca<extra></extra>\", \"Country: Togo<br>Vaccine: Oxford/AstraZeneca<extra></extra>\", \"Country: Tonga<br>Vaccine: Oxford/AstraZeneca<extra></extra>\", \"Country: Trinidad and Tobago<br>Vaccine: Oxford/AstraZeneca<extra></extra>\", \"Country: Tunisia<br>Vaccine: Oxford/AstraZeneca<extra></extra>\", \"Country: Turkmenistan<br>Vaccine: Oxford/AstraZeneca<extra></extra>\", \"Country: Tuvalu<br>Vaccine: Oxford/AstraZeneca<extra></extra>\", \"Country: Uganda<br>Vaccine: Oxford/AstraZeneca<extra></extra>\", \"Country: Ukraine<br>Vaccine: Oxford/AstraZeneca<extra></extra>\", \"Country: United Arab Emirates<br>Vaccine: Oxford/AstraZeneca<extra></extra>\", \"Country: United Kingdom<br>Vaccine: Oxford/AstraZeneca<extra></extra>\", \"Country: Uruguay<br>Vaccine: Oxford/AstraZeneca<extra></extra>\", \"Country: Uzbekistan<br>Vaccine: Oxford/AstraZeneca<extra></extra>\", \"Country: Vanuatu<br>Vaccine: Oxford/AstraZeneca<extra></extra>\", \"Country: Vietnam<br>Vaccine: Oxford/AstraZeneca<extra></extra>\", \"Country: Wales<br>Vaccine: Oxford/AstraZeneca<extra></extra>\", \"Country: Wallis and Futuna<br>Vaccine: Oxford/AstraZeneca<extra></extra>\", \"Country: Yemen<br>Vaccine: Oxford/AstraZeneca<extra></extra>\", \"Country: Zambia<br>Vaccine: Oxford/AstraZeneca<extra></extra>\"], \"locations\": [\"AFG\", \"ALB\", \"DZA\", \"AND\", \"AGO\", \"AIA\", \"ATG\", \"ARG\", \"ARM\", \"AUS\", \"AUT\", \"AZE\", \"BHS\", \"BHR\", \"BGD\", \"BRB\", \"BEL\", \"BLZ\", \"BEN\", \"BTN\", \"BOL\", \"BIH\", \"BWA\", \"BRA\", \"VGB\", \"BRN\", \"BGR\", \"BFA\", \"KHM\", \"CMR\", \"CAN\", \"CPV\", \"CYM\", \"CAF\", \"CHL\", \"COL\", \"COM\", \"COG\", \"COK\", \"CRI\", \"CIV\", \"HRV\", \"CYP\", \"CZE\", \"COD\", \"DJI\", \"DMA\", \"DOM\", \"ECU\", \"EGY\", \"SLV\", \"OWID_ENG\", \"EST\", \"SWZ\", \"ETH\", \"FLK\", \"FJI\", \"FIN\", \"FRA\", \"PYF\", \"GMB\", \"GEO\", \"DEU\", \"GHA\", \"GRC\", \"GRD\", \"GTM\", \"GGY\", \"GNB\", \"GUY\", \"HND\", \"HUN\", \"ISL\", \"IND\", \"IDN\", \"IRN\", \"IRQ\", \"IRL\", \"IMN\", \"ITA\", \"JAM\", \"JEY\", \"JOR\", \"KEN\", \"OWID_KOS\", \"LVA\", \"LBN\", \"LSO\", \"LBR\", \"LBY\", \"LTU\", \"LUX\", \"MDG\", \"MWI\", \"MYS\", \"MDV\", \"MLI\", \"MLT\", \"MRT\", \"MUS\", \"MEX\", \"MDA\", \"MNG\", \"MNE\", \"MSR\", \"MAR\", \"MOZ\", \"MMR\", \"NAM\", \"NRU\", \"NPL\", \"NLD\", \"NIC\", \"NER\", \"NGA\", \"MKD\", \"OWID_CYN\", \"OWID_NIR\", \"OMN\", \"PAK\", \"PSE\", \"PAN\", \"PNG\", \"PRY\", \"PER\", \"PHL\", \"PCN\", \"POL\", \"PRT\", \"ROU\", \"RWA\", \"SHN\", \"KNA\", \"LCA\", \"VCT\", \"WSM\", \"STP\", \"SAU\", \"OWID_SCT\", \"SEN\", \"SRB\", \"SYC\", \"SLE\", \"SXM\", \"SVK\", \"SVN\", \"SLB\", \"SOM\", \"KOR\", \"SSD\", \"ESP\", \"LKA\", \"SDN\", \"SUR\", \"SWE\", \"SYR\", \"TWN\", \"TJK\", \"THA\", \"TLS\", \"TGO\", \"TON\", \"TTO\", \"TUN\", \"TKM\", \"TUV\", \"UGA\", \"UKR\", \"ARE\", \"GBR\", \"URY\", \"UZB\", \"VUT\", \"VNM\", \"OWID_WLS\", \"WLF\", \"YEM\", \"ZMB\"], \"marker\": {\"line\": {\"color\": \"white\"}}, \"type\": \"choropleth\", \"visible\": false, \"z\": [1, 1, 1, 1, 1, 1, 1, 1, 1, 1, 1, 1, 1, 1, 1, 1, 1, 1, 1, 1, 1, 1, 1, 1, 1, 1, 1, 1, 1, 1, 1, 1, 1, 1, 1, 1, 1, 1, 1, 1, 1, 1, 1, 1, 1, 1, 1, 1, 1, 1, 1, 1, 1, 1, 1, 1, 1, 1, 1, 1, 1, 1, 1, 1, 1, 1, 1, 1, 1, 1, 1, 1, 1, 1, 1, 1, 1, 1, 1, 1, 1, 1, 1, 1, 1, 1, 1, 1, 1, 1, 1, 1, 1, 1, 1, 1, 1, 1, 1, 1, 1, 1, 1, 1, 1, 1, 1, 1, 1, 1, 1, 1, 1, 1, 1, 1, 1, 1, 1, 1, 1, 1, 1, 1, 1, 1, 1, 1, 1, 1, 1, 1, 1, 1, 1, 1, 1, 1, 1, 1, 1, 1, 1, 1, 1, 1, 1, 1, 1, 1, 1, 1, 1, 1, 1, 1, 1, 1, 1, 1, 1, 1, 1, 1, 1, 1, 1, 1, 1, 1, 1, 1, 1, 1, 1, 1, 1, 1]}, {\"autocolorscale\": false, \"coloraxis\": \"coloraxis\", \"colorscale\": [[0.0, \"rgb(247,251,255)\"], [0.125, \"rgb(222,235,247)\"], [0.25, \"rgb(198,219,239)\"], [0.375, \"rgb(158,202,225)\"], [0.5, \"rgb(107,174,214)\"], [0.625, \"rgb(66,146,198)\"], [0.75, \"rgb(33,113,181)\"], [0.875, \"rgb(8,81,156)\"], [1.0, \"rgb(8,48,107)\"]], \"hovertemplate\": [\"Country: Afghanistan<br>Vaccine: Pfizer/BioNTech<extra></extra>\", \"Country: Albania<br>Vaccine: Pfizer/BioNTech<extra></extra>\", \"Country: Andorra<br>Vaccine: Pfizer/BioNTech<extra></extra>\", \"Country: Aruba<br>Vaccine: Pfizer/BioNTech<extra></extra>\", \"Country: Australia<br>Vaccine: Pfizer/BioNTech<extra></extra>\", \"Country: Austria<br>Vaccine: Pfizer/BioNTech<extra></extra>\", \"Country: Bahrain<br>Vaccine: Pfizer/BioNTech<extra></extra>\", \"Country: Bangladesh<br>Vaccine: Pfizer/BioNTech<extra></extra>\", \"Country: Belgium<br>Vaccine: Pfizer/BioNTech<extra></extra>\", \"Country: Bermuda<br>Vaccine: Pfizer/BioNTech<extra></extra>\", \"Country: Bhutan<br>Vaccine: Pfizer/BioNTech<extra></extra>\", \"Country: Bolivia<br>Vaccine: Pfizer/BioNTech<extra></extra>\", \"Country: Bonaire Sint Eustatius and Saba<br>Vaccine: Pfizer/BioNTech<extra></extra>\", \"Country: Bosnia and Herzegovina<br>Vaccine: Pfizer/BioNTech<extra></extra>\", \"Country: Brazil<br>Vaccine: Pfizer/BioNTech<extra></extra>\", \"Country: Bulgaria<br>Vaccine: Pfizer/BioNTech<extra></extra>\", \"Country: Canada<br>Vaccine: Pfizer/BioNTech<extra></extra>\", \"Country: Cape Verde<br>Vaccine: Pfizer/BioNTech<extra></extra>\", \"Country: Cayman Islands<br>Vaccine: Pfizer/BioNTech<extra></extra>\", \"Country: Chile<br>Vaccine: Pfizer/BioNTech<extra></extra>\", \"Country: Colombia<br>Vaccine: Pfizer/BioNTech<extra></extra>\", \"Country: Costa Rica<br>Vaccine: Pfizer/BioNTech<extra></extra>\", \"Country: Croatia<br>Vaccine: Pfizer/BioNTech<extra></extra>\", \"Country: Curacao<br>Vaccine: Pfizer/BioNTech<extra></extra>\", \"Country: Cyprus<br>Vaccine: Pfizer/BioNTech<extra></extra>\", \"Country: Czechia<br>Vaccine: Pfizer/BioNTech<extra></extra>\", \"Country: Denmark<br>Vaccine: Pfizer/BioNTech<extra></extra>\", \"Country: Dominican Republic<br>Vaccine: Pfizer/BioNTech<extra></extra>\", \"Country: Ecuador<br>Vaccine: Pfizer/BioNTech<extra></extra>\", \"Country: El Salvador<br>Vaccine: Pfizer/BioNTech<extra></extra>\", \"Country: England<br>Vaccine: Pfizer/BioNTech<extra></extra>\", \"Country: Estonia<br>Vaccine: Pfizer/BioNTech<extra></extra>\", \"Country: Faeroe Islands<br>Vaccine: Pfizer/BioNTech<extra></extra>\", \"Country: Finland<br>Vaccine: Pfizer/BioNTech<extra></extra>\", \"Country: France<br>Vaccine: Pfizer/BioNTech<extra></extra>\", \"Country: Germany<br>Vaccine: Pfizer/BioNTech<extra></extra>\", \"Country: Gibraltar<br>Vaccine: Pfizer/BioNTech<extra></extra>\", \"Country: Greece<br>Vaccine: Pfizer/BioNTech<extra></extra>\", \"Country: Guernsey<br>Vaccine: Pfizer/BioNTech<extra></extra>\", \"Country: Hong Kong<br>Vaccine: Pfizer/BioNTech<extra></extra>\", \"Country: Hungary<br>Vaccine: Pfizer/BioNTech<extra></extra>\", \"Country: Iceland<br>Vaccine: Pfizer/BioNTech<extra></extra>\", \"Country: Iraq<br>Vaccine: Pfizer/BioNTech<extra></extra>\", \"Country: Ireland<br>Vaccine: Pfizer/BioNTech<extra></extra>\", \"Country: Isle of Man<br>Vaccine: Pfizer/BioNTech<extra></extra>\", \"Country: Israel<br>Vaccine: Pfizer/BioNTech<extra></extra>\", \"Country: Italy<br>Vaccine: Pfizer/BioNTech<extra></extra>\", \"Country: Japan<br>Vaccine: Pfizer/BioNTech<extra></extra>\", \"Country: Jersey<br>Vaccine: Pfizer/BioNTech<extra></extra>\", \"Country: Jordan<br>Vaccine: Pfizer/BioNTech<extra></extra>\", \"Country: Kuwait<br>Vaccine: Pfizer/BioNTech<extra></extra>\", \"Country: Latvia<br>Vaccine: Pfizer/BioNTech<extra></extra>\", \"Country: Lebanon<br>Vaccine: Pfizer/BioNTech<extra></extra>\", \"Country: Libya<br>Vaccine: Pfizer/BioNTech<extra></extra>\", \"Country: Liechtenstein<br>Vaccine: Pfizer/BioNTech<extra></extra>\", \"Country: Lithuania<br>Vaccine: Pfizer/BioNTech<extra></extra>\", \"Country: Luxembourg<br>Vaccine: Pfizer/BioNTech<extra></extra>\", \"Country: Macao<br>Vaccine: Pfizer/BioNTech<extra></extra>\", \"Country: Malaysia<br>Vaccine: Pfizer/BioNTech<extra></extra>\", \"Country: Maldives<br>Vaccine: Pfizer/BioNTech<extra></extra>\", \"Country: Malta<br>Vaccine: Pfizer/BioNTech<extra></extra>\", \"Country: Mexico<br>Vaccine: Pfizer/BioNTech<extra></extra>\", \"Country: Moldova<br>Vaccine: Pfizer/BioNTech<extra></extra>\", \"Country: Monaco<br>Vaccine: Pfizer/BioNTech<extra></extra>\", \"Country: Mongolia<br>Vaccine: Pfizer/BioNTech<extra></extra>\", \"Country: Montenegro<br>Vaccine: Pfizer/BioNTech<extra></extra>\", \"Country: Netherlands<br>Vaccine: Pfizer/BioNTech<extra></extra>\", \"Country: New Caledonia<br>Vaccine: Pfizer/BioNTech<extra></extra>\", \"Country: New Zealand<br>Vaccine: Pfizer/BioNTech<extra></extra>\", \"Country: North Macedonia<br>Vaccine: Pfizer/BioNTech<extra></extra>\", \"Country: Northern Cyprus<br>Vaccine: Pfizer/BioNTech<extra></extra>\", \"Country: Northern Ireland<br>Vaccine: Pfizer/BioNTech<extra></extra>\", \"Country: Norway<br>Vaccine: Pfizer/BioNTech<extra></extra>\", \"Country: Oman<br>Vaccine: Pfizer/BioNTech<extra></extra>\", \"Country: Palestine<br>Vaccine: Pfizer/BioNTech<extra></extra>\", \"Country: Panama<br>Vaccine: Pfizer/BioNTech<extra></extra>\", \"Country: Peru<br>Vaccine: Pfizer/BioNTech<extra></extra>\", \"Country: Philippines<br>Vaccine: Pfizer/BioNTech<extra></extra>\", \"Country: Poland<br>Vaccine: Pfizer/BioNTech<extra></extra>\", \"Country: Portugal<br>Vaccine: Pfizer/BioNTech<extra></extra>\", \"Country: Qatar<br>Vaccine: Pfizer/BioNTech<extra></extra>\", \"Country: Romania<br>Vaccine: Pfizer/BioNTech<extra></extra>\", \"Country: Rwanda<br>Vaccine: Pfizer/BioNTech<extra></extra>\", \"Country: San Marino<br>Vaccine: Pfizer/BioNTech<extra></extra>\", \"Country: Saudi Arabia<br>Vaccine: Pfizer/BioNTech<extra></extra>\", \"Country: Scotland<br>Vaccine: Pfizer/BioNTech<extra></extra>\", \"Country: Serbia<br>Vaccine: Pfizer/BioNTech<extra></extra>\", \"Country: Singapore<br>Vaccine: Pfizer/BioNTech<extra></extra>\", \"Country: Sint Maarten (Dutch part)<br>Vaccine: Pfizer/BioNTech<extra></extra>\", \"Country: Slovakia<br>Vaccine: Pfizer/BioNTech<extra></extra>\", \"Country: Slovenia<br>Vaccine: Pfizer/BioNTech<extra></extra>\", \"Country: South Africa<br>Vaccine: Pfizer/BioNTech<extra></extra>\", \"Country: South Korea<br>Vaccine: Pfizer/BioNTech<extra></extra>\", \"Country: Spain<br>Vaccine: Pfizer/BioNTech<extra></extra>\", \"Country: Sudan<br>Vaccine: Pfizer/BioNTech<extra></extra>\", \"Country: Sweden<br>Vaccine: Pfizer/BioNTech<extra></extra>\", \"Country: Switzerland<br>Vaccine: Pfizer/BioNTech<extra></extra>\", \"Country: Tunisia<br>Vaccine: Pfizer/BioNTech<extra></extra>\", \"Country: Turkey<br>Vaccine: Pfizer/BioNTech<extra></extra>\", \"Country: Turks and Caicos Islands<br>Vaccine: Pfizer/BioNTech<extra></extra>\", \"Country: Ukraine<br>Vaccine: Pfizer/BioNTech<extra></extra>\", \"Country: United Arab Emirates<br>Vaccine: Pfizer/BioNTech<extra></extra>\", \"Country: United Kingdom<br>Vaccine: Pfizer/BioNTech<extra></extra>\", \"Country: United States<br>Vaccine: Pfizer/BioNTech<extra></extra>\", \"Country: Uruguay<br>Vaccine: Pfizer/BioNTech<extra></extra>\", \"Country: Wales<br>Vaccine: Pfizer/BioNTech<extra></extra>\"], \"locations\": [\"AFG\", \"ALB\", \"AND\", \"ABW\", \"AUS\", \"AUT\", \"BHR\", \"BGD\", \"BEL\", \"BMU\", \"BTN\", \"BOL\", \"BES\", \"BIH\", \"BRA\", \"BGR\", \"CAN\", \"CPV\", \"CYM\", \"CHL\", \"COL\", \"CRI\", \"HRV\", \"CUW\", \"CYP\", \"CZE\", \"DNK\", \"DOM\", \"ECU\", \"SLV\", \"OWID_ENG\", \"EST\", \"FRO\", \"FIN\", \"FRA\", \"DEU\", \"GIB\", \"GRC\", \"GGY\", \"HKG\", \"HUN\", \"ISL\", \"IRQ\", \"IRL\", \"IMN\", \"ISR\", \"ITA\", \"JPN\", \"JEY\", \"JOR\", \"KWT\", \"LVA\", \"LBN\", \"LBY\", \"LIE\", \"LTU\", \"LUX\", \"MAC\", \"MYS\", \"MDV\", \"MLT\", \"MEX\", \"MDA\", \"MCO\", \"MNG\", \"MNE\", \"NLD\", \"NCL\", \"NZL\", \"MKD\", \"OWID_CYN\", \"OWID_NIR\", \"NOR\", \"OMN\", \"PSE\", \"PAN\", \"PER\", \"PHL\", \"POL\", \"PRT\", \"QAT\", \"ROU\", \"RWA\", \"SMR\", \"SAU\", \"OWID_SCT\", \"SRB\", \"SGP\", \"SXM\", \"SVK\", \"SVN\", \"ZAF\", \"KOR\", \"ESP\", \"SDN\", \"SWE\", \"CHE\", \"TUN\", \"TUR\", \"TCA\", \"UKR\", \"ARE\", \"GBR\", \"USA\", \"URY\", \"OWID_WLS\"], \"marker\": {\"line\": {\"color\": \"white\"}}, \"type\": \"choropleth\", \"visible\": false, \"z\": [1, 1, 1, 1, 1, 1, 1, 1, 1, 1, 1, 1, 1, 1, 1, 1, 1, 1, 1, 1, 1, 1, 1, 1, 1, 1, 1, 1, 1, 1, 1, 1, 1, 1, 1, 1, 1, 1, 1, 1, 1, 1, 1, 1, 1, 1, 1, 1, 1, 1, 1, 1, 1, 1, 1, 1, 1, 1, 1, 1, 1, 1, 1, 1, 1, 1, 1, 1, 1, 1, 1, 1, 1, 1, 1, 1, 1, 1, 1, 1, 1, 1, 1, 1, 1, 1, 1, 1, 1, 1, 1, 1, 1, 1, 1, 1, 1, 1, 1, 1, 1, 1, 1, 1, 1, 1]}, {\"autocolorscale\": false, \"coloraxis\": \"coloraxis\", \"colorscale\": [[0.0, \"rgb(247,251,255)\"], [0.125, \"rgb(222,235,247)\"], [0.25, \"rgb(198,219,239)\"], [0.375, \"rgb(158,202,225)\"], [0.5, \"rgb(107,174,214)\"], [0.625, \"rgb(66,146,198)\"], [0.75, \"rgb(33,113,181)\"], [0.875, \"rgb(8,81,156)\"], [1.0, \"rgb(8,48,107)\"]], \"hovertemplate\": [\"Country: Albania<br>Vaccine: Sinovac<extra></extra>\", \"Country: Armenia<br>Vaccine: Sinovac<extra></extra>\", \"Country: Azerbaijan<br>Vaccine: Sinovac<extra></extra>\", \"Country: Benin<br>Vaccine: Sinovac<extra></extra>\", \"Country: Bosnia and Herzegovina<br>Vaccine: Sinovac<extra></extra>\", \"Country: Brazil<br>Vaccine: Sinovac<extra></extra>\", \"Country: Cambodia<br>Vaccine: Sinovac<extra></extra>\", \"Country: Chile<br>Vaccine: Sinovac<extra></extra>\", \"Country: China<br>Vaccine: Sinovac<extra></extra>\", \"Country: Colombia<br>Vaccine: Sinovac<extra></extra>\", \"Country: Djibouti<br>Vaccine: Sinovac<extra></extra>\", \"Country: Dominican Republic<br>Vaccine: Sinovac<extra></extra>\", \"Country: Ecuador<br>Vaccine: Sinovac<extra></extra>\", \"Country: Egypt<br>Vaccine: Sinovac<extra></extra>\", \"Country: El Salvador<br>Vaccine: Sinovac<extra></extra>\", \"Country: Hong Kong<br>Vaccine: Sinovac<extra></extra>\", \"Country: Indonesia<br>Vaccine: Sinovac<extra></extra>\", \"Country: Libya<br>Vaccine: Sinovac<extra></extra>\", \"Country: Malaysia<br>Vaccine: Sinovac<extra></extra>\", \"Country: Mexico<br>Vaccine: Sinovac<extra></extra>\", \"Country: North Macedonia<br>Vaccine: Sinovac<extra></extra>\", \"Country: Northern Cyprus<br>Vaccine: Sinovac<extra></extra>\", \"Country: Pakistan<br>Vaccine: Sinovac<extra></extra>\", \"Country: Paraguay<br>Vaccine: Sinovac<extra></extra>\", \"Country: Philippines<br>Vaccine: Sinovac<extra></extra>\", \"Country: Singapore<br>Vaccine: Sinovac<extra></extra>\", \"Country: Somalia<br>Vaccine: Sinovac<extra></extra>\", \"Country: Sudan<br>Vaccine: Sinovac<extra></extra>\", \"Country: Tajikistan<br>Vaccine: Sinovac<extra></extra>\", \"Country: Thailand<br>Vaccine: Sinovac<extra></extra>\", \"Country: Timor<br>Vaccine: Sinovac<extra></extra>\", \"Country: Tunisia<br>Vaccine: Sinovac<extra></extra>\", \"Country: Turkey<br>Vaccine: Sinovac<extra></extra>\", \"Country: Ukraine<br>Vaccine: Sinovac<extra></extra>\", \"Country: Uruguay<br>Vaccine: Sinovac<extra></extra>\"], \"locations\": [\"ALB\", \"ARM\", \"AZE\", \"BEN\", \"BIH\", \"BRA\", \"KHM\", \"CHL\", \"CHN\", \"COL\", \"DJI\", \"DOM\", \"ECU\", \"EGY\", \"SLV\", \"HKG\", \"IDN\", \"LBY\", \"MYS\", \"MEX\", \"MKD\", \"OWID_CYN\", \"PAK\", \"PRY\", \"PHL\", \"SGP\", \"SOM\", \"SDN\", \"TJK\", \"THA\", \"TLS\", \"TUN\", \"TUR\", \"UKR\", \"URY\"], \"marker\": {\"line\": {\"color\": \"white\"}}, \"type\": \"choropleth\", \"visible\": false, \"z\": [1, 1, 1, 1, 1, 1, 1, 1, 1, 1, 1, 1, 1, 1, 1, 1, 1, 1, 1, 1, 1, 1, 1, 1, 1, 1, 1, 1, 1, 1, 1, 1, 1, 1, 1]}, {\"autocolorscale\": false, \"coloraxis\": \"coloraxis\", \"colorscale\": [[0.0, \"rgb(247,251,255)\"], [0.125, \"rgb(222,235,247)\"], [0.25, \"rgb(198,219,239)\"], [0.375, \"rgb(158,202,225)\"], [0.5, \"rgb(107,174,214)\"], [0.625, \"rgb(66,146,198)\"], [0.75, \"rgb(33,113,181)\"], [0.875, \"rgb(8,81,156)\"], [1.0, \"rgb(8,48,107)\"]], \"hovertemplate\": [\"Country: Albania<br>Vaccine: Sputnik V<extra></extra>\", \"Country: Algeria<br>Vaccine: Sputnik V<extra></extra>\", \"Country: Argentina<br>Vaccine: Sputnik V<extra></extra>\", \"Country: Armenia<br>Vaccine: Sputnik V<extra></extra>\", \"Country: Azerbaijan<br>Vaccine: Sputnik V<extra></extra>\", \"Country: Bahrain<br>Vaccine: Sputnik V<extra></extra>\", \"Country: Belarus<br>Vaccine: Sputnik V<extra></extra>\", \"Country: Bolivia<br>Vaccine: Sputnik V<extra></extra>\", \"Country: Bosnia and Herzegovina<br>Vaccine: Sputnik V<extra></extra>\", \"Country: Congo<br>Vaccine: Sputnik V<extra></extra>\", \"Country: Djibouti<br>Vaccine: Sputnik V<extra></extra>\", \"Country: Egypt<br>Vaccine: Sputnik V<extra></extra>\", \"Country: Ghana<br>Vaccine: Sputnik V<extra></extra>\", \"Country: Guinea<br>Vaccine: Sputnik V<extra></extra>\", \"Country: Guyana<br>Vaccine: Sputnik V<extra></extra>\", \"Country: Honduras<br>Vaccine: Sputnik V<extra></extra>\", \"Country: Hungary<br>Vaccine: Sputnik V<extra></extra>\", \"Country: India<br>Vaccine: Sputnik V<extra></extra>\", \"Country: Iran<br>Vaccine: Sputnik V<extra></extra>\", \"Country: Iraq<br>Vaccine: Sputnik V<extra></extra>\", \"Country: Jordan<br>Vaccine: Sputnik V<extra></extra>\", \"Country: Kazakhstan<br>Vaccine: Sputnik V<extra></extra>\", \"Country: Kenya<br>Vaccine: Sputnik V<extra></extra>\", \"Country: Kyrgyzstan<br>Vaccine: Sputnik V<extra></extra>\", \"Country: Laos<br>Vaccine: Sputnik V<extra></extra>\", \"Country: Lebanon<br>Vaccine: Sputnik V<extra></extra>\", \"Country: Libya<br>Vaccine: Sputnik V<extra></extra>\", \"Country: Mexico<br>Vaccine: Sputnik V<extra></extra>\", \"Country: Moldova<br>Vaccine: Sputnik V<extra></extra>\", \"Country: Mongolia<br>Vaccine: Sputnik V<extra></extra>\", \"Country: Montenegro<br>Vaccine: Sputnik V<extra></extra>\", \"Country: Nicaragua<br>Vaccine: Sputnik V<extra></extra>\", \"Country: North Macedonia<br>Vaccine: Sputnik V<extra></extra>\", \"Country: Pakistan<br>Vaccine: Sputnik V<extra></extra>\", \"Country: Paraguay<br>Vaccine: Sputnik V<extra></extra>\", \"Country: Philippines<br>Vaccine: Sputnik V<extra></extra>\", \"Country: Russia<br>Vaccine: Sputnik V<extra></extra>\", \"Country: San Marino<br>Vaccine: Sputnik V<extra></extra>\", \"Country: Serbia<br>Vaccine: Sputnik V<extra></extra>\", \"Country: Sri Lanka<br>Vaccine: Sputnik V<extra></extra>\", \"Country: Syria<br>Vaccine: Sputnik V<extra></extra>\", \"Country: Tunisia<br>Vaccine: Sputnik V<extra></extra>\", \"Country: Turkmenistan<br>Vaccine: Sputnik V<extra></extra>\", \"Country: United Arab Emirates<br>Vaccine: Sputnik V<extra></extra>\", \"Country: Uzbekistan<br>Vaccine: Sputnik V<extra></extra>\", \"Country: Venezuela<br>Vaccine: Sputnik V<extra></extra>\"], \"locations\": [\"ALB\", \"DZA\", \"ARG\", \"ARM\", \"AZE\", \"BHR\", \"BLR\", \"BOL\", \"BIH\", \"COG\", \"DJI\", \"EGY\", \"GHA\", \"GIN\", \"GUY\", \"HND\", \"HUN\", \"IND\", \"IRN\", \"IRQ\", \"JOR\", \"KAZ\", \"KEN\", \"KGZ\", \"LAO\", \"LBN\", \"LBY\", \"MEX\", \"MDA\", \"MNG\", \"MNE\", \"NIC\", \"MKD\", \"PAK\", \"PRY\", \"PHL\", \"RUS\", \"SMR\", \"SRB\", \"LKA\", \"SYR\", \"TUN\", \"TKM\", \"ARE\", \"UZB\", \"VEN\"], \"marker\": {\"line\": {\"color\": \"white\"}}, \"type\": \"choropleth\", \"visible\": false, \"z\": [1, 1, 1, 1, 1, 1, 1, 1, 1, 1, 1, 1, 1, 1, 1, 1, 1, 1, 1, 1, 1, 1, 1, 1, 1, 1, 1, 1, 1, 1, 1, 1, 1, 1, 1, 1, 1, 1, 1, 1, 1, 1, 1, 1, 1, 1]}, {\"autocolorscale\": false, \"coloraxis\": \"coloraxis\", \"colorscale\": [[0.0, \"rgb(247,251,255)\"], [0.125, \"rgb(222,235,247)\"], [0.25, \"rgb(198,219,239)\"], [0.375, \"rgb(158,202,225)\"], [0.5, \"rgb(107,174,214)\"], [0.625, \"rgb(66,146,198)\"], [0.75, \"rgb(33,113,181)\"], [0.875, \"rgb(8,81,156)\"], [1.0, \"rgb(8,48,107)\"]], \"hovertemplate\": [\"Country: Argentina<br>Vaccine: Sinopharm/Beijing<extra></extra>\", \"Country: Bahrain<br>Vaccine: Sinopharm/Beijing<extra></extra>\", \"Country: Belize<br>Vaccine: Sinopharm/Beijing<extra></extra>\", \"Country: Bolivia<br>Vaccine: Sinopharm/Beijing<extra></extra>\", \"Country: Brunei<br>Vaccine: Sinopharm/Beijing<extra></extra>\", \"Country: Cambodia<br>Vaccine: Sinopharm/Beijing<extra></extra>\", \"Country: China<br>Vaccine: Sinopharm/Beijing<extra></extra>\", \"Country: Comoros<br>Vaccine: Sinopharm/Beijing<extra></extra>\", \"Country: Dominican Republic<br>Vaccine: Sinopharm/Beijing<extra></extra>\", \"Country: Equatorial Guinea<br>Vaccine: Sinopharm/Beijing<extra></extra>\", \"Country: Hungary<br>Vaccine: Sinopharm/Beijing<extra></extra>\", \"Country: Jordan<br>Vaccine: Sinopharm/Beijing<extra></extra>\", \"Country: Kyrgyzstan<br>Vaccine: Sinopharm/Beijing<extra></extra>\", \"Country: Laos<br>Vaccine: Sinopharm/Beijing<extra></extra>\", \"Country: Lebanon<br>Vaccine: Sinopharm/Beijing<extra></extra>\", \"Country: Macao<br>Vaccine: Sinopharm/Beijing<extra></extra>\", \"Country: Maldives<br>Vaccine: Sinopharm/Beijing<extra></extra>\", \"Country: Moldova<br>Vaccine: Sinopharm/Beijing<extra></extra>\", \"Country: Mongolia<br>Vaccine: Sinopharm/Beijing<extra></extra>\", \"Country: Montenegro<br>Vaccine: Sinopharm/Beijing<extra></extra>\", \"Country: Morocco<br>Vaccine: Sinopharm/Beijing<extra></extra>\", \"Country: Namibia<br>Vaccine: Sinopharm/Beijing<extra></extra>\", \"Country: Nepal<br>Vaccine: Sinopharm/Beijing<extra></extra>\", \"Country: North Macedonia<br>Vaccine: Sinopharm/Beijing<extra></extra>\", \"Country: Pakistan<br>Vaccine: Sinopharm/Beijing<extra></extra>\", \"Country: Paraguay<br>Vaccine: Sinopharm/Beijing<extra></extra>\", \"Country: Peru<br>Vaccine: Sinopharm/Beijing<extra></extra>\", \"Country: Serbia<br>Vaccine: Sinopharm/Beijing<extra></extra>\", \"Country: Seychelles<br>Vaccine: Sinopharm/Beijing<extra></extra>\", \"Country: Sri Lanka<br>Vaccine: Sinopharm/Beijing<extra></extra>\", \"Country: Turkmenistan<br>Vaccine: Sinopharm/Beijing<extra></extra>\", \"Country: United Arab Emirates<br>Vaccine: Sinopharm/Beijing<extra></extra>\", \"Country: Zambia<br>Vaccine: Sinopharm/Beijing<extra></extra>\", \"Country: Zimbabwe<br>Vaccine: Sinopharm/Beijing<extra></extra>\"], \"locations\": [\"ARG\", \"BHR\", \"BLZ\", \"BOL\", \"BRN\", \"KHM\", \"CHN\", \"COM\", \"DOM\", \"GNQ\", \"HUN\", \"JOR\", \"KGZ\", \"LAO\", \"LBN\", \"MAC\", \"MDV\", \"MDA\", \"MNG\", \"MNE\", \"MAR\", \"NAM\", \"NPL\", \"MKD\", \"PAK\", \"PRY\", \"PER\", \"SRB\", \"SYC\", \"LKA\", \"TKM\", \"ARE\", \"ZMB\", \"ZWE\"], \"marker\": {\"line\": {\"color\": \"white\"}}, \"type\": \"choropleth\", \"visible\": false, \"z\": [1, 1, 1, 1, 1, 1, 1, 1, 1, 1, 1, 1, 1, 1, 1, 1, 1, 1, 1, 1, 1, 1, 1, 1, 1, 1, 1, 1, 1, 1, 1, 1, 1, 1]}, {\"autocolorscale\": false, \"coloraxis\": \"coloraxis\", \"colorscale\": [[0.0, \"rgb(247,251,255)\"], [0.125, \"rgb(222,235,247)\"], [0.25, \"rgb(198,219,239)\"], [0.375, \"rgb(158,202,225)\"], [0.5, \"rgb(107,174,214)\"], [0.625, \"rgb(66,146,198)\"], [0.75, \"rgb(33,113,181)\"], [0.875, \"rgb(8,81,156)\"], [1.0, \"rgb(8,48,107)\"]], \"hovertemplate\": [\"Country: Austria<br>Vaccine: Johnson&Johnson<extra></extra>\", \"Country: Belgium<br>Vaccine: Johnson&Johnson<extra></extra>\", \"Country: Bulgaria<br>Vaccine: Johnson&Johnson<extra></extra>\", \"Country: Cyprus<br>Vaccine: Johnson&Johnson<extra></extra>\", \"Country: Czechia<br>Vaccine: Johnson&Johnson<extra></extra>\", \"Country: Denmark<br>Vaccine: Johnson&Johnson<extra></extra>\", \"Country: Estonia<br>Vaccine: Johnson&Johnson<extra></extra>\", \"Country: France<br>Vaccine: Johnson&Johnson<extra></extra>\", \"Country: Germany<br>Vaccine: Johnson&Johnson<extra></extra>\", \"Country: Greece<br>Vaccine: Johnson&Johnson<extra></extra>\", \"Country: Honduras<br>Vaccine: Johnson&Johnson<extra></extra>\", \"Country: Hungary<br>Vaccine: Johnson&Johnson<extra></extra>\", \"Country: Iceland<br>Vaccine: Johnson&Johnson<extra></extra>\", \"Country: Ireland<br>Vaccine: Johnson&Johnson<extra></extra>\", \"Country: Italy<br>Vaccine: Johnson&Johnson<extra></extra>\", \"Country: Latvia<br>Vaccine: Johnson&Johnson<extra></extra>\", \"Country: Libya<br>Vaccine: Johnson&Johnson<extra></extra>\", \"Country: Lithuania<br>Vaccine: Johnson&Johnson<extra></extra>\", \"Country: Malta<br>Vaccine: Johnson&Johnson<extra></extra>\", \"Country: Netherlands<br>Vaccine: Johnson&Johnson<extra></extra>\", \"Country: Poland<br>Vaccine: Johnson&Johnson<extra></extra>\", \"Country: Portugal<br>Vaccine: Johnson&Johnson<extra></extra>\", \"Country: Romania<br>Vaccine: Johnson&Johnson<extra></extra>\", \"Country: South Africa<br>Vaccine: Johnson&Johnson<extra></extra>\", \"Country: South Korea<br>Vaccine: Johnson&Johnson<extra></extra>\", \"Country: Spain<br>Vaccine: Johnson&Johnson<extra></extra>\", \"Country: United States<br>Vaccine: Johnson&Johnson<extra></extra>\"], \"locations\": [\"AUT\", \"BEL\", \"BGR\", \"CYP\", \"CZE\", \"DNK\", \"EST\", \"FRA\", \"DEU\", \"GRC\", \"HND\", \"HUN\", \"ISL\", \"IRL\", \"ITA\", \"LVA\", \"LBY\", \"LTU\", \"MLT\", \"NLD\", \"POL\", \"PRT\", \"ROU\", \"ZAF\", \"KOR\", \"ESP\", \"USA\"], \"marker\": {\"line\": {\"color\": \"white\"}}, \"type\": \"choropleth\", \"visible\": false, \"z\": [1, 1, 1, 1, 1, 1, 1, 1, 1, 1, 1, 1, 1, 1, 1, 1, 1, 1, 1, 1, 1, 1, 1, 1, 1, 1, 1]}, {\"autocolorscale\": false, \"coloraxis\": \"coloraxis\", \"colorscale\": [[0.0, \"rgb(247,251,255)\"], [0.125, \"rgb(222,235,247)\"], [0.25, \"rgb(198,219,239)\"], [0.375, \"rgb(158,202,225)\"], [0.5, \"rgb(107,174,214)\"], [0.625, \"rgb(66,146,198)\"], [0.75, \"rgb(33,113,181)\"], [0.875, \"rgb(8,81,156)\"], [1.0, \"rgb(8,48,107)\"]], \"hovertemplate\": [\"Country: Austria<br>Vaccine: Moderna<extra></extra>\", \"Country: Belgium<br>Vaccine: Moderna<extra></extra>\", \"Country: Bonaire Sint Eustatius and Saba<br>Vaccine: Moderna<extra></extra>\", \"Country: Bulgaria<br>Vaccine: Moderna<extra></extra>\", \"Country: Canada<br>Vaccine: Moderna<extra></extra>\", \"Country: Congo<br>Vaccine: Moderna<extra></extra>\", \"Country: Croatia<br>Vaccine: Moderna<extra></extra>\", \"Country: Curacao<br>Vaccine: Moderna<extra></extra>\", \"Country: Cyprus<br>Vaccine: Moderna<extra></extra>\", \"Country: Czechia<br>Vaccine: Moderna<extra></extra>\", \"Country: Denmark<br>Vaccine: Moderna<extra></extra>\", \"Country: England<br>Vaccine: Moderna<extra></extra>\", \"Country: Estonia<br>Vaccine: Moderna<extra></extra>\", \"Country: Faeroe Islands<br>Vaccine: Moderna<extra></extra>\", \"Country: Finland<br>Vaccine: Moderna<extra></extra>\", \"Country: France<br>Vaccine: Moderna<extra></extra>\", \"Country: Germany<br>Vaccine: Moderna<extra></extra>\", \"Country: Greece<br>Vaccine: Moderna<extra></extra>\", \"Country: Greenland<br>Vaccine: Moderna<extra></extra>\", \"Country: Guatemala<br>Vaccine: Moderna<extra></extra>\", \"Country: Guernsey<br>Vaccine: Moderna<extra></extra>\", \"Country: Honduras<br>Vaccine: Moderna<extra></extra>\", \"Country: Hungary<br>Vaccine: Moderna<extra></extra>\", \"Country: Iceland<br>Vaccine: Moderna<extra></extra>\", \"Country: Ireland<br>Vaccine: Moderna<extra></extra>\", \"Country: Israel<br>Vaccine: Moderna<extra></extra>\", \"Country: Italy<br>Vaccine: Moderna<extra></extra>\", \"Country: Japan<br>Vaccine: Moderna<extra></extra>\", \"Country: Jersey<br>Vaccine: Moderna<extra></extra>\", \"Country: Latvia<br>Vaccine: Moderna<extra></extra>\", \"Country: Libya<br>Vaccine: Moderna<extra></extra>\", \"Country: Liechtenstein<br>Vaccine: Moderna<extra></extra>\", \"Country: Lithuania<br>Vaccine: Moderna<extra></extra>\", \"Country: Luxembourg<br>Vaccine: Moderna<extra></extra>\", \"Country: Malta<br>Vaccine: Moderna<extra></extra>\", \"Country: Netherlands<br>Vaccine: Moderna<extra></extra>\", \"Country: Northern Ireland<br>Vaccine: Moderna<extra></extra>\", \"Country: Norway<br>Vaccine: Moderna<extra></extra>\", \"Country: Palestine<br>Vaccine: Moderna<extra></extra>\", \"Country: Philippines<br>Vaccine: Moderna<extra></extra>\", \"Country: Poland<br>Vaccine: Moderna<extra></extra>\", \"Country: Portugal<br>Vaccine: Moderna<extra></extra>\", \"Country: Qatar<br>Vaccine: Moderna<extra></extra>\", \"Country: Romania<br>Vaccine: Moderna<extra></extra>\", \"Country: Rwanda<br>Vaccine: Moderna<extra></extra>\", \"Country: Scotland<br>Vaccine: Moderna<extra></extra>\", \"Country: Singapore<br>Vaccine: Moderna<extra></extra>\", \"Country: Sint Maarten (Dutch part)<br>Vaccine: Moderna<extra></extra>\", \"Country: Slovakia<br>Vaccine: Moderna<extra></extra>\", \"Country: South Korea<br>Vaccine: Moderna<extra></extra>\", \"Country: Spain<br>Vaccine: Moderna<extra></extra>\", \"Country: Switzerland<br>Vaccine: Moderna<extra></extra>\", \"Country: Taiwan<br>Vaccine: Moderna<extra></extra>\", \"Country: United Kingdom<br>Vaccine: Moderna<extra></extra>\", \"Country: United States<br>Vaccine: Moderna<extra></extra>\", \"Country: Wales<br>Vaccine: Moderna<extra></extra>\"], \"locations\": [\"AUT\", \"BEL\", \"BES\", \"BGR\", \"CAN\", \"COG\", \"HRV\", \"CUW\", \"CYP\", \"CZE\", \"DNK\", \"OWID_ENG\", \"EST\", \"FRO\", \"FIN\", \"FRA\", \"DEU\", \"GRC\", \"GRL\", \"GTM\", \"GGY\", \"HND\", \"HUN\", \"ISL\", \"IRL\", \"ISR\", \"ITA\", \"JPN\", \"JEY\", \"LVA\", \"LBY\", \"LIE\", \"LTU\", \"LUX\", \"MLT\", \"NLD\", \"OWID_NIR\", \"NOR\", \"PSE\", \"PHL\", \"POL\", \"PRT\", \"QAT\", \"ROU\", \"RWA\", \"OWID_SCT\", \"SGP\", \"SXM\", \"SVK\", \"KOR\", \"ESP\", \"CHE\", \"TWN\", \"GBR\", \"USA\", \"OWID_WLS\"], \"marker\": {\"line\": {\"color\": \"white\"}}, \"type\": \"choropleth\", \"visible\": false, \"z\": [1, 1, 1, 1, 1, 1, 1, 1, 1, 1, 1, 1, 1, 1, 1, 1, 1, 1, 1, 1, 1, 1, 1, 1, 1, 1, 1, 1, 1, 1, 1, 1, 1, 1, 1, 1, 1, 1, 1, 1, 1, 1, 1, 1, 1, 1, 1, 1, 1, 1, 1, 1, 1, 1, 1, 1]}, {\"autocolorscale\": false, \"coloraxis\": \"coloraxis\", \"colorscale\": [[0.0, \"rgb(247,251,255)\"], [0.125, \"rgb(222,235,247)\"], [0.25, \"rgb(198,219,239)\"], [0.375, \"rgb(158,202,225)\"], [0.5, \"rgb(107,174,214)\"], [0.625, \"rgb(66,146,198)\"], [0.75, \"rgb(33,113,181)\"], [0.875, \"rgb(8,81,156)\"], [1.0, \"rgb(8,48,107)\"]], \"hovertemplate\": [\"Country: Central African Republic<br>Vaccine: Covaxin<extra></extra>\", \"Country: Comoros<br>Vaccine: Covaxin<extra></extra>\", \"Country: India<br>Vaccine: Covaxin<extra></extra>\", \"Country: Iran<br>Vaccine: Covaxin<extra></extra>\", \"Country: Mauritius<br>Vaccine: Covaxin<extra></extra>\", \"Country: Paraguay<br>Vaccine: Covaxin<extra></extra>\"], \"locations\": [\"CAF\", \"COM\", \"IND\", \"IRN\", \"MUS\", \"PRY\"], \"marker\": {\"line\": {\"color\": \"white\"}}, \"type\": \"choropleth\", \"visible\": false, \"z\": [1, 1, 1, 1, 1, 1]}, {\"autocolorscale\": false, \"coloraxis\": \"coloraxis\", \"colorscale\": [[0.0, \"rgb(247,251,255)\"], [0.125, \"rgb(222,235,247)\"], [0.25, \"rgb(198,219,239)\"], [0.375, \"rgb(158,202,225)\"], [0.5, \"rgb(107,174,214)\"], [0.625, \"rgb(66,146,198)\"], [0.75, \"rgb(33,113,181)\"], [0.875, \"rgb(8,81,156)\"], [1.0, \"rgb(8,48,107)\"]], \"hovertemplate\": [\"Country: Chile<br>Vaccine: CanSino<extra></extra>\", \"Country: China<br>Vaccine: CanSino<extra></extra>\", \"Country: Mexico<br>Vaccine: CanSino<extra></extra>\", \"Country: Pakistan<br>Vaccine: CanSino<extra></extra>\"], \"locations\": [\"CHL\", \"CHN\", \"MEX\", \"PAK\"], \"marker\": {\"line\": {\"color\": \"white\"}}, \"type\": \"choropleth\", \"visible\": false, \"z\": [1, 1, 1, 1]}, {\"autocolorscale\": false, \"coloraxis\": \"coloraxis\", \"colorscale\": [[0.0, \"rgb(247,251,255)\"], [0.125, \"rgb(222,235,247)\"], [0.25, \"rgb(198,219,239)\"], [0.375, \"rgb(158,202,225)\"], [0.5, \"rgb(107,174,214)\"], [0.625, \"rgb(66,146,198)\"], [0.75, \"rgb(33,113,181)\"], [0.875, \"rgb(8,81,156)\"], [1.0, \"rgb(8,48,107)\"]], \"hovertemplate\": [\"Country: China<br>Vaccine: Sinopharm/Wuhan<extra></extra>\", \"Country: United Arab Emirates<br>Vaccine: Sinopharm/Wuhan<extra></extra>\"], \"locations\": [\"CHN\", \"ARE\"], \"marker\": {\"line\": {\"color\": \"white\"}}, \"type\": \"choropleth\", \"visible\": false, \"z\": [1, 1]}, {\"autocolorscale\": false, \"coloraxis\": \"coloraxis\", \"colorscale\": [[0.0, \"rgb(247,251,255)\"], [0.125, \"rgb(222,235,247)\"], [0.25, \"rgb(198,219,239)\"], [0.375, \"rgb(158,202,225)\"], [0.5, \"rgb(107,174,214)\"], [0.625, \"rgb(66,146,198)\"], [0.75, \"rgb(33,113,181)\"], [0.875, \"rgb(8,81,156)\"], [1.0, \"rgb(8,48,107)\"]], \"hovertemplate\": [\"Country: Cuba<br>Vaccine: Abdala<extra></extra>\"], \"locations\": [\"CUB\"], \"marker\": {\"line\": {\"color\": \"white\"}}, \"type\": \"choropleth\", \"visible\": false, \"z\": [1]}, {\"autocolorscale\": false, \"coloraxis\": \"coloraxis\", \"colorscale\": [[0.0, \"rgb(247,251,255)\"], [0.125, \"rgb(222,235,247)\"], [0.25, \"rgb(198,219,239)\"], [0.375, \"rgb(158,202,225)\"], [0.5, \"rgb(107,174,214)\"], [0.625, \"rgb(66,146,198)\"], [0.75, \"rgb(33,113,181)\"], [0.875, \"rgb(8,81,156)\"], [1.0, \"rgb(8,48,107)\"]], \"hovertemplate\": [\"Country: Cuba<br>Vaccine: Soberana02<extra></extra>\"], \"locations\": [\"CUB\"], \"marker\": {\"line\": {\"color\": \"white\"}}, \"type\": \"choropleth\", \"visible\": false, \"z\": [1]}, {\"autocolorscale\": false, \"coloraxis\": \"coloraxis\", \"colorscale\": [[0.0, \"rgb(247,251,255)\"], [0.125, \"rgb(222,235,247)\"], [0.25, \"rgb(198,219,239)\"], [0.375, \"rgb(158,202,225)\"], [0.5, \"rgb(107,174,214)\"], [0.625, \"rgb(66,146,198)\"], [0.75, \"rgb(33,113,181)\"], [0.875, \"rgb(8,81,156)\"], [1.0, \"rgb(8,48,107)\"]], \"hovertemplate\": [\"Country: Kazakhstan<br>Vaccine: QazVac<extra></extra>\"], \"locations\": [\"KAZ\"], \"marker\": {\"line\": {\"color\": \"white\"}}, \"type\": \"choropleth\", \"visible\": false, \"z\": [1]}, {\"autocolorscale\": false, \"coloraxis\": \"coloraxis\", \"colorscale\": [[0.0, \"rgb(247,251,255)\"], [0.125, \"rgb(222,235,247)\"], [0.25, \"rgb(198,219,239)\"], [0.375, \"rgb(158,202,225)\"], [0.5, \"rgb(107,174,214)\"], [0.625, \"rgb(66,146,198)\"], [0.75, \"rgb(33,113,181)\"], [0.875, \"rgb(8,81,156)\"], [1.0, \"rgb(8,48,107)\"]], \"hovertemplate\": [\"Country: Kazakhstan<br>Vaccine: Sinopharm/HayatVax<extra></extra>\"], \"locations\": [\"KAZ\"], \"marker\": {\"line\": {\"color\": \"white\"}}, \"type\": \"choropleth\", \"visible\": false, \"z\": [1]}, {\"autocolorscale\": false, \"coloraxis\": \"coloraxis\", \"colorscale\": [[0.0, \"rgb(247,251,255)\"], [0.125, \"rgb(222,235,247)\"], [0.25, \"rgb(198,219,239)\"], [0.375, \"rgb(158,202,225)\"], [0.5, \"rgb(107,174,214)\"], [0.625, \"rgb(66,146,198)\"], [0.75, \"rgb(33,113,181)\"], [0.875, \"rgb(8,81,156)\"], [1.0, \"rgb(8,48,107)\"]], \"hovertemplate\": [\"Country: Russia<br>Vaccine: EpiVacCorona<extra></extra>\", \"Country: Turkmenistan<br>Vaccine: EpiVacCorona<extra></extra>\"], \"locations\": [\"RUS\", \"TKM\"], \"marker\": {\"line\": {\"color\": \"white\"}}, \"type\": \"choropleth\", \"visible\": false, \"z\": [1, 1]}, {\"autocolorscale\": false, \"coloraxis\": \"coloraxis\", \"colorscale\": [[0.0, \"rgb(247,251,255)\"], [0.125, \"rgb(222,235,247)\"], [0.25, \"rgb(198,219,239)\"], [0.375, \"rgb(158,202,225)\"], [0.5, \"rgb(107,174,214)\"], [0.625, \"rgb(66,146,198)\"], [0.75, \"rgb(33,113,181)\"], [0.875, \"rgb(8,81,156)\"], [1.0, \"rgb(8,48,107)\"]], \"hovertemplate\": [\"Country: Uzbekistan<br>Vaccine: RBD-Dimer<extra></extra>\"], \"locations\": [\"UZB\"], \"marker\": {\"line\": {\"color\": \"white\"}}, \"type\": \"choropleth\", \"visible\": false, \"z\": [1]}],                        {\"coloraxis\": {\"colorscale\": [[0.0, \"rgb(247,251,255)\"], [0.125, \"rgb(222,235,247)\"], [0.25, \"rgb(198,219,239)\"], [0.375, \"rgb(158,202,225)\"], [0.5, \"rgb(107,174,214)\"], [0.625, \"rgb(66,146,198)\"], [0.75, \"rgb(33,113,181)\"], [0.875, \"rgb(8,81,156)\"], [1.0, \"rgb(8,48,107)\"]], \"showscale\": false}, \"showlegend\": false, \"template\": {\"data\": {\"bar\": [{\"error_x\": {\"color\": \"#2a3f5f\"}, \"error_y\": {\"color\": \"#2a3f5f\"}, \"marker\": {\"line\": {\"color\": \"#E5ECF6\", \"width\": 0.5}}, \"type\": \"bar\"}], \"barpolar\": [{\"marker\": {\"line\": {\"color\": \"#E5ECF6\", \"width\": 0.5}}, \"type\": \"barpolar\"}], \"carpet\": [{\"aaxis\": {\"endlinecolor\": \"#2a3f5f\", \"gridcolor\": \"white\", \"linecolor\": \"white\", \"minorgridcolor\": \"white\", \"startlinecolor\": \"#2a3f5f\"}, \"baxis\": {\"endlinecolor\": \"#2a3f5f\", \"gridcolor\": \"white\", \"linecolor\": \"white\", \"minorgridcolor\": \"white\", \"startlinecolor\": \"#2a3f5f\"}, \"type\": \"carpet\"}], \"choropleth\": [{\"colorbar\": {\"outlinewidth\": 0, \"ticks\": \"\"}, \"type\": \"choropleth\"}], \"contour\": [{\"colorbar\": {\"outlinewidth\": 0, \"ticks\": \"\"}, \"colorscale\": [[0.0, \"#0d0887\"], [0.1111111111111111, \"#46039f\"], [0.2222222222222222, \"#7201a8\"], [0.3333333333333333, \"#9c179e\"], [0.4444444444444444, \"#bd3786\"], [0.5555555555555556, \"#d8576b\"], [0.6666666666666666, \"#ed7953\"], [0.7777777777777778, \"#fb9f3a\"], [0.8888888888888888, \"#fdca26\"], [1.0, \"#f0f921\"]], \"type\": \"contour\"}], \"contourcarpet\": [{\"colorbar\": {\"outlinewidth\": 0, \"ticks\": \"\"}, \"type\": \"contourcarpet\"}], \"heatmap\": [{\"colorbar\": {\"outlinewidth\": 0, \"ticks\": \"\"}, \"colorscale\": [[0.0, \"#0d0887\"], [0.1111111111111111, \"#46039f\"], [0.2222222222222222, \"#7201a8\"], [0.3333333333333333, \"#9c179e\"], [0.4444444444444444, \"#bd3786\"], [0.5555555555555556, \"#d8576b\"], [0.6666666666666666, \"#ed7953\"], [0.7777777777777778, \"#fb9f3a\"], [0.8888888888888888, \"#fdca26\"], [1.0, \"#f0f921\"]], \"type\": \"heatmap\"}], \"heatmapgl\": [{\"colorbar\": {\"outlinewidth\": 0, \"ticks\": \"\"}, \"colorscale\": [[0.0, \"#0d0887\"], [0.1111111111111111, \"#46039f\"], [0.2222222222222222, \"#7201a8\"], [0.3333333333333333, \"#9c179e\"], [0.4444444444444444, \"#bd3786\"], [0.5555555555555556, \"#d8576b\"], [0.6666666666666666, \"#ed7953\"], [0.7777777777777778, \"#fb9f3a\"], [0.8888888888888888, \"#fdca26\"], [1.0, \"#f0f921\"]], \"type\": \"heatmapgl\"}], \"histogram\": [{\"marker\": {\"colorbar\": {\"outlinewidth\": 0, \"ticks\": \"\"}}, \"type\": \"histogram\"}], \"histogram2d\": [{\"colorbar\": {\"outlinewidth\": 0, \"ticks\": \"\"}, \"colorscale\": [[0.0, \"#0d0887\"], [0.1111111111111111, \"#46039f\"], [0.2222222222222222, \"#7201a8\"], [0.3333333333333333, \"#9c179e\"], [0.4444444444444444, \"#bd3786\"], [0.5555555555555556, \"#d8576b\"], [0.6666666666666666, \"#ed7953\"], [0.7777777777777778, \"#fb9f3a\"], [0.8888888888888888, \"#fdca26\"], [1.0, \"#f0f921\"]], \"type\": \"histogram2d\"}], \"histogram2dcontour\": [{\"colorbar\": {\"outlinewidth\": 0, \"ticks\": \"\"}, \"colorscale\": [[0.0, \"#0d0887\"], [0.1111111111111111, \"#46039f\"], [0.2222222222222222, \"#7201a8\"], [0.3333333333333333, \"#9c179e\"], [0.4444444444444444, \"#bd3786\"], [0.5555555555555556, \"#d8576b\"], [0.6666666666666666, \"#ed7953\"], [0.7777777777777778, \"#fb9f3a\"], [0.8888888888888888, \"#fdca26\"], [1.0, \"#f0f921\"]], \"type\": \"histogram2dcontour\"}], \"mesh3d\": [{\"colorbar\": {\"outlinewidth\": 0, \"ticks\": \"\"}, \"type\": \"mesh3d\"}], \"parcoords\": [{\"line\": {\"colorbar\": {\"outlinewidth\": 0, \"ticks\": \"\"}}, \"type\": \"parcoords\"}], \"pie\": [{\"automargin\": true, \"type\": \"pie\"}], \"scatter\": [{\"marker\": {\"colorbar\": {\"outlinewidth\": 0, \"ticks\": \"\"}}, \"type\": \"scatter\"}], \"scatter3d\": [{\"line\": {\"colorbar\": {\"outlinewidth\": 0, \"ticks\": \"\"}}, \"marker\": {\"colorbar\": {\"outlinewidth\": 0, \"ticks\": \"\"}}, \"type\": \"scatter3d\"}], \"scattercarpet\": [{\"marker\": {\"colorbar\": {\"outlinewidth\": 0, \"ticks\": \"\"}}, \"type\": \"scattercarpet\"}], \"scattergeo\": [{\"marker\": {\"colorbar\": {\"outlinewidth\": 0, \"ticks\": \"\"}}, \"type\": \"scattergeo\"}], \"scattergl\": [{\"marker\": {\"colorbar\": {\"outlinewidth\": 0, \"ticks\": \"\"}}, \"type\": \"scattergl\"}], \"scattermapbox\": [{\"marker\": {\"colorbar\": {\"outlinewidth\": 0, \"ticks\": \"\"}}, \"type\": \"scattermapbox\"}], \"scatterpolar\": [{\"marker\": {\"colorbar\": {\"outlinewidth\": 0, \"ticks\": \"\"}}, \"type\": \"scatterpolar\"}], \"scatterpolargl\": [{\"marker\": {\"colorbar\": {\"outlinewidth\": 0, \"ticks\": \"\"}}, \"type\": \"scatterpolargl\"}], \"scatterternary\": [{\"marker\": {\"colorbar\": {\"outlinewidth\": 0, \"ticks\": \"\"}}, \"type\": \"scatterternary\"}], \"surface\": [{\"colorbar\": {\"outlinewidth\": 0, \"ticks\": \"\"}, \"colorscale\": [[0.0, \"#0d0887\"], [0.1111111111111111, \"#46039f\"], [0.2222222222222222, \"#7201a8\"], [0.3333333333333333, \"#9c179e\"], [0.4444444444444444, \"#bd3786\"], [0.5555555555555556, \"#d8576b\"], [0.6666666666666666, \"#ed7953\"], [0.7777777777777778, \"#fb9f3a\"], [0.8888888888888888, \"#fdca26\"], [1.0, \"#f0f921\"]], \"type\": \"surface\"}], \"table\": [{\"cells\": {\"fill\": {\"color\": \"#EBF0F8\"}, \"line\": {\"color\": \"white\"}}, \"header\": {\"fill\": {\"color\": \"#C8D4E3\"}, \"line\": {\"color\": \"white\"}}, \"type\": \"table\"}]}, \"layout\": {\"annotationdefaults\": {\"arrowcolor\": \"#2a3f5f\", \"arrowhead\": 0, \"arrowwidth\": 1}, \"autotypenumbers\": \"strict\", \"coloraxis\": {\"colorbar\": {\"outlinewidth\": 0, \"ticks\": \"\"}}, \"colorscale\": {\"diverging\": [[0, \"#8e0152\"], [0.1, \"#c51b7d\"], [0.2, \"#de77ae\"], [0.3, \"#f1b6da\"], [0.4, \"#fde0ef\"], [0.5, \"#f7f7f7\"], [0.6, \"#e6f5d0\"], [0.7, \"#b8e186\"], [0.8, \"#7fbc41\"], [0.9, \"#4d9221\"], [1, \"#276419\"]], \"sequential\": [[0.0, \"#0d0887\"], [0.1111111111111111, \"#46039f\"], [0.2222222222222222, \"#7201a8\"], [0.3333333333333333, \"#9c179e\"], [0.4444444444444444, \"#bd3786\"], [0.5555555555555556, \"#d8576b\"], [0.6666666666666666, \"#ed7953\"], [0.7777777777777778, \"#fb9f3a\"], [0.8888888888888888, \"#fdca26\"], [1.0, \"#f0f921\"]], \"sequentialminus\": [[0.0, \"#0d0887\"], [0.1111111111111111, \"#46039f\"], [0.2222222222222222, \"#7201a8\"], [0.3333333333333333, \"#9c179e\"], [0.4444444444444444, \"#bd3786\"], [0.5555555555555556, \"#d8576b\"], [0.6666666666666666, \"#ed7953\"], [0.7777777777777778, \"#fb9f3a\"], [0.8888888888888888, \"#fdca26\"], [1.0, \"#f0f921\"]]}, \"colorway\": [\"#636efa\", \"#EF553B\", \"#00cc96\", \"#ab63fa\", \"#FFA15A\", \"#19d3f3\", \"#FF6692\", \"#B6E880\", \"#FF97FF\", \"#FECB52\"], \"font\": {\"color\": \"#2a3f5f\"}, \"geo\": {\"bgcolor\": \"white\", \"lakecolor\": \"white\", \"landcolor\": \"#E5ECF6\", \"showlakes\": true, \"showland\": true, \"subunitcolor\": \"white\"}, \"hoverlabel\": {\"align\": \"left\"}, \"hovermode\": \"closest\", \"mapbox\": {\"style\": \"light\"}, \"paper_bgcolor\": \"white\", \"plot_bgcolor\": \"#E5ECF6\", \"polar\": {\"angularaxis\": {\"gridcolor\": \"white\", \"linecolor\": \"white\", \"ticks\": \"\"}, \"bgcolor\": \"#E5ECF6\", \"radialaxis\": {\"gridcolor\": \"white\", \"linecolor\": \"white\", \"ticks\": \"\"}}, \"scene\": {\"xaxis\": {\"backgroundcolor\": \"#E5ECF6\", \"gridcolor\": \"white\", \"gridwidth\": 2, \"linecolor\": \"white\", \"showbackground\": true, \"ticks\": \"\", \"zerolinecolor\": \"white\"}, \"yaxis\": {\"backgroundcolor\": \"#E5ECF6\", \"gridcolor\": \"white\", \"gridwidth\": 2, \"linecolor\": \"white\", \"showbackground\": true, \"ticks\": \"\", \"zerolinecolor\": \"white\"}, \"zaxis\": {\"backgroundcolor\": \"#E5ECF6\", \"gridcolor\": \"white\", \"gridwidth\": 2, \"linecolor\": \"white\", \"showbackground\": true, \"ticks\": \"\", \"zerolinecolor\": \"white\"}}, \"shapedefaults\": {\"line\": {\"color\": \"#2a3f5f\"}}, \"ternary\": {\"aaxis\": {\"gridcolor\": \"white\", \"linecolor\": \"white\", \"ticks\": \"\"}, \"baxis\": {\"gridcolor\": \"white\", \"linecolor\": \"white\", \"ticks\": \"\"}, \"bgcolor\": \"#E5ECF6\", \"caxis\": {\"gridcolor\": \"white\", \"linecolor\": \"white\", \"ticks\": \"\"}}, \"title\": {\"x\": 0.05}, \"xaxis\": {\"automargin\": true, \"gridcolor\": \"white\", \"linecolor\": \"white\", \"ticks\": \"\", \"title\": {\"standoff\": 15}, \"zerolinecolor\": \"white\", \"zerolinewidth\": 2}, \"yaxis\": {\"automargin\": true, \"gridcolor\": \"white\", \"linecolor\": \"white\", \"ticks\": \"\", \"title\": {\"standoff\": 15}, \"zerolinecolor\": \"white\", \"zerolinewidth\": 2}}}, \"title\": {\"text\": \"<b>Countries using BBIBP-CorV</b>\", \"x\": 0.5}, \"updatemenus\": [{\"active\": 0, \"buttons\": [{\"args\": [{\"visible\": [true, false, false, false, false, false, false, false, false, false, false, false, false, false, false, false, false]}, {\"title\": \"<b>Countries using BBIBP-CorV</b>\"}], \"label\": \"BBIBP-CorV\", \"method\": \"update\"}, {\"args\": [{\"visible\": [false, true, false, false, false, false, false, false, false, false, false, false, false, false, false, false, false]}, {\"title\": \"<b>Countries using Oxford/AstraZeneca</b>\"}], \"label\": \"Oxford/AstraZeneca\", \"method\": \"update\"}, {\"args\": [{\"visible\": [false, false, true, false, false, false, false, false, false, false, false, false, false, false, false, false, false]}, {\"title\": \"<b>Countries using Pfizer/BioNTech</b>\"}], \"label\": \"Pfizer/BioNTech\", \"method\": \"update\"}, {\"args\": [{\"visible\": [false, false, false, true, false, false, false, false, false, false, false, false, false, false, false, false, false]}, {\"title\": \"<b>Countries using Sinovac</b>\"}], \"label\": \"Sinovac\", \"method\": \"update\"}, {\"args\": [{\"visible\": [false, false, false, false, true, false, false, false, false, false, false, false, false, false, false, false, false]}, {\"title\": \"<b>Countries using Sputnik V</b>\"}], \"label\": \"Sputnik V\", \"method\": \"update\"}, {\"args\": [{\"visible\": [false, false, false, false, false, true, false, false, false, false, false, false, false, false, false, false, false]}, {\"title\": \"<b>Countries using Sinopharm/Beijing</b>\"}], \"label\": \"Sinopharm/Beijing\", \"method\": \"update\"}, {\"args\": [{\"visible\": [false, false, false, false, false, false, true, false, false, false, false, false, false, false, false, false, false]}, {\"title\": \"<b>Countries using Johnson&Johnson</b>\"}], \"label\": \"Johnson&Johnson\", \"method\": \"update\"}, {\"args\": [{\"visible\": [false, false, false, false, false, false, false, true, false, false, false, false, false, false, false, false, false]}, {\"title\": \"<b>Countries using Moderna</b>\"}], \"label\": \"Moderna\", \"method\": \"update\"}, {\"args\": [{\"visible\": [false, false, false, false, false, false, false, false, true, false, false, false, false, false, false, false, false]}, {\"title\": \"<b>Countries using Covaxin</b>\"}], \"label\": \"Covaxin\", \"method\": \"update\"}, {\"args\": [{\"visible\": [false, false, false, false, false, false, false, false, false, true, false, false, false, false, false, false, false]}, {\"title\": \"<b>Countries using CanSino</b>\"}], \"label\": \"CanSino\", \"method\": \"update\"}, {\"args\": [{\"visible\": [false, false, false, false, false, false, false, false, false, false, true, false, false, false, false, false, false]}, {\"title\": \"<b>Countries using Sinopharm/Wuhan</b>\"}], \"label\": \"Sinopharm/Wuhan\", \"method\": \"update\"}, {\"args\": [{\"visible\": [false, false, false, false, false, false, false, false, false, false, false, true, false, false, false, false, false]}, {\"title\": \"<b>Countries using Abdala</b>\"}], \"label\": \"Abdala\", \"method\": \"update\"}, {\"args\": [{\"visible\": [false, false, false, false, false, false, false, false, false, false, false, false, true, false, false, false, false]}, {\"title\": \"<b>Countries using Soberana02</b>\"}], \"label\": \"Soberana02\", \"method\": \"update\"}, {\"args\": [{\"visible\": [false, false, false, false, false, false, false, false, false, false, false, false, false, true, false, false, false]}, {\"title\": \"<b>Countries using QazVac</b>\"}], \"label\": \"QazVac\", \"method\": \"update\"}, {\"args\": [{\"visible\": [false, false, false, false, false, false, false, false, false, false, false, false, false, false, true, false, false]}, {\"title\": \"<b>Countries using Sinopharm/HayatVax</b>\"}], \"label\": \"Sinopharm/HayatVax\", \"method\": \"update\"}, {\"args\": [{\"visible\": [false, false, false, false, false, false, false, false, false, false, false, false, false, false, false, true, false]}, {\"title\": \"<b>Countries using EpiVacCorona</b>\"}], \"label\": \"EpiVacCorona\", \"method\": \"update\"}, {\"args\": [{\"visible\": [false, false, false, false, false, false, false, false, false, false, false, false, false, false, false, false, true]}, {\"title\": \"<b>Countries using RBD-Dimer</b>\"}], \"label\": \"RBD-Dimer\", \"method\": \"update\"}], \"direction\": \"down\", \"font\": {\"color\": \"#000000\", \"size\": 9}, \"showactive\": true, \"type\": \"buttons\", \"x\": -0.01, \"xanchor\": \"left\", \"y\": 1, \"yanchor\": \"top\"}]},                        {\"responsive\": true}                    ).then(function(){\n",
       "                            \n",
       "var gd = document.getElementById('63ed6e74-b2ea-48c0-813c-1479051e04d0');\n",
       "var x = new MutationObserver(function (mutations, observer) {{\n",
       "        var display = window.getComputedStyle(gd).display;\n",
       "        if (!display || display === 'none') {{\n",
       "            console.log([gd, 'removed!']);\n",
       "            Plotly.purge(gd);\n",
       "            observer.disconnect();\n",
       "        }}\n",
       "}});\n",
       "\n",
       "// Listen for the removal of the full notebook cells\n",
       "var notebookContainer = gd.closest('#notebook-container');\n",
       "if (notebookContainer) {{\n",
       "    x.observe(notebookContainer, {childList: true});\n",
       "}}\n",
       "\n",
       "// Listen for the clearing of the current output cell\n",
       "var outputEl = gd.closest('.output');\n",
       "if (outputEl) {{\n",
       "    x.observe(outputEl, {childList: true});\n",
       "}}\n",
       "\n",
       "                        })                };                });            </script>        </div>"
      ]
     },
     "metadata": {},
     "output_type": "display_data"
    }
   ],
   "source": [
    "### Vaccines per country\n",
    "vaccine_per_country = df[['country', 'vaccines']].copy()\n",
    "vaccine_per_country.drop_duplicates(keep='first', inplace=True)\n",
    "\n",
    "#breaking 'vaccines' into different rows\n",
    "vaccine_series = vaccine_per_country['vaccines'].str.split(', ').apply(pd.Series,1).stack()\n",
    "vaccine_series.index = vaccine_series.index.droplevel(-1)\n",
    "vaccine_series.name = 'vaccines'\n",
    "\n",
    "vaccine_per_country.drop(columns=['vaccines'], inplace=True)\n",
    "vaccine_per_country = vaccine_per_country.join(vaccine_series)\n",
    "\n",
    "#getting iso code for countries\n",
    "vaccine_per_country = pd.merge(vaccine_per_country, df[['country','iso_code']].copy().drop_duplicates(), \n",
    "                            how='left', on='country')\n",
    "vaccine_per_country['valz'] = 1\n",
    "\n",
    "### Choropleth map\n",
    "vaccines_list = vaccine_per_country['vaccines'].drop_duplicates().to_list()\n",
    "visible = np.array(vaccines_list)\n",
    "vaccine_per_country['text'] = 'Country: ' + vaccine_per_country['country'] + '<br>' + 'Vaccine: ' + vaccine_per_country['vaccines']\n",
    "\n",
    "traces = []\n",
    "buttons = []\n",
    "for vac in vaccines_list:\n",
    "    traces.append(go.Choropleth(\n",
    "        locations = vaccine_per_country.loc[vaccine_per_country.vaccines==vac]['iso_code'],\n",
    "        z = vaccine_per_country.loc[vaccine_per_country.vaccines==vac]['valz'],\n",
    "        coloraxis = 'coloraxis',\n",
    "        colorscale = 'Blues',\n",
    "        autocolorscale = False,\n",
    "        marker_line_color = 'white',\n",
    "        hovertemplate=vaccine_per_country.loc[vaccine_per_country.vaccines==vac]['text'] + '<extra></extra>',\n",
    "        visible = True if vac == vaccines_list[0] else False))\n",
    "    \n",
    "    buttons.append(dict(label=vac,\n",
    "                        method='update',\n",
    "                        args=[{'visible':list(visible==vac)},\n",
    "                              {'title':f'<b>Countries using {vac}</b>'}]))\n",
    "\n",
    "updatemenus = [dict(type = 'buttons',\n",
    "                    active = 0,\n",
    "                    showactive=True,\n",
    "                    direction = 'down', \n",
    "                    xanchor = 'left', \n",
    "                    yanchor = 'top', \n",
    "                    x = -0.01, \n",
    "                    y = 1, \n",
    "                    font = dict(size=9, color='#000000'),\n",
    "                    buttons = buttons)\n",
    "               ]\n",
    "\n",
    "fig = go.Figure(data=traces,\n",
    "                layout=dict(updatemenus=updatemenus,\n",
    "                            coloraxis=dict(colorscale='Blues')))\n",
    "\n",
    "first_title = vaccines_list[0]\n",
    "fig.update_layout(title=f\"<b>Countries using {first_title}</b>\",title_x=0.5,\n",
    "                  coloraxis_showscale=False,                  \n",
    "                  showlegend = False)\n",
    "\n",
    "fig.show()\n"
   ]
  },
  {
   "cell_type": "code",
   "execution_count": null,
   "id": "bd6f9ed9",
   "metadata": {},
   "outputs": [],
   "source": []
  }
 ],
 "metadata": {
  "kernelspec": {
   "display_name": "Python 3",
   "language": "python",
   "name": "python3"
  },
  "language_info": {
   "codemirror_mode": {
    "name": "ipython",
    "version": 3
   },
   "file_extension": ".py",
   "mimetype": "text/x-python",
   "name": "python",
   "nbconvert_exporter": "python",
   "pygments_lexer": "ipython3",
   "version": "3.8.10"
  }
 },
 "nbformat": 4,
 "nbformat_minor": 5
}
