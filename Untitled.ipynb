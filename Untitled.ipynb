{
 "cells": [
  {
   "cell_type": "markdown",
   "id": "ef472cc4",
   "metadata": {},
   "source": [
    "# COVID-19 World Vaccination Data Analysis"
   ]
  },
  {
   "cell_type": "markdown",
   "id": "9de78fb1",
   "metadata": {},
   "source": [
    "As more and more people is getting vaccinated worldwide against COVID-19, I decided to see how this process is working for specific countries. I decided to explore the data provided by Our World in Data to visualize the number of people getting a vaccines. I'm also interested in seeing which countries are using a specific vaccine."
   ]
  },
  {
   "cell_type": "code",
   "execution_count": 1,
   "id": "84fdc374",
   "metadata": {},
   "outputs": [],
   "source": [
    "import pandas as pd\n",
    "import numpy as np\n",
    "import datetime\n",
    "import plotly.express as px\n",
    "import plotly.graph_objects as go\n",
    "import plotly.io as pio\n",
    "from plotly.subplots import make_subplots"
   ]
  },
  {
   "cell_type": "markdown",
   "id": "9a08b651",
   "metadata": {},
   "source": [
    "### Finding daily_vaccinations"
   ]
  },
  {
   "cell_type": "markdown",
   "id": "0b2f3e73",
   "metadata": {},
   "source": [
    "When I found this dataset, I was wondering what the difference was between `daily_vaccinations` and `daily_vaccinations_raw`. There is an [example](https://github.com/owid/covid-19-data/issues/333) posted on Github about how to calculate `daily_vaccinations`, which is pretty straightforward. Nonetheless, I decided to create a step-by-step process, to see if I could come to the same result. This variable is very useful to keep track of the vaccination progress in each country, as I'll show later with heatmaps."
   ]
  },
  {
   "cell_type": "code",
   "execution_count": 2,
   "id": "8934f929",
   "metadata": {},
   "outputs": [
    {
     "data": {
      "text/plain": [
       "(28653, 15)"
      ]
     },
     "execution_count": 2,
     "metadata": {},
     "output_type": "execute_result"
    }
   ],
   "source": [
    "file_path = \"country_vaccinations.csv\\country_vaccinations5.csv\"\n",
    "df = pd.read_csv(file_path)\n",
    "df.shape"
   ]
  },
  {
   "cell_type": "code",
   "execution_count": 11,
   "id": "cbcc2dad",
   "metadata": {},
   "outputs": [
    {
     "data": {
      "text/plain": [
       "0    Afghanistan\n",
       "1    Afghanistan\n",
       "2    Afghanistan\n",
       "3    Afghanistan\n",
       "4    Afghanistan\n",
       "Name: country, dtype: object"
      ]
     },
     "execution_count": 11,
     "metadata": {},
     "output_type": "execute_result"
    }
   ],
   "source": [
    "df['country'].head()"
   ]
  },
  {
   "cell_type": "code",
   "execution_count": 12,
   "id": "18e18451",
   "metadata": {},
   "outputs": [],
   "source": [
    "dvac = df[['country', 'date', 'total_vaccinations', 'people_vaccinated', 'people_fully_vaccinated',\n",
    "           'daily_vaccinations_raw', 'daily_vaccinations']].copy() #important to use copy, otherwise SettingwithCopyWarning pops up"
   ]
  },
  {
   "cell_type": "code",
   "execution_count": 13,
   "id": "b09a5c4a",
   "metadata": {},
   "outputs": [
    {
     "data": {
      "text/html": [
       "<div>\n",
       "<style scoped>\n",
       "    .dataframe tbody tr th:only-of-type {\n",
       "        vertical-align: middle;\n",
       "    }\n",
       "\n",
       "    .dataframe tbody tr th {\n",
       "        vertical-align: top;\n",
       "    }\n",
       "\n",
       "    .dataframe thead th {\n",
       "        text-align: right;\n",
       "    }\n",
       "</style>\n",
       "<table border=\"1\" class=\"dataframe\">\n",
       "  <thead>\n",
       "    <tr style=\"text-align: right;\">\n",
       "      <th></th>\n",
       "      <th>country</th>\n",
       "      <th>date</th>\n",
       "      <th>total_vaccinations</th>\n",
       "      <th>people_vaccinated</th>\n",
       "      <th>people_fully_vaccinated</th>\n",
       "      <th>daily_vaccinations_raw</th>\n",
       "      <th>daily_vaccinations</th>\n",
       "    </tr>\n",
       "  </thead>\n",
       "  <tbody>\n",
       "    <tr>\n",
       "      <th>0</th>\n",
       "      <td>Afghanistan</td>\n",
       "      <td>2021-02-22</td>\n",
       "      <td>0.0</td>\n",
       "      <td>0.0</td>\n",
       "      <td>NaN</td>\n",
       "      <td>NaN</td>\n",
       "      <td>NaN</td>\n",
       "    </tr>\n",
       "    <tr>\n",
       "      <th>1</th>\n",
       "      <td>Afghanistan</td>\n",
       "      <td>2021-02-23</td>\n",
       "      <td>NaN</td>\n",
       "      <td>NaN</td>\n",
       "      <td>NaN</td>\n",
       "      <td>NaN</td>\n",
       "      <td>1367.0</td>\n",
       "    </tr>\n",
       "    <tr>\n",
       "      <th>2</th>\n",
       "      <td>Afghanistan</td>\n",
       "      <td>2021-02-24</td>\n",
       "      <td>NaN</td>\n",
       "      <td>NaN</td>\n",
       "      <td>NaN</td>\n",
       "      <td>NaN</td>\n",
       "      <td>1367.0</td>\n",
       "    </tr>\n",
       "    <tr>\n",
       "      <th>3</th>\n",
       "      <td>Afghanistan</td>\n",
       "      <td>2021-02-25</td>\n",
       "      <td>NaN</td>\n",
       "      <td>NaN</td>\n",
       "      <td>NaN</td>\n",
       "      <td>NaN</td>\n",
       "      <td>1367.0</td>\n",
       "    </tr>\n",
       "    <tr>\n",
       "      <th>4</th>\n",
       "      <td>Afghanistan</td>\n",
       "      <td>2021-02-26</td>\n",
       "      <td>NaN</td>\n",
       "      <td>NaN</td>\n",
       "      <td>NaN</td>\n",
       "      <td>NaN</td>\n",
       "      <td>1367.0</td>\n",
       "    </tr>\n",
       "  </tbody>\n",
       "</table>\n",
       "</div>"
      ],
      "text/plain": [
       "       country        date  total_vaccinations  people_vaccinated  \\\n",
       "0  Afghanistan  2021-02-22                 0.0                0.0   \n",
       "1  Afghanistan  2021-02-23                 NaN                NaN   \n",
       "2  Afghanistan  2021-02-24                 NaN                NaN   \n",
       "3  Afghanistan  2021-02-25                 NaN                NaN   \n",
       "4  Afghanistan  2021-02-26                 NaN                NaN   \n",
       "\n",
       "   people_fully_vaccinated  daily_vaccinations_raw  daily_vaccinations  \n",
       "0                      NaN                     NaN                 NaN  \n",
       "1                      NaN                     NaN              1367.0  \n",
       "2                      NaN                     NaN              1367.0  \n",
       "3                      NaN                     NaN              1367.0  \n",
       "4                      NaN                     NaN              1367.0  "
      ]
     },
     "execution_count": 13,
     "metadata": {},
     "output_type": "execute_result"
    }
   ],
   "source": [
    "dvac.head()"
   ]
  },
  {
   "cell_type": "code",
   "execution_count": null,
   "id": "4055cbf7",
   "metadata": {},
   "outputs": [],
   "source": []
  }
 ],
 "metadata": {
  "kernelspec": {
   "display_name": "Python 3",
   "language": "python",
   "name": "python3"
  },
  "language_info": {
   "codemirror_mode": {
    "name": "ipython",
    "version": 3
   },
   "file_extension": ".py",
   "mimetype": "text/x-python",
   "name": "python",
   "nbconvert_exporter": "python",
   "pygments_lexer": "ipython3",
   "version": "3.8.10"
  }
 },
 "nbformat": 4,
 "nbformat_minor": 5
}
